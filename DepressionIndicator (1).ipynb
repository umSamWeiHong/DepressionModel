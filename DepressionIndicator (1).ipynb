{
  "nbformat": 4,
  "nbformat_minor": 0,
  "metadata": {
    "colab": {
      "name": "DepressionIndicator.ipynb",
      "provenance": [],
      "collapsed_sections": []
    },
    "kernelspec": {
      "name": "python3",
      "display_name": "Python 3"
    },
    "language_info": {
      "name": "python"
    }
  },
  "cells": [
    {
      "cell_type": "markdown",
      "source": [
        "#Logistic Regression with LDA, Naive Bayes, Random Forest, XGBoost\n",
        "\n",
        "\n"
      ],
      "metadata": {
        "id": "57Ni87HAOLMy"
      }
    },
    {
      "cell_type": "markdown",
      "source": [
        "Import data and libraries"
      ],
      "metadata": {
        "id": "AOGcwgBvXKVy"
      }
    },
    {
      "cell_type": "code",
      "source": [
        "# !pip install tensorflow-gpu"
      ],
      "metadata": {
        "id": "4DRuGCsd1sx4"
      },
      "execution_count": 934,
      "outputs": []
    },
    {
      "cell_type": "code",
      "source": [
        ""
      ],
      "metadata": {
        "id": "wqowKMzfXI3L"
      },
      "execution_count": 934,
      "outputs": []
    },
    {
      "cell_type": "code",
      "source": [
        "# !nvidia-smi"
      ],
      "metadata": {
        "id": "tT64KCDT1-rh"
      },
      "execution_count": 935,
      "outputs": []
    },
    {
      "cell_type": "code",
      "source": [
        "from google.colab import drive\n",
        "drive.mount('/content/drive')"
      ],
      "metadata": {
        "id": "kC0AeXiRzVZ8",
        "colab": {
          "base_uri": "https://localhost:8080/"
        },
        "outputId": "0105ccb6-f05c-4951-c0ef-0693b7ae26cd"
      },
      "execution_count": 936,
      "outputs": [
        {
          "output_type": "stream",
          "name": "stdout",
          "text": [
            "Drive already mounted at /content/drive; to attempt to forcibly remount, call drive.mount(\"/content/drive\", force_remount=True).\n"
          ]
        }
      ]
    },
    {
      "cell_type": "code",
      "source": [
        "import tensorflow as tf\n",
        "import numpy as np\n",
        "import pandas as pd\n",
        "import matplotlib.pyplot as plt\n",
        "tf.__version__\n",
        "\n"
      ],
      "metadata": {
        "id": "Mw7mWXC23I-P",
        "outputId": "f9d86bd4-6405-4ac4-b335-4b84a70b737e",
        "colab": {
          "base_uri": "https://localhost:8080/",
          "height": 35
        }
      },
      "execution_count": 937,
      "outputs": [
        {
          "output_type": "execute_result",
          "data": {
            "text/plain": [
              "'2.8.2'"
            ],
            "application/vnd.google.colaboratory.intrinsic+json": {
              "type": "string"
            }
          },
          "metadata": {},
          "execution_count": 937
        }
      ]
    },
    {
      "cell_type": "code",
      "source": [
        "df = pd.read_csv('/content/drive/MyDrive/Machine Learning Group Project/depression.csv')\n",
        "df"
      ],
      "metadata": {
        "colab": {
          "base_uri": "https://localhost:8080/",
          "height": 488
        },
        "id": "Ti5XxQ0KT8Yg",
        "outputId": "6309b29f-3b43-4b33-d847-8ad3c557b775"
      },
      "execution_count": 938,
      "outputs": [
        {
          "output_type": "execute_result",
          "data": {
            "text/plain": [
              "     Code  Age_Numerical  Gender  Marital  Marital_problems  Religion_binary  \\\n",
              "0       1             34       0        0                 0                1   \n",
              "1       2             32       1        0                 0                1   \n",
              "2       3             33       0        0                 0                1   \n",
              "3       4             33       1        0                 1                1   \n",
              "4       5             39       1        0                 0                1   \n",
              "..    ...            ...     ...      ...               ...              ...   \n",
              "311   312             23       1        1                 0                0   \n",
              "312   313             36       0        1                 0                0   \n",
              "313   314             33       0        0                 0                0   \n",
              "314   315             25       1        1                 0                1   \n",
              "315   316             23       1        1                 0                1   \n",
              "\n",
              "     Religion_help  Med_or_not  Expenses  Monthly_expenses  ...  \\\n",
              "0                1           1         2                 1  ...   \n",
              "1                1           1         1                 0  ...   \n",
              "2                1           1         1                 0  ...   \n",
              "3                1           1         2                 1  ...   \n",
              "4                1           1         2                 1  ...   \n",
              "..             ...         ...       ...               ...  ...   \n",
              "311              1           1         2                 1  ...   \n",
              "312              0           0         2                 1  ...   \n",
              "313              0           1         2                 1  ...   \n",
              "314              0           1         0                 0  ...   \n",
              "315              1           1         0                 0  ...   \n",
              "\n",
              "     DASS_stress_numerical  MSPSS_family  MSPSS_friends  \\\n",
              "0                        0          27.2           24.0   \n",
              "1                        2          28.0           28.0   \n",
              "2                        0          28.0           28.0   \n",
              "3                       18          25.2           21.2   \n",
              "4                        2          26.0           20.0   \n",
              "..                     ...           ...            ...   \n",
              "311                      8          25.2           25.2   \n",
              "312                      0          23.2           20.0   \n",
              "313                      0          25.2           19.2   \n",
              "314                     26          14.0           13.2   \n",
              "315                      6          16.0           16.0   \n",
              "\n",
              "     MSPSS_significant_others  DASS_depression_binary  \\\n",
              "0                        26.0                       0   \n",
              "1                        28.0                       0   \n",
              "2                        28.0                       0   \n",
              "3                        24.0                       1   \n",
              "4                        28.0                       0   \n",
              "..                        ...                     ...   \n",
              "311                      27.2                       0   \n",
              "312                      24.0                       0   \n",
              "313                      27.2                       0   \n",
              "314                      13.2                       1   \n",
              "315                      17.2                       0   \n",
              "\n",
              "     DASS_depression_severity  DASS_anxiety_binary  DASS_anxiety_severity  \\\n",
              "0                           0                    0                      0   \n",
              "1                           0                    0                      0   \n",
              "2                           0                    0                      0   \n",
              "3                           2                    1                      4   \n",
              "4                           0                    0                      0   \n",
              "..                        ...                  ...                    ...   \n",
              "311                         0                    0                      0   \n",
              "312                         0                    0                      0   \n",
              "313                         0                    0                      0   \n",
              "314                         4                    1                      2   \n",
              "315                         0                    0                      0   \n",
              "\n",
              "     DASS_stress_binary  DASS_stress_severity  \n",
              "0                     0                     0  \n",
              "1                     0                     0  \n",
              "2                     0                     0  \n",
              "3                     1                     1  \n",
              "4                     0                     0  \n",
              "..                  ...                   ...  \n",
              "311                   0                     0  \n",
              "312                   0                     0  \n",
              "313                   0                     0  \n",
              "314                   1                     2  \n",
              "315                   0                     0  \n",
              "\n",
              "[316 rows x 34 columns]"
            ],
            "text/html": [
              "\n",
              "  <div id=\"df-75ea404e-a099-4e9c-8a21-9d429c0341bb\">\n",
              "    <div class=\"colab-df-container\">\n",
              "      <div>\n",
              "<style scoped>\n",
              "    .dataframe tbody tr th:only-of-type {\n",
              "        vertical-align: middle;\n",
              "    }\n",
              "\n",
              "    .dataframe tbody tr th {\n",
              "        vertical-align: top;\n",
              "    }\n",
              "\n",
              "    .dataframe thead th {\n",
              "        text-align: right;\n",
              "    }\n",
              "</style>\n",
              "<table border=\"1\" class=\"dataframe\">\n",
              "  <thead>\n",
              "    <tr style=\"text-align: right;\">\n",
              "      <th></th>\n",
              "      <th>Code</th>\n",
              "      <th>Age_Numerical</th>\n",
              "      <th>Gender</th>\n",
              "      <th>Marital</th>\n",
              "      <th>Marital_problems</th>\n",
              "      <th>Religion_binary</th>\n",
              "      <th>Religion_help</th>\n",
              "      <th>Med_or_not</th>\n",
              "      <th>Expenses</th>\n",
              "      <th>Monthly_expenses</th>\n",
              "      <th>...</th>\n",
              "      <th>DASS_stress_numerical</th>\n",
              "      <th>MSPSS_family</th>\n",
              "      <th>MSPSS_friends</th>\n",
              "      <th>MSPSS_significant_others</th>\n",
              "      <th>DASS_depression_binary</th>\n",
              "      <th>DASS_depression_severity</th>\n",
              "      <th>DASS_anxiety_binary</th>\n",
              "      <th>DASS_anxiety_severity</th>\n",
              "      <th>DASS_stress_binary</th>\n",
              "      <th>DASS_stress_severity</th>\n",
              "    </tr>\n",
              "  </thead>\n",
              "  <tbody>\n",
              "    <tr>\n",
              "      <th>0</th>\n",
              "      <td>1</td>\n",
              "      <td>34</td>\n",
              "      <td>0</td>\n",
              "      <td>0</td>\n",
              "      <td>0</td>\n",
              "      <td>1</td>\n",
              "      <td>1</td>\n",
              "      <td>1</td>\n",
              "      <td>2</td>\n",
              "      <td>1</td>\n",
              "      <td>...</td>\n",
              "      <td>0</td>\n",
              "      <td>27.2</td>\n",
              "      <td>24.0</td>\n",
              "      <td>26.0</td>\n",
              "      <td>0</td>\n",
              "      <td>0</td>\n",
              "      <td>0</td>\n",
              "      <td>0</td>\n",
              "      <td>0</td>\n",
              "      <td>0</td>\n",
              "    </tr>\n",
              "    <tr>\n",
              "      <th>1</th>\n",
              "      <td>2</td>\n",
              "      <td>32</td>\n",
              "      <td>1</td>\n",
              "      <td>0</td>\n",
              "      <td>0</td>\n",
              "      <td>1</td>\n",
              "      <td>1</td>\n",
              "      <td>1</td>\n",
              "      <td>1</td>\n",
              "      <td>0</td>\n",
              "      <td>...</td>\n",
              "      <td>2</td>\n",
              "      <td>28.0</td>\n",
              "      <td>28.0</td>\n",
              "      <td>28.0</td>\n",
              "      <td>0</td>\n",
              "      <td>0</td>\n",
              "      <td>0</td>\n",
              "      <td>0</td>\n",
              "      <td>0</td>\n",
              "      <td>0</td>\n",
              "    </tr>\n",
              "    <tr>\n",
              "      <th>2</th>\n",
              "      <td>3</td>\n",
              "      <td>33</td>\n",
              "      <td>0</td>\n",
              "      <td>0</td>\n",
              "      <td>0</td>\n",
              "      <td>1</td>\n",
              "      <td>1</td>\n",
              "      <td>1</td>\n",
              "      <td>1</td>\n",
              "      <td>0</td>\n",
              "      <td>...</td>\n",
              "      <td>0</td>\n",
              "      <td>28.0</td>\n",
              "      <td>28.0</td>\n",
              "      <td>28.0</td>\n",
              "      <td>0</td>\n",
              "      <td>0</td>\n",
              "      <td>0</td>\n",
              "      <td>0</td>\n",
              "      <td>0</td>\n",
              "      <td>0</td>\n",
              "    </tr>\n",
              "    <tr>\n",
              "      <th>3</th>\n",
              "      <td>4</td>\n",
              "      <td>33</td>\n",
              "      <td>1</td>\n",
              "      <td>0</td>\n",
              "      <td>1</td>\n",
              "      <td>1</td>\n",
              "      <td>1</td>\n",
              "      <td>1</td>\n",
              "      <td>2</td>\n",
              "      <td>1</td>\n",
              "      <td>...</td>\n",
              "      <td>18</td>\n",
              "      <td>25.2</td>\n",
              "      <td>21.2</td>\n",
              "      <td>24.0</td>\n",
              "      <td>1</td>\n",
              "      <td>2</td>\n",
              "      <td>1</td>\n",
              "      <td>4</td>\n",
              "      <td>1</td>\n",
              "      <td>1</td>\n",
              "    </tr>\n",
              "    <tr>\n",
              "      <th>4</th>\n",
              "      <td>5</td>\n",
              "      <td>39</td>\n",
              "      <td>1</td>\n",
              "      <td>0</td>\n",
              "      <td>0</td>\n",
              "      <td>1</td>\n",
              "      <td>1</td>\n",
              "      <td>1</td>\n",
              "      <td>2</td>\n",
              "      <td>1</td>\n",
              "      <td>...</td>\n",
              "      <td>2</td>\n",
              "      <td>26.0</td>\n",
              "      <td>20.0</td>\n",
              "      <td>28.0</td>\n",
              "      <td>0</td>\n",
              "      <td>0</td>\n",
              "      <td>0</td>\n",
              "      <td>0</td>\n",
              "      <td>0</td>\n",
              "      <td>0</td>\n",
              "    </tr>\n",
              "    <tr>\n",
              "      <th>...</th>\n",
              "      <td>...</td>\n",
              "      <td>...</td>\n",
              "      <td>...</td>\n",
              "      <td>...</td>\n",
              "      <td>...</td>\n",
              "      <td>...</td>\n",
              "      <td>...</td>\n",
              "      <td>...</td>\n",
              "      <td>...</td>\n",
              "      <td>...</td>\n",
              "      <td>...</td>\n",
              "      <td>...</td>\n",
              "      <td>...</td>\n",
              "      <td>...</td>\n",
              "      <td>...</td>\n",
              "      <td>...</td>\n",
              "      <td>...</td>\n",
              "      <td>...</td>\n",
              "      <td>...</td>\n",
              "      <td>...</td>\n",
              "      <td>...</td>\n",
              "    </tr>\n",
              "    <tr>\n",
              "      <th>311</th>\n",
              "      <td>312</td>\n",
              "      <td>23</td>\n",
              "      <td>1</td>\n",
              "      <td>1</td>\n",
              "      <td>0</td>\n",
              "      <td>0</td>\n",
              "      <td>1</td>\n",
              "      <td>1</td>\n",
              "      <td>2</td>\n",
              "      <td>1</td>\n",
              "      <td>...</td>\n",
              "      <td>8</td>\n",
              "      <td>25.2</td>\n",
              "      <td>25.2</td>\n",
              "      <td>27.2</td>\n",
              "      <td>0</td>\n",
              "      <td>0</td>\n",
              "      <td>0</td>\n",
              "      <td>0</td>\n",
              "      <td>0</td>\n",
              "      <td>0</td>\n",
              "    </tr>\n",
              "    <tr>\n",
              "      <th>312</th>\n",
              "      <td>313</td>\n",
              "      <td>36</td>\n",
              "      <td>0</td>\n",
              "      <td>1</td>\n",
              "      <td>0</td>\n",
              "      <td>0</td>\n",
              "      <td>0</td>\n",
              "      <td>0</td>\n",
              "      <td>2</td>\n",
              "      <td>1</td>\n",
              "      <td>...</td>\n",
              "      <td>0</td>\n",
              "      <td>23.2</td>\n",
              "      <td>20.0</td>\n",
              "      <td>24.0</td>\n",
              "      <td>0</td>\n",
              "      <td>0</td>\n",
              "      <td>0</td>\n",
              "      <td>0</td>\n",
              "      <td>0</td>\n",
              "      <td>0</td>\n",
              "    </tr>\n",
              "    <tr>\n",
              "      <th>313</th>\n",
              "      <td>314</td>\n",
              "      <td>33</td>\n",
              "      <td>0</td>\n",
              "      <td>0</td>\n",
              "      <td>0</td>\n",
              "      <td>0</td>\n",
              "      <td>0</td>\n",
              "      <td>1</td>\n",
              "      <td>2</td>\n",
              "      <td>1</td>\n",
              "      <td>...</td>\n",
              "      <td>0</td>\n",
              "      <td>25.2</td>\n",
              "      <td>19.2</td>\n",
              "      <td>27.2</td>\n",
              "      <td>0</td>\n",
              "      <td>0</td>\n",
              "      <td>0</td>\n",
              "      <td>0</td>\n",
              "      <td>0</td>\n",
              "      <td>0</td>\n",
              "    </tr>\n",
              "    <tr>\n",
              "      <th>314</th>\n",
              "      <td>315</td>\n",
              "      <td>25</td>\n",
              "      <td>1</td>\n",
              "      <td>1</td>\n",
              "      <td>0</td>\n",
              "      <td>1</td>\n",
              "      <td>0</td>\n",
              "      <td>1</td>\n",
              "      <td>0</td>\n",
              "      <td>0</td>\n",
              "      <td>...</td>\n",
              "      <td>26</td>\n",
              "      <td>14.0</td>\n",
              "      <td>13.2</td>\n",
              "      <td>13.2</td>\n",
              "      <td>1</td>\n",
              "      <td>4</td>\n",
              "      <td>1</td>\n",
              "      <td>2</td>\n",
              "      <td>1</td>\n",
              "      <td>2</td>\n",
              "    </tr>\n",
              "    <tr>\n",
              "      <th>315</th>\n",
              "      <td>316</td>\n",
              "      <td>23</td>\n",
              "      <td>1</td>\n",
              "      <td>1</td>\n",
              "      <td>0</td>\n",
              "      <td>1</td>\n",
              "      <td>1</td>\n",
              "      <td>1</td>\n",
              "      <td>0</td>\n",
              "      <td>0</td>\n",
              "      <td>...</td>\n",
              "      <td>6</td>\n",
              "      <td>16.0</td>\n",
              "      <td>16.0</td>\n",
              "      <td>17.2</td>\n",
              "      <td>0</td>\n",
              "      <td>0</td>\n",
              "      <td>0</td>\n",
              "      <td>0</td>\n",
              "      <td>0</td>\n",
              "      <td>0</td>\n",
              "    </tr>\n",
              "  </tbody>\n",
              "</table>\n",
              "<p>316 rows × 34 columns</p>\n",
              "</div>\n",
              "      <button class=\"colab-df-convert\" onclick=\"convertToInteractive('df-75ea404e-a099-4e9c-8a21-9d429c0341bb')\"\n",
              "              title=\"Convert this dataframe to an interactive table.\"\n",
              "              style=\"display:none;\">\n",
              "        \n",
              "  <svg xmlns=\"http://www.w3.org/2000/svg\" height=\"24px\"viewBox=\"0 0 24 24\"\n",
              "       width=\"24px\">\n",
              "    <path d=\"M0 0h24v24H0V0z\" fill=\"none\"/>\n",
              "    <path d=\"M18.56 5.44l.94 2.06.94-2.06 2.06-.94-2.06-.94-.94-2.06-.94 2.06-2.06.94zm-11 1L8.5 8.5l.94-2.06 2.06-.94-2.06-.94L8.5 2.5l-.94 2.06-2.06.94zm10 10l.94 2.06.94-2.06 2.06-.94-2.06-.94-.94-2.06-.94 2.06-2.06.94z\"/><path d=\"M17.41 7.96l-1.37-1.37c-.4-.4-.92-.59-1.43-.59-.52 0-1.04.2-1.43.59L10.3 9.45l-7.72 7.72c-.78.78-.78 2.05 0 2.83L4 21.41c.39.39.9.59 1.41.59.51 0 1.02-.2 1.41-.59l7.78-7.78 2.81-2.81c.8-.78.8-2.07 0-2.86zM5.41 20L4 18.59l7.72-7.72 1.47 1.35L5.41 20z\"/>\n",
              "  </svg>\n",
              "      </button>\n",
              "      \n",
              "  <style>\n",
              "    .colab-df-container {\n",
              "      display:flex;\n",
              "      flex-wrap:wrap;\n",
              "      gap: 12px;\n",
              "    }\n",
              "\n",
              "    .colab-df-convert {\n",
              "      background-color: #E8F0FE;\n",
              "      border: none;\n",
              "      border-radius: 50%;\n",
              "      cursor: pointer;\n",
              "      display: none;\n",
              "      fill: #1967D2;\n",
              "      height: 32px;\n",
              "      padding: 0 0 0 0;\n",
              "      width: 32px;\n",
              "    }\n",
              "\n",
              "    .colab-df-convert:hover {\n",
              "      background-color: #E2EBFA;\n",
              "      box-shadow: 0px 1px 2px rgba(60, 64, 67, 0.3), 0px 1px 3px 1px rgba(60, 64, 67, 0.15);\n",
              "      fill: #174EA6;\n",
              "    }\n",
              "\n",
              "    [theme=dark] .colab-df-convert {\n",
              "      background-color: #3B4455;\n",
              "      fill: #D2E3FC;\n",
              "    }\n",
              "\n",
              "    [theme=dark] .colab-df-convert:hover {\n",
              "      background-color: #434B5C;\n",
              "      box-shadow: 0px 1px 3px 1px rgba(0, 0, 0, 0.15);\n",
              "      filter: drop-shadow(0px 1px 2px rgba(0, 0, 0, 0.3));\n",
              "      fill: #FFFFFF;\n",
              "    }\n",
              "  </style>\n",
              "\n",
              "      <script>\n",
              "        const buttonEl =\n",
              "          document.querySelector('#df-75ea404e-a099-4e9c-8a21-9d429c0341bb button.colab-df-convert');\n",
              "        buttonEl.style.display =\n",
              "          google.colab.kernel.accessAllowed ? 'block' : 'none';\n",
              "\n",
              "        async function convertToInteractive(key) {\n",
              "          const element = document.querySelector('#df-75ea404e-a099-4e9c-8a21-9d429c0341bb');\n",
              "          const dataTable =\n",
              "            await google.colab.kernel.invokeFunction('convertToInteractive',\n",
              "                                                     [key], {});\n",
              "          if (!dataTable) return;\n",
              "\n",
              "          const docLinkHtml = 'Like what you see? Visit the ' +\n",
              "            '<a target=\"_blank\" href=https://colab.research.google.com/notebooks/data_table.ipynb>data table notebook</a>'\n",
              "            + ' to learn more about interactive tables.';\n",
              "          element.innerHTML = '';\n",
              "          dataTable['output_type'] = 'display_data';\n",
              "          await google.colab.output.renderOutput(dataTable, element);\n",
              "          const docLink = document.createElement('div');\n",
              "          docLink.innerHTML = docLinkHtml;\n",
              "          element.appendChild(docLink);\n",
              "        }\n",
              "      </script>\n",
              "    </div>\n",
              "  </div>\n",
              "  "
            ]
          },
          "metadata": {},
          "execution_count": 938
        }
      ]
    },
    {
      "cell_type": "markdown",
      "source": [
        "# Data preprocessing"
      ],
      "metadata": {
        "id": "ykxG5l-qjAa0"
      }
    },
    {
      "cell_type": "markdown",
      "source": [
        "Extract input and output features"
      ],
      "metadata": {
        "id": "s_SHmnirjCy9"
      }
    },
    {
      "cell_type": "code",
      "source": [
        "from collections import Counter\n",
        "X = df\n",
        "y = df['DASS_depression_severity']\n",
        "\n",
        "X = X.drop(columns='DASS_depression_severity')"
      ],
      "metadata": {
        "id": "1b3DeeGvT_sc"
      },
      "execution_count": 939,
      "outputs": []
    },
    {
      "cell_type": "markdown",
      "source": [
        "Oversampling"
      ],
      "metadata": {
        "id": "ErFFhgwkjEwa"
      }
    },
    {
      "cell_type": "code",
      "source": [
        "print(f\"Initial: {Counter(y)}\")"
      ],
      "metadata": {
        "id": "2DDBS50FUFQ0"
      },
      "execution_count": 940,
      "outputs": []
    },
    {
      "cell_type": "markdown",
      "source": [
        ""
      ],
      "metadata": {
        "id": "g-aL_4Jji1j-"
      }
    },
    {
      "cell_type": "code",
      "source": [
        "from imblearn.over_sampling import RandomOverSampler\n",
        "over = RandomOverSampler(sampling_strategy={0: 201, 1: 150, 2: 120, 3: 50, 4: 50})\n",
        "X, y = over.fit_resample(X, y)\n",
        "print(f\"Oversampled: {Counter(y)}\")"
      ],
      "metadata": {
        "id": "AEiA_9_YUGl_",
        "colab": {
          "base_uri": "https://localhost:8080/"
        },
        "outputId": "fdca8162-013e-4614-b5d2-8abf2d165661"
      },
      "execution_count": 941,
      "outputs": [
        {
          "output_type": "stream",
          "name": "stdout",
          "text": [
            "Oversampled: Counter({0: 201, 1: 150, 2: 120, 3: 50, 4: 50})\n"
          ]
        }
      ]
    },
    {
      "cell_type": "markdown",
      "source": [
        "Remove unrelated and inferred features"
      ],
      "metadata": {
        "id": "39pNW3lfjLx5"
      }
    },
    {
      "cell_type": "code",
      "source": [
        "\n",
        "X.drop(columns=['Code','Residence_high_COVID1','Living_with','Monthly_expenses',\n",
        "                 'DASS_depression_numerical','DASS_anxiety_numerical','DASS_stress_numerical',\n",
        "                 'DASS_depression_binary','DASS_anxiety_binary','DASS_anxiety_severity','DASS_stress_binary','DASS_stress_severity',\n",
        "                 'Religion_binary','Med_or_not',\n",
        "                 ],\n",
        "        inplace=True, axis=1)\n",
        "print(X.columns)"
      ],
      "metadata": {
        "colab": {
          "base_uri": "https://localhost:8080/"
        },
        "id": "seJJd-NEUNBT",
        "outputId": "4d3d11eb-73d7-492c-9f63-bb23fc894e7b"
      },
      "execution_count": 942,
      "outputs": [
        {
          "output_type": "stream",
          "name": "stdout",
          "text": [
            "Index(['Age_Numerical', 'Gender', 'Marital', 'Marital_problems',\n",
            "       'Religion_help', 'Expenses', 'Living_with1', 'Worry_family',\n",
            "       'Routine_loss', 'Class_hours', 'Stress_class_disrupted',\n",
            "       'Medical_illness', 'Mental_illness', 'COVID_symptoms',\n",
            "       'Residence_high_COVID', 'Quarantine', 'MSPSS_family', 'MSPSS_friends',\n",
            "       'MSPSS_significant_others'],\n",
            "      dtype='object')\n"
          ]
        }
      ]
    },
    {
      "cell_type": "markdown",
      "source": [
        "Split into the training and test set"
      ],
      "metadata": {
        "id": "fiXCZbK0jXmO"
      }
    },
    {
      "cell_type": "code",
      "source": [
        "#Split the dataset into the training set and test set\n",
        "\n",
        "from sklearn.model_selection import train_test_split\n",
        "X_train, X_test, y_train, y_test = train_test_split(X, y, test_size=0.3)\n",
        "y_test1 = y_test\n",
        "y_test2 = y_test\n",
        "y_test3 = y_test\n"
      ],
      "metadata": {
        "id": "w2TwMny0Dio1"
      },
      "execution_count": 943,
      "outputs": []
    },
    {
      "cell_type": "code",
      "source": [
        "X_train.shape, y_train.shape"
      ],
      "metadata": {
        "colab": {
          "base_uri": "https://localhost:8080/"
        },
        "id": "YdkcBnb9D5nx",
        "outputId": "b756344b-8a54-4a15-9227-883eb9ec19c9"
      },
      "execution_count": 944,
      "outputs": [
        {
          "output_type": "execute_result",
          "data": {
            "text/plain": [
              "((399, 19), (399,))"
            ]
          },
          "metadata": {},
          "execution_count": 944
        }
      ]
    },
    {
      "cell_type": "code",
      "source": [
        "X_test.shape, y_test.shape"
      ],
      "metadata": {
        "colab": {
          "base_uri": "https://localhost:8080/"
        },
        "id": "TFMM8nUWGZ2C",
        "outputId": "82151b89-df30-491b-aa5e-60b602a940ad"
      },
      "execution_count": 945,
      "outputs": [
        {
          "output_type": "execute_result",
          "data": {
            "text/plain": [
              "((172, 19), (172,))"
            ]
          },
          "metadata": {},
          "execution_count": 945
        }
      ]
    },
    {
      "cell_type": "markdown",
      "source": [
        "### Feature normalisation\n"
      ],
      "metadata": {
        "id": "US8Mho26UfiL"
      }
    },
    {
      "cell_type": "code",
      "source": [
        "from sklearn.preprocessing import StandardScaler\n",
        "from sklearn.compose import ColumnTransformer\n",
        "\n",
        "def featureNormalisation():\n",
        "  numeric_data = ['Age_Numerical', 'Class_hours', 'MSPSS_family', 'MSPSS_friends', 'MSPSS_significant_others']\n",
        "\n",
        "  ct = ColumnTransformer([('scaler', StandardScaler(), numeric_data)], remainder='passthrough')\n",
        "\n",
        "  X_train_scaled = ct.fit_transform(X_train)\n",
        "  X_test_scaled = ct.transform(X_test)\n",
        "  return X_train_scaled, X_test_scaled, ct\n",
        "\n",
        "X_train_scaled, X_test_scaled, ct = featureNormalisation()\n",
        "features = ct.get_feature_names_out()"
      ],
      "metadata": {
        "id": "aJTWKsIjUeJJ"
      },
      "execution_count": 946,
      "outputs": []
    },
    {
      "cell_type": "code",
      "source": [
        "X_train_scaled.shape"
      ],
      "metadata": {
        "colab": {
          "base_uri": "https://localhost:8080/"
        },
        "id": "h6tJR9z1V2de",
        "outputId": "0dd2a992-a1d8-471f-f365-70f61f8a5f54"
      },
      "execution_count": 947,
      "outputs": [
        {
          "output_type": "execute_result",
          "data": {
            "text/plain": [
              "(399, 19)"
            ]
          },
          "metadata": {},
          "execution_count": 947
        }
      ]
    },
    {
      "cell_type": "code",
      "source": [
        "X_test_scaled.shape"
      ],
      "metadata": {
        "colab": {
          "base_uri": "https://localhost:8080/"
        },
        "id": "kSpqqB3NV6B2",
        "outputId": "32eeb905-e35f-415b-ec30-b21b5aa863eb"
      },
      "execution_count": 948,
      "outputs": [
        {
          "output_type": "execute_result",
          "data": {
            "text/plain": [
              "(172, 19)"
            ]
          },
          "metadata": {},
          "execution_count": 948
        }
      ]
    },
    {
      "cell_type": "markdown",
      "source": [
        "Below is the LDA part, in this case, LDA is used for dimensionality reduction in a supervised way"
      ],
      "metadata": {
        "id": "40O-mOZpEQtX"
      }
    },
    {
      "cell_type": "code",
      "source": [
        "from sklearn.discriminant_analysis import LinearDiscriminantAnalysis as LDA\n",
        "lda = LDA(n_components=4)\n",
        "X_train_lda = lda.fit_transform(X_train, y_train)\n",
        "X_test_lda = lda.transform(X_test)\n"
      ],
      "metadata": {
        "id": "K6jEKVdcEjg_"
      },
      "execution_count": 949,
      "outputs": []
    },
    {
      "cell_type": "code",
      "source": [
        "lda.explained_variance_ratio_"
      ],
      "metadata": {
        "id": "OsXvx_FE73re",
        "colab": {
          "base_uri": "https://localhost:8080/"
        },
        "outputId": "990d7d0a-a7d9-4851-896d-635d190625af"
      },
      "execution_count": 950,
      "outputs": [
        {
          "output_type": "execute_result",
          "data": {
            "text/plain": [
              "array([0.70358256, 0.19100347, 0.06360862, 0.04180535])"
            ]
          },
          "metadata": {},
          "execution_count": 950
        }
      ]
    },
    {
      "cell_type": "code",
      "source": [
        "X_train_lda.shape"
      ],
      "metadata": {
        "colab": {
          "base_uri": "https://localhost:8080/"
        },
        "id": "3gPZtSSVABC7",
        "outputId": "95ce3755-59a9-40ae-fc3a-8fd1f2fbb7e0"
      },
      "execution_count": 951,
      "outputs": [
        {
          "output_type": "execute_result",
          "data": {
            "text/plain": [
              "(399, 4)"
            ]
          },
          "metadata": {},
          "execution_count": 951
        }
      ]
    },
    {
      "cell_type": "markdown",
      "source": [
        "# Linear Regression with LDA"
      ],
      "metadata": {
        "id": "LcpknT0JjtCO"
      }
    },
    {
      "cell_type": "code",
      "source": [
        "from sklearn import linear_model\n",
        "lm = linear_model.LogisticRegression(multi_class='ovr', solver='liblinear')\n",
        "lm.fit(X_train_lda, y_train)\n",
        "y_pred = lm.predict(X_test_lda)"
      ],
      "metadata": {
        "id": "gt16p807L3PW"
      },
      "execution_count": 952,
      "outputs": []
    },
    {
      "cell_type": "markdown",
      "source": [
        "Accuracy"
      ],
      "metadata": {
        "id": "WAssZgdaj7tC"
      }
    },
    {
      "cell_type": "code",
      "source": [
        "lm.score(X_test_lda, y_test)"
      ],
      "metadata": {
        "colab": {
          "base_uri": "https://localhost:8080/"
        },
        "id": "w3rQ_WscMLJ6",
        "outputId": "c3066f2b-f95f-4a3e-b7c2-b6e2071630e7"
      },
      "execution_count": 953,
      "outputs": [
        {
          "output_type": "execute_result",
          "data": {
            "text/plain": [
              "0.5290697674418605"
            ]
          },
          "metadata": {},
          "execution_count": 953
        }
      ]
    },
    {
      "cell_type": "markdown",
      "source": [
        "Classification Report"
      ],
      "metadata": {
        "id": "a3_-Qi87j_wV"
      }
    },
    {
      "cell_type": "code",
      "source": [
        "from sklearn.metrics import classification_report, confusion_matrix, roc_auc_score, ConfusionMatrixDisplay\n",
        "\n",
        "print(classification_report(y_test, y_pred))"
      ],
      "metadata": {
        "colab": {
          "base_uri": "https://localhost:8080/"
        },
        "id": "HrDptlF5202w",
        "outputId": "0a895ba6-86ff-415a-8821-974eed7bcc7b"
      },
      "execution_count": 954,
      "outputs": [
        {
          "output_type": "stream",
          "name": "stdout",
          "text": [
            "              precision    recall  f1-score   support\n",
            "\n",
            "           0       0.64      0.62      0.63        72\n",
            "           1       0.38      0.47      0.42        40\n",
            "           2       0.42      0.36      0.39        36\n",
            "           3       0.78      0.47      0.58        15\n",
            "           4       0.58      0.78      0.67         9\n",
            "\n",
            "    accuracy                           0.53       172\n",
            "   macro avg       0.56      0.54      0.54       172\n",
            "weighted avg       0.54      0.53      0.53       172\n",
            "\n"
          ]
        }
      ]
    },
    {
      "cell_type": "markdown",
      "source": [
        "Confusion Matrix"
      ],
      "metadata": {
        "id": "lQoq89FAkjqc"
      }
    },
    {
      "cell_type": "code",
      "source": [
        "cm = confusion_matrix(y_test, y_pred)\n",
        "cm"
      ],
      "metadata": {
        "colab": {
          "base_uri": "https://localhost:8080/"
        },
        "id": "06YZ4YDT3CmP",
        "outputId": "50e63914-19f4-49dc-ccef-fd7487c4d784"
      },
      "execution_count": 955,
      "outputs": [
        {
          "output_type": "execute_result",
          "data": {
            "text/plain": [
              "array([[45, 18,  7,  2,  0],\n",
              "       [16, 19,  5,  0,  0],\n",
              "       [ 9, 10, 13,  0,  4],\n",
              "       [ 0,  3,  4,  7,  1],\n",
              "       [ 0,  0,  2,  0,  7]])"
            ]
          },
          "metadata": {},
          "execution_count": 955
        }
      ]
    },
    {
      "cell_type": "code",
      "source": [
        "disp = ConfusionMatrixDisplay(confusion_matrix=cm, display_labels=[0, 1, 2, 3, 4])\n",
        "disp.plot()\n",
        "plt.show()"
      ],
      "metadata": {
        "colab": {
          "base_uri": "https://localhost:8080/",
          "height": 283
        },
        "id": "yURnJ05_3H4B",
        "outputId": "4db0b98f-945e-4da7-9be6-32083e6b371a"
      },
      "execution_count": 956,
      "outputs": [
        {
          "output_type": "display_data",
          "data": {
            "text/plain": [
              "<Figure size 432x288 with 2 Axes>"
            ],
            "image/png": "[encoded data removed]"
          },
          "metadata": {
            "needs_background": "light"
          }
        }
      ]
    },
    {
      "cell_type": "code",
      "source": [
        ""
      ],
      "metadata": {
        "id": "cZ30ERtRSed9"
      },
      "execution_count": 956,
      "outputs": []
    },
    {
      "cell_type": "code",
      "source": [
        "from sklearn.metrics import roc_curve\n",
        "from sklearn.metrics import roc_auc_score\n",
        "from sklearn.metrics import auc\n",
        "from sklearn.metrics import RocCurveDisplay\n",
        "from numpy import interp\n",
        "from itertools import cycle\n",
        "from sklearn.preprocessing import OneHotEncoder\n",
        "from sklearn.preprocessing import label_binarize\n",
        "\n",
        "ohe = OneHotEncoder(sparse=False)\n",
        "\n",
        "\n",
        "\n",
        "n_classes = 5\n",
        "\n",
        "# Plot linewidth.\n",
        "lw = 3\n",
        "\n",
        "# Compute ROC curve and ROC area for each class\n",
        "fpr = dict()\n",
        "tpr = dict()\n",
        "roc_auc = dict()\n",
        "\n",
        "\n",
        "# y_test = ohe.fit_transform(y_test.values.reshape(-1,1))\n",
        "y_test = label_binarize(y_test, classes=[0, 1, 2, 3, 4])\n",
        "y_pred = label_binarize(y_pred, classes=[0, 1, 2, 3, 4])\n",
        "\n",
        "for i in range(n_classes):\n",
        "    fpr[i], tpr[i], _ = roc_curve(y_test[:, i], y_pred[:, i])\n",
        "    roc_auc[i] = auc(fpr[i], tpr[i])\n",
        "\n",
        "# Compute micro-average ROC curve and ROC area\n",
        "fpr[\"micro\"], tpr[\"micro\"], _ = roc_curve(y_test.ravel(), y_pred.ravel())\n",
        "roc_auc[\"micro\"] = auc(fpr[\"micro\"], tpr[\"micro\"])\n",
        "\n",
        "# Compute macro-average ROC curve and ROC area\n",
        "\n",
        "# First aggregate all false positive rates\n",
        "all_fpr = np.unique(np.concatenate([fpr[i] for i in range(n_classes)]))\n",
        "\n",
        "# Then interpolate all ROC curves at this points\n",
        "mean_tpr = np.zeros_like(all_fpr)\n",
        "for i in range(n_classes):\n",
        "    mean_tpr += interp(all_fpr, fpr[i], tpr[i])\n",
        "\n",
        "# Finally average it and compute AUC\n",
        "mean_tpr /= n_classes\n",
        "\n",
        "fpr[\"macro\"] = all_fpr\n",
        "tpr[\"macro\"] = mean_tpr\n",
        "roc_auc[\"macro\"] = auc(fpr[\"macro\"], tpr[\"macro\"])\n",
        "\n",
        "# Plot all ROC curves\n",
        "plt.figure(1)\n",
        "plt.plot(fpr[\"micro\"], tpr[\"micro\"],\n",
        "         label='micro-average ROC curve (area = {0:0.2f})'\n",
        "               ''.format(roc_auc[\"micro\"]),\n",
        "         color='deeppink', linestyle=':', linewidth=4)\n",
        "\n",
        "plt.plot(fpr[\"macro\"], tpr[\"macro\"],\n",
        "         label='macro-average ROC curve (area = {0:0.2f})'\n",
        "               ''.format(roc_auc[\"macro\"]),\n",
        "         color='navy', linestyle=':', linewidth=4)\n",
        "\n",
        "colors = cycle(['aqua', 'darkorange', 'cornflowerblue', 'green', 'magenta'])\n",
        "for i, color in zip(range(n_classes), colors):\n",
        "    plt.plot(fpr[i], tpr[i], color=color, lw=lw,\n",
        "             label='ROC curve of class {0} (area = {1:0.2f})'\n",
        "             ''.format(i, roc_auc[i]))\n",
        "\n",
        "plt.plot([0, 1], [0, 1], 'k--', lw=lw)\n",
        "plt.xlim([0.0, 1.0])\n",
        "plt.ylim([0.0, 1.05])\n",
        "plt.xlabel('False Positive Rate')\n",
        "plt.ylabel('True Positive Rate')\n",
        "plt.title('ROC Curve')\n",
        "plt.legend(loc=\"upper right\")\n",
        "plt.show()\n",
        "\n",
        "\n",
        "# Zoom in view of the upper left corner.\n",
        "plt.figure(2)\n",
        "plt.xlim(0, 0.3)\n",
        "plt.ylim(0.7, 1)\n",
        "plt.plot(fpr[\"micro\"], tpr[\"micro\"],\n",
        "         label='micro-average ROC curve (area = {0:0.2f})'\n",
        "               ''.format(roc_auc[\"micro\"]),\n",
        "         color='deeppink', linestyle=':', linewidth=4)\n",
        "\n",
        "plt.plot(fpr[\"macro\"], tpr[\"macro\"],\n",
        "         label='macro-average ROC curve (area = {0:0.2f})'\n",
        "               ''.format(roc_auc[\"macro\"]),\n",
        "         color='navy', linestyle=':', linewidth=4)\n",
        "\n",
        "for i, color in zip(range(n_classes), colors):\n",
        "    plt.plot(fpr[i], tpr[i], color=color, lw=lw,\n",
        "             label='ROC curve of class {0} (area = {1:0.2f})'\n",
        "             ''.format(i, roc_auc[i]))\n",
        "\n",
        "plt.plot([0, 1], [0, 1], 'k--', lw=lw)\n",
        "plt.xlabel('False Positive Rate')\n",
        "plt.ylabel('True Positive Rate')\n",
        "plt.title('ROC Curve (Zoomed In)')\n",
        "plt.legend(loc=\"upper right\")\n",
        "plt.show()"
      ],
      "metadata": {
        "colab": {
          "base_uri": "https://localhost:8080/",
          "height": 573
        },
        "outputId": "2f0ef724-336c-4f37-f2ee-2214e633c5cf",
        "id": "itm-k5qDSezI"
      },
      "execution_count": 957,
      "outputs": [
        {
          "output_type": "display_data",
          "data": {
            "text/plain": [
              "<Figure size 432x288 with 1 Axes>"
            ],
            "image/png": "[encoded data removed]"
          },
          "metadata": {
            "needs_background": "light"
          }
        },
        {
          "output_type": "display_data",
          "data": {
            "text/plain": [
              "<Figure size 432x288 with 1 Axes>"
            ],
            "image/png": "[encoded data removed]"
          },
          "metadata": {
            "needs_background": "light"
          }
        }
      ]
    },
    {
      "cell_type": "code",
      "source": [
        "roc_auc_score(y_test, y_pred, multi_class = 'ovo')"
      ],
      "metadata": {
        "colab": {
          "base_uri": "https://localhost:8080/"
        },
        "id": "pjjDKSHZcRc_",
        "outputId": "a07f001a-b709-4f08-8a28-efa98b250874"
      },
      "execution_count": 958,
      "outputs": [
        {
          "output_type": "execute_result",
          "data": {
            "text/plain": [
              "0.7044940429401649"
            ]
          },
          "metadata": {},
          "execution_count": 958
        }
      ]
    },
    {
      "cell_type": "code",
      "source": [
        "from sklearn.naive_bayes import GaussianNB\n",
        "from sklearn.metrics import confusion_matrix\n",
        "gnb = GaussianNB().fit(X_train_lda, y_train)\n",
        "y_pred = gnb.predict(X_test_lda)\n",
        " \n"
      ],
      "metadata": {
        "id": "IMZoDGzgMr72"
      },
      "execution_count": 959,
      "outputs": []
    },
    {
      "cell_type": "markdown",
      "source": [
        "# Naive Bayes classifier"
      ],
      "metadata": {
        "id": "ND6wZgCkk8Ks"
      }
    },
    {
      "cell_type": "markdown",
      "source": [
        "Accuracy"
      ],
      "metadata": {
        "id": "qriXTN8gk_FI"
      }
    },
    {
      "cell_type": "code",
      "source": [
        "gnb.score(X_test_lda, y_test1)"
      ],
      "metadata": {
        "colab": {
          "base_uri": "https://localhost:8080/"
        },
        "id": "1Q76rgI1OoHd",
        "outputId": "e40326ef-e5db-4a83-9e4b-f1361ec6b05e"
      },
      "execution_count": 960,
      "outputs": [
        {
          "output_type": "execute_result",
          "data": {
            "text/plain": [
              "0.5290697674418605"
            ]
          },
          "metadata": {},
          "execution_count": 960
        }
      ]
    },
    {
      "cell_type": "markdown",
      "source": [
        "Classification Report"
      ],
      "metadata": {
        "id": "_h0oc6JBlBVF"
      }
    },
    {
      "cell_type": "code",
      "source": [
        "from sklearn.metrics import classification_report, confusion_matrix, roc_auc_score, ConfusionMatrixDisplay\n",
        "\n",
        "print(classification_report(y_test1, y_pred))"
      ],
      "metadata": {
        "colab": {
          "base_uri": "https://localhost:8080/"
        },
        "id": "xKm23ANQPLDL",
        "outputId": "a8a19b7b-3b6a-4367-f5fe-028520c552e2"
      },
      "execution_count": 961,
      "outputs": [
        {
          "output_type": "stream",
          "name": "stdout",
          "text": [
            "              precision    recall  f1-score   support\n",
            "\n",
            "           0       0.67      0.53      0.59        72\n",
            "           1       0.44      0.65      0.53        40\n",
            "           2       0.38      0.36      0.37        36\n",
            "           3       1.00      0.47      0.64        15\n",
            "           4       0.47      0.78      0.58         9\n",
            "\n",
            "    accuracy                           0.53       172\n",
            "   macro avg       0.59      0.56      0.54       172\n",
            "weighted avg       0.57      0.53      0.53       172\n",
            "\n"
          ]
        }
      ]
    },
    {
      "cell_type": "markdown",
      "source": [
        "Confusion Matrix"
      ],
      "metadata": {
        "id": "MkdEtsS9lEwR"
      }
    },
    {
      "cell_type": "code",
      "source": [
        "cm = confusion_matrix(y_test1, y_pred)\n",
        "cm"
      ],
      "metadata": {
        "colab": {
          "base_uri": "https://localhost:8080/"
        },
        "id": "Fx91nOgNOggv",
        "outputId": "75ae9dab-bbbf-423e-b70f-db0f17ce4189"
      },
      "execution_count": 962,
      "outputs": [
        {
          "output_type": "execute_result",
          "data": {
            "text/plain": [
              "array([[38, 23,  9,  0,  2],\n",
              "       [ 7, 26,  6,  0,  1],\n",
              "       [ 9, 10, 13,  0,  4],\n",
              "       [ 3,  0,  4,  7,  1],\n",
              "       [ 0,  0,  2,  0,  7]])"
            ]
          },
          "metadata": {},
          "execution_count": 962
        }
      ]
    },
    {
      "cell_type": "code",
      "source": [
        "disp = ConfusionMatrixDisplay(confusion_matrix=cm, display_labels=[0, 1, 2, 3, 4])\n",
        "disp.plot()\n",
        "plt.show()"
      ],
      "metadata": {
        "colab": {
          "base_uri": "https://localhost:8080/",
          "height": 279
        },
        "id": "GrXmX0XxOlFO",
        "outputId": "cbb0efff-f30c-4b6c-b8b2-87552041f6ae"
      },
      "execution_count": 963,
      "outputs": [
        {
          "output_type": "display_data",
          "data": {
            "text/plain": [
              "<Figure size 432x288 with 2 Axes>"
            ],
            "image/png": "[encoded data removed]"
          },
          "metadata": {
            "needs_background": "light"
          }
        }
      ]
    },
    {
      "cell_type": "markdown",
      "source": [
        "ROC Curve"
      ],
      "metadata": {
        "id": "Ei--aRaulLKo"
      }
    },
    {
      "cell_type": "code",
      "source": [
        "from sklearn.metrics import roc_curve\n",
        "from sklearn.metrics import roc_auc_score\n",
        "from sklearn.metrics import auc\n",
        "from sklearn.metrics import RocCurveDisplay\n",
        "from numpy import interp\n",
        "from itertools import cycle\n",
        "from sklearn.preprocessing import OneHotEncoder\n",
        "from sklearn.preprocessing import label_binarize\n",
        "\n",
        "ohe = OneHotEncoder(sparse=False)\n",
        "\n",
        "\n",
        "\n",
        "n_classes = 5\n",
        "\n",
        "# Plot linewidth.\n",
        "lw = 3\n",
        "\n",
        "# Compute ROC curve and ROC area for each class\n",
        "fpr = dict()\n",
        "tpr = dict()\n",
        "roc_auc = dict()\n",
        "\n",
        "\n",
        "# y_test = ohe.fit_transform(y_test.values.reshape(-1,1))\n",
        "# y_test = label_binarize(y_test, classes=[0, 1, 2, 3, 4])\n",
        "y_pred = label_binarize(y_pred, classes=[0, 1, 2, 3, 4])\n",
        "\n",
        "for i in range(n_classes):\n",
        "    fpr[i], tpr[i], _ = roc_curve(y_test[:, i], y_pred[:, i])\n",
        "    roc_auc[i] = auc(fpr[i], tpr[i])\n",
        "\n",
        "# Compute micro-average ROC curve and ROC area\n",
        "fpr[\"micro\"], tpr[\"micro\"], _ = roc_curve(y_test.ravel(), y_pred.ravel())\n",
        "roc_auc[\"micro\"] = auc(fpr[\"micro\"], tpr[\"micro\"])\n",
        "\n",
        "# Compute macro-average ROC curve and ROC area\n",
        "\n",
        "# First aggregate all false positive rates\n",
        "all_fpr = np.unique(np.concatenate([fpr[i] for i in range(n_classes)]))\n",
        "\n",
        "# Then interpolate all ROC curves at this points\n",
        "mean_tpr = np.zeros_like(all_fpr)\n",
        "for i in range(n_classes):\n",
        "    mean_tpr += interp(all_fpr, fpr[i], tpr[i])\n",
        "\n",
        "# Finally average it and compute AUC\n",
        "mean_tpr /= n_classes\n",
        "\n",
        "fpr[\"macro\"] = all_fpr\n",
        "tpr[\"macro\"] = mean_tpr\n",
        "roc_auc[\"macro\"] = auc(fpr[\"macro\"], tpr[\"macro\"])\n",
        "\n",
        "# Plot all ROC curves\n",
        "plt.figure(1)\n",
        "plt.plot(fpr[\"micro\"], tpr[\"micro\"],\n",
        "         label='micro-average ROC curve (area = {0:0.2f})'\n",
        "               ''.format(roc_auc[\"micro\"]),\n",
        "         color='deeppink', linestyle=':', linewidth=4)\n",
        "\n",
        "plt.plot(fpr[\"macro\"], tpr[\"macro\"],\n",
        "         label='macro-average ROC curve (area = {0:0.2f})'\n",
        "               ''.format(roc_auc[\"macro\"]),\n",
        "         color='navy', linestyle=':', linewidth=4)\n",
        "\n",
        "colors = cycle(['aqua', 'darkorange', 'cornflowerblue', 'green', 'magenta'])\n",
        "for i, color in zip(range(n_classes), colors):\n",
        "    plt.plot(fpr[i], tpr[i], color=color, lw=lw,\n",
        "             label='ROC curve of class {0} (area = {1:0.2f})'\n",
        "             ''.format(i, roc_auc[i]))\n",
        "\n",
        "plt.plot([0, 1], [0, 1], 'k--', lw=lw)\n",
        "plt.xlim([0.0, 1.0])\n",
        "plt.ylim([0.0, 1.05])\n",
        "plt.xlabel('False Positive Rate')\n",
        "plt.ylabel('True Positive Rate')\n",
        "plt.title('ROC Curve')\n",
        "plt.legend(loc=\"upper right\")\n",
        "plt.show()\n",
        "\n",
        "\n",
        "# Zoom in view of the upper left corner.\n",
        "plt.figure(2)\n",
        "plt.xlim(0, 0.3)\n",
        "plt.ylim(0.7, 1)\n",
        "plt.plot(fpr[\"micro\"], tpr[\"micro\"],\n",
        "         label='micro-average ROC curve (area = {0:0.2f})'\n",
        "               ''.format(roc_auc[\"micro\"]),\n",
        "         color='deeppink', linestyle=':', linewidth=4)\n",
        "\n",
        "plt.plot(fpr[\"macro\"], tpr[\"macro\"],\n",
        "         label='macro-average ROC curve (area = {0:0.2f})'\n",
        "               ''.format(roc_auc[\"macro\"]),\n",
        "         color='navy', linestyle=':', linewidth=4)\n",
        "\n",
        "for i, color in zip(range(n_classes), colors):\n",
        "    plt.plot(fpr[i], tpr[i], color=color, lw=lw,\n",
        "             label='ROC curve of class {0} (area = {1:0.2f})'\n",
        "             ''.format(i, roc_auc[i]))\n",
        "\n",
        "plt.plot([0, 1], [0, 1], 'k--', lw=lw)\n",
        "plt.xlabel('False Positive Rate')\n",
        "plt.ylabel('True Positive Rate')\n",
        "plt.title('ROC Curve (Zoomed In)')\n",
        "plt.legend(loc=\"upper right\")\n",
        "plt.show()"
      ],
      "metadata": {
        "colab": {
          "base_uri": "https://localhost:8080/",
          "height": 573
        },
        "outputId": "008a4de8-06a7-474d-aafb-981aebb6321f",
        "id": "v1BE7MZpShzX"
      },
      "execution_count": 964,
      "outputs": [
        {
          "output_type": "display_data",
          "data": {
            "text/plain": [
              "<Figure size 432x288 with 1 Axes>"
            ],
            "image/png": "[encoded data removed]"
          },
          "metadata": {
            "needs_background": "light"
          }
        },
        {
          "output_type": "display_data",
          "data": {
            "text/plain": [
              "<Figure size 432x288 with 1 Axes>"
            ],
            "image/png": "[encoded data removed]"
          },
          "metadata": {
            "needs_background": "light"
          }
        }
      ]
    },
    {
      "cell_type": "markdown",
      "source": [
        "Area Under ROC Curve"
      ],
      "metadata": {
        "id": "9-LmxIIMlQ8s"
      }
    },
    {
      "cell_type": "code",
      "source": [
        "roc_auc_score(y_test, y_pred, multi_class = 'ovo')"
      ],
      "metadata": {
        "colab": {
          "base_uri": "https://localhost:8080/"
        },
        "id": "UmVmgXjNdr9D",
        "outputId": "c66c7534-b90a-4ae2-ebc3-992e460868df"
      },
      "execution_count": 965,
      "outputs": [
        {
          "output_type": "execute_result",
          "data": {
            "text/plain": [
              "0.7139841814026224"
            ]
          },
          "metadata": {},
          "execution_count": 965
        }
      ]
    },
    {
      "cell_type": "markdown",
      "source": [
        "# Random Forest"
      ],
      "metadata": {
        "id": "NOXMwNSDOuqY"
      }
    },
    {
      "cell_type": "code",
      "source": [
        "from sklearn.ensemble import RandomForestClassifier\n",
        "classifier = RandomForestClassifier(n_estimators=40)\n",
        "classifier.fit(X_train, y_train)\n",
        "y_pred = classifier.predict(X_test)"
      ],
      "metadata": {
        "id": "dDoh-q_1U_we"
      },
      "execution_count": 966,
      "outputs": []
    },
    {
      "cell_type": "markdown",
      "source": [
        "Accuracy"
      ],
      "metadata": {
        "id": "0W-0E1VblVtH"
      }
    },
    {
      "cell_type": "code",
      "source": [
        "classifier.score(X_test, y_test2)"
      ],
      "metadata": {
        "colab": {
          "base_uri": "https://localhost:8080/"
        },
        "id": "NWGQoni7RVZ3",
        "outputId": "e96821f5-d002-46b4-d1b8-ebb4f3dbef81"
      },
      "execution_count": 967,
      "outputs": [
        {
          "output_type": "execute_result",
          "data": {
            "text/plain": [
              "0.877906976744186"
            ]
          },
          "metadata": {},
          "execution_count": 967
        }
      ]
    },
    {
      "cell_type": "markdown",
      "source": [
        "Classification Report"
      ],
      "metadata": {
        "id": "roeZJTwQlZpd"
      }
    },
    {
      "cell_type": "code",
      "source": [
        "from sklearn.metrics import classification_report, confusion_matrix, roc_auc_score, ConfusionMatrixDisplay\n",
        "\n",
        "print(classification_report(y_test2, y_pred))"
      ],
      "metadata": {
        "colab": {
          "base_uri": "https://localhost:8080/"
        },
        "id": "DIfdST-DVpGa",
        "outputId": "7800ec3d-8cc9-47a2-c027-7fb90df180e5"
      },
      "execution_count": 968,
      "outputs": [
        {
          "output_type": "stream",
          "name": "stdout",
          "text": [
            "              precision    recall  f1-score   support\n",
            "\n",
            "           0       0.91      0.82      0.86        72\n",
            "           1       0.87      0.82      0.85        40\n",
            "           2       0.84      1.00      0.91        36\n",
            "           3       0.93      0.93      0.93        15\n",
            "           4       0.82      1.00      0.90         9\n",
            "\n",
            "    accuracy                           0.88       172\n",
            "   macro avg       0.87      0.92      0.89       172\n",
            "weighted avg       0.88      0.88      0.88       172\n",
            "\n"
          ]
        }
      ]
    },
    {
      "cell_type": "markdown",
      "source": [
        "Confusion Matrix"
      ],
      "metadata": {
        "id": "yZ9ATh2HuA0O"
      }
    },
    {
      "cell_type": "code",
      "source": [
        "cm = confusion_matrix(y_test1, y_pred)\n",
        "cm"
      ],
      "metadata": {
        "id": "0HHALe7AuCXD"
      },
      "execution_count": null,
      "outputs": []
    },
    {
      "cell_type": "code",
      "source": [
        "disp = ConfusionMatrixDisplay(confusion_matrix=cm, display_labels=[0, 1, 2, 3, 4])\n",
        "disp.plot()\n",
        "plt.show()"
      ],
      "metadata": {
        "colab": {
          "base_uri": "https://localhost:8080/",
          "height": 279
        },
        "id": "XvbwgS4pVvfL",
        "outputId": "89460b16-1dcc-4628-d6ac-199861fdbd42"
      },
      "execution_count": 969,
      "outputs": [
        {
          "output_type": "display_data",
          "data": {
            "text/plain": [
              "<Figure size 432x288 with 2 Axes>"
            ],
            "image/png": "[encoded data removed]"
          },
          "metadata": {
            "needs_background": "light"
          }
        }
      ]
    },
    {
      "cell_type": "code",
      "source": [
        "from sklearn.metrics import roc_curve\n",
        "from sklearn.metrics import roc_auc_score\n",
        "from sklearn.metrics import auc\n",
        "from sklearn.metrics import RocCurveDisplay\n",
        "from numpy import interp\n",
        "from itertools import cycle\n",
        "from sklearn.preprocessing import OneHotEncoder\n",
        "from sklearn.preprocessing import label_binarize\n",
        "\n",
        "ohe = OneHotEncoder(sparse=False)\n",
        "\n",
        "\n",
        "\n",
        "n_classes = 5\n",
        "\n",
        "# Plot linewidth.\n",
        "lw = 3\n",
        "\n",
        "# Compute ROC curve and ROC area for each class\n",
        "fpr = dict()\n",
        "tpr = dict()\n",
        "roc_auc = dict()\n",
        "\n",
        "\n",
        "# y_test = ohe.fit_transform(y_test.values.reshape(-1,1))\n",
        "# y_test = label_binarize(y_test, classes=[0, 1, 2, 3, 4])\n",
        "y_pred = label_binarize(y_pred, classes=[0, 1, 2, 3, 4])\n",
        "\n",
        "for i in range(n_classes):\n",
        "    fpr[i], tpr[i], _ = roc_curve(y_test[:, i], y_pred[:, i])\n",
        "    roc_auc[i] = auc(fpr[i], tpr[i])\n",
        "\n",
        "# Compute micro-average ROC curve and ROC area\n",
        "fpr[\"micro\"], tpr[\"micro\"], _ = roc_curve(y_test.ravel(), y_pred.ravel())\n",
        "roc_auc[\"micro\"] = auc(fpr[\"micro\"], tpr[\"micro\"])\n",
        "\n",
        "# Compute macro-average ROC curve and ROC area\n",
        "\n",
        "# First aggregate all false positive rates\n",
        "all_fpr = np.unique(np.concatenate([fpr[i] for i in range(n_classes)]))\n",
        "\n",
        "# Then interpolate all ROC curves at this points\n",
        "mean_tpr = np.zeros_like(all_fpr)\n",
        "for i in range(n_classes):\n",
        "    mean_tpr += interp(all_fpr, fpr[i], tpr[i])\n",
        "\n",
        "# Finally average it and compute AUC\n",
        "mean_tpr /= n_classes\n",
        "\n",
        "fpr[\"macro\"] = all_fpr\n",
        "tpr[\"macro\"] = mean_tpr\n",
        "roc_auc[\"macro\"] = auc(fpr[\"macro\"], tpr[\"macro\"])\n",
        "\n",
        "# Plot all ROC curves\n",
        "plt.figure(1)\n",
        "plt.plot(fpr[\"micro\"], tpr[\"micro\"],\n",
        "         label='micro-average ROC curve (area = {0:0.2f})'\n",
        "               ''.format(roc_auc[\"micro\"]),\n",
        "         color='deeppink', linestyle=':', linewidth=4)\n",
        "\n",
        "plt.plot(fpr[\"macro\"], tpr[\"macro\"],\n",
        "         label='macro-average ROC curve (area = {0:0.2f})'\n",
        "               ''.format(roc_auc[\"macro\"]),\n",
        "         color='navy', linestyle=':', linewidth=4)\n",
        "\n",
        "colors = cycle(['aqua', 'darkorange', 'cornflowerblue', 'green', 'magenta'])\n",
        "for i, color in zip(range(n_classes), colors):\n",
        "    plt.plot(fpr[i], tpr[i], color=color, lw=lw,\n",
        "             label='ROC curve of class {0} (area = {1:0.2f})'\n",
        "             ''.format(i, roc_auc[i]))\n",
        "\n",
        "plt.plot([0, 1], [0, 1], 'k--', lw=lw)\n",
        "plt.xlim([0.0, 1.0])\n",
        "plt.ylim([0.0, 1.05])\n",
        "plt.xlabel('False Positive Rate')\n",
        "plt.ylabel('True Positive Rate')\n",
        "plt.title('ROC Curve')\n",
        "plt.legend(loc=\"upper right\")\n",
        "plt.show()\n",
        "\n",
        "\n",
        "# Zoom in view of the upper left corner.\n",
        "plt.figure(2)\n",
        "plt.xlim(0, 0.3)\n",
        "plt.ylim(0.7, 1)\n",
        "plt.plot(fpr[\"micro\"], tpr[\"micro\"],\n",
        "         label='micro-average ROC curve (area = {0:0.2f})'\n",
        "               ''.format(roc_auc[\"micro\"]),\n",
        "         color='deeppink', linestyle=':', linewidth=4)\n",
        "\n",
        "plt.plot(fpr[\"macro\"], tpr[\"macro\"],\n",
        "         label='macro-average ROC curve (area = {0:0.2f})'\n",
        "               ''.format(roc_auc[\"macro\"]),\n",
        "         color='navy', linestyle=':', linewidth=4)\n",
        "\n",
        "for i, color in zip(range(n_classes), colors):\n",
        "    plt.plot(fpr[i], tpr[i], color=color, lw=lw,\n",
        "             label='ROC curve of class {0} (area = {1:0.2f})'\n",
        "             ''.format(i, roc_auc[i]))\n",
        "\n",
        "plt.plot([0, 1], [0, 1], 'k--', lw=lw)\n",
        "plt.xlabel('False Positive Rate')\n",
        "plt.ylabel('True Positive Rate')\n",
        "plt.title('ROC Curve (Zoomed In)')\n",
        "plt.legend(loc=\"upper right\")\n",
        "plt.show()"
      ],
      "metadata": {
        "colab": {
          "base_uri": "https://localhost:8080/",
          "height": 573
        },
        "outputId": "9c278d29-4d3e-4392-db86-5a9174dceb0a",
        "id": "NyjSSOaDSk2S"
      },
      "execution_count": 970,
      "outputs": [
        {
          "output_type": "display_data",
          "data": {
            "text/plain": [
              "<Figure size 432x288 with 1 Axes>"
            ],
            "image/png": "[encoded data removed]"
          },
          "metadata": {
            "needs_background": "light"
          }
        },
        {
          "output_type": "display_data",
          "data": {
            "text/plain": [
              "<Figure size 432x288 with 1 Axes>"
            ],
            "image/png": "[encoded data removed]"
          },
          "metadata": {
            "needs_background": "light"
          }
        }
      ]
    },
    {
      "cell_type": "markdown",
      "source": [
        "Area Under the ROC Curve"
      ],
      "metadata": {
        "id": "T2Xr2JFSt6MQ"
      }
    },
    {
      "cell_type": "code",
      "source": [
        "roc_auc_score(y_test, y_pred, multi_class = 'ovo')"
      ],
      "metadata": {
        "colab": {
          "base_uri": "https://localhost:8080/"
        },
        "id": "HUWpLDMpcV8y",
        "outputId": "22f8c53a-26fe-4d5e-f08b-d3b98c5c40d4"
      },
      "execution_count": 971,
      "outputs": [
        {
          "output_type": "execute_result",
          "data": {
            "text/plain": [
              "0.9409789036261795"
            ]
          },
          "metadata": {},
          "execution_count": 971
        }
      ]
    },
    {
      "cell_type": "markdown",
      "source": [
        "# XGBoost"
      ],
      "metadata": {
        "id": "jHoUzQlJOzHA"
      }
    },
    {
      "cell_type": "code",
      "source": [
        "import xgboost as xgb\n",
        "xg_reg = xgb.XGBClassifier(objective ='reg:linear', colsample_bytree = 0.3, learning_rate = 0.1,\n",
        "                max_depth = 5, alpha = 10, n_estimators = 10)\n",
        "\n",
        "xg_reg.fit(X_train,y_train)\n",
        "\n",
        "y_pred = xg_reg.predict(X_test)"
      ],
      "metadata": {
        "id": "orSvuw4dW7Y2"
      },
      "execution_count": 972,
      "outputs": []
    },
    {
      "cell_type": "markdown",
      "source": [
        "Accuracy"
      ],
      "metadata": {
        "id": "5lxBfc66pkBS"
      }
    },
    {
      "cell_type": "code",
      "source": [
        "xg_reg.score(X_test, y_test3)"
      ],
      "metadata": {
        "colab": {
          "base_uri": "https://localhost:8080/"
        },
        "id": "kIoIfkweRc8Q",
        "outputId": "4987cc9e-c015-40b7-ca76-bbebf7debeac"
      },
      "execution_count": 973,
      "outputs": [
        {
          "output_type": "execute_result",
          "data": {
            "text/plain": [
              "0.7325581395348837"
            ]
          },
          "metadata": {},
          "execution_count": 973
        }
      ]
    },
    {
      "cell_type": "markdown",
      "source": [
        "Classification Report"
      ],
      "metadata": {
        "id": "FkcnzDNppnzk"
      }
    },
    {
      "cell_type": "code",
      "source": [
        "from sklearn.metrics import classification_report, confusion_matrix, roc_auc_score, ConfusionMatrixDisplay\n",
        "\n",
        "print(classification_report(y_test3, y_pred))"
      ],
      "metadata": {
        "colab": {
          "base_uri": "https://localhost:8080/"
        },
        "id": "K97vRFUZYYzd",
        "outputId": "f7141b17-fbf4-4ee0-c7b8-16330c000cde"
      },
      "execution_count": 974,
      "outputs": [
        {
          "output_type": "stream",
          "name": "stdout",
          "text": [
            "              precision    recall  f1-score   support\n",
            "\n",
            "           0       0.72      0.83      0.77        72\n",
            "           1       0.62      0.57      0.60        40\n",
            "           2       0.77      0.64      0.70        36\n",
            "           3       0.92      0.73      0.81        15\n",
            "           4       0.90      1.00      0.95         9\n",
            "\n",
            "    accuracy                           0.73       172\n",
            "   macro avg       0.79      0.76      0.77       172\n",
            "weighted avg       0.73      0.73      0.73       172\n",
            "\n"
          ]
        }
      ]
    },
    {
      "cell_type": "markdown",
      "source": [
        "Confusion Matrix"
      ],
      "metadata": {
        "id": "79nCuuA1pzdA"
      }
    },
    {
      "cell_type": "code",
      "source": [
        "cm = confusion_matrix(y_test1, y_pred)\n",
        "cm"
      ],
      "metadata": {
        "id": "uKBCvi1fl4I2",
        "outputId": "be96d28d-0f91-4b13-d5ba-d3eb7bcdde18",
        "colab": {
          "base_uri": "https://localhost:8080/"
        }
      },
      "execution_count": 975,
      "outputs": [
        {
          "output_type": "execute_result",
          "data": {
            "text/plain": [
              "array([[60,  8,  4,  0,  0],\n",
              "       [13, 23,  3,  1,  0],\n",
              "       [ 8,  5, 23,  0,  0],\n",
              "       [ 2,  1,  0, 11,  1],\n",
              "       [ 0,  0,  0,  0,  9]])"
            ]
          },
          "metadata": {},
          "execution_count": 975
        }
      ]
    },
    {
      "cell_type": "code",
      "source": [
        "disp = ConfusionMatrixDisplay(confusion_matrix=cm, display_labels=[0, 1, 2, 3, 4])\n",
        "disp.plot()\n",
        "plt.show()"
      ],
      "metadata": {
        "id": "8vXThNmJXPON",
        "colab": {
          "base_uri": "https://localhost:8080/",
          "height": 283
        },
        "outputId": "01ec3185-462a-4edd-f7ab-f54275b56157"
      },
      "execution_count": 976,
      "outputs": [
        {
          "output_type": "display_data",
          "data": {
            "text/plain": [
              "<Figure size 432x288 with 2 Axes>"
            ],
            "image/png": "[encoded data removed]"
          },
          "metadata": {
            "needs_background": "light"
          }
        }
      ]
    },
    {
      "cell_type": "code",
      "source": [
        ""
      ],
      "metadata": {
        "id": "5xNmtVTTSmiQ"
      },
      "execution_count": 976,
      "outputs": []
    },
    {
      "cell_type": "markdown",
      "source": [
        "#### Plot of ROC curve"
      ],
      "metadata": {
        "id": "2nN9ot7OaEC8"
      }
    },
    {
      "cell_type": "code",
      "source": [
        "from sklearn.metrics import roc_curve\n",
        "from sklearn.metrics import roc_auc_score\n",
        "from sklearn.metrics import auc\n",
        "from sklearn.metrics import RocCurveDisplay\n",
        "from numpy import interp\n",
        "from itertools import cycle\n",
        "from sklearn.preprocessing import OneHotEncoder\n",
        "from sklearn.preprocessing import label_binarize\n",
        "\n",
        "ohe = OneHotEncoder(sparse=False)\n",
        "\n",
        "\n",
        "\n",
        "n_classes = 5\n",
        "\n",
        "# Plot linewidth.\n",
        "lw = 3\n",
        "\n",
        "# Compute ROC curve and ROC area for each class\n",
        "fpr = dict()\n",
        "tpr = dict()\n",
        "roc_auc = dict()\n",
        "\n",
        "\n",
        "# y_test = ohe.fit_transform(y_test.values.reshape(-1,1))\n",
        "# y_test = label_binarize(y_test, classes=[0, 1, 2, 3, 4])\n",
        "y_pred = label_binarize(y_pred, classes=[0, 1, 2, 3, 4])\n",
        "\n",
        "for i in range(n_classes):\n",
        "    fpr[i], tpr[i], _ = roc_curve(y_test[:, i], y_pred[:, i])\n",
        "    roc_auc[i] = auc(fpr[i], tpr[i])\n",
        "\n",
        "# Compute micro-average ROC curve and ROC area\n",
        "fpr[\"micro\"], tpr[\"micro\"], _ = roc_curve(y_test.ravel(), y_pred.ravel())\n",
        "roc_auc[\"micro\"] = auc(fpr[\"micro\"], tpr[\"micro\"])\n",
        "\n",
        "# Compute macro-average ROC curve and ROC area\n",
        "\n",
        "# First aggregate all false positive rates\n",
        "all_fpr = np.unique(np.concatenate([fpr[i] for i in range(n_classes)]))\n",
        "\n",
        "# Then interpolate all ROC curves at this points\n",
        "mean_tpr = np.zeros_like(all_fpr)\n",
        "for i in range(n_classes):\n",
        "    mean_tpr += interp(all_fpr, fpr[i], tpr[i])\n",
        "\n",
        "# Finally average it and compute AUC\n",
        "mean_tpr /= n_classes\n",
        "\n",
        "fpr[\"macro\"] = all_fpr\n",
        "tpr[\"macro\"] = mean_tpr\n",
        "roc_auc[\"macro\"] = auc(fpr[\"macro\"], tpr[\"macro\"])\n",
        "\n",
        "# Plot all ROC curves\n",
        "plt.figure(1)\n",
        "plt.plot(fpr[\"micro\"], tpr[\"micro\"],\n",
        "         label='micro-average ROC curve (area = {0:0.2f})'\n",
        "               ''.format(roc_auc[\"micro\"]),\n",
        "         color='deeppink', linestyle=':', linewidth=4)\n",
        "\n",
        "plt.plot(fpr[\"macro\"], tpr[\"macro\"],\n",
        "         label='macro-average ROC curve (area = {0:0.2f})'\n",
        "               ''.format(roc_auc[\"macro\"]),\n",
        "         color='navy', linestyle=':', linewidth=4)\n",
        "\n",
        "colors = cycle(['aqua', 'darkorange', 'cornflowerblue', 'green', 'magenta'])\n",
        "for i, color in zip(range(n_classes), colors):\n",
        "    plt.plot(fpr[i], tpr[i], color=color, lw=lw,\n",
        "             label='ROC curve of class {0} (area = {1:0.2f})'\n",
        "             ''.format(i, roc_auc[i]))\n",
        "\n",
        "plt.plot([0, 1], [0, 1], 'k--', lw=lw)\n",
        "plt.xlim([0.0, 1.0])\n",
        "plt.ylim([0.0, 1.05])\n",
        "plt.xlabel('False Positive Rate')\n",
        "plt.ylabel('True Positive Rate')\n",
        "plt.title('ROC Curve')\n",
        "plt.legend(loc=\"upper right\")\n",
        "plt.show()\n",
        "\n",
        "\n",
        "# Zoom in view of the upper left corner.\n",
        "plt.figure(2)\n",
        "plt.xlim(0, 0.3)\n",
        "plt.ylim(0.7, 1)\n",
        "plt.plot(fpr[\"micro\"], tpr[\"micro\"],\n",
        "         label='micro-average ROC curve (area = {0:0.2f})'\n",
        "               ''.format(roc_auc[\"micro\"]),\n",
        "         color='deeppink', linestyle=':', linewidth=4)\n",
        "\n",
        "plt.plot(fpr[\"macro\"], tpr[\"macro\"],\n",
        "         label='macro-average ROC curve (area = {0:0.2f})'\n",
        "               ''.format(roc_auc[\"macro\"]),\n",
        "         color='navy', linestyle=':', linewidth=4)\n",
        "\n",
        "for i, color in zip(range(n_classes), colors):\n",
        "    plt.plot(fpr[i], tpr[i], color=color, lw=lw,\n",
        "             label='ROC curve of class {0} (area = {1:0.2f})'\n",
        "             ''.format(i, roc_auc[i]))\n",
        "\n",
        "plt.plot([0, 1], [0, 1], 'k--', lw=lw)\n",
        "plt.xlabel('False Positive Rate')\n",
        "plt.ylabel('True Positive Rate')\n",
        "plt.title('ROC Curve (Zoomed In)')\n",
        "plt.legend(loc=\"upper right\")\n",
        "plt.show()"
      ],
      "metadata": {
        "id": "g-KF6PwqaBnu",
        "colab": {
          "base_uri": "https://localhost:8080/",
          "height": 573
        },
        "outputId": "3f133667-bb9a-4c7d-fb86-87471d3047eb"
      },
      "execution_count": 977,
      "outputs": [
        {
          "output_type": "display_data",
          "data": {
            "text/plain": [
              "<Figure size 432x288 with 1 Axes>"
            ],
            "image/png": "[encoded data removed]"
          },
          "metadata": {
            "needs_background": "light"
          }
        },
        {
          "output_type": "display_data",
          "data": {
            "text/plain": [
              "<Figure size 432x288 with 1 Axes>"
            ],
            "image/png": "[encoded data removed]"
          },
          "metadata": {
            "needs_background": "light"
          }
        }
      ]
    },
    {
      "cell_type": "markdown",
      "source": [
        "Area Under the ROC Curve"
      ],
      "metadata": {
        "id": "krKHqfgdt0P8"
      }
    },
    {
      "cell_type": "code",
      "source": [
        "roc_auc_score(y_test, y_pred, multi_class = 'ovo')"
      ],
      "metadata": {
        "id": "3tudatkFcZIi",
        "colab": {
          "base_uri": "https://localhost:8080/"
        },
        "outputId": "f7fbce64-0d18-4a23-e610-d405bd056f2e"
      },
      "execution_count": 978,
      "outputs": [
        {
          "output_type": "execute_result",
          "data": {
            "text/plain": [
              "0.8380519965182909"
            ]
          },
          "metadata": {},
          "execution_count": 978
        }
      ]
    }
  ]
}