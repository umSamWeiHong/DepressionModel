{
  "nbformat": 4,
  "nbformat_minor": 0,
  "metadata": {
    "colab": {
      "name": "DepressionIndicator - Arina.ipynb",
      "provenance": [],
      "collapsed_sections": []
    },
    "kernelspec": {
      "name": "python3",
      "display_name": "Python 3"
    },
    "language_info": {
      "name": "python"
    }
  },
  "cells": [
    {
      "cell_type": "markdown",
      "source": [
        "# Logistic Regression\n"
      ],
      "metadata": {
        "id": "57Ni87HAOLMy"
      }
    },
    {
      "cell_type": "markdown",
      "source": [
        "## Import data and libraries"
      ],
      "metadata": {
        "id": "MmicJ_WTirUG"
      }
    },
    {
      "cell_type": "code",
      "source": [
        " from google.colab import drive\n",
        " drive.mount('/content/drive', force_remount=True)"
      ],
      "metadata": {
        "id": "kC0AeXiRzVZ8",
        "colab": {
          "base_uri": "https://localhost:8080/"
        },
        "outputId": "d561ebb0-552c-4d4e-af70-27f0cfddbf22"
      },
      "execution_count": 1,
      "outputs": [
        {
          "output_type": "stream",
          "name": "stdout",
          "text": [
            "Mounted at /content/drive\n"
          ]
        }
      ]
    },
    {
      "cell_type": "code",
      "source": [
        "import tensorflow as tf\n",
        "import numpy as np\n",
        "import pandas as pd\n",
        "import matplotlib.pyplot as plt"
      ],
      "metadata": {
        "id": "Mw7mWXC23I-P"
      },
      "execution_count": 2,
      "outputs": []
    },
    {
      "cell_type": "code",
      "source": [
        "df = pd.read_csv('/content/drive/MyDrive/Machine Learning Group Project/depression.csv')\n",
        "df"
      ],
      "metadata": {
        "colab": {
          "base_uri": "https://localhost:8080/",
          "height": 488
        },
        "id": "e7QBwdb8wqhm",
        "outputId": "9d9de6a9-309e-406e-f499-b4e861502a59"
      },
      "execution_count": 3,
      "outputs": [
        {
          "output_type": "execute_result",
          "data": {
            "text/plain": [
              "     Code  Age_Numerical  Gender  Marital  Marital_problems  Religion_binary  \\\n",
              "0       1             34       0        0                 0                1   \n",
              "1       2             32       1        0                 0                1   \n",
              "2       3             33       0        0                 0                1   \n",
              "3       4             33       1        0                 1                1   \n",
              "4       5             39       1        0                 0                1   \n",
              "..    ...            ...     ...      ...               ...              ...   \n",
              "311   312             23       1        1                 0                0   \n",
              "312   313             36       0        1                 0                0   \n",
              "313   314             33       0        0                 0                0   \n",
              "314   315             25       1        1                 0                1   \n",
              "315   316             23       1        1                 0                1   \n",
              "\n",
              "     Religion_help  Med_or_not  Expenses  Monthly_expenses  ...  \\\n",
              "0                1           1         2                 1  ...   \n",
              "1                1           1         1                 0  ...   \n",
              "2                1           1         1                 0  ...   \n",
              "3                1           1         2                 1  ...   \n",
              "4                1           1         2                 1  ...   \n",
              "..             ...         ...       ...               ...  ...   \n",
              "311              1           1         2                 1  ...   \n",
              "312              0           0         2                 1  ...   \n",
              "313              0           1         2                 1  ...   \n",
              "314              0           1         0                 0  ...   \n",
              "315              1           1         0                 0  ...   \n",
              "\n",
              "     DASS_stress_numerical  MSPSS_family  MSPSS_friends  \\\n",
              "0                        0          27.2           24.0   \n",
              "1                        2          28.0           28.0   \n",
              "2                        0          28.0           28.0   \n",
              "3                       18          25.2           21.2   \n",
              "4                        2          26.0           20.0   \n",
              "..                     ...           ...            ...   \n",
              "311                      8          25.2           25.2   \n",
              "312                      0          23.2           20.0   \n",
              "313                      0          25.2           19.2   \n",
              "314                     26          14.0           13.2   \n",
              "315                      6          16.0           16.0   \n",
              "\n",
              "     MSPSS_significant_others  DASS_depression_binary  \\\n",
              "0                        26.0                       0   \n",
              "1                        28.0                       0   \n",
              "2                        28.0                       0   \n",
              "3                        24.0                       1   \n",
              "4                        28.0                       0   \n",
              "..                        ...                     ...   \n",
              "311                      27.2                       0   \n",
              "312                      24.0                       0   \n",
              "313                      27.2                       0   \n",
              "314                      13.2                       1   \n",
              "315                      17.2                       0   \n",
              "\n",
              "     DASS_depression_severity  DASS_anxiety_binary  DASS_anxiety_severity  \\\n",
              "0                           0                    0                      0   \n",
              "1                           0                    0                      0   \n",
              "2                           0                    0                      0   \n",
              "3                           2                    1                      4   \n",
              "4                           0                    0                      0   \n",
              "..                        ...                  ...                    ...   \n",
              "311                         0                    0                      0   \n",
              "312                         0                    0                      0   \n",
              "313                         0                    0                      0   \n",
              "314                         4                    1                      2   \n",
              "315                         0                    0                      0   \n",
              "\n",
              "     DASS_stress_binary  DASS_stress_severity  \n",
              "0                     0                     0  \n",
              "1                     0                     0  \n",
              "2                     0                     0  \n",
              "3                     1                     1  \n",
              "4                     0                     0  \n",
              "..                  ...                   ...  \n",
              "311                   0                     0  \n",
              "312                   0                     0  \n",
              "313                   0                     0  \n",
              "314                   1                     2  \n",
              "315                   0                     0  \n",
              "\n",
              "[316 rows x 34 columns]"
            ],
            "text/html": [
              "\n",
              "  <div id=\"df-080be8cf-4b3c-4abd-b66d-530ba025caf5\">\n",
              "    <div class=\"colab-df-container\">\n",
              "      <div>\n",
              "<style scoped>\n",
              "    .dataframe tbody tr th:only-of-type {\n",
              "        vertical-align: middle;\n",
              "    }\n",
              "\n",
              "    .dataframe tbody tr th {\n",
              "        vertical-align: top;\n",
              "    }\n",
              "\n",
              "    .dataframe thead th {\n",
              "        text-align: right;\n",
              "    }\n",
              "</style>\n",
              "<table border=\"1\" class=\"dataframe\">\n",
              "  <thead>\n",
              "    <tr style=\"text-align: right;\">\n",
              "      <th></th>\n",
              "      <th>Code</th>\n",
              "      <th>Age_Numerical</th>\n",
              "      <th>Gender</th>\n",
              "      <th>Marital</th>\n",
              "      <th>Marital_problems</th>\n",
              "      <th>Religion_binary</th>\n",
              "      <th>Religion_help</th>\n",
              "      <th>Med_or_not</th>\n",
              "      <th>Expenses</th>\n",
              "      <th>Monthly_expenses</th>\n",
              "      <th>...</th>\n",
              "      <th>DASS_stress_numerical</th>\n",
              "      <th>MSPSS_family</th>\n",
              "      <th>MSPSS_friends</th>\n",
              "      <th>MSPSS_significant_others</th>\n",
              "      <th>DASS_depression_binary</th>\n",
              "      <th>DASS_depression_severity</th>\n",
              "      <th>DASS_anxiety_binary</th>\n",
              "      <th>DASS_anxiety_severity</th>\n",
              "      <th>DASS_stress_binary</th>\n",
              "      <th>DASS_stress_severity</th>\n",
              "    </tr>\n",
              "  </thead>\n",
              "  <tbody>\n",
              "    <tr>\n",
              "      <th>0</th>\n",
              "      <td>1</td>\n",
              "      <td>34</td>\n",
              "      <td>0</td>\n",
              "      <td>0</td>\n",
              "      <td>0</td>\n",
              "      <td>1</td>\n",
              "      <td>1</td>\n",
              "      <td>1</td>\n",
              "      <td>2</td>\n",
              "      <td>1</td>\n",
              "      <td>...</td>\n",
              "      <td>0</td>\n",
              "      <td>27.2</td>\n",
              "      <td>24.0</td>\n",
              "      <td>26.0</td>\n",
              "      <td>0</td>\n",
              "      <td>0</td>\n",
              "      <td>0</td>\n",
              "      <td>0</td>\n",
              "      <td>0</td>\n",
              "      <td>0</td>\n",
              "    </tr>\n",
              "    <tr>\n",
              "      <th>1</th>\n",
              "      <td>2</td>\n",
              "      <td>32</td>\n",
              "      <td>1</td>\n",
              "      <td>0</td>\n",
              "      <td>0</td>\n",
              "      <td>1</td>\n",
              "      <td>1</td>\n",
              "      <td>1</td>\n",
              "      <td>1</td>\n",
              "      <td>0</td>\n",
              "      <td>...</td>\n",
              "      <td>2</td>\n",
              "      <td>28.0</td>\n",
              "      <td>28.0</td>\n",
              "      <td>28.0</td>\n",
              "      <td>0</td>\n",
              "      <td>0</td>\n",
              "      <td>0</td>\n",
              "      <td>0</td>\n",
              "      <td>0</td>\n",
              "      <td>0</td>\n",
              "    </tr>\n",
              "    <tr>\n",
              "      <th>2</th>\n",
              "      <td>3</td>\n",
              "      <td>33</td>\n",
              "      <td>0</td>\n",
              "      <td>0</td>\n",
              "      <td>0</td>\n",
              "      <td>1</td>\n",
              "      <td>1</td>\n",
              "      <td>1</td>\n",
              "      <td>1</td>\n",
              "      <td>0</td>\n",
              "      <td>...</td>\n",
              "      <td>0</td>\n",
              "      <td>28.0</td>\n",
              "      <td>28.0</td>\n",
              "      <td>28.0</td>\n",
              "      <td>0</td>\n",
              "      <td>0</td>\n",
              "      <td>0</td>\n",
              "      <td>0</td>\n",
              "      <td>0</td>\n",
              "      <td>0</td>\n",
              "    </tr>\n",
              "    <tr>\n",
              "      <th>3</th>\n",
              "      <td>4</td>\n",
              "      <td>33</td>\n",
              "      <td>1</td>\n",
              "      <td>0</td>\n",
              "      <td>1</td>\n",
              "      <td>1</td>\n",
              "      <td>1</td>\n",
              "      <td>1</td>\n",
              "      <td>2</td>\n",
              "      <td>1</td>\n",
              "      <td>...</td>\n",
              "      <td>18</td>\n",
              "      <td>25.2</td>\n",
              "      <td>21.2</td>\n",
              "      <td>24.0</td>\n",
              "      <td>1</td>\n",
              "      <td>2</td>\n",
              "      <td>1</td>\n",
              "      <td>4</td>\n",
              "      <td>1</td>\n",
              "      <td>1</td>\n",
              "    </tr>\n",
              "    <tr>\n",
              "      <th>4</th>\n",
              "      <td>5</td>\n",
              "      <td>39</td>\n",
              "      <td>1</td>\n",
              "      <td>0</td>\n",
              "      <td>0</td>\n",
              "      <td>1</td>\n",
              "      <td>1</td>\n",
              "      <td>1</td>\n",
              "      <td>2</td>\n",
              "      <td>1</td>\n",
              "      <td>...</td>\n",
              "      <td>2</td>\n",
              "      <td>26.0</td>\n",
              "      <td>20.0</td>\n",
              "      <td>28.0</td>\n",
              "      <td>0</td>\n",
              "      <td>0</td>\n",
              "      <td>0</td>\n",
              "      <td>0</td>\n",
              "      <td>0</td>\n",
              "      <td>0</td>\n",
              "    </tr>\n",
              "    <tr>\n",
              "      <th>...</th>\n",
              "      <td>...</td>\n",
              "      <td>...</td>\n",
              "      <td>...</td>\n",
              "      <td>...</td>\n",
              "      <td>...</td>\n",
              "      <td>...</td>\n",
              "      <td>...</td>\n",
              "      <td>...</td>\n",
              "      <td>...</td>\n",
              "      <td>...</td>\n",
              "      <td>...</td>\n",
              "      <td>...</td>\n",
              "      <td>...</td>\n",
              "      <td>...</td>\n",
              "      <td>...</td>\n",
              "      <td>...</td>\n",
              "      <td>...</td>\n",
              "      <td>...</td>\n",
              "      <td>...</td>\n",
              "      <td>...</td>\n",
              "      <td>...</td>\n",
              "    </tr>\n",
              "    <tr>\n",
              "      <th>311</th>\n",
              "      <td>312</td>\n",
              "      <td>23</td>\n",
              "      <td>1</td>\n",
              "      <td>1</td>\n",
              "      <td>0</td>\n",
              "      <td>0</td>\n",
              "      <td>1</td>\n",
              "      <td>1</td>\n",
              "      <td>2</td>\n",
              "      <td>1</td>\n",
              "      <td>...</td>\n",
              "      <td>8</td>\n",
              "      <td>25.2</td>\n",
              "      <td>25.2</td>\n",
              "      <td>27.2</td>\n",
              "      <td>0</td>\n",
              "      <td>0</td>\n",
              "      <td>0</td>\n",
              "      <td>0</td>\n",
              "      <td>0</td>\n",
              "      <td>0</td>\n",
              "    </tr>\n",
              "    <tr>\n",
              "      <th>312</th>\n",
              "      <td>313</td>\n",
              "      <td>36</td>\n",
              "      <td>0</td>\n",
              "      <td>1</td>\n",
              "      <td>0</td>\n",
              "      <td>0</td>\n",
              "      <td>0</td>\n",
              "      <td>0</td>\n",
              "      <td>2</td>\n",
              "      <td>1</td>\n",
              "      <td>...</td>\n",
              "      <td>0</td>\n",
              "      <td>23.2</td>\n",
              "      <td>20.0</td>\n",
              "      <td>24.0</td>\n",
              "      <td>0</td>\n",
              "      <td>0</td>\n",
              "      <td>0</td>\n",
              "      <td>0</td>\n",
              "      <td>0</td>\n",
              "      <td>0</td>\n",
              "    </tr>\n",
              "    <tr>\n",
              "      <th>313</th>\n",
              "      <td>314</td>\n",
              "      <td>33</td>\n",
              "      <td>0</td>\n",
              "      <td>0</td>\n",
              "      <td>0</td>\n",
              "      <td>0</td>\n",
              "      <td>0</td>\n",
              "      <td>1</td>\n",
              "      <td>2</td>\n",
              "      <td>1</td>\n",
              "      <td>...</td>\n",
              "      <td>0</td>\n",
              "      <td>25.2</td>\n",
              "      <td>19.2</td>\n",
              "      <td>27.2</td>\n",
              "      <td>0</td>\n",
              "      <td>0</td>\n",
              "      <td>0</td>\n",
              "      <td>0</td>\n",
              "      <td>0</td>\n",
              "      <td>0</td>\n",
              "    </tr>\n",
              "    <tr>\n",
              "      <th>314</th>\n",
              "      <td>315</td>\n",
              "      <td>25</td>\n",
              "      <td>1</td>\n",
              "      <td>1</td>\n",
              "      <td>0</td>\n",
              "      <td>1</td>\n",
              "      <td>0</td>\n",
              "      <td>1</td>\n",
              "      <td>0</td>\n",
              "      <td>0</td>\n",
              "      <td>...</td>\n",
              "      <td>26</td>\n",
              "      <td>14.0</td>\n",
              "      <td>13.2</td>\n",
              "      <td>13.2</td>\n",
              "      <td>1</td>\n",
              "      <td>4</td>\n",
              "      <td>1</td>\n",
              "      <td>2</td>\n",
              "      <td>1</td>\n",
              "      <td>2</td>\n",
              "    </tr>\n",
              "    <tr>\n",
              "      <th>315</th>\n",
              "      <td>316</td>\n",
              "      <td>23</td>\n",
              "      <td>1</td>\n",
              "      <td>1</td>\n",
              "      <td>0</td>\n",
              "      <td>1</td>\n",
              "      <td>1</td>\n",
              "      <td>1</td>\n",
              "      <td>0</td>\n",
              "      <td>0</td>\n",
              "      <td>...</td>\n",
              "      <td>6</td>\n",
              "      <td>16.0</td>\n",
              "      <td>16.0</td>\n",
              "      <td>17.2</td>\n",
              "      <td>0</td>\n",
              "      <td>0</td>\n",
              "      <td>0</td>\n",
              "      <td>0</td>\n",
              "      <td>0</td>\n",
              "      <td>0</td>\n",
              "    </tr>\n",
              "  </tbody>\n",
              "</table>\n",
              "<p>316 rows × 34 columns</p>\n",
              "</div>\n",
              "      <button class=\"colab-df-convert\" onclick=\"convertToInteractive('df-080be8cf-4b3c-4abd-b66d-530ba025caf5')\"\n",
              "              title=\"Convert this dataframe to an interactive table.\"\n",
              "              style=\"display:none;\">\n",
              "        \n",
              "  <svg xmlns=\"http://www.w3.org/2000/svg\" height=\"24px\"viewBox=\"0 0 24 24\"\n",
              "       width=\"24px\">\n",
              "    <path d=\"M0 0h24v24H0V0z\" fill=\"none\"/>\n",
              "    <path d=\"M18.56 5.44l.94 2.06.94-2.06 2.06-.94-2.06-.94-.94-2.06-.94 2.06-2.06.94zm-11 1L8.5 8.5l.94-2.06 2.06-.94-2.06-.94L8.5 2.5l-.94 2.06-2.06.94zm10 10l.94 2.06.94-2.06 2.06-.94-2.06-.94-.94-2.06-.94 2.06-2.06.94z\"/><path d=\"M17.41 7.96l-1.37-1.37c-.4-.4-.92-.59-1.43-.59-.52 0-1.04.2-1.43.59L10.3 9.45l-7.72 7.72c-.78.78-.78 2.05 0 2.83L4 21.41c.39.39.9.59 1.41.59.51 0 1.02-.2 1.41-.59l7.78-7.78 2.81-2.81c.8-.78.8-2.07 0-2.86zM5.41 20L4 18.59l7.72-7.72 1.47 1.35L5.41 20z\"/>\n",
              "  </svg>\n",
              "      </button>\n",
              "      \n",
              "  <style>\n",
              "    .colab-df-container {\n",
              "      display:flex;\n",
              "      flex-wrap:wrap;\n",
              "      gap: 12px;\n",
              "    }\n",
              "\n",
              "    .colab-df-convert {\n",
              "      background-color: #E8F0FE;\n",
              "      border: none;\n",
              "      border-radius: 50%;\n",
              "      cursor: pointer;\n",
              "      display: none;\n",
              "      fill: #1967D2;\n",
              "      height: 32px;\n",
              "      padding: 0 0 0 0;\n",
              "      width: 32px;\n",
              "    }\n",
              "\n",
              "    .colab-df-convert:hover {\n",
              "      background-color: #E2EBFA;\n",
              "      box-shadow: 0px 1px 2px rgba(60, 64, 67, 0.3), 0px 1px 3px 1px rgba(60, 64, 67, 0.15);\n",
              "      fill: #174EA6;\n",
              "    }\n",
              "\n",
              "    [theme=dark] .colab-df-convert {\n",
              "      background-color: #3B4455;\n",
              "      fill: #D2E3FC;\n",
              "    }\n",
              "\n",
              "    [theme=dark] .colab-df-convert:hover {\n",
              "      background-color: #434B5C;\n",
              "      box-shadow: 0px 1px 3px 1px rgba(0, 0, 0, 0.15);\n",
              "      filter: drop-shadow(0px 1px 2px rgba(0, 0, 0, 0.3));\n",
              "      fill: #FFFFFF;\n",
              "    }\n",
              "  </style>\n",
              "\n",
              "      <script>\n",
              "        const buttonEl =\n",
              "          document.querySelector('#df-080be8cf-4b3c-4abd-b66d-530ba025caf5 button.colab-df-convert');\n",
              "        buttonEl.style.display =\n",
              "          google.colab.kernel.accessAllowed ? 'block' : 'none';\n",
              "\n",
              "        async function convertToInteractive(key) {\n",
              "          const element = document.querySelector('#df-080be8cf-4b3c-4abd-b66d-530ba025caf5');\n",
              "          const dataTable =\n",
              "            await google.colab.kernel.invokeFunction('convertToInteractive',\n",
              "                                                     [key], {});\n",
              "          if (!dataTable) return;\n",
              "\n",
              "          const docLinkHtml = 'Like what you see? Visit the ' +\n",
              "            '<a target=\"_blank\" href=https://colab.research.google.com/notebooks/data_table.ipynb>data table notebook</a>'\n",
              "            + ' to learn more about interactive tables.';\n",
              "          element.innerHTML = '';\n",
              "          dataTable['output_type'] = 'display_data';\n",
              "          await google.colab.output.renderOutput(dataTable, element);\n",
              "          const docLink = document.createElement('div');\n",
              "          docLink.innerHTML = docLinkHtml;\n",
              "          element.appendChild(docLink);\n",
              "        }\n",
              "      </script>\n",
              "    </div>\n",
              "  </div>\n",
              "  "
            ]
          },
          "metadata": {},
          "execution_count": 3
        }
      ]
    },
    {
      "cell_type": "markdown",
      "source": [
        "## Data preprocessing"
      ],
      "metadata": {
        "id": "A7vhOGrPkGFr"
      }
    },
    {
      "cell_type": "markdown",
      "source": [
        "### Extract input and output features"
      ],
      "metadata": {
        "id": "iDBDmIZVkrgB"
      }
    },
    {
      "cell_type": "code",
      "source": [
        "from collections import Counter\n",
        "X = df\n",
        "y = df['DASS_depression_severity']\n",
        "X = X.drop(columns='DASS_depression_severity')"
      ],
      "metadata": {
        "id": "OTDQbD0TkuwV"
      },
      "execution_count": 4,
      "outputs": []
    },
    {
      "cell_type": "markdown",
      "source": [
        "### Oversampling and undersampling due to uneven distrubtion"
      ],
      "metadata": {
        "id": "i7-nlATMkxDI"
      }
    },
    {
      "cell_type": "code",
      "source": [
        "print(f\"Initial: {Counter(y)}\")"
      ],
      "metadata": {
        "colab": {
          "base_uri": "https://localhost:8080/"
        },
        "id": "7ljWsx_ckwc1",
        "outputId": "7be644b8-e33e-4e6e-ddbd-3bf52ed6ba42"
      },
      "execution_count": 5,
      "outputs": [
        {
          "output_type": "stream",
          "name": "stdout",
          "text": [
            "Initial: Counter({0: 201, 1: 49, 2: 37, 3: 16, 4: 13})\n"
          ]
        }
      ]
    },
    {
      "cell_type": "code",
      "source": [
        "from imblearn.over_sampling import RandomOverSampler\n",
        "over = RandomOverSampler(sampling_strategy={0: 201, 1: 150, 2: 120, 3: 50, 4: 50})\n",
        "X, y = over.fit_resample(X, y)\n",
        "print(f\"Oversampled: {Counter(y)}\")"
      ],
      "metadata": {
        "colab": {
          "base_uri": "https://localhost:8080/"
        },
        "id": "HgZ5i3Xck55Q",
        "outputId": "2dabde50-bf5f-4b5a-903b-7db5f70da2c2"
      },
      "execution_count": 6,
      "outputs": [
        {
          "output_type": "stream",
          "name": "stdout",
          "text": [
            "Oversampled: Counter({0: 201, 1: 150, 2: 120, 3: 50, 4: 50})\n"
          ]
        }
      ]
    },
    {
      "cell_type": "markdown",
      "source": [
        "### Removing unrelated and inferred features"
      ],
      "metadata": {
        "id": "Ep3Z1onUk-2Y"
      }
    },
    {
      "cell_type": "code",
      "source": [
        "print(X.columns)\n",
        "X.drop(columns=['Code','Residence_high_COVID1','Living_with','Monthly_expenses',\n",
        "                 'DASS_depression_numerical','DASS_anxiety_numerical','DASS_stress_numerical',\n",
        "                 'DASS_depression_binary','DASS_anxiety_binary','DASS_anxiety_severity','DASS_stress_binary','DASS_stress_severity'\n",
        "                 ],\n",
        "        inplace=True, axis=1)\n",
        "print(X.columns)"
      ],
      "metadata": {
        "colab": {
          "base_uri": "https://localhost:8080/"
        },
        "id": "G-dwe8FslDRF",
        "outputId": "70b97f46-397a-4f2a-a559-1e4d19d00453"
      },
      "execution_count": 7,
      "outputs": [
        {
          "output_type": "stream",
          "name": "stdout",
          "text": [
            "Index(['Code', 'Age_Numerical', 'Gender', 'Marital', 'Marital_problems',\n",
            "       'Religion_binary', 'Religion_help', 'Med_or_not', 'Expenses',\n",
            "       'Monthly_expenses', 'Living_with1', 'Living_with', 'Worry_family',\n",
            "       'Routine_loss', 'Class_hours', 'Stress_class_disrupted',\n",
            "       'Medical_illness', 'Mental_illness', 'COVID_symptoms',\n",
            "       'Residence_high_COVID1', 'Residence_high_COVID', 'Quarantine',\n",
            "       'DASS_depression_numerical', 'DASS_anxiety_numerical',\n",
            "       'DASS_stress_numerical', 'MSPSS_family', 'MSPSS_friends',\n",
            "       'MSPSS_significant_others', 'DASS_depression_binary',\n",
            "       'DASS_anxiety_binary', 'DASS_anxiety_severity', 'DASS_stress_binary',\n",
            "       'DASS_stress_severity'],\n",
            "      dtype='object')\n",
            "Index(['Age_Numerical', 'Gender', 'Marital', 'Marital_problems',\n",
            "       'Religion_binary', 'Religion_help', 'Med_or_not', 'Expenses',\n",
            "       'Living_with1', 'Worry_family', 'Routine_loss', 'Class_hours',\n",
            "       'Stress_class_disrupted', 'Medical_illness', 'Mental_illness',\n",
            "       'COVID_symptoms', 'Residence_high_COVID', 'Quarantine', 'MSPSS_family',\n",
            "       'MSPSS_friends', 'MSPSS_significant_others'],\n",
            "      dtype='object')\n"
          ]
        }
      ]
    },
    {
      "cell_type": "markdown",
      "source": [
        "### Feature selection"
      ],
      "metadata": {
        "id": "fENmYQGCS61g"
      }
    },
    {
      "cell_type": "code",
      "source": [
        "X.drop(columns=['Age_Numerical','Class_hours',\n",
        "                'Gender','Med_or_not','Religion_binary',\n",
        "                'Worry_family'],\n",
        "        inplace=True, axis=1)\n",
        "print(X.columns)"
      ],
      "metadata": {
        "colab": {
          "base_uri": "https://localhost:8080/"
        },
        "id": "g6Y3d4QBS9XA",
        "outputId": "214c75d1-02ab-4a02-a076-4af9a0ec4cb6"
      },
      "execution_count": 8,
      "outputs": [
        {
          "output_type": "stream",
          "name": "stdout",
          "text": [
            "Index(['Marital', 'Marital_problems', 'Religion_help', 'Expenses',\n",
            "       'Living_with1', 'Routine_loss', 'Stress_class_disrupted',\n",
            "       'Medical_illness', 'Mental_illness', 'COVID_symptoms',\n",
            "       'Residence_high_COVID', 'Quarantine', 'MSPSS_family', 'MSPSS_friends',\n",
            "       'MSPSS_significant_others'],\n",
            "      dtype='object')\n"
          ]
        }
      ]
    },
    {
      "cell_type": "markdown",
      "source": [
        "### Split into the training and test set"
      ],
      "metadata": {
        "id": "ZGIckyqilGP5"
      }
    },
    {
      "cell_type": "code",
      "source": [
        "from sklearn.model_selection import train_test_split\n",
        "\n",
        "X_train, X_test, y_train, y_test = train_test_split(X, y, test_size=0.3)\n",
        "print(X_train.shape, y_train.shape)\n",
        "print(X_test.shape, y_test.shape)"
      ],
      "metadata": {
        "colab": {
          "base_uri": "https://localhost:8080/"
        },
        "id": "Pcra7E33lJwm",
        "outputId": "26d45608-6179-43c6-8d42-f5eec3896eb6"
      },
      "execution_count": 9,
      "outputs": [
        {
          "output_type": "stream",
          "name": "stdout",
          "text": [
            "(399, 15) (399,)\n",
            "(172, 15) (172,)\n"
          ]
        }
      ]
    },
    {
      "cell_type": "markdown",
      "source": [
        "### Feature normalisation"
      ],
      "metadata": {
        "id": "Ygb3HTy3i64z"
      }
    },
    {
      "cell_type": "code",
      "source": [
        "from sklearn.preprocessing import StandardScaler\n",
        "from sklearn.compose import ColumnTransformer\n",
        "\n",
        "def featureNormalisation():\n",
        "  numeric_data = ['MSPSS_family', 'MSPSS_friends', 'MSPSS_significant_others']\n",
        "\n",
        "  ct = ColumnTransformer([('scaler', StandardScaler(), numeric_data)], remainder='passthrough')\n",
        "\n",
        "  X_train_scaled = ct.fit_transform(X_train)\n",
        "  # print(pd.DataFrame(X_train_scaled, columns = ct.get_feature_names_out()))\n",
        "  # the test set uses the fitted scaler in train dataset to transform in the test set\n",
        "  X_test_scaled = ct.transform(X_test)\n",
        "  return X_train_scaled, X_test_scaled, ct\n",
        "\n",
        "X_train_scaled, X_test_scaled, ct = featureNormalisation()\n",
        "features = ct.get_feature_names_out()"
      ],
      "metadata": {
        "id": "XrZOS4NIiuqI"
      },
      "execution_count": 10,
      "outputs": []
    },
    {
      "cell_type": "markdown",
      "source": [
        "## Training model"
      ],
      "metadata": {
        "id": "hW5w-VP6lley"
      }
    },
    {
      "cell_type": "markdown",
      "source": [
        "#### Evaluate model (Tuning Hyperparameter)"
      ],
      "metadata": {
        "id": "-gOOywRxlouy"
      }
    },
    {
      "cell_type": "code",
      "source": [
        "from numpy import mean\n",
        "from numpy import std\n",
        "from sklearn.linear_model import LogisticRegression\n",
        "from sklearn.model_selection import RepeatedStratifiedKFold\n",
        "from sklearn.model_selection import cross_val_score\n",
        "\n",
        "def get_models():\n",
        "\tmodels = dict()\n",
        "\tfor p in [0.0, 0.0001, 0.001, 0.01, 0.1, 1.0]:\n",
        "\t\t# create name for model\n",
        "\t\tkey = '%.4f' % p\n",
        "\t\t# turn off penalty in some cases\n",
        "\t\tif p == 0.0:\n",
        "\t\t\t# no penalty in this case\n",
        "\t\t\tmodels[key] = LogisticRegression(multi_class='multinomial', solver='saga', max_iter= 1500, penalty='none')\n",
        "\t\telse:\n",
        "\t\t\tmodels[key] = LogisticRegression(multi_class='multinomial', solver='saga', max_iter= 1500, penalty='l2', C=p)\n",
        "\treturn models\n",
        " \n",
        "# evaluate a give model using cross-validation\n",
        "def evaluate_model(model, X, y):\n",
        "\t# define the evaluation procedure\n",
        "\tcv = RepeatedStratifiedKFold(n_splits=10, n_repeats=3, random_state=1)\n",
        "\t# evaluate the model\n",
        "\tscores = cross_val_score(model, X, y, scoring='accuracy', cv=cv, n_jobs=-1)\n",
        "\treturn scores\n",
        " \n",
        "# get the models to evaluate\n",
        "models = get_models()\n",
        "# evaluate the models and store results\n",
        "results, names = list(), list()\n",
        "for name, model in models.items():\n",
        "\t# evaluate the model and collect the scores\n",
        "\tscores = evaluate_model(model, X_train_scaled, y_train)\n",
        "\t# store the results\n",
        "\tresults.append(scores)\n",
        "\tnames.append(name)\n",
        "\t# summarize progress along the way\n",
        "\tprint('>%s %.3f (%.3f)' % (name, mean(scores), std(scores)))  "
      ],
      "metadata": {
        "colab": {
          "base_uri": "https://localhost:8080/"
        },
        "id": "I4M6vcp6loAn",
        "outputId": "82575bdd-e299-48db-95a0-5107e41370d2"
      },
      "execution_count": 11,
      "outputs": [
        {
          "output_type": "stream",
          "name": "stdout",
          "text": [
            ">0.0000 0.530 (0.076)\n",
            ">0.0001 0.356 (0.010)\n",
            ">0.0010 0.356 (0.010)\n",
            ">0.0100 0.423 (0.040)\n",
            ">0.1000 0.511 (0.075)\n",
            ">1.0000 0.530 (0.074)\n"
          ]
        }
      ]
    },
    {
      "cell_type": "markdown",
      "source": [
        "#### Define model"
      ],
      "metadata": {
        "id": "qKQz3L5LWWD5"
      }
    },
    {
      "cell_type": "code",
      "source": [
        "model = LogisticRegression(multi_class='multinomial', solver='saga', max_iter= 1500, penalty='l2', C=1.0)\n",
        "model.fit(X_train_scaled, y_train)\n",
        "y_pred = model.predict(X_test_scaled)\n",
        "print(y_pred)"
      ],
      "metadata": {
        "colab": {
          "base_uri": "https://localhost:8080/"
        },
        "id": "lgA9-9nSPUbc",
        "outputId": "f4356b3a-70a5-42b9-a932-d2bd095cd986"
      },
      "execution_count": 12,
      "outputs": [
        {
          "output_type": "stream",
          "name": "stdout",
          "text": [
            "[4 2 1 0 0 0 0 2 0 1 1 2 2 4 1 0 1 4 0 1 1 1 4 1 4 1 4 0 0 0 0 2 0 1 2 1 2\n",
            " 0 2 1 1 0 3 0 4 1 4 0 2 4 0 2 0 2 0 3 1 2 1 0 0 2 0 0 2 4 2 0 3 1 0 0 2 0\n",
            " 2 3 0 2 0 0 0 0 4 3 2 2 2 0 2 0 0 4 2 2 3 0 0 2 0 0 3 2 4 1 0 0 2 0 2 3 4\n",
            " 0 3 0 0 0 0 0 1 0 2 2 4 1 1 0 0 2 0 2 0 0 0 1 0 1 2 0 2 1 4 0 2 0 0 1 1 3\n",
            " 3 2 0 1 0 0 1 0 4 0 1 0 1 3 1 0 0 4 0 0 0 0 0 0]\n"
          ]
        }
      ]
    },
    {
      "cell_type": "markdown",
      "source": [
        "### Performance metrics"
      ],
      "metadata": {
        "id": "Ed3Gy_l8Wadl"
      }
    },
    {
      "cell_type": "markdown",
      "source": [
        "#### Classification report"
      ],
      "metadata": {
        "id": "BZd89IqaXCOS"
      }
    },
    {
      "cell_type": "code",
      "source": [
        "from sklearn.metrics import classification_report, confusion_matrix, roc_auc_score, ConfusionMatrixDisplay\n",
        "\n",
        "print(classification_report(y_test, y_pred))"
      ],
      "metadata": {
        "colab": {
          "base_uri": "https://localhost:8080/"
        },
        "id": "7RVzZtRnRjn1",
        "outputId": "d9a6b8b6-4e4e-4cbc-df60-dac54b7aa0b7"
      },
      "execution_count": 13,
      "outputs": [
        {
          "output_type": "stream",
          "name": "stdout",
          "text": [
            "              precision    recall  f1-score   support\n",
            "\n",
            "           0       0.53      0.66      0.59        59\n",
            "           1       0.41      0.33      0.36        40\n",
            "           2       0.44      0.37      0.41        43\n",
            "           3       0.50      0.46      0.48        13\n",
            "           4       0.72      0.76      0.74        17\n",
            "\n",
            "    accuracy                           0.51       172\n",
            "   macro avg       0.52      0.52      0.52       172\n",
            "weighted avg       0.50      0.51      0.50       172\n",
            "\n"
          ]
        }
      ]
    },
    {
      "cell_type": "markdown",
      "source": [
        "#### Confusion matrix"
      ],
      "metadata": {
        "id": "rSMbPYO7XIFI"
      }
    },
    {
      "cell_type": "code",
      "source": [
        "cm = confusion_matrix(y_test, y_pred)\n",
        "cm"
      ],
      "metadata": {
        "colab": {
          "base_uri": "https://localhost:8080/"
        },
        "id": "d2pRgDW4XOTR",
        "outputId": "f17ca998-5a47-4fa0-ed6c-533ee814517c"
      },
      "execution_count": 14,
      "outputs": [
        {
          "output_type": "execute_result",
          "data": {
            "text/plain": [
              "array([[39,  7,  9,  4,  0],\n",
              "       [20, 13,  7,  0,  0],\n",
              "       [15,  9, 16,  1,  2],\n",
              "       [ 0,  3,  1,  6,  3],\n",
              "       [ 0,  0,  3,  1, 13]])"
            ]
          },
          "metadata": {},
          "execution_count": 14
        }
      ]
    },
    {
      "cell_type": "code",
      "source": [
        "disp = ConfusionMatrixDisplay(confusion_matrix=cm, display_labels=[0, 1, 2, 3, 4])\n",
        "disp.plot()\n",
        "plt.show()"
      ],
      "metadata": {
        "colab": {
          "base_uri": "https://localhost:8080/",
          "height": 279
        },
        "id": "Hjg35trMXZrH",
        "outputId": "1ec1e013-5838-495b-9c31-51a934f30db2"
      },
      "execution_count": 15,
      "outputs": [
        {
          "output_type": "display_data",
          "data": {
            "text/plain": [
              "<Figure size 432x288 with 2 Axes>"
            ],
            "image/png": "[encoded data removed]"
          },
          "metadata": {
            "needs_background": "light"
          }
        }
      ]
    },
    {
      "cell_type": "markdown",
      "source": [
        "#### ROC curve"
      ],
      "metadata": {
        "id": "kL3o_17SXd_-"
      }
    },
    {
      "cell_type": "markdown",
      "source": [
        "Area under ROC Curve"
      ],
      "metadata": {
        "id": "3KZrUEloXpvb"
      }
    },
    {
      "cell_type": "code",
      "source": [
        "roc_auc_score(y_test, model.predict_proba(X_test_scaled), multi_class = 'ovo')"
      ],
      "metadata": {
        "colab": {
          "base_uri": "https://localhost:8080/"
        },
        "id": "diwRlZukXoIb",
        "outputId": "5c6237db-c15f-46af-f7ca-a85ab09da7db"
      },
      "execution_count": 16,
      "outputs": [
        {
          "output_type": "execute_result",
          "data": {
            "text/plain": [
              "0.8316252762285595"
            ]
          },
          "metadata": {},
          "execution_count": 16
        }
      ]
    },
    {
      "cell_type": "markdown",
      "source": [
        "One hot encoder for ROC curve purpose"
      ],
      "metadata": {
        "id": "brFFKDjZn7QV"
      }
    },
    {
      "cell_type": "code",
      "source": [
        "from sklearn.preprocessing import OneHotEncoder\n",
        "\n",
        "ohe = OneHotEncoder(sparse=False)\n",
        "y_test = ohe.fit_transform(y_test.values.reshape(-1,1))\n",
        "y_pred = ohe.fit_transform(y_pred.reshape(-1,1))"
      ],
      "metadata": {
        "id": "IbJlfPyOlzs_"
      },
      "execution_count": 17,
      "outputs": []
    },
    {
      "cell_type": "markdown",
      "source": [
        "Plot of ROC curve"
      ],
      "metadata": {
        "id": "P5VqGXjdbcoZ"
      }
    },
    {
      "cell_type": "code",
      "source": [
        "from sklearn.metrics import roc_curve\n",
        "from sklearn.metrics import roc_auc_score\n",
        "from sklearn.metrics import auc\n",
        "from sklearn.metrics import RocCurveDisplay\n",
        "from numpy import interp\n",
        "from itertools import cycle\n",
        "\n",
        "n_classes = 5\n",
        "\n",
        "# Plot linewidth.\n",
        "lw = 3\n",
        "\n",
        "# Compute ROC curve and ROC area for each class\n",
        "fpr = dict()\n",
        "tpr = dict()\n",
        "roc_auc = dict()\n",
        "for i in range(n_classes):\n",
        "    fpr[i], tpr[i], _ = roc_curve(y_test[:, i], y_pred[:, i])\n",
        "    roc_auc[i] = auc(fpr[i], tpr[i])\n",
        "\n",
        "# Compute micro-average ROC curve and ROC area\n",
        "fpr[\"micro\"], tpr[\"micro\"], _ = roc_curve(y_test.ravel(), y_pred.ravel())\n",
        "roc_auc[\"micro\"] = auc(fpr[\"micro\"], tpr[\"micro\"])\n",
        "\n",
        "# Compute macro-average ROC curve and ROC area\n",
        "\n",
        "# First aggregate all false positive rates\n",
        "all_fpr = np.unique(np.concatenate([fpr[i] for i in range(n_classes)]))\n",
        "\n",
        "# Then interpolate all ROC curves at this points\n",
        "mean_tpr = np.zeros_like(all_fpr)\n",
        "for i in range(n_classes):\n",
        "    mean_tpr += interp(all_fpr, fpr[i], tpr[i])\n",
        "\n",
        "# Finally average it and compute AUC\n",
        "mean_tpr /= n_classes\n",
        "\n",
        "fpr[\"macro\"] = all_fpr\n",
        "tpr[\"macro\"] = mean_tpr\n",
        "roc_auc[\"macro\"] = auc(fpr[\"macro\"], tpr[\"macro\"])\n",
        "\n",
        "# Plot all ROC curves\n",
        "plt.figure(1)\n",
        "plt.plot(fpr[\"micro\"], tpr[\"micro\"],\n",
        "         label='micro-average ROC curve (area = {0:0.2f})'\n",
        "               ''.format(roc_auc[\"micro\"]),\n",
        "         color='deeppink', linestyle=':', linewidth=4)\n",
        "\n",
        "plt.plot(fpr[\"macro\"], tpr[\"macro\"],\n",
        "         label='macro-average ROC curve (area = {0:0.2f})'\n",
        "               ''.format(roc_auc[\"macro\"]),\n",
        "         color='navy', linestyle=':', linewidth=4)\n",
        "\n",
        "colors = cycle(['aqua', 'darkorange', 'cornflowerblue', 'green', 'magenta'])\n",
        "for i, color in zip(range(n_classes), colors):\n",
        "    plt.plot(fpr[i], tpr[i], color=color, lw=lw,\n",
        "             label='ROC curve of class {0} (area = {1:0.2f})'\n",
        "             ''.format(i, roc_auc[i]))\n",
        "\n",
        "plt.plot([0, 1], [0, 1], 'k--', lw=lw)\n",
        "plt.xlim([0.0, 1.0])\n",
        "plt.ylim([0.0, 1.05])\n",
        "plt.xlabel('False Positive Rate')\n",
        "plt.ylabel('True Positive Rate')\n",
        "plt.title('ROC Curve')\n",
        "plt.legend(loc=\"upper right\")\n",
        "plt.show()\n",
        "\n",
        "\n",
        "# Zoom in view of the upper left corner.\n",
        "plt.figure(2)\n",
        "plt.xlim(0, 0.2)\n",
        "plt.ylim(0.8, 1)\n",
        "plt.plot(fpr[\"micro\"], tpr[\"micro\"],\n",
        "         label='micro-average ROC curve (area = {0:0.2f})'\n",
        "               ''.format(roc_auc[\"micro\"]),\n",
        "         color='deeppink', linestyle=':', linewidth=4)\n",
        "\n",
        "plt.plot(fpr[\"macro\"], tpr[\"macro\"],\n",
        "         label='macro-average ROC curve (area = {0:0.2f})'\n",
        "               ''.format(roc_auc[\"macro\"]),\n",
        "         color='navy', linestyle=':', linewidth=4)\n",
        "\n",
        "for i, color in zip(range(n_classes), colors):\n",
        "    plt.plot(fpr[i], tpr[i], color=color, lw=lw,\n",
        "             label='ROC curve of class {0} (area = {1:0.2f})'\n",
        "             ''.format(i, roc_auc[i]))\n",
        "\n",
        "plt.plot([0, 1], [0, 1], 'k--', lw=lw)\n",
        "plt.xlabel('False Positive Rate')\n",
        "plt.ylabel('True Positive Rate')\n",
        "plt.title('ROC Curve (Zoomed In)')\n",
        "plt.legend(loc=\"upper right\")\n",
        "plt.show()"
      ],
      "metadata": {
        "colab": {
          "base_uri": "https://localhost:8080/",
          "height": 573
        },
        "id": "MqaAZnyjbekL",
        "outputId": "9bdd4177-f9bd-44ab-d730-ecfec1ecdaa9"
      },
      "execution_count": 18,
      "outputs": [
        {
          "output_type": "display_data",
          "data": {
            "text/plain": [
              "<Figure size 432x288 with 1 Axes>"
            ],
            "image/png": "[encoded data removed]"
          },
          "metadata": {
            "needs_background": "light"
          }
        },
        {
          "output_type": "display_data",
          "data": {
            "text/plain": [
              "<Figure size 432x288 with 1 Axes>"
            ],
            "image/png": "[encoded data removed]"
          },
          "metadata": {
            "needs_background": "light"
          }
        }
      ]
    }
  ]
}