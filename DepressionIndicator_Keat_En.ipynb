{
  "nbformat": 4,
  "nbformat_minor": 0,
  "metadata": {
    "colab": {
      "name": "DepressionIndicator - Keat En.ipynb",
      "provenance": [],
      "collapsed_sections": []
    },
    "kernelspec": {
      "name": "python3",
      "display_name": "Python 3"
    },
    "language_info": {
      "name": "python"
    }
  },
  "cells": [
    {
      "cell_type": "markdown",
      "source": [
        "# k-nearest neighbors\n"
      ],
      "metadata": {
        "id": "57Ni87HAOLMy"
      }
    },
    {
      "cell_type": "markdown",
      "metadata": {
        "id": "HQhqWNQQ_Yee"
      },
      "source": [
        "## Import data and libraries"
      ]
    },
    {
      "cell_type": "code",
      "source": [
        "from google.colab import drive\n",
        "drive.mount('/content/drive')"
      ],
      "metadata": {
        "id": "kC0AeXiRzVZ8",
        "colab": {
          "base_uri": "https://localhost:8080/"
        },
        "outputId": "04eaf28c-694f-4282-df32-39441200ca0b"
      },
      "execution_count": null,
      "outputs": [
        {
          "output_type": "stream",
          "name": "stdout",
          "text": [
            "Drive already mounted at /content/drive; to attempt to forcibly remount, call drive.mount(\"/content/drive\", force_remount=True).\n"
          ]
        }
      ]
    },
    {
      "cell_type": "code",
      "source": [
        "import tensorflow as tf\n",
        "import numpy as np\n",
        "import pandas as pd\n",
        "import matplotlib.pyplot as plt"
      ],
      "metadata": {
        "id": "Mw7mWXC23I-P"
      },
      "execution_count": null,
      "outputs": []
    },
    {
      "cell_type": "code",
      "source": [
        "df = pd.read_csv('/content/drive/MyDrive/Machine Learning Group Project/depression.csv')\n",
        "df"
      ],
      "metadata": {
        "id": "e7QBwdb8wqhm"
      },
      "execution_count": null,
      "outputs": []
    },
    {
      "cell_type": "markdown",
      "metadata": {
        "id": "uV_hCM1xBtPK"
      },
      "source": [
        "## Data preprocessing"
      ]
    },
    {
      "cell_type": "markdown",
      "metadata": {
        "id": "CQqZTd-d_u4u"
      },
      "source": [
        "### Extract input and output features"
      ]
    },
    {
      "cell_type": "code",
      "source": [
        "from collections import Counter\n",
        "X = df\n",
        "y = df['DASS_depression_severity']\n",
        "\n",
        "X = X.drop(columns='DASS_depression_severity')"
      ],
      "metadata": {
        "id": "DEBwOJc-QtBE"
      },
      "execution_count": null,
      "outputs": []
    },
    {
      "cell_type": "markdown",
      "metadata": {
        "id": "C2yULzd0AG3H"
      },
      "source": [
        "### Oversampling"
      ]
    },
    {
      "cell_type": "code",
      "execution_count": null,
      "metadata": {
        "colab": {
          "base_uri": "https://localhost:8080/"
        },
        "id": "WpkTWsSpAQKA",
        "outputId": "b255a5bd-dcb4-4888-df42-d6278b2b58b7"
      },
      "outputs": [
        {
          "output_type": "stream",
          "name": "stdout",
          "text": [
            "Initial: Counter({0: 201, 1: 49, 2: 37, 3: 16, 4: 13})\n"
          ]
        }
      ],
      "source": [
        "print(f\"Initial: {Counter(y)}\")"
      ]
    },
    {
      "cell_type": "code",
      "source": [
        "from imblearn.over_sampling import RandomOverSampler\n",
        "over = RandomOverSampler(sampling_strategy={0: 201, 1: 150, 2: 120, 3: 50, 4: 50})\n",
        "X, y = over.fit_resample(X, y)\n",
        "print(f\"Oversampled: {Counter(y)}\")"
      ],
      "metadata": {
        "colab": {
          "base_uri": "https://localhost:8080/"
        },
        "id": "kSjx1KlEQyvd",
        "outputId": "9abafd33-1af0-42ea-fa1f-f5379490cf69"
      },
      "execution_count": null,
      "outputs": [
        {
          "output_type": "stream",
          "name": "stdout",
          "text": [
            "Oversampled: Counter({0: 201, 1: 150, 2: 120, 3: 50, 4: 50})\n"
          ]
        }
      ]
    },
    {
      "cell_type": "markdown",
      "metadata": {
        "id": "5GuktUMVpDav"
      },
      "source": [
        "### One hot encoding for categorical data"
      ]
    },
    {
      "cell_type": "code",
      "source": [
        "from sklearn.preprocessing import OneHotEncoder\n",
        "\n",
        "ohe = OneHotEncoder(sparse=False)\n",
        "X[['Alone','Friends/Coursemates','Family']] = ohe.fit_transform(X['Living_with1'].values.reshape(-1,1))\n",
        "X[['< RM1000','RM1000 - 3000','> RM3000']] = ohe.fit_transform(X['Expenses'].values.reshape(-1,1))\n",
        "y = ohe.fit_transform(y.values.reshape(-1,1))\n",
        "\n",
        "X = X.drop(columns=['Living_with1','Expenses'])\n",
        "y"
      ],
      "metadata": {
        "id": "4jLQJh1GQ-ks"
      },
      "execution_count": null,
      "outputs": []
    },
    {
      "cell_type": "markdown",
      "metadata": {
        "id": "H-cuLUfshz2j"
      },
      "source": [
        "### Remove unrelated and inferred features"
      ]
    },
    {
      "cell_type": "code",
      "source": [
        "print(X.columns)\n",
        "X.drop(columns=['Code','Residence_high_COVID1','Living_with','Monthly_expenses',\n",
        "                 'DASS_depression_numerical','DASS_anxiety_numerical','DASS_stress_numerical',\n",
        "                 'DASS_depression_binary','DASS_anxiety_binary','DASS_anxiety_severity','DASS_stress_binary','DASS_stress_severity'\n",
        "                 ],\n",
        "        inplace=True, axis=1)\n",
        "print(X.columns)"
      ],
      "metadata": {
        "id": "5R1ojDVGnwDT"
      },
      "execution_count": null,
      "outputs": []
    },
    {
      "cell_type": "markdown",
      "source": [
        "### Feature selection"
      ],
      "metadata": {
        "id": "IL1LsMkQvkVO"
      }
    },
    {
      "cell_type": "code",
      "source": [
        "X.drop(columns=['Age_Numerical','Class_hours',\n",
        "                'Gender','Med_or_not','Religion_binary',\n",
        "                'Worry_family'],\n",
        "        inplace=True, axis=1)\n",
        "print(X.columns)"
      ],
      "metadata": {
        "id": "BDdoEuo8wUE2"
      },
      "execution_count": null,
      "outputs": []
    },
    {
      "cell_type": "markdown",
      "metadata": {
        "id": "fxeFideitBCm"
      },
      "source": [
        "### Split into the training and test set"
      ]
    },
    {
      "cell_type": "code",
      "source": [
        "from sklearn.model_selection import train_test_split\n",
        "\n",
        "X_train, X_test, y_train, y_test = train_test_split(X, y, test_size=0.3)\n",
        "print(X_train.shape, y_train.shape)\n",
        "print(X_test.shape, y_test.shape)"
      ],
      "metadata": {
        "id": "w2TwMny0Dio1"
      },
      "execution_count": null,
      "outputs": []
    },
    {
      "cell_type": "markdown",
      "metadata": {
        "id": "hc6mCaPguXAZ"
      },
      "source": [
        "### Feature normalisation"
      ]
    },
    {
      "cell_type": "code",
      "source": [
        "from sklearn.preprocessing import StandardScaler\n",
        "from sklearn.compose import ColumnTransformer\n",
        "\n",
        "def featureNormalisation():\n",
        "  numeric_data = ['MSPSS_family', 'MSPSS_friends', 'MSPSS_significant_others']\n",
        "\n",
        "  ct = ColumnTransformer([('scaler', StandardScaler(), numeric_data)], remainder='passthrough')\n",
        "\n",
        "  X_train_scaled = ct.fit_transform(X_train)\n",
        "  # print(pd.DataFrame(X_train_scaled, columns = ct.get_feature_names_out()))\n",
        "  # the test set uses the fitted scaler in train dataset to transform in the test set\n",
        "  X_test_scaled = ct.transform(X_test)\n",
        "  return X_train_scaled, X_test_scaled, ct\n",
        "\n",
        "X_train_scaled, X_test_scaled, ct = featureNormalisation()\n",
        "features = ct.get_feature_names_out()"
      ],
      "metadata": {
        "id": "7nAHGS7tuYVx"
      },
      "execution_count": null,
      "outputs": []
    },
    {
      "cell_type": "markdown",
      "metadata": {
        "id": "JrLg97ONB4La"
      },
      "source": [
        "## Training model"
      ]
    },
    {
      "cell_type": "markdown",
      "metadata": {
        "id": "AH9WIO-hg9eh"
      },
      "source": [
        "### Import libraries"
      ]
    },
    {
      "cell_type": "code",
      "source": [
        "from sklearn import datasets, metrics\n",
        "from sklearn.neighbors import KNeighborsClassifier as KNN\n",
        "from sklearn.model_selection  import cross_val_score\n",
        "from sklearn.metrics import classification_report, confusion_matrix, accuracy_score\n",
        "import matplotlib.pyplot as plt\n",
        "import seaborn"
      ],
      "metadata": {
        "id": "UFMJFi81NFSc"
      },
      "execution_count": null,
      "outputs": []
    },
    {
      "cell_type": "markdown",
      "metadata": {
        "id": "y-UEd0czIw-r"
      },
      "source": [
        "### Hyperparameter tuning (k, weights, P)"
      ]
    },
    {
      "cell_type": "markdown",
      "source": [
        "1）The hyperparameter k = 5 is selected empirically"
      ],
      "metadata": {
        "id": "MWZyWJPrNlCH"
      }
    },
    {
      "cell_type": "code",
      "source": [
        "knn = KNN(n_neighbors = 5)\n",
        "knn.fit(X_train_scaled, y_train)\n",
        "y_predict = knn.predict(X_test_scaled)\n",
        "knn_score = metrics.accuracy_score(y_test, y_predict)\n",
        "knn_score"
      ],
      "metadata": {
        "id": "NiaUt-cHJ6L5",
        "colab": {
          "base_uri": "https://localhost:8080/"
        },
        "outputId": "111d63dd-adc3-41f1-dfa3-d66286a4231b"
      },
      "execution_count": null,
      "outputs": [
        {
          "output_type": "execute_result",
          "data": {
            "text/plain": [
              "0.5406976744186046"
            ]
          },
          "metadata": {},
          "execution_count": 188
        }
      ]
    },
    {
      "cell_type": "markdown",
      "source": [
        "2) Obtain the optimal hyperparameter K, without considering weights"
      ],
      "metadata": {
        "id": "fpmEunbdObUI"
      }
    },
    {
      "cell_type": "code",
      "source": [
        "best_score = 0.0\n",
        "best_k = -1\n",
        "\n",
        "for k in range(1, 30):  # increasing the k value by 1 from 1 to 29\n",
        "    knn = KNN(n_neighbors = k)\n",
        "    knn.fit(X_train_scaled, y_train)\n",
        "    # knn_score = knn.score(X_test_scaled, y_test)\n",
        "    y_predict = knn.predict(X_test_scaled)\n",
        "    knn_score = metrics.accuracy_score(y_test, y_predict)\n",
        "    if knn_score > best_score:  # compare the accuracy with respected k value\n",
        "        best_score = knn_score\n",
        "        best_k = k\n",
        "\n",
        "print(\"best_k = \", best_k)\n",
        "print(\"best_score = \", best_score)"
      ],
      "metadata": {
        "id": "nOFmos0DKm-O",
        "colab": {
          "base_uri": "https://localhost:8080/"
        },
        "outputId": "0415127d-e47d-4bb1-93af-a2a37b6d34cd"
      },
      "execution_count": null,
      "outputs": [
        {
          "output_type": "stream",
          "name": "stdout",
          "text": [
            "best_k =  1\n",
            "best_score =  0.7848837209302325\n"
          ]
        }
      ]
    },
    {
      "cell_type": "markdown",
      "source": [
        "3) Obtain the optimal hyperparameters k and weight"
      ],
      "metadata": {
        "id": "L5NHys3LOvn0"
      }
    },
    {
      "cell_type": "code",
      "source": [
        "best_method = \"\"\n",
        "best_score = 0.0\n",
        "best_k = -1\n",
        "for method in [\"uniform\", \"distance\"]:\n",
        "    for k in range(1, 30):\n",
        "        knn = KNN(n_neighbors = k)\n",
        "        knn.fit(X_train_scaled, y_train)\n",
        "        y_predict = knn.predict(X_test_scaled)\n",
        "        knn_score = metrics.accuracy_score(y_test, y_predict)\n",
        "        if knn_score > best_score:\n",
        "            best_score = knn_score\n",
        "            best_k = k\n",
        "            best_method = method\n",
        "\n",
        "print(\"best_method = \", best_method)\n",
        "print(\"best_k = \", best_k)\n",
        "print(\"best_score = \", best_score)"
      ],
      "metadata": {
        "id": "7xjhPuNKMOhe",
        "colab": {
          "base_uri": "https://localhost:8080/"
        },
        "outputId": "860e45b6-cbbe-4a6c-f87d-7da186e57cab"
      },
      "execution_count": null,
      "outputs": [
        {
          "output_type": "stream",
          "name": "stdout",
          "text": [
            "best_method =  uniform\n",
            "best_k =  1\n",
            "best_score =  0.7848837209302325\n"
          ]
        }
      ]
    },
    {
      "cell_type": "markdown",
      "source": [
        "4) Obtain the optimal hyperparameter k and P (weights must be distance)"
      ],
      "metadata": {
        "id": "g07oOGCAPCXm"
      }
    },
    {
      "cell_type": "code",
      "source": [
        "best_p = -1\n",
        "best_score = 0.0\n",
        "best_k = -1\n",
        "for k in range(1, 30):\n",
        "    for p in range(1, 6):\n",
        "        knn = KNN(n_neighbors = k, weights = \"distance\", p = p)\n",
        "        knn.fit(X_train_scaled, y_train)\n",
        "        y_predict = knn.predict(X_test_scaled)\n",
        "        knn_score = metrics.accuracy_score(y_test, y_predict)\n",
        "        if knn_score > best_score:\n",
        "            best_score = knn_score\n",
        "            best_k = k\n",
        "            best_p = p\n",
        "\n",
        "print(\"best_p = \", best_p)\n",
        "print(\"best_k = \", best_k)\n",
        "print(\"best_score = \", best_score)"
      ],
      "metadata": {
        "id": "P3yWnaSPMpeS",
        "colab": {
          "base_uri": "https://localhost:8080/"
        },
        "outputId": "5205a3c0-f4b9-477e-9fb2-0dc7d4b509c3"
      },
      "execution_count": null,
      "outputs": [
        {
          "output_type": "stream",
          "name": "stdout",
          "text": [
            "best_p =  5\n",
            "best_k =  1\n",
            "best_score =  0.813953488372093\n"
          ]
        }
      ]
    },
    {
      "cell_type": "code",
      "source": [
        "knn = KNN(n_neighbors = 1, weights = \"distance\", p = 5)\n",
        "knn.fit(X_train_scaled, y_train)\n",
        "y_predict = knn.predict(X_test_scaled)\n",
        "print(metrics.accuracy_score(y_test, y_predict))"
      ],
      "metadata": {
        "id": "E8KoedRTj7SM",
        "colab": {
          "base_uri": "https://localhost:8080/"
        },
        "outputId": "4a8bf21d-f798-477a-bc1d-662bb7f06329"
      },
      "execution_count": null,
      "outputs": [
        {
          "output_type": "stream",
          "name": "stdout",
          "text": [
            "0.813953488372093\n"
          ]
        }
      ]
    },
    {
      "cell_type": "markdown",
      "metadata": {
        "id": "McaTE25HCYNM"
      },
      "source": [
        "### Performance metrics"
      ]
    },
    {
      "cell_type": "markdown",
      "metadata": {
        "id": "NugXYwkS5Enr"
      },
      "source": [
        "### Classification report"
      ]
    },
    {
      "cell_type": "code",
      "execution_count": null,
      "metadata": {
        "id": "xGT1gxI5kIHA",
        "colab": {
          "base_uri": "https://localhost:8080/"
        },
        "outputId": "b589e2d4-e4b4-4826-ae1b-49ab52ec2bc4"
      },
      "outputs": [
        {
          "output_type": "stream",
          "name": "stdout",
          "text": [
            "              precision    recall  f1-score   support\n",
            "\n",
            "           0       0.81      0.64      0.72        61\n",
            "           1       0.77      0.90      0.83        41\n",
            "           2       0.81      0.91      0.86        43\n",
            "           3       0.80      0.86      0.83        14\n",
            "           4       1.00      1.00      1.00        13\n",
            "\n",
            "    accuracy                           0.81       172\n",
            "   macro avg       0.84      0.86      0.85       172\n",
            "weighted avg       0.82      0.81      0.81       172\n",
            "\n"
          ]
        }
      ],
      "source": [
        "from sklearn.metrics import classification_report, confusion_matrix, ConfusionMatrixDisplay\n",
        "\n",
        "y_pred_class = np.argmax(y_predict, axis=1)\n",
        "y_test_class = np.argmax(y_test, axis=1)\n",
        "\n",
        "print(classification_report(y_test_class, y_pred_class))"
      ]
    },
    {
      "cell_type": "markdown",
      "metadata": {
        "id": "iz7EmKHQ5NqD"
      },
      "source": [
        "### Confusion matrix"
      ]
    },
    {
      "cell_type": "code",
      "source": [
        "cm = confusion_matrix(y_test_class, y_pred_class)\n",
        "cm"
      ],
      "metadata": {
        "id": "fQpKNeszHBY1",
        "colab": {
          "base_uri": "https://localhost:8080/"
        },
        "outputId": "ad63ead1-55de-4e22-af42-6118fc0459e5"
      },
      "execution_count": null,
      "outputs": [
        {
          "output_type": "execute_result",
          "data": {
            "text/plain": [
              "array([[39, 11,  9,  2,  0],\n",
              "       [ 4, 37,  0,  0,  0],\n",
              "       [ 3,  0, 39,  1,  0],\n",
              "       [ 2,  0,  0, 12,  0],\n",
              "       [ 0,  0,  0,  0, 13]])"
            ]
          },
          "metadata": {},
          "execution_count": 194
        }
      ]
    },
    {
      "cell_type": "code",
      "source": [
        "disp = ConfusionMatrixDisplay(confusion_matrix=cm, display_labels=[0, 1, 2, 3, 4])\n",
        "disp.plot()\n",
        "plt.show()"
      ],
      "metadata": {
        "id": "NsGO4_gSHDBW",
        "colab": {
          "base_uri": "https://localhost:8080/",
          "height": 279
        },
        "outputId": "cd6aa0cd-6779-4c1c-aac8-02bc6afd4a18"
      },
      "execution_count": null,
      "outputs": [
        {
          "output_type": "display_data",
          "data": {
            "text/plain": [
              "<Figure size 432x288 with 2 Axes>"
            ],
            "image/png": "[encoded data removed]"
          },
          "metadata": {
            "needs_background": "light"
          }
        }
      ]
    },
    {
      "cell_type": "markdown",
      "metadata": {
        "id": "Op60lfPs5SMK"
      },
      "source": [
        "### ROC curve"
      ]
    },
    {
      "cell_type": "markdown",
      "metadata": {
        "id": "IvKlTCna5mdd"
      },
      "source": [
        "#### Area under the ROC curve"
      ]
    },
    {
      "cell_type": "code",
      "source": [
        "from sklearn.metrics import roc_auc_score\n",
        "roc_auc_score(y_test, y_predict, multi_class = 'ovo')"
      ],
      "metadata": {
        "id": "A1ARlQNzHIBd",
        "colab": {
          "base_uri": "https://localhost:8080/"
        },
        "outputId": "4163138e-f305-4e0a-c8f8-7a18b8e5751a"
      },
      "execution_count": null,
      "outputs": [
        {
          "output_type": "execute_result",
          "data": {
            "text/plain": [
              "0.9052097557651676"
            ]
          },
          "metadata": {},
          "execution_count": 196
        }
      ]
    },
    {
      "cell_type": "markdown",
      "metadata": {
        "id": "p2myX9Wm5tEG"
      },
      "source": [
        "#### Plot of ROC curve"
      ]
    },
    {
      "cell_type": "code",
      "execution_count": null,
      "metadata": {
        "colab": {
          "base_uri": "https://localhost:8080/",
          "height": 573
        },
        "id": "R6TqynEHnaME",
        "outputId": "30e0084e-6e61-4f78-9751-a3cd08696f81"
      },
      "outputs": [
        {
          "output_type": "display_data",
          "data": {
            "text/plain": [
              "<Figure size 432x288 with 1 Axes>"
            ],
            "image/png": "[encoded data removed]"
          },
          "metadata": {
            "needs_background": "light"
          }
        },
        {
          "output_type": "display_data",
          "data": {
            "text/plain": [
              "<Figure size 432x288 with 1 Axes>"
            ],
            "image/png": "[encoded data removed]"
          },
          "metadata": {
            "needs_background": "light"
          }
        }
      ],
      "source": [
        "from sklearn.metrics import roc_curve\n",
        "from sklearn.metrics import auc\n",
        "from sklearn.metrics import RocCurveDisplay\n",
        "from numpy import interp\n",
        "from itertools import cycle\n",
        "\n",
        "n_classes = 5\n",
        "\n",
        "# Plot linewidth.\n",
        "lw = 3\n",
        "\n",
        "# Compute ROC curve and ROC area for each class\n",
        "fpr = dict()\n",
        "tpr = dict()\n",
        "roc_auc = dict()\n",
        "for i in range(n_classes):\n",
        "    fpr[i], tpr[i], _ = roc_curve(y_test[:, i], y_predict[:, i])\n",
        "    roc_auc[i] = auc(fpr[i], tpr[i])\n",
        "\n",
        "# Compute micro-average ROC curve and ROC area\n",
        "fpr[\"micro\"], tpr[\"micro\"], _ = roc_curve(y_test.ravel(), y_predict.ravel())\n",
        "roc_auc[\"micro\"] = auc(fpr[\"micro\"], tpr[\"micro\"])\n",
        "\n",
        "# Compute macro-average ROC curve and ROC area\n",
        "\n",
        "# First aggregate all false positive rates\n",
        "all_fpr = np.unique(np.concatenate([fpr[i] for i in range(n_classes)]))\n",
        "\n",
        "# Then interpolate all ROC curves at this points\n",
        "mean_tpr = np.zeros_like(all_fpr)\n",
        "for i in range(n_classes):\n",
        "    mean_tpr += interp(all_fpr, fpr[i], tpr[i])\n",
        "\n",
        "# Finally average it and compute AUC\n",
        "mean_tpr /= n_classes\n",
        "\n",
        "fpr[\"macro\"] = all_fpr\n",
        "tpr[\"macro\"] = mean_tpr\n",
        "roc_auc[\"macro\"] = auc(fpr[\"macro\"], tpr[\"macro\"])\n",
        "\n",
        "# Plot all ROC curves\n",
        "plt.figure(1)\n",
        "plt.plot(fpr[\"micro\"], tpr[\"micro\"],\n",
        "         label='micro-average ROC curve (area = {0:0.2f})'\n",
        "               ''.format(roc_auc[\"micro\"]),\n",
        "         color='deeppink', linestyle=':', linewidth=4)\n",
        "\n",
        "plt.plot(fpr[\"macro\"], tpr[\"macro\"],\n",
        "         label='macro-average ROC curve (area = {0:0.2f})'\n",
        "               ''.format(roc_auc[\"macro\"]),\n",
        "         color='navy', linestyle=':', linewidth=4)\n",
        "\n",
        "colors = cycle(['aqua', 'darkorange', 'cornflowerblue', 'green', 'magenta'])\n",
        "for i, color in zip(range(n_classes), colors):\n",
        "    plt.plot(fpr[i], tpr[i], color=color, lw=lw,\n",
        "             label='ROC curve of class {0} (area = {1:0.2f})'\n",
        "             ''.format(i, roc_auc[i]))\n",
        "\n",
        "plt.plot([0, 1], [0, 1], 'k--', lw=lw)\n",
        "plt.xlim([0.0, 1.0])\n",
        "plt.ylim([0.0, 1.05])\n",
        "plt.xlabel('False Positive Rate')\n",
        "plt.ylabel('True Positive Rate')\n",
        "plt.title('ROC Curve')\n",
        "plt.legend(loc=\"upper right\")\n",
        "plt.show()\n",
        "\n",
        "\n",
        "# Zoom in view of the upper left corner.\n",
        "plt.figure(2)\n",
        "plt.xlim(0, 0.2)\n",
        "plt.ylim(0.8, 1)\n",
        "plt.plot(fpr[\"micro\"], tpr[\"micro\"],\n",
        "         label='micro-average ROC curve (area = {0:0.2f})'\n",
        "               ''.format(roc_auc[\"micro\"]),\n",
        "         color='deeppink', linestyle=':', linewidth=4)\n",
        "\n",
        "plt.plot(fpr[\"macro\"], tpr[\"macro\"],\n",
        "         label='macro-average ROC curve (area = {0:0.2f})'\n",
        "               ''.format(roc_auc[\"macro\"]),\n",
        "         color='navy', linestyle=':', linewidth=4)\n",
        "\n",
        "for i, color in zip(range(n_classes), colors):\n",
        "    plt.plot(fpr[i], tpr[i], color=color, lw=lw,\n",
        "             label='ROC curve of class {0} (area = {1:0.2f})'\n",
        "             ''.format(i, roc_auc[i]))\n",
        "\n",
        "plt.plot([0, 1], [0, 1], 'k--', lw=lw)\n",
        "plt.xlabel('False Positive Rate')\n",
        "plt.ylabel('True Positive Rate')\n",
        "plt.title('ROC Curve (Zoomed In)')\n",
        "plt.legend(loc=\"upper right\")\n",
        "plt.show()"
      ]
    },
    {
      "cell_type": "markdown",
      "metadata": {
        "id": "bhxa1IMqgknD"
      },
      "source": [
        "## Save model and scaler"
      ]
    },
    {
      "cell_type": "code",
      "source": [
        "# Save the model as a pickle in a file \n",
        "joblib.dump(knn, 'knn_model.pkl') \n",
        "  \n",
        "# Load the model from the file \n",
        "knn_from_joblib = joblib.load('knn_model.pkl')  \n",
        "  \n",
        "# Use the loaded model to make predictions \n",
        "knn_from_joblib.predict(X_test_scaled) "
      ],
      "metadata": {
        "id": "-BWUKz__f1xG"
      },
      "execution_count": null,
      "outputs": []
    },
    {
      "cell_type": "code",
      "source": [
        "import joblib\n",
        "joblib.dump(ct, 'knn_scaler.pkl')"
      ],
      "metadata": {
        "id": "3WekZIn2HZLt",
        "colab": {
          "base_uri": "https://localhost:8080/"
        },
        "outputId": "53d916a5-dc78-4c67-ec01-d5fdc82acffb"
      },
      "execution_count": 213,
      "outputs": [
        {
          "output_type": "execute_result",
          "data": {
            "text/plain": [
              "['knn_scaler.pkl']"
            ]
          },
          "metadata": {},
          "execution_count": 213
        }
      ]
    }
  ]
}