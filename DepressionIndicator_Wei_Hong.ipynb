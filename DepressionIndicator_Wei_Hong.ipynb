{
  "cells": [
    {
      "cell_type": "markdown",
      "metadata": {
        "id": "view-in-github",
        "colab_type": "text"
      },
      "source": [
        "<a href=\"https://colab.research.google.com/github/umSamWeiHong/DepressionModel/blob/master/DepressionIndicator_Wei_Hong.ipynb\" target=\"_parent\"><img src=\"https://colab.research.google.com/assets/colab-badge.svg\" alt=\"Open In Colab\"/></a>"
      ]
    },
    {
      "cell_type": "markdown",
      "metadata": {
        "id": "57Ni87HAOLMy"
      },
      "source": [
        "# Artificial Neural Network (Deep Learning)"
      ]
    },
    {
      "cell_type": "markdown",
      "metadata": {
        "id": "HQhqWNQQ_Yee"
      },
      "source": [
        "## Import data and libraries"
      ]
    },
    {
      "cell_type": "code",
      "execution_count": null,
      "metadata": {
        "colab": {
          "base_uri": "https://localhost:8080/"
        },
        "id": "kC0AeXiRzVZ8",
        "outputId": "f71ea916-e6be-4bde-bd27-e21375da8401"
      },
      "outputs": [
        {
          "output_type": "stream",
          "name": "stdout",
          "text": [
            "Drive already mounted at /content/drive; to attempt to forcibly remount, call drive.mount(\"/content/drive\", force_remount=True).\n"
          ]
        }
      ],
      "source": [
        "from google.colab import drive\n",
        "drive.mount('/content/drive')"
      ]
    },
    {
      "cell_type": "code",
      "execution_count": null,
      "metadata": {
        "id": "Mw7mWXC23I-P"
      },
      "outputs": [],
      "source": [
        "import tensorflow as tf\n",
        "import numpy as np\n",
        "import pandas as pd\n",
        "import matplotlib.pyplot as plt"
      ]
    },
    {
      "cell_type": "code",
      "execution_count": null,
      "metadata": {
        "colab": {
          "base_uri": "https://localhost:8080/",
          "height": 488
        },
        "id": "e7QBwdb8wqhm",
        "outputId": "c2dad190-4db0-45cb-d8c0-451995dfd51e"
      },
      "outputs": [
        {
          "output_type": "execute_result",
          "data": {
            "text/plain": [
              "     Code  Age_Numerical  Gender  Marital  Marital_problems  Religion_binary  \\\n",
              "0       1             34       0        0                 0                1   \n",
              "1       2             32       1        0                 0                1   \n",
              "2       3             33       0        0                 0                1   \n",
              "3       4             33       1        0                 1                1   \n",
              "4       5             39       1        0                 0                1   \n",
              "..    ...            ...     ...      ...               ...              ...   \n",
              "311   312             23       1        1                 0                0   \n",
              "312   313             36       0        1                 0                0   \n",
              "313   314             33       0        0                 0                0   \n",
              "314   315             25       1        1                 0                1   \n",
              "315   316             23       1        1                 0                1   \n",
              "\n",
              "     Religion_help  Med_or_not  Expenses  Monthly_expenses  ...  \\\n",
              "0                1           1         2                 1  ...   \n",
              "1                1           1         1                 0  ...   \n",
              "2                1           1         1                 0  ...   \n",
              "3                1           1         2                 1  ...   \n",
              "4                1           1         2                 1  ...   \n",
              "..             ...         ...       ...               ...  ...   \n",
              "311              1           1         2                 1  ...   \n",
              "312              0           0         2                 1  ...   \n",
              "313              0           1         2                 1  ...   \n",
              "314              0           1         0                 0  ...   \n",
              "315              1           1         0                 0  ...   \n",
              "\n",
              "     DASS_stress_numerical  MSPSS_family  MSPSS_friends  \\\n",
              "0                        0          27.2           24.0   \n",
              "1                        2          28.0           28.0   \n",
              "2                        0          28.0           28.0   \n",
              "3                       18          25.2           21.2   \n",
              "4                        2          26.0           20.0   \n",
              "..                     ...           ...            ...   \n",
              "311                      8          25.2           25.2   \n",
              "312                      0          23.2           20.0   \n",
              "313                      0          25.2           19.2   \n",
              "314                     26          14.0           13.2   \n",
              "315                      6          16.0           16.0   \n",
              "\n",
              "     MSPSS_significant_others  DASS_depression_binary  \\\n",
              "0                        26.0                       0   \n",
              "1                        28.0                       0   \n",
              "2                        28.0                       0   \n",
              "3                        24.0                       1   \n",
              "4                        28.0                       0   \n",
              "..                        ...                     ...   \n",
              "311                      27.2                       0   \n",
              "312                      24.0                       0   \n",
              "313                      27.2                       0   \n",
              "314                      13.2                       1   \n",
              "315                      17.2                       0   \n",
              "\n",
              "     DASS_depression_severity  DASS_anxiety_binary  DASS_anxiety_severity  \\\n",
              "0                           0                    0                      0   \n",
              "1                           0                    0                      0   \n",
              "2                           0                    0                      0   \n",
              "3                           2                    1                      4   \n",
              "4                           0                    0                      0   \n",
              "..                        ...                  ...                    ...   \n",
              "311                         0                    0                      0   \n",
              "312                         0                    0                      0   \n",
              "313                         0                    0                      0   \n",
              "314                         4                    1                      2   \n",
              "315                         0                    0                      0   \n",
              "\n",
              "     DASS_stress_binary  DASS_stress_severity  \n",
              "0                     0                     0  \n",
              "1                     0                     0  \n",
              "2                     0                     0  \n",
              "3                     1                     1  \n",
              "4                     0                     0  \n",
              "..                  ...                   ...  \n",
              "311                   0                     0  \n",
              "312                   0                     0  \n",
              "313                   0                     0  \n",
              "314                   1                     2  \n",
              "315                   0                     0  \n",
              "\n",
              "[316 rows x 34 columns]"
            ],
            "text/html": [
              "\n",
              "  <div id=\"df-04fee3a3-8d98-413b-a7e3-d9a6ad8c4011\">\n",
              "    <div class=\"colab-df-container\">\n",
              "      <div>\n",
              "<style scoped>\n",
              "    .dataframe tbody tr th:only-of-type {\n",
              "        vertical-align: middle;\n",
              "    }\n",
              "\n",
              "    .dataframe tbody tr th {\n",
              "        vertical-align: top;\n",
              "    }\n",
              "\n",
              "    .dataframe thead th {\n",
              "        text-align: right;\n",
              "    }\n",
              "</style>\n",
              "<table border=\"1\" class=\"dataframe\">\n",
              "  <thead>\n",
              "    <tr style=\"text-align: right;\">\n",
              "      <th></th>\n",
              "      <th>Code</th>\n",
              "      <th>Age_Numerical</th>\n",
              "      <th>Gender</th>\n",
              "      <th>Marital</th>\n",
              "      <th>Marital_problems</th>\n",
              "      <th>Religion_binary</th>\n",
              "      <th>Religion_help</th>\n",
              "      <th>Med_or_not</th>\n",
              "      <th>Expenses</th>\n",
              "      <th>Monthly_expenses</th>\n",
              "      <th>...</th>\n",
              "      <th>DASS_stress_numerical</th>\n",
              "      <th>MSPSS_family</th>\n",
              "      <th>MSPSS_friends</th>\n",
              "      <th>MSPSS_significant_others</th>\n",
              "      <th>DASS_depression_binary</th>\n",
              "      <th>DASS_depression_severity</th>\n",
              "      <th>DASS_anxiety_binary</th>\n",
              "      <th>DASS_anxiety_severity</th>\n",
              "      <th>DASS_stress_binary</th>\n",
              "      <th>DASS_stress_severity</th>\n",
              "    </tr>\n",
              "  </thead>\n",
              "  <tbody>\n",
              "    <tr>\n",
              "      <th>0</th>\n",
              "      <td>1</td>\n",
              "      <td>34</td>\n",
              "      <td>0</td>\n",
              "      <td>0</td>\n",
              "      <td>0</td>\n",
              "      <td>1</td>\n",
              "      <td>1</td>\n",
              "      <td>1</td>\n",
              "      <td>2</td>\n",
              "      <td>1</td>\n",
              "      <td>...</td>\n",
              "      <td>0</td>\n",
              "      <td>27.2</td>\n",
              "      <td>24.0</td>\n",
              "      <td>26.0</td>\n",
              "      <td>0</td>\n",
              "      <td>0</td>\n",
              "      <td>0</td>\n",
              "      <td>0</td>\n",
              "      <td>0</td>\n",
              "      <td>0</td>\n",
              "    </tr>\n",
              "    <tr>\n",
              "      <th>1</th>\n",
              "      <td>2</td>\n",
              "      <td>32</td>\n",
              "      <td>1</td>\n",
              "      <td>0</td>\n",
              "      <td>0</td>\n",
              "      <td>1</td>\n",
              "      <td>1</td>\n",
              "      <td>1</td>\n",
              "      <td>1</td>\n",
              "      <td>0</td>\n",
              "      <td>...</td>\n",
              "      <td>2</td>\n",
              "      <td>28.0</td>\n",
              "      <td>28.0</td>\n",
              "      <td>28.0</td>\n",
              "      <td>0</td>\n",
              "      <td>0</td>\n",
              "      <td>0</td>\n",
              "      <td>0</td>\n",
              "      <td>0</td>\n",
              "      <td>0</td>\n",
              "    </tr>\n",
              "    <tr>\n",
              "      <th>2</th>\n",
              "      <td>3</td>\n",
              "      <td>33</td>\n",
              "      <td>0</td>\n",
              "      <td>0</td>\n",
              "      <td>0</td>\n",
              "      <td>1</td>\n",
              "      <td>1</td>\n",
              "      <td>1</td>\n",
              "      <td>1</td>\n",
              "      <td>0</td>\n",
              "      <td>...</td>\n",
              "      <td>0</td>\n",
              "      <td>28.0</td>\n",
              "      <td>28.0</td>\n",
              "      <td>28.0</td>\n",
              "      <td>0</td>\n",
              "      <td>0</td>\n",
              "      <td>0</td>\n",
              "      <td>0</td>\n",
              "      <td>0</td>\n",
              "      <td>0</td>\n",
              "    </tr>\n",
              "    <tr>\n",
              "      <th>3</th>\n",
              "      <td>4</td>\n",
              "      <td>33</td>\n",
              "      <td>1</td>\n",
              "      <td>0</td>\n",
              "      <td>1</td>\n",
              "      <td>1</td>\n",
              "      <td>1</td>\n",
              "      <td>1</td>\n",
              "      <td>2</td>\n",
              "      <td>1</td>\n",
              "      <td>...</td>\n",
              "      <td>18</td>\n",
              "      <td>25.2</td>\n",
              "      <td>21.2</td>\n",
              "      <td>24.0</td>\n",
              "      <td>1</td>\n",
              "      <td>2</td>\n",
              "      <td>1</td>\n",
              "      <td>4</td>\n",
              "      <td>1</td>\n",
              "      <td>1</td>\n",
              "    </tr>\n",
              "    <tr>\n",
              "      <th>4</th>\n",
              "      <td>5</td>\n",
              "      <td>39</td>\n",
              "      <td>1</td>\n",
              "      <td>0</td>\n",
              "      <td>0</td>\n",
              "      <td>1</td>\n",
              "      <td>1</td>\n",
              "      <td>1</td>\n",
              "      <td>2</td>\n",
              "      <td>1</td>\n",
              "      <td>...</td>\n",
              "      <td>2</td>\n",
              "      <td>26.0</td>\n",
              "      <td>20.0</td>\n",
              "      <td>28.0</td>\n",
              "      <td>0</td>\n",
              "      <td>0</td>\n",
              "      <td>0</td>\n",
              "      <td>0</td>\n",
              "      <td>0</td>\n",
              "      <td>0</td>\n",
              "    </tr>\n",
              "    <tr>\n",
              "      <th>...</th>\n",
              "      <td>...</td>\n",
              "      <td>...</td>\n",
              "      <td>...</td>\n",
              "      <td>...</td>\n",
              "      <td>...</td>\n",
              "      <td>...</td>\n",
              "      <td>...</td>\n",
              "      <td>...</td>\n",
              "      <td>...</td>\n",
              "      <td>...</td>\n",
              "      <td>...</td>\n",
              "      <td>...</td>\n",
              "      <td>...</td>\n",
              "      <td>...</td>\n",
              "      <td>...</td>\n",
              "      <td>...</td>\n",
              "      <td>...</td>\n",
              "      <td>...</td>\n",
              "      <td>...</td>\n",
              "      <td>...</td>\n",
              "      <td>...</td>\n",
              "    </tr>\n",
              "    <tr>\n",
              "      <th>311</th>\n",
              "      <td>312</td>\n",
              "      <td>23</td>\n",
              "      <td>1</td>\n",
              "      <td>1</td>\n",
              "      <td>0</td>\n",
              "      <td>0</td>\n",
              "      <td>1</td>\n",
              "      <td>1</td>\n",
              "      <td>2</td>\n",
              "      <td>1</td>\n",
              "      <td>...</td>\n",
              "      <td>8</td>\n",
              "      <td>25.2</td>\n",
              "      <td>25.2</td>\n",
              "      <td>27.2</td>\n",
              "      <td>0</td>\n",
              "      <td>0</td>\n",
              "      <td>0</td>\n",
              "      <td>0</td>\n",
              "      <td>0</td>\n",
              "      <td>0</td>\n",
              "    </tr>\n",
              "    <tr>\n",
              "      <th>312</th>\n",
              "      <td>313</td>\n",
              "      <td>36</td>\n",
              "      <td>0</td>\n",
              "      <td>1</td>\n",
              "      <td>0</td>\n",
              "      <td>0</td>\n",
              "      <td>0</td>\n",
              "      <td>0</td>\n",
              "      <td>2</td>\n",
              "      <td>1</td>\n",
              "      <td>...</td>\n",
              "      <td>0</td>\n",
              "      <td>23.2</td>\n",
              "      <td>20.0</td>\n",
              "      <td>24.0</td>\n",
              "      <td>0</td>\n",
              "      <td>0</td>\n",
              "      <td>0</td>\n",
              "      <td>0</td>\n",
              "      <td>0</td>\n",
              "      <td>0</td>\n",
              "    </tr>\n",
              "    <tr>\n",
              "      <th>313</th>\n",
              "      <td>314</td>\n",
              "      <td>33</td>\n",
              "      <td>0</td>\n",
              "      <td>0</td>\n",
              "      <td>0</td>\n",
              "      <td>0</td>\n",
              "      <td>0</td>\n",
              "      <td>1</td>\n",
              "      <td>2</td>\n",
              "      <td>1</td>\n",
              "      <td>...</td>\n",
              "      <td>0</td>\n",
              "      <td>25.2</td>\n",
              "      <td>19.2</td>\n",
              "      <td>27.2</td>\n",
              "      <td>0</td>\n",
              "      <td>0</td>\n",
              "      <td>0</td>\n",
              "      <td>0</td>\n",
              "      <td>0</td>\n",
              "      <td>0</td>\n",
              "    </tr>\n",
              "    <tr>\n",
              "      <th>314</th>\n",
              "      <td>315</td>\n",
              "      <td>25</td>\n",
              "      <td>1</td>\n",
              "      <td>1</td>\n",
              "      <td>0</td>\n",
              "      <td>1</td>\n",
              "      <td>0</td>\n",
              "      <td>1</td>\n",
              "      <td>0</td>\n",
              "      <td>0</td>\n",
              "      <td>...</td>\n",
              "      <td>26</td>\n",
              "      <td>14.0</td>\n",
              "      <td>13.2</td>\n",
              "      <td>13.2</td>\n",
              "      <td>1</td>\n",
              "      <td>4</td>\n",
              "      <td>1</td>\n",
              "      <td>2</td>\n",
              "      <td>1</td>\n",
              "      <td>2</td>\n",
              "    </tr>\n",
              "    <tr>\n",
              "      <th>315</th>\n",
              "      <td>316</td>\n",
              "      <td>23</td>\n",
              "      <td>1</td>\n",
              "      <td>1</td>\n",
              "      <td>0</td>\n",
              "      <td>1</td>\n",
              "      <td>1</td>\n",
              "      <td>1</td>\n",
              "      <td>0</td>\n",
              "      <td>0</td>\n",
              "      <td>...</td>\n",
              "      <td>6</td>\n",
              "      <td>16.0</td>\n",
              "      <td>16.0</td>\n",
              "      <td>17.2</td>\n",
              "      <td>0</td>\n",
              "      <td>0</td>\n",
              "      <td>0</td>\n",
              "      <td>0</td>\n",
              "      <td>0</td>\n",
              "      <td>0</td>\n",
              "    </tr>\n",
              "  </tbody>\n",
              "</table>\n",
              "<p>316 rows × 34 columns</p>\n",
              "</div>\n",
              "      <button class=\"colab-df-convert\" onclick=\"convertToInteractive('df-04fee3a3-8d98-413b-a7e3-d9a6ad8c4011')\"\n",
              "              title=\"Convert this dataframe to an interactive table.\"\n",
              "              style=\"display:none;\">\n",
              "        \n",
              "  <svg xmlns=\"http://www.w3.org/2000/svg\" height=\"24px\"viewBox=\"0 0 24 24\"\n",
              "       width=\"24px\">\n",
              "    <path d=\"M0 0h24v24H0V0z\" fill=\"none\"/>\n",
              "    <path d=\"M18.56 5.44l.94 2.06.94-2.06 2.06-.94-2.06-.94-.94-2.06-.94 2.06-2.06.94zm-11 1L8.5 8.5l.94-2.06 2.06-.94-2.06-.94L8.5 2.5l-.94 2.06-2.06.94zm10 10l.94 2.06.94-2.06 2.06-.94-2.06-.94-.94-2.06-.94 2.06-2.06.94z\"/><path d=\"M17.41 7.96l-1.37-1.37c-.4-.4-.92-.59-1.43-.59-.52 0-1.04.2-1.43.59L10.3 9.45l-7.72 7.72c-.78.78-.78 2.05 0 2.83L4 21.41c.39.39.9.59 1.41.59.51 0 1.02-.2 1.41-.59l7.78-7.78 2.81-2.81c.8-.78.8-2.07 0-2.86zM5.41 20L4 18.59l7.72-7.72 1.47 1.35L5.41 20z\"/>\n",
              "  </svg>\n",
              "      </button>\n",
              "      \n",
              "  <style>\n",
              "    .colab-df-container {\n",
              "      display:flex;\n",
              "      flex-wrap:wrap;\n",
              "      gap: 12px;\n",
              "    }\n",
              "\n",
              "    .colab-df-convert {\n",
              "      background-color: #E8F0FE;\n",
              "      border: none;\n",
              "      border-radius: 50%;\n",
              "      cursor: pointer;\n",
              "      display: none;\n",
              "      fill: #1967D2;\n",
              "      height: 32px;\n",
              "      padding: 0 0 0 0;\n",
              "      width: 32px;\n",
              "    }\n",
              "\n",
              "    .colab-df-convert:hover {\n",
              "      background-color: #E2EBFA;\n",
              "      box-shadow: 0px 1px 2px rgba(60, 64, 67, 0.3), 0px 1px 3px 1px rgba(60, 64, 67, 0.15);\n",
              "      fill: #174EA6;\n",
              "    }\n",
              "\n",
              "    [theme=dark] .colab-df-convert {\n",
              "      background-color: #3B4455;\n",
              "      fill: #D2E3FC;\n",
              "    }\n",
              "\n",
              "    [theme=dark] .colab-df-convert:hover {\n",
              "      background-color: #434B5C;\n",
              "      box-shadow: 0px 1px 3px 1px rgba(0, 0, 0, 0.15);\n",
              "      filter: drop-shadow(0px 1px 2px rgba(0, 0, 0, 0.3));\n",
              "      fill: #FFFFFF;\n",
              "    }\n",
              "  </style>\n",
              "\n",
              "      <script>\n",
              "        const buttonEl =\n",
              "          document.querySelector('#df-04fee3a3-8d98-413b-a7e3-d9a6ad8c4011 button.colab-df-convert');\n",
              "        buttonEl.style.display =\n",
              "          google.colab.kernel.accessAllowed ? 'block' : 'none';\n",
              "\n",
              "        async function convertToInteractive(key) {\n",
              "          const element = document.querySelector('#df-04fee3a3-8d98-413b-a7e3-d9a6ad8c4011');\n",
              "          const dataTable =\n",
              "            await google.colab.kernel.invokeFunction('convertToInteractive',\n",
              "                                                     [key], {});\n",
              "          if (!dataTable) return;\n",
              "\n",
              "          const docLinkHtml = 'Like what you see? Visit the ' +\n",
              "            '<a target=\"_blank\" href=https://colab.research.google.com/notebooks/data_table.ipynb>data table notebook</a>'\n",
              "            + ' to learn more about interactive tables.';\n",
              "          element.innerHTML = '';\n",
              "          dataTable['output_type'] = 'display_data';\n",
              "          await google.colab.output.renderOutput(dataTable, element);\n",
              "          const docLink = document.createElement('div');\n",
              "          docLink.innerHTML = docLinkHtml;\n",
              "          element.appendChild(docLink);\n",
              "        }\n",
              "      </script>\n",
              "    </div>\n",
              "  </div>\n",
              "  "
            ]
          },
          "metadata": {},
          "execution_count": 3
        }
      ],
      "source": [
        "df = pd.read_csv('/content/drive/MyDrive/Machine Learning Group Project/depression.csv')\n",
        "df"
      ]
    },
    {
      "cell_type": "markdown",
      "metadata": {
        "id": "uV_hCM1xBtPK"
      },
      "source": [
        "## Data preprocessing"
      ]
    },
    {
      "cell_type": "markdown",
      "metadata": {
        "id": "CQqZTd-d_u4u"
      },
      "source": [
        "### Extract input and output features"
      ]
    },
    {
      "cell_type": "code",
      "execution_count": null,
      "metadata": {
        "id": "TNXFbHsVh0ti"
      },
      "outputs": [],
      "source": [
        "from collections import Counter\n",
        "X = df\n",
        "y = df['DASS_depression_severity']\n",
        "\n",
        "X = X.drop(columns='DASS_depression_severity')"
      ]
    },
    {
      "cell_type": "markdown",
      "metadata": {
        "id": "C2yULzd0AG3H"
      },
      "source": [
        "### Oversampling"
      ]
    },
    {
      "cell_type": "code",
      "execution_count": null,
      "metadata": {
        "colab": {
          "base_uri": "https://localhost:8080/"
        },
        "id": "WpkTWsSpAQKA",
        "outputId": "af7c56d0-8914-4340-a31a-c2e9745ada5c"
      },
      "outputs": [
        {
          "output_type": "stream",
          "name": "stdout",
          "text": [
            "Initial: Counter({0: 201, 1: 49, 2: 37, 3: 16, 4: 13})\n"
          ]
        }
      ],
      "source": [
        "print(f\"Initial: {Counter(y)}\")"
      ]
    },
    {
      "cell_type": "code",
      "execution_count": null,
      "metadata": {
        "colab": {
          "base_uri": "https://localhost:8080/"
        },
        "id": "sY-KFRIjq0tH",
        "outputId": "2789adc3-a65b-4d4a-e898-b00d0dda25de"
      },
      "outputs": [
        {
          "output_type": "stream",
          "name": "stdout",
          "text": [
            "Oversampled: Counter({0: 201, 1: 150, 2: 120, 3: 50, 4: 50})\n"
          ]
        }
      ],
      "source": [
        "from imblearn.over_sampling import RandomOverSampler\n",
        "over = RandomOverSampler(sampling_strategy={0: 201, 1: 150, 2: 120, 3: 50, 4: 50})\n",
        "X, y = over.fit_resample(X, y)\n",
        "print(f\"Oversampled: {Counter(y)}\")"
      ]
    },
    {
      "cell_type": "markdown",
      "metadata": {
        "id": "5GuktUMVpDav"
      },
      "source": [
        "### One hot encoding for categorical data"
      ]
    },
    {
      "cell_type": "code",
      "execution_count": null,
      "metadata": {
        "colab": {
          "base_uri": "https://localhost:8080/"
        },
        "id": "VyBPO23hnrw9",
        "outputId": "ca768d0e-95a0-454a-b644-df4794f31acb"
      },
      "outputs": [
        {
          "output_type": "execute_result",
          "data": {
            "text/plain": [
              "array([[1., 0., 0., 0., 0.],\n",
              "       [1., 0., 0., 0., 0.],\n",
              "       [1., 0., 0., 0., 0.],\n",
              "       ...,\n",
              "       [0., 0., 0., 0., 1.],\n",
              "       [0., 0., 0., 0., 1.],\n",
              "       [0., 0., 0., 0., 1.]])"
            ]
          },
          "metadata": {},
          "execution_count": 7
        }
      ],
      "source": [
        "from sklearn.preprocessing import OneHotEncoder\n",
        "\n",
        "ohe = OneHotEncoder(sparse=False)\n",
        "X[['Alone','Friends/Coursemates','Family']] = ohe.fit_transform(X['Living_with1'].values.reshape(-1,1))\n",
        "X[['< RM1000','RM1000 - 3000','> RM3000']] = ohe.fit_transform(X['Expenses'].values.reshape(-1,1))\n",
        "y = ohe.fit_transform(y.values.reshape(-1,1))\n",
        "\n",
        "X = X.drop(columns=['Living_with1','Expenses'])\n",
        "y"
      ]
    },
    {
      "cell_type": "markdown",
      "metadata": {
        "id": "H-cuLUfshz2j"
      },
      "source": [
        "### Remove unrelated and inferred features"
      ]
    },
    {
      "cell_type": "code",
      "execution_count": null,
      "metadata": {
        "colab": {
          "base_uri": "https://localhost:8080/"
        },
        "id": "3hN1ifvxhzU0",
        "outputId": "7ce6d17d-c02a-4bf8-ff9d-122527656a8d"
      },
      "outputs": [
        {
          "output_type": "stream",
          "name": "stdout",
          "text": [
            "Index(['Code', 'Age_Numerical', 'Gender', 'Marital', 'Marital_problems',\n",
            "       'Religion_binary', 'Religion_help', 'Med_or_not', 'Monthly_expenses',\n",
            "       'Living_with', 'Worry_family', 'Routine_loss', 'Class_hours',\n",
            "       'Stress_class_disrupted', 'Medical_illness', 'Mental_illness',\n",
            "       'COVID_symptoms', 'Residence_high_COVID1', 'Residence_high_COVID',\n",
            "       'Quarantine', 'DASS_depression_numerical', 'DASS_anxiety_numerical',\n",
            "       'DASS_stress_numerical', 'MSPSS_family', 'MSPSS_friends',\n",
            "       'MSPSS_significant_others', 'DASS_depression_binary',\n",
            "       'DASS_anxiety_binary', 'DASS_anxiety_severity', 'DASS_stress_binary',\n",
            "       'DASS_stress_severity', 'Alone', 'Friends/Coursemates', 'Family',\n",
            "       '< RM1000', 'RM1000 - 3000', '> RM3000'],\n",
            "      dtype='object')\n",
            "Index(['Age_Numerical', 'Gender', 'Marital', 'Marital_problems',\n",
            "       'Religion_binary', 'Religion_help', 'Med_or_not', 'Worry_family',\n",
            "       'Routine_loss', 'Class_hours', 'Stress_class_disrupted',\n",
            "       'Medical_illness', 'Mental_illness', 'COVID_symptoms',\n",
            "       'Residence_high_COVID', 'Quarantine', 'MSPSS_family', 'MSPSS_friends',\n",
            "       'MSPSS_significant_others', 'Alone', 'Friends/Coursemates', 'Family',\n",
            "       '< RM1000', 'RM1000 - 3000', '> RM3000'],\n",
            "      dtype='object')\n"
          ]
        }
      ],
      "source": [
        "print(X.columns)\n",
        "X.drop(columns=['Code','Residence_high_COVID1','Living_with','Monthly_expenses',\n",
        "                 'DASS_depression_numerical','DASS_anxiety_numerical','DASS_stress_numerical',\n",
        "                 'DASS_depression_binary','DASS_anxiety_binary','DASS_anxiety_severity','DASS_stress_binary','DASS_stress_severity'\n",
        "                 ],\n",
        "        inplace=True, axis=1)\n",
        "print(X.columns)"
      ]
    },
    {
      "cell_type": "markdown",
      "source": [
        "### Feature selection"
      ],
      "metadata": {
        "id": "IL1LsMkQvkVO"
      }
    },
    {
      "cell_type": "code",
      "source": [
        "X.drop(columns=['Age_Numerical','Class_hours',\n",
        "                'Gender','Med_or_not','Religion_binary',\n",
        "                'Worry_family'],\n",
        "        inplace=True, axis=1)\n",
        "print(X.columns)"
      ],
      "metadata": {
        "colab": {
          "base_uri": "https://localhost:8080/"
        },
        "id": "aUBn1hckvoeA",
        "outputId": "c1e9811e-b756-4b5d-ce18-80b86c0a74d9"
      },
      "execution_count": null,
      "outputs": [
        {
          "output_type": "stream",
          "name": "stdout",
          "text": [
            "Index(['Marital', 'Marital_problems', 'Religion_help', 'Routine_loss',\n",
            "       'Stress_class_disrupted', 'Medical_illness', 'Mental_illness',\n",
            "       'COVID_symptoms', 'Residence_high_COVID', 'Quarantine', 'MSPSS_family',\n",
            "       'MSPSS_friends', 'MSPSS_significant_others', 'Alone',\n",
            "       'Friends/Coursemates', 'Family', '< RM1000', 'RM1000 - 3000',\n",
            "       '> RM3000'],\n",
            "      dtype='object')\n"
          ]
        }
      ]
    },
    {
      "cell_type": "markdown",
      "metadata": {
        "id": "fxeFideitBCm"
      },
      "source": [
        "### Split into the training and test set"
      ]
    },
    {
      "cell_type": "code",
      "execution_count": null,
      "metadata": {
        "colab": {
          "base_uri": "https://localhost:8080/"
        },
        "id": "w2TwMny0Dio1",
        "outputId": "c5f69530-3bfd-41d3-f26f-7b1ce7991c59"
      },
      "outputs": [
        {
          "output_type": "stream",
          "name": "stdout",
          "text": [
            "(399, 19) (399, 5)\n",
            "(172, 19) (172, 5)\n"
          ]
        }
      ],
      "source": [
        "from sklearn.model_selection import train_test_split\n",
        "\n",
        "X_train, X_test, y_train, y_test = train_test_split(X, y, test_size=0.3)\n",
        "print(X_train.shape, y_train.shape)\n",
        "print(X_test.shape, y_test.shape)"
      ]
    },
    {
      "cell_type": "markdown",
      "metadata": {
        "id": "pn0aVR1DVljM"
      },
      "source": [
        "### Feature normalisation"
      ]
    },
    {
      "cell_type": "code",
      "execution_count": null,
      "metadata": {
        "id": "gSrRWbUfCzTe"
      },
      "outputs": [],
      "source": [
        "from sklearn.preprocessing import StandardScaler\n",
        "from sklearn.compose import ColumnTransformer\n",
        "\n",
        "def featureNormalisation():\n",
        "  numeric_data = ['MSPSS_family', 'MSPSS_friends', 'MSPSS_significant_others']\n",
        "\n",
        "  ct = ColumnTransformer([('scaler', StandardScaler(), numeric_data)], remainder='passthrough')\n",
        "\n",
        "  X_train_scaled = ct.fit_transform(X_train)\n",
        "  # print(pd.DataFrame(X_train_scaled, columns = ct.get_feature_names_out()))\n",
        "  # the test set uses the fitted scaler in train dataset to transform in the test set\n",
        "  X_test_scaled = ct.transform(X_test)\n",
        "  return X_train_scaled, X_test_scaled, ct\n",
        "\n",
        "X_train_scaled, X_test_scaled, ct = featureNormalisation()\n",
        "features = ct.get_feature_names_out()"
      ]
    },
    {
      "cell_type": "markdown",
      "metadata": {
        "id": "JrLg97ONB4La"
      },
      "source": [
        "## Training model"
      ]
    },
    {
      "cell_type": "markdown",
      "metadata": {
        "id": "QUn33ep9g6vQ"
      },
      "source": [
        "### Define model"
      ]
    },
    {
      "cell_type": "code",
      "execution_count": null,
      "metadata": {
        "id": "VCnFqpo9HqpT"
      },
      "outputs": [],
      "source": [
        "!pip install -q -U keras-tuner\n",
        "\n",
        "from tensorflow import keras\n",
        "from keras.models import Sequential\n",
        "from keras.layers import Dense\n",
        "import keras_tuner as kt\n",
        "tf.keras.backend.clear_session()\n",
        "\n",
        "def model_builder(hp):\n",
        "  model = Sequential()\n",
        "  hp_activation = hp.Choice('activation', values=['relu','elu','tanh'])\n",
        "  hp_learning_rate = hp.Choice('learning_rate', values=[1e-2, 1e-3, 1e-4])  \n",
        "  hp_units1 = hp.Int('units1', min_value=1, max_value=100, step=2)\n",
        "  hp_units2 = hp.Int('units2', min_value=1, max_value=100, step=2)\n",
        "  hp_units3 = hp.Int('units3', min_value=1, max_value=100, step=2)\n",
        "  model.add(Dense(units=X.shape[1], activation=hp_activation))\n",
        "  model.add(Dense(units=hp_units1, activation=hp_activation))\n",
        "  model.add(Dense(units=hp_units2, activation=hp_activation))\n",
        "  model.add(Dense(units=hp_units3, activation=hp_activation))\n",
        "  model.add(Dense(5, activation='softmax'))\n",
        "\n",
        "  model.compile(optimizer=keras.optimizers.Adam(learning_rate=hp_learning_rate),\n",
        "                loss=keras.losses.CategoricalCrossentropy(),\n",
        "                metrics=['accuracy'])\n",
        "  return model"
      ]
    },
    {
      "cell_type": "markdown",
      "metadata": {
        "id": "AH9WIO-hg9eh"
      },
      "source": [
        "### Hyperparameter tuning"
      ]
    },
    {
      "cell_type": "code",
      "execution_count": null,
      "metadata": {
        "colab": {
          "base_uri": "https://localhost:8080/"
        },
        "id": "hbNQJfcNGkyT",
        "outputId": "9f7c7d79-a5fa-438f-8609-da3b63bac76a"
      },
      "outputs": [
        {
          "output_type": "stream",
          "name": "stdout",
          "text": [
            "Search space summary\n",
            "Default search space size: 5\n",
            "activation (Choice)\n",
            "{'default': 'relu', 'conditions': [], 'values': ['relu', 'elu', 'tanh'], 'ordered': False}\n",
            "learning_rate (Choice)\n",
            "{'default': 0.01, 'conditions': [], 'values': [0.01, 0.001, 0.0001], 'ordered': True}\n",
            "units1 (Int)\n",
            "{'default': None, 'conditions': [], 'min_value': 1, 'max_value': 100, 'step': 2, 'sampling': None}\n",
            "units2 (Int)\n",
            "{'default': None, 'conditions': [], 'min_value': 1, 'max_value': 100, 'step': 2, 'sampling': None}\n",
            "units3 (Int)\n",
            "{'default': None, 'conditions': [], 'min_value': 1, 'max_value': 100, 'step': 2, 'sampling': None}\n"
          ]
        }
      ],
      "source": [
        "tuner = kt.Hyperband(model_builder,\n",
        "                     objective='val_accuracy',\n",
        "                     max_epochs=50,\n",
        "                     factor=3,\n",
        "                     directory='my_dir',\n",
        "                     project_name='keras-tuning',\n",
        "                     overwrite=True)\n",
        "tuner.search_space_summary()"
      ]
    },
    {
      "cell_type": "code",
      "execution_count": 130,
      "metadata": {
        "colab": {
          "base_uri": "https://localhost:8080/"
        },
        "id": "ZqAyJpqsIBvG",
        "outputId": "d389e82d-a2d3-4442-b3cf-b0d551a63743"
      },
      "outputs": [
        {
          "output_type": "stream",
          "name": "stdout",
          "text": [
            "INFO:tensorflow:Oracle triggered exit\n"
          ]
        }
      ],
      "source": [
        "stop_early = tf.keras.callbacks.EarlyStopping(monitor='val_loss', patience=5)\n",
        "# Perform hypertuning\n",
        "tuner.search(X_train_scaled, y_train, epochs=50, validation_split=0.2, callbacks=[stop_early])"
      ]
    },
    {
      "cell_type": "code",
      "execution_count": 131,
      "metadata": {
        "colab": {
          "base_uri": "https://localhost:8080/"
        },
        "id": "PsVu4Dt3M0px",
        "outputId": "49d23aa6-f455-44d4-c2c8-69c2e17e9d2f"
      },
      "outputs": [
        {
          "output_type": "stream",
          "name": "stdout",
          "text": [
            "Results summary\n",
            "Results in my_dir/keras-tuning\n",
            "Showing 10 best trials\n",
            "<keras_tuner.engine.objective.Objective object at 0x7f0309162f90>\n",
            "Trial summary\n",
            "Hyperparameters:\n",
            "activation: tanh\n",
            "learning_rate: 0.01\n",
            "units1: 85\n",
            "units2: 75\n",
            "units3: 95\n",
            "tuner/epochs: 50\n",
            "tuner/initial_epoch: 17\n",
            "tuner/bracket: 2\n",
            "tuner/round: 2\n",
            "tuner/trial_id: 0067\n",
            "Score: 0.824999988079071\n",
            "Trial summary\n",
            "Hyperparameters:\n",
            "activation: relu\n",
            "learning_rate: 0.01\n",
            "units1: 73\n",
            "units2: 71\n",
            "units3: 89\n",
            "tuner/epochs: 50\n",
            "tuner/initial_epoch: 17\n",
            "tuner/bracket: 2\n",
            "tuner/round: 2\n",
            "tuner/trial_id: 0105\n",
            "Score: 0.800000011920929\n",
            "Trial summary\n",
            "Hyperparameters:\n",
            "activation: relu\n",
            "learning_rate: 0.001\n",
            "units1: 87\n",
            "units2: 25\n",
            "units3: 83\n",
            "tuner/epochs: 50\n",
            "tuner/initial_epoch: 0\n",
            "tuner/bracket: 0\n",
            "tuner/round: 0\n",
            "Score: 0.7749999761581421\n",
            "Trial summary\n",
            "Hyperparameters:\n",
            "activation: relu\n",
            "learning_rate: 0.01\n",
            "units1: 59\n",
            "units2: 43\n",
            "units3: 47\n",
            "tuner/epochs: 50\n",
            "tuner/initial_epoch: 17\n",
            "tuner/bracket: 1\n",
            "tuner/round: 1\n",
            "tuner/trial_id: 0119\n",
            "Score: 0.7749999761581421\n",
            "Trial summary\n",
            "Hyperparameters:\n",
            "activation: elu\n",
            "learning_rate: 0.01\n",
            "units1: 85\n",
            "units2: 13\n",
            "units3: 83\n",
            "tuner/epochs: 50\n",
            "tuner/initial_epoch: 17\n",
            "tuner/bracket: 1\n",
            "tuner/round: 1\n",
            "tuner/trial_id: 0112\n",
            "Score: 0.762499988079071\n",
            "Trial summary\n",
            "Hyperparameters:\n",
            "activation: relu\n",
            "learning_rate: 0.001\n",
            "units1: 85\n",
            "units2: 43\n",
            "units3: 59\n",
            "tuner/epochs: 50\n",
            "tuner/initial_epoch: 0\n",
            "tuner/bracket: 0\n",
            "tuner/round: 0\n",
            "Score: 0.75\n",
            "Trial summary\n",
            "Hyperparameters:\n",
            "activation: tanh\n",
            "learning_rate: 0.01\n",
            "units1: 33\n",
            "units2: 95\n",
            "units3: 11\n",
            "tuner/epochs: 50\n",
            "tuner/initial_epoch: 17\n",
            "tuner/bracket: 3\n",
            "tuner/round: 3\n",
            "tuner/trial_id: 0047\n",
            "Score: 0.737500011920929\n",
            "Trial summary\n",
            "Hyperparameters:\n",
            "activation: relu\n",
            "learning_rate: 0.01\n",
            "units1: 55\n",
            "units2: 59\n",
            "units3: 53\n",
            "tuner/epochs: 50\n",
            "tuner/initial_epoch: 0\n",
            "tuner/bracket: 0\n",
            "tuner/round: 0\n",
            "Score: 0.737500011920929\n",
            "Trial summary\n",
            "Hyperparameters:\n",
            "activation: elu\n",
            "learning_rate: 0.01\n",
            "units1: 81\n",
            "units2: 71\n",
            "units3: 49\n",
            "tuner/epochs: 50\n",
            "tuner/initial_epoch: 17\n",
            "tuner/bracket: 2\n",
            "tuner/round: 2\n",
            "tuner/trial_id: 0068\n",
            "Score: 0.7250000238418579\n",
            "Trial summary\n",
            "Hyperparameters:\n",
            "activation: relu\n",
            "learning_rate: 0.001\n",
            "units1: 15\n",
            "units2: 59\n",
            "units3: 87\n",
            "tuner/epochs: 50\n",
            "tuner/initial_epoch: 0\n",
            "tuner/bracket: 0\n",
            "tuner/round: 0\n",
            "Score: 0.7250000238418579\n"
          ]
        }
      ],
      "source": [
        "tuner.results_summary()"
      ]
    },
    {
      "cell_type": "code",
      "execution_count": 142,
      "metadata": {
        "colab": {
          "base_uri": "https://localhost:8080/"
        },
        "id": "CHmXUO9-IHjl",
        "outputId": "7c6ac43f-128f-44fa-b8fb-188a0c94509b"
      },
      "outputs": [
        {
          "output_type": "stream",
          "name": "stdout",
          "text": [
            "Epoch 1/100\n",
            "10/10 [==============================] - 2s 62ms/step - loss: 1.5525 - accuracy: 0.3636 - val_loss: 1.3214 - val_accuracy: 0.3875\n",
            "Epoch 2/100\n",
            "10/10 [==============================] - 0s 13ms/step - loss: 1.2761 - accuracy: 0.3981 - val_loss: 1.2423 - val_accuracy: 0.4250\n",
            "Epoch 3/100\n",
            "10/10 [==============================] - 0s 15ms/step - loss: 1.1820 - accuracy: 0.4357 - val_loss: 1.0757 - val_accuracy: 0.5250\n",
            "Epoch 4/100\n",
            "10/10 [==============================] - 0s 14ms/step - loss: 1.1132 - accuracy: 0.5016 - val_loss: 1.2619 - val_accuracy: 0.3250\n",
            "Epoch 5/100\n",
            "10/10 [==============================] - 0s 17ms/step - loss: 1.0888 - accuracy: 0.5204 - val_loss: 1.1854 - val_accuracy: 0.5250\n",
            "Epoch 6/100\n",
            "10/10 [==============================] - 0s 15ms/step - loss: 1.0171 - accuracy: 0.5893 - val_loss: 1.4211 - val_accuracy: 0.3125\n",
            "Epoch 7/100\n",
            "10/10 [==============================] - 0s 22ms/step - loss: 1.0038 - accuracy: 0.5674 - val_loss: 0.9928 - val_accuracy: 0.5875\n",
            "Epoch 8/100\n",
            "10/10 [==============================] - 0s 20ms/step - loss: 0.9156 - accuracy: 0.6144 - val_loss: 0.9938 - val_accuracy: 0.6750\n",
            "Epoch 9/100\n",
            "10/10 [==============================] - 0s 26ms/step - loss: 0.8719 - accuracy: 0.6458 - val_loss: 0.9949 - val_accuracy: 0.6875\n",
            "Epoch 10/100\n",
            "10/10 [==============================] - 0s 16ms/step - loss: 0.8276 - accuracy: 0.6176 - val_loss: 0.9354 - val_accuracy: 0.5750\n",
            "Epoch 11/100\n",
            "10/10 [==============================] - 0s 11ms/step - loss: 0.7738 - accuracy: 0.6771 - val_loss: 1.0853 - val_accuracy: 0.6625\n",
            "Epoch 12/100\n",
            "10/10 [==============================] - 0s 13ms/step - loss: 0.7475 - accuracy: 0.6708 - val_loss: 1.0668 - val_accuracy: 0.5625\n",
            "Epoch 13/100\n",
            "10/10 [==============================] - 0s 11ms/step - loss: 0.7046 - accuracy: 0.7210 - val_loss: 0.9459 - val_accuracy: 0.6375\n",
            "Epoch 14/100\n",
            "10/10 [==============================] - 0s 15ms/step - loss: 0.6775 - accuracy: 0.7085 - val_loss: 1.0062 - val_accuracy: 0.6000\n",
            "Epoch 15/100\n",
            "10/10 [==============================] - 0s 10ms/step - loss: 0.6437 - accuracy: 0.7116 - val_loss: 0.8524 - val_accuracy: 0.6750\n",
            "Epoch 16/100\n",
            "10/10 [==============================] - 0s 15ms/step - loss: 0.5592 - accuracy: 0.7712 - val_loss: 0.8355 - val_accuracy: 0.7375\n",
            "Epoch 17/100\n",
            "10/10 [==============================] - 0s 15ms/step - loss: 0.5053 - accuracy: 0.7837 - val_loss: 0.8777 - val_accuracy: 0.6875\n",
            "Epoch 18/100\n",
            "10/10 [==============================] - 0s 20ms/step - loss: 0.5228 - accuracy: 0.7994 - val_loss: 0.9679 - val_accuracy: 0.5875\n",
            "Epoch 19/100\n",
            "10/10 [==============================] - 0s 17ms/step - loss: 0.5246 - accuracy: 0.7680 - val_loss: 0.8024 - val_accuracy: 0.7125\n",
            "Epoch 20/100\n",
            "10/10 [==============================] - 0s 19ms/step - loss: 0.4936 - accuracy: 0.7774 - val_loss: 0.8015 - val_accuracy: 0.7500\n",
            "Epoch 21/100\n",
            "10/10 [==============================] - 0s 13ms/step - loss: 0.4289 - accuracy: 0.8182 - val_loss: 1.0796 - val_accuracy: 0.6750\n",
            "Epoch 22/100\n",
            "10/10 [==============================] - 0s 11ms/step - loss: 0.4592 - accuracy: 0.8088 - val_loss: 0.7634 - val_accuracy: 0.7500\n",
            "Epoch 23/100\n",
            "10/10 [==============================] - 0s 15ms/step - loss: 0.3361 - accuracy: 0.8809 - val_loss: 0.7979 - val_accuracy: 0.7750\n",
            "Epoch 24/100\n",
            "10/10 [==============================] - 0s 16ms/step - loss: 0.2984 - accuracy: 0.8997 - val_loss: 0.8514 - val_accuracy: 0.6875\n",
            "Epoch 25/100\n",
            "10/10 [==============================] - 0s 17ms/step - loss: 0.3187 - accuracy: 0.8652 - val_loss: 0.8726 - val_accuracy: 0.7250\n",
            "Epoch 26/100\n",
            "10/10 [==============================] - 0s 21ms/step - loss: 0.3868 - accuracy: 0.8370 - val_loss: 0.8299 - val_accuracy: 0.7500\n",
            "Epoch 27/100\n",
            "10/10 [==============================] - 0s 16ms/step - loss: 0.2764 - accuracy: 0.9060 - val_loss: 0.5972 - val_accuracy: 0.8750\n",
            "Epoch 28/100\n",
            "10/10 [==============================] - 0s 13ms/step - loss: 0.3015 - accuracy: 0.8840 - val_loss: 0.7339 - val_accuracy: 0.7625\n",
            "Epoch 29/100\n",
            "10/10 [==============================] - 0s 11ms/step - loss: 0.2592 - accuracy: 0.8809 - val_loss: 0.8055 - val_accuracy: 0.7875\n",
            "Epoch 30/100\n",
            "10/10 [==============================] - 0s 19ms/step - loss: 0.2148 - accuracy: 0.9091 - val_loss: 0.7897 - val_accuracy: 0.7375\n",
            "Epoch 31/100\n",
            "10/10 [==============================] - 0s 17ms/step - loss: 0.1962 - accuracy: 0.9279 - val_loss: 0.7772 - val_accuracy: 0.7875\n",
            "Epoch 32/100\n",
            "10/10 [==============================] - 0s 18ms/step - loss: 0.1796 - accuracy: 0.9342 - val_loss: 0.8097 - val_accuracy: 0.8250\n",
            "Epoch 33/100\n",
            "10/10 [==============================] - 0s 14ms/step - loss: 0.1697 - accuracy: 0.9342 - val_loss: 0.8749 - val_accuracy: 0.8000\n",
            "Epoch 34/100\n",
            "10/10 [==============================] - 0s 13ms/step - loss: 0.1699 - accuracy: 0.9561 - val_loss: 0.9884 - val_accuracy: 0.7500\n",
            "Epoch 35/100\n",
            "10/10 [==============================] - 0s 23ms/step - loss: 0.1778 - accuracy: 0.9248 - val_loss: 0.7708 - val_accuracy: 0.7875\n",
            "Epoch 36/100\n",
            "10/10 [==============================] - 0s 27ms/step - loss: 0.1553 - accuracy: 0.9498 - val_loss: 0.7746 - val_accuracy: 0.8125\n",
            "Epoch 37/100\n",
            "10/10 [==============================] - 0s 26ms/step - loss: 0.1078 - accuracy: 0.9687 - val_loss: 0.7981 - val_accuracy: 0.8250\n",
            "Epoch 38/100\n",
            "10/10 [==============================] - 0s 16ms/step - loss: 0.0788 - accuracy: 0.9781 - val_loss: 0.7457 - val_accuracy: 0.8375\n",
            "Epoch 39/100\n",
            "10/10 [==============================] - 0s 21ms/step - loss: 0.0810 - accuracy: 0.9655 - val_loss: 1.0020 - val_accuracy: 0.8000\n",
            "Epoch 40/100\n",
            "10/10 [==============================] - 0s 11ms/step - loss: 0.0724 - accuracy: 0.9655 - val_loss: 0.7567 - val_accuracy: 0.8250\n",
            "Epoch 41/100\n",
            "10/10 [==============================] - 0s 12ms/step - loss: 0.0773 - accuracy: 0.9687 - val_loss: 0.7899 - val_accuracy: 0.8125\n",
            "Epoch 42/100\n",
            "10/10 [==============================] - 0s 15ms/step - loss: 0.0621 - accuracy: 0.9875 - val_loss: 0.7910 - val_accuracy: 0.8500\n",
            "Epoch 43/100\n",
            "10/10 [==============================] - 0s 13ms/step - loss: 0.0547 - accuracy: 0.9843 - val_loss: 0.8128 - val_accuracy: 0.8375\n",
            "Epoch 44/100\n",
            "10/10 [==============================] - 0s 14ms/step - loss: 0.0506 - accuracy: 0.9781 - val_loss: 0.9026 - val_accuracy: 0.8125\n",
            "Epoch 45/100\n",
            "10/10 [==============================] - 0s 16ms/step - loss: 0.0601 - accuracy: 0.9843 - val_loss: 0.7669 - val_accuracy: 0.8250\n",
            "Epoch 46/100\n",
            "10/10 [==============================] - 0s 15ms/step - loss: 0.0567 - accuracy: 0.9812 - val_loss: 0.9215 - val_accuracy: 0.8250\n",
            "Epoch 47/100\n",
            "10/10 [==============================] - 0s 12ms/step - loss: 0.0525 - accuracy: 0.9812 - val_loss: 1.0353 - val_accuracy: 0.7750\n",
            "Epoch 48/100\n",
            "10/10 [==============================] - 0s 12ms/step - loss: 0.0744 - accuracy: 0.9812 - val_loss: 0.9600 - val_accuracy: 0.8125\n",
            "Epoch 49/100\n",
            "10/10 [==============================] - 0s 14ms/step - loss: 0.0955 - accuracy: 0.9687 - val_loss: 0.8946 - val_accuracy: 0.8000\n",
            "Epoch 50/100\n",
            "10/10 [==============================] - 0s 16ms/step - loss: 0.1055 - accuracy: 0.9561 - val_loss: 0.9116 - val_accuracy: 0.8250\n",
            "Epoch 51/100\n",
            "10/10 [==============================] - 0s 12ms/step - loss: 0.0798 - accuracy: 0.9655 - val_loss: 1.1691 - val_accuracy: 0.8125\n",
            "Epoch 52/100\n",
            "10/10 [==============================] - 0s 13ms/step - loss: 0.0943 - accuracy: 0.9687 - val_loss: 0.8788 - val_accuracy: 0.8375\n",
            "Epoch 53/100\n",
            "10/10 [==============================] - 0s 9ms/step - loss: 0.1079 - accuracy: 0.9718 - val_loss: 1.0484 - val_accuracy: 0.8000\n",
            "Epoch 54/100\n",
            "10/10 [==============================] - 0s 15ms/step - loss: 0.0958 - accuracy: 0.9592 - val_loss: 0.7728 - val_accuracy: 0.8750\n",
            "Epoch 55/100\n",
            "10/10 [==============================] - 0s 10ms/step - loss: 0.0760 - accuracy: 0.9781 - val_loss: 0.7546 - val_accuracy: 0.8375\n",
            "Epoch 56/100\n",
            "10/10 [==============================] - 0s 16ms/step - loss: 0.0584 - accuracy: 0.9781 - val_loss: 0.8878 - val_accuracy: 0.8000\n",
            "Epoch 57/100\n",
            "10/10 [==============================] - 0s 11ms/step - loss: 0.0545 - accuracy: 0.9687 - val_loss: 0.7985 - val_accuracy: 0.8375\n",
            "Epoch 58/100\n",
            "10/10 [==============================] - 0s 22ms/step - loss: 0.0477 - accuracy: 0.9781 - val_loss: 0.8448 - val_accuracy: 0.8125\n",
            "Epoch 59/100\n",
            "10/10 [==============================] - 0s 29ms/step - loss: 0.0637 - accuracy: 0.9812 - val_loss: 0.9195 - val_accuracy: 0.7875\n",
            "Epoch 60/100\n",
            "10/10 [==============================] - 0s 19ms/step - loss: 0.0857 - accuracy: 0.9781 - val_loss: 1.1379 - val_accuracy: 0.8000\n",
            "Epoch 61/100\n",
            "10/10 [==============================] - 0s 20ms/step - loss: 0.1036 - accuracy: 0.9687 - val_loss: 0.7182 - val_accuracy: 0.8375\n",
            "Epoch 62/100\n",
            "10/10 [==============================] - 0s 19ms/step - loss: 0.1276 - accuracy: 0.9592 - val_loss: 0.6250 - val_accuracy: 0.8875\n",
            "Epoch 63/100\n",
            "10/10 [==============================] - 0s 18ms/step - loss: 0.0872 - accuracy: 0.9749 - val_loss: 0.8186 - val_accuracy: 0.8625\n",
            "Epoch 64/100\n",
            "10/10 [==============================] - 0s 10ms/step - loss: 0.1144 - accuracy: 0.9624 - val_loss: 1.0516 - val_accuracy: 0.8000\n",
            "Epoch 65/100\n",
            "10/10 [==============================] - 0s 9ms/step - loss: 0.0820 - accuracy: 0.9749 - val_loss: 0.7670 - val_accuracy: 0.8250\n",
            "Epoch 66/100\n",
            "10/10 [==============================] - 0s 11ms/step - loss: 0.0547 - accuracy: 0.9812 - val_loss: 0.7740 - val_accuracy: 0.7875\n",
            "Epoch 67/100\n",
            "10/10 [==============================] - 0s 9ms/step - loss: 0.0437 - accuracy: 0.9812 - val_loss: 0.7635 - val_accuracy: 0.8250\n",
            "Epoch 68/100\n",
            "10/10 [==============================] - 0s 10ms/step - loss: 0.0378 - accuracy: 0.9906 - val_loss: 0.8144 - val_accuracy: 0.8250\n",
            "Epoch 69/100\n",
            "10/10 [==============================] - 0s 9ms/step - loss: 0.0185 - accuracy: 0.9969 - val_loss: 0.9179 - val_accuracy: 0.8375\n",
            "Epoch 70/100\n",
            "10/10 [==============================] - 0s 10ms/step - loss: 0.0157 - accuracy: 0.9969 - val_loss: 0.9485 - val_accuracy: 0.8375\n",
            "Epoch 71/100\n",
            "10/10 [==============================] - 0s 9ms/step - loss: 0.0100 - accuracy: 0.9969 - val_loss: 0.9084 - val_accuracy: 0.8375\n",
            "Epoch 72/100\n",
            "10/10 [==============================] - 0s 9ms/step - loss: 0.0095 - accuracy: 0.9937 - val_loss: 0.8981 - val_accuracy: 0.8250\n",
            "Epoch 73/100\n",
            "10/10 [==============================] - 0s 9ms/step - loss: 0.0094 - accuracy: 0.9969 - val_loss: 0.8953 - val_accuracy: 0.8375\n",
            "Epoch 74/100\n",
            "10/10 [==============================] - 0s 9ms/step - loss: 0.0076 - accuracy: 0.9969 - val_loss: 0.9220 - val_accuracy: 0.8250\n",
            "Epoch 75/100\n",
            "10/10 [==============================] - 0s 10ms/step - loss: 0.0088 - accuracy: 0.9969 - val_loss: 0.9257 - val_accuracy: 0.8250\n",
            "Epoch 76/100\n",
            "10/10 [==============================] - 0s 15ms/step - loss: 0.0068 - accuracy: 0.9969 - val_loss: 0.8787 - val_accuracy: 0.8375\n",
            "Epoch 77/100\n",
            "10/10 [==============================] - 0s 10ms/step - loss: 0.0069 - accuracy: 0.9969 - val_loss: 0.8592 - val_accuracy: 0.8375\n",
            "Epoch 78/100\n",
            "10/10 [==============================] - 0s 9ms/step - loss: 0.0080 - accuracy: 0.9969 - val_loss: 0.8760 - val_accuracy: 0.8375\n",
            "Epoch 79/100\n",
            "10/10 [==============================] - 0s 14ms/step - loss: 0.0084 - accuracy: 0.9937 - val_loss: 0.9407 - val_accuracy: 0.8250\n",
            "Epoch 80/100\n",
            "10/10 [==============================] - 0s 10ms/step - loss: 0.0069 - accuracy: 0.9969 - val_loss: 0.9124 - val_accuracy: 0.8375\n",
            "Epoch 81/100\n",
            "10/10 [==============================] - 0s 14ms/step - loss: 0.0064 - accuracy: 0.9969 - val_loss: 0.8885 - val_accuracy: 0.8375\n",
            "Epoch 82/100\n",
            "10/10 [==============================] - 0s 9ms/step - loss: 0.0077 - accuracy: 0.9969 - val_loss: 0.8738 - val_accuracy: 0.8375\n",
            "Epoch 83/100\n",
            "10/10 [==============================] - 0s 9ms/step - loss: 0.0063 - accuracy: 0.9969 - val_loss: 0.9087 - val_accuracy: 0.8375\n",
            "Epoch 84/100\n",
            "10/10 [==============================] - 0s 9ms/step - loss: 0.0065 - accuracy: 0.9969 - val_loss: 0.9083 - val_accuracy: 0.8375\n",
            "Epoch 85/100\n",
            "10/10 [==============================] - 0s 9ms/step - loss: 0.0064 - accuracy: 0.9969 - val_loss: 0.9025 - val_accuracy: 0.8375\n",
            "Epoch 86/100\n",
            "10/10 [==============================] - 0s 10ms/step - loss: 0.0074 - accuracy: 0.9937 - val_loss: 0.8642 - val_accuracy: 0.8375\n",
            "Epoch 87/100\n",
            "10/10 [==============================] - 0s 10ms/step - loss: 0.0063 - accuracy: 0.9969 - val_loss: 0.8856 - val_accuracy: 0.8375\n",
            "Epoch 88/100\n",
            "10/10 [==============================] - 0s 16ms/step - loss: 0.0060 - accuracy: 0.9969 - val_loss: 0.9136 - val_accuracy: 0.8375\n",
            "Epoch 89/100\n",
            "10/10 [==============================] - 0s 11ms/step - loss: 0.0065 - accuracy: 0.9969 - val_loss: 0.9159 - val_accuracy: 0.8375\n",
            "Epoch 90/100\n",
            "10/10 [==============================] - 0s 12ms/step - loss: 0.0079 - accuracy: 0.9937 - val_loss: 0.8647 - val_accuracy: 0.8375\n",
            "Epoch 91/100\n",
            "10/10 [==============================] - 0s 9ms/step - loss: 0.0062 - accuracy: 0.9969 - val_loss: 0.8824 - val_accuracy: 0.8375\n",
            "Epoch 92/100\n",
            "10/10 [==============================] - 0s 10ms/step - loss: 0.0056 - accuracy: 0.9969 - val_loss: 0.9148 - val_accuracy: 0.8375\n",
            "Epoch 93/100\n",
            "10/10 [==============================] - 0s 9ms/step - loss: 0.0061 - accuracy: 0.9969 - val_loss: 0.9167 - val_accuracy: 0.8375\n",
            "Epoch 94/100\n",
            "10/10 [==============================] - 0s 13ms/step - loss: 0.0061 - accuracy: 0.9969 - val_loss: 0.9139 - val_accuracy: 0.8375\n",
            "Epoch 95/100\n",
            "10/10 [==============================] - 0s 12ms/step - loss: 0.0067 - accuracy: 0.9937 - val_loss: 0.8768 - val_accuracy: 0.8375\n",
            "Epoch 96/100\n",
            "10/10 [==============================] - 0s 9ms/step - loss: 0.0059 - accuracy: 0.9969 - val_loss: 0.8946 - val_accuracy: 0.8375\n",
            "Epoch 97/100\n",
            "10/10 [==============================] - 0s 9ms/step - loss: 0.0066 - accuracy: 0.9969 - val_loss: 0.8797 - val_accuracy: 0.8375\n",
            "Epoch 98/100\n",
            "10/10 [==============================] - 0s 9ms/step - loss: 0.0054 - accuracy: 0.9969 - val_loss: 0.9196 - val_accuracy: 0.8375\n",
            "Epoch 99/100\n",
            "10/10 [==============================] - 0s 10ms/step - loss: 0.0059 - accuracy: 0.9969 - val_loss: 0.9178 - val_accuracy: 0.8375\n",
            "Epoch 100/100\n",
            "10/10 [==============================] - 0s 9ms/step - loss: 0.0059 - accuracy: 0.9969 - val_loss: 0.9150 - val_accuracy: 0.8375\n"
          ]
        }
      ],
      "source": [
        "best_hps=tuner.get_best_hyperparameters()[0]\n",
        "model = tuner.hypermodel.build(best_hps)\n",
        "history = model.fit(X_train_scaled, y_train, epochs=100, validation_split=0.2)"
      ]
    },
    {
      "cell_type": "markdown",
      "metadata": {
        "id": "WCm1M24DhCqI"
      },
      "source": [
        "### Plot graph"
      ]
    },
    {
      "cell_type": "code",
      "execution_count": 143,
      "metadata": {
        "colab": {
          "base_uri": "https://localhost:8080/",
          "height": 281
        },
        "id": "eq0RjzX8A_3h",
        "outputId": "1a00c160-dc6d-4fa5-8212-48cb99eeb56f"
      },
      "outputs": [
        {
          "output_type": "display_data",
          "data": {
            "text/plain": [
              "<Figure size 432x288 with 2 Axes>"
            ],
            "image/png": "[encoded data removed]"
          },
          "metadata": {
            "needs_background": "light"
          }
        }
      ],
      "source": [
        "plt.subplot(1, 2, 1)\n",
        "plt.title(\"Loss\")\n",
        "plt.plot(history.history[\"loss\"])\n",
        "plt.plot(history.history[\"val_loss\"])\n",
        "plt.legend(['loss', 'val_loss'])\n",
        "\n",
        "plt.subplot(1, 2, 2)\n",
        "plt.title(\"Accuracy\")\n",
        "plt.plot(history.history[\"accuracy\"])\n",
        "plt.plot(history.history[\"val_accuracy\"])\n",
        "plt.legend(['accuracy', 'val_accuracy'])\n",
        "\n",
        "plt.show()"
      ]
    },
    {
      "cell_type": "markdown",
      "metadata": {
        "id": "McaTE25HCYNM"
      },
      "source": [
        "### Performance metrics"
      ]
    },
    {
      "cell_type": "markdown",
      "metadata": {
        "id": "teDSrYmnCbCD"
      },
      "source": [
        "### Accuracy"
      ]
    },
    {
      "cell_type": "code",
      "execution_count": 144,
      "metadata": {
        "colab": {
          "base_uri": "https://localhost:8080/"
        },
        "id": "R_zOL1o-IpyH",
        "outputId": "d838d660-aba7-4314-9dde-df1dfe60073e"
      },
      "outputs": [
        {
          "output_type": "stream",
          "name": "stdout",
          "text": [
            "6/6 [==============================] - 0s 4ms/step - loss: 0.6910 - accuracy: 0.8547\n"
          ]
        },
        {
          "output_type": "execute_result",
          "data": {
            "text/plain": [
              "{'accuracy': 0.854651153087616, 'loss': 0.6909964084625244}"
            ]
          },
          "metadata": {},
          "execution_count": 144
        }
      ],
      "source": [
        "model.evaluate(X_test_scaled, y_test, return_dict=True)"
      ]
    },
    {
      "cell_type": "markdown",
      "metadata": {
        "id": "NugXYwkS5Enr"
      },
      "source": [
        "### Classification report"
      ]
    },
    {
      "cell_type": "code",
      "execution_count": 145,
      "metadata": {
        "colab": {
          "base_uri": "https://localhost:8080/"
        },
        "id": "xGT1gxI5kIHA",
        "outputId": "472272e1-7f6e-483b-c452-d29bfe2aa0b0"
      },
      "outputs": [
        {
          "output_type": "stream",
          "name": "stdout",
          "text": [
            "              precision    recall  f1-score   support\n",
            "\n",
            "           0       0.96      0.71      0.81        68\n",
            "           1       0.73      0.97      0.84        34\n",
            "           2       0.85      0.95      0.90        42\n",
            "           3       0.80      0.89      0.84         9\n",
            "           4       0.90      0.95      0.92        19\n",
            "\n",
            "    accuracy                           0.85       172\n",
            "   macro avg       0.85      0.89      0.86       172\n",
            "weighted avg       0.87      0.85      0.85       172\n",
            "\n"
          ]
        }
      ],
      "source": [
        "from sklearn.metrics import classification_report, confusion_matrix, ConfusionMatrixDisplay\n",
        "\n",
        "y_pred = model.predict(X_test_scaled)\n",
        "y_pred_class = np.argmax(y_pred, axis=1)\n",
        "y_test_class = np.argmax(y_test, axis=1)\n",
        "\n",
        "print(classification_report(y_test_class, y_pred_class))"
      ]
    },
    {
      "cell_type": "markdown",
      "metadata": {
        "id": "iz7EmKHQ5NqD"
      },
      "source": [
        "### Confusion matrix"
      ]
    },
    {
      "cell_type": "code",
      "execution_count": 146,
      "metadata": {
        "colab": {
          "base_uri": "https://localhost:8080/"
        },
        "id": "oD_zw7gX5L4E",
        "outputId": "559e4f3a-538f-4ad9-d5de-4b59c381c3fc"
      },
      "outputs": [
        {
          "output_type": "execute_result",
          "data": {
            "text/plain": [
              "array([[48,  9,  7,  2,  2],\n",
              "       [ 1, 33,  0,  0,  0],\n",
              "       [ 1,  1, 40,  0,  0],\n",
              "       [ 0,  1,  0,  8,  0],\n",
              "       [ 0,  1,  0,  0, 18]])"
            ]
          },
          "metadata": {},
          "execution_count": 146
        }
      ],
      "source": [
        "cm = confusion_matrix(y_test_class, y_pred_class)\n",
        "cm"
      ]
    },
    {
      "cell_type": "code",
      "source": [
        "disp = ConfusionMatrixDisplay(confusion_matrix=cm, display_labels=[0, 1, 2, 3, 4])\n",
        "disp.plot()\n",
        "plt.show()"
      ],
      "metadata": {
        "colab": {
          "base_uri": "https://localhost:8080/",
          "height": 279
        },
        "id": "AqxxvZxfWyB7",
        "outputId": "af2580c0-9779-482c-daa9-c88ac461048d"
      },
      "execution_count": 147,
      "outputs": [
        {
          "output_type": "display_data",
          "data": {
            "text/plain": [
              "<Figure size 432x288 with 2 Axes>"
            ],
            "image/png": "[encoded data removed]"
          },
          "metadata": {
            "needs_background": "light"
          }
        }
      ]
    },
    {
      "cell_type": "markdown",
      "metadata": {
        "id": "Op60lfPs5SMK"
      },
      "source": [
        "### ROC curve"
      ]
    },
    {
      "cell_type": "markdown",
      "metadata": {
        "id": "IvKlTCna5mdd"
      },
      "source": [
        "#### Area under the ROC curve"
      ]
    },
    {
      "cell_type": "code",
      "execution_count": 148,
      "metadata": {
        "colab": {
          "base_uri": "https://localhost:8080/"
        },
        "id": "VygOCViO5QrT",
        "outputId": "93665950-928e-46d3-c9ff-67c349d0ce5c"
      },
      "outputs": [
        {
          "output_type": "execute_result",
          "data": {
            "text/plain": [
              "0.9762149130349247"
            ]
          },
          "metadata": {},
          "execution_count": 148
        }
      ],
      "source": [
        "from sklearn.metrics import roc_auc_score\n",
        "roc_auc_score(y_test, y_pred, multi_class = 'ovo')"
      ]
    },
    {
      "cell_type": "markdown",
      "metadata": {
        "id": "p2myX9Wm5tEG"
      },
      "source": [
        "#### Plot of ROC curve"
      ]
    },
    {
      "cell_type": "code",
      "execution_count": 149,
      "metadata": {
        "colab": {
          "base_uri": "https://localhost:8080/",
          "height": 573
        },
        "id": "R6TqynEHnaME",
        "outputId": "69171d95-a6fb-4093-eec8-b24014188323"
      },
      "outputs": [
        {
          "output_type": "display_data",
          "data": {
            "text/plain": [
              "<Figure size 432x288 with 1 Axes>"
            ],
            "image/png": "[encoded data removed]"
          },
          "metadata": {
            "needs_background": "light"
          }
        },
        {
          "output_type": "display_data",
          "data": {
            "text/plain": [
              "<Figure size 432x288 with 1 Axes>"
            ],
            "image/png": "[encoded data removed]"
          },
          "metadata": {
            "needs_background": "light"
          }
        }
      ],
      "source": [
        "from sklearn.metrics import roc_curve\n",
        "from sklearn.metrics import auc\n",
        "from sklearn.metrics import RocCurveDisplay\n",
        "from numpy import interp\n",
        "from itertools import cycle\n",
        "\n",
        "n_classes = 5\n",
        "\n",
        "# Plot linewidth.\n",
        "lw = 3\n",
        "\n",
        "# Compute ROC curve and ROC area for each class\n",
        "fpr = dict()\n",
        "tpr = dict()\n",
        "roc_auc = dict()\n",
        "for i in range(n_classes):\n",
        "    fpr[i], tpr[i], _ = roc_curve(y_test[:, i], y_pred[:, i])\n",
        "    roc_auc[i] = auc(fpr[i], tpr[i])\n",
        "\n",
        "# Compute micro-average ROC curve and ROC area\n",
        "fpr[\"micro\"], tpr[\"micro\"], _ = roc_curve(y_test.ravel(), y_pred.ravel())\n",
        "roc_auc[\"micro\"] = auc(fpr[\"micro\"], tpr[\"micro\"])\n",
        "\n",
        "# Compute macro-average ROC curve and ROC area\n",
        "\n",
        "# First aggregate all false positive rates\n",
        "all_fpr = np.unique(np.concatenate([fpr[i] for i in range(n_classes)]))\n",
        "\n",
        "# Then interpolate all ROC curves at this points\n",
        "mean_tpr = np.zeros_like(all_fpr)\n",
        "for i in range(n_classes):\n",
        "    mean_tpr += interp(all_fpr, fpr[i], tpr[i])\n",
        "\n",
        "# Finally average it and compute AUC\n",
        "mean_tpr /= n_classes\n",
        "\n",
        "fpr[\"macro\"] = all_fpr\n",
        "tpr[\"macro\"] = mean_tpr\n",
        "roc_auc[\"macro\"] = auc(fpr[\"macro\"], tpr[\"macro\"])\n",
        "\n",
        "# Plot all ROC curves\n",
        "plt.figure(1)\n",
        "plt.plot(fpr[\"micro\"], tpr[\"micro\"],\n",
        "         label='micro-average ROC curve (area = {0:0.2f})'\n",
        "               ''.format(roc_auc[\"micro\"]),\n",
        "         color='deeppink', linestyle=':', linewidth=4)\n",
        "\n",
        "plt.plot(fpr[\"macro\"], tpr[\"macro\"],\n",
        "         label='macro-average ROC curve (area = {0:0.2f})'\n",
        "               ''.format(roc_auc[\"macro\"]),\n",
        "         color='navy', linestyle=':', linewidth=4)\n",
        "\n",
        "colors = cycle(['aqua', 'darkorange', 'cornflowerblue', 'green', 'magenta'])\n",
        "for i, color in zip(range(n_classes), colors):\n",
        "    plt.plot(fpr[i], tpr[i], color=color, lw=lw,\n",
        "             label='ROC curve of class {0} (area = {1:0.2f})'\n",
        "             ''.format(i, roc_auc[i]))\n",
        "\n",
        "plt.plot([0, 1], [0, 1], 'k--', lw=lw)\n",
        "plt.xlim([0.0, 1.0])\n",
        "plt.ylim([0.0, 1.05])\n",
        "plt.xlabel('False Positive Rate')\n",
        "plt.ylabel('True Positive Rate')\n",
        "plt.title('ROC Curve')\n",
        "plt.legend(loc=\"upper right\")\n",
        "plt.show()\n",
        "\n",
        "\n",
        "# Zoom in view of the upper left corner.\n",
        "plt.figure(2)\n",
        "plt.xlim(0, 0.2)\n",
        "plt.ylim(0.8, 1)\n",
        "plt.plot(fpr[\"micro\"], tpr[\"micro\"],\n",
        "         label='micro-average ROC curve (area = {0:0.2f})'\n",
        "               ''.format(roc_auc[\"micro\"]),\n",
        "         color='deeppink', linestyle=':', linewidth=4)\n",
        "\n",
        "plt.plot(fpr[\"macro\"], tpr[\"macro\"],\n",
        "         label='macro-average ROC curve (area = {0:0.2f})'\n",
        "               ''.format(roc_auc[\"macro\"]),\n",
        "         color='navy', linestyle=':', linewidth=4)\n",
        "\n",
        "for i, color in zip(range(n_classes), colors):\n",
        "    plt.plot(fpr[i], tpr[i], color=color, lw=lw,\n",
        "             label='ROC curve of class {0} (area = {1:0.2f})'\n",
        "             ''.format(i, roc_auc[i]))\n",
        "\n",
        "plt.plot([0, 1], [0, 1], 'k--', lw=lw)\n",
        "plt.xlabel('False Positive Rate')\n",
        "plt.ylabel('True Positive Rate')\n",
        "plt.title('ROC Curve (Zoomed In)')\n",
        "plt.legend(loc=\"upper right\")\n",
        "plt.show()"
      ]
    },
    {
      "cell_type": "markdown",
      "metadata": {
        "id": "bhxa1IMqgknD"
      },
      "source": [
        "## Save model and scaler"
      ]
    },
    {
      "cell_type": "code",
      "source": [
        "model.summary()"
      ],
      "metadata": {
        "colab": {
          "base_uri": "https://localhost:8080/"
        },
        "id": "XCnv7sY25Jew",
        "outputId": "5cd3899c-aaa2-4ebd-af19-8692154c7933"
      },
      "execution_count": 152,
      "outputs": [
        {
          "output_type": "stream",
          "name": "stdout",
          "text": [
            "Model: \"sequential_12\"\n",
            "_________________________________________________________________\n",
            " Layer (type)                Output Shape              Param #   \n",
            "=================================================================\n",
            " dense_60 (Dense)            (None, 19)                380       \n",
            "                                                                 \n",
            " dense_61 (Dense)            (None, 85)                1700      \n",
            "                                                                 \n",
            " dense_62 (Dense)            (None, 75)                6450      \n",
            "                                                                 \n",
            " dense_63 (Dense)            (None, 95)                7220      \n",
            "                                                                 \n",
            " dense_64 (Dense)            (None, 5)                 480       \n",
            "                                                                 \n",
            "=================================================================\n",
            "Total params: 16,230\n",
            "Trainable params: 16,230\n",
            "Non-trainable params: 0\n",
            "_________________________________________________________________\n"
          ]
        }
      ]
    },
    {
      "cell_type": "code",
      "execution_count": 153,
      "metadata": {
        "id": "ML1tdxEMYv0R"
      },
      "outputs": [],
      "source": [
        "model.save(\"model.h5\")"
      ]
    },
    {
      "cell_type": "code",
      "execution_count": 154,
      "metadata": {
        "colab": {
          "base_uri": "https://localhost:8080/"
        },
        "id": "aQ7LXIDmfmzf",
        "outputId": "90286c42-9b5b-4b4d-bc22-e36d621d5323"
      },
      "outputs": [
        {
          "output_type": "execute_result",
          "data": {
            "text/plain": [
              "['scaler.pkl']"
            ]
          },
          "metadata": {},
          "execution_count": 154
        }
      ],
      "source": [
        "import joblib\n",
        "joblib.dump(ct, 'scaler.pkl')"
      ]
    }
  ],
  "metadata": {
    "colab": {
      "collapsed_sections": [],
      "name": "DepressionIndicator - Wei Hong.ipynb",
      "provenance": [],
      "include_colab_link": true
    },
    "kernelspec": {
      "display_name": "Python 3",
      "name": "python3"
    },
    "language_info": {
      "name": "python"
    }
  },
  "nbformat": 4,
  "nbformat_minor": 0
}