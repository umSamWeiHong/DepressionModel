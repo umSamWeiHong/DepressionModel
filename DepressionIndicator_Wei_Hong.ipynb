{
  "nbformat": 4,
  "nbformat_minor": 0,
  "metadata": {
    "colab": {
      "name": "DepressionIndicator - Wei Hong.ipynb",
      "provenance": [],
      "collapsed_sections": [],
      "include_colab_link": true
    },
    "kernelspec": {
      "name": "python3",
      "display_name": "Python 3"
    },
    "language_info": {
      "name": "python"
    }
  },
  "cells": [
    {
      "cell_type": "markdown",
      "metadata": {
        "id": "view-in-github",
        "colab_type": "text"
      },
      "source": [
        "<a href=\"https://colab.research.google.com/github/umSamWeiHong/DepressionModel/blob/master/DepressionIndicator_Wei_Hong.ipynb\" target=\"_parent\"><img src=\"https://colab.research.google.com/assets/colab-badge.svg\" alt=\"Open In Colab\"/></a>"
      ]
    },
    {
      "cell_type": "markdown",
      "source": [
        "# Some random text\n"
      ],
      "metadata": {
        "id": "57Ni87HAOLMy"
      }
    },
    {
      "cell_type": "code",
      "source": [
        "# !pip install tensorflow-gpu"
      ],
      "metadata": {
        "id": "4DRuGCsd1sx4"
      },
      "execution_count": 260,
      "outputs": []
    },
    {
      "cell_type": "code",
      "source": [
        "# !nvidia-smi"
      ],
      "metadata": {
        "id": "tT64KCDT1-rh"
      },
      "execution_count": 261,
      "outputs": []
    },
    {
      "cell_type": "code",
      "source": [
        "from google.colab import drive\n",
        "drive.mount('/content/drive')"
      ],
      "metadata": {
        "id": "kC0AeXiRzVZ8",
        "colab": {
          "base_uri": "https://localhost:8080/"
        },
        "outputId": "5e5f6072-3c3a-426b-e982-62b34c49792a"
      },
      "execution_count": 262,
      "outputs": [
        {
          "output_type": "stream",
          "name": "stdout",
          "text": [
            "Drive already mounted at /content/drive; to attempt to forcibly remount, call drive.mount(\"/content/drive\", force_remount=True).\n"
          ]
        }
      ]
    },
    {
      "cell_type": "code",
      "source": [
        "import tensorflow as tf\n",
        "import numpy as np\n",
        "import pandas as pd\n",
        "import matplotlib.pyplot as plt\n",
        "tf.__version__"
      ],
      "metadata": {
        "id": "Mw7mWXC23I-P",
        "outputId": "e65bf4a6-246d-471b-e255-759c146ebea8",
        "colab": {
          "base_uri": "https://localhost:8080/",
          "height": 35
        }
      },
      "execution_count": 263,
      "outputs": [
        {
          "output_type": "execute_result",
          "data": {
            "text/plain": [
              "'2.8.2'"
            ],
            "application/vnd.google.colaboratory.intrinsic+json": {
              "type": "string"
            }
          },
          "metadata": {},
          "execution_count": 263
        }
      ]
    },
    {
      "cell_type": "code",
      "source": [
        "df = pd.read_csv('/content/drive/MyDrive/Machine Learning Group Project/depression.csv')\n",
        "df"
      ],
      "metadata": {
        "colab": {
          "base_uri": "https://localhost:8080/",
          "height": 487
        },
        "id": "e7QBwdb8wqhm",
        "outputId": "d87e25fb-976c-4b09-db52-d2c9a435cf17"
      },
      "execution_count": 264,
      "outputs": [
        {
          "output_type": "execute_result",
          "data": {
            "text/plain": [
              "     Code  Age_Numerical  Gender  Marital  Marital_problems  Religion_binary  \\\n",
              "0       1             34       0        0                 0                1   \n",
              "1       2             32       1        0                 0                1   \n",
              "2       3             33       0        0                 0                1   \n",
              "3       4             33       1        0                 1                1   \n",
              "4       5             39       1        0                 0                1   \n",
              "..    ...            ...     ...      ...               ...              ...   \n",
              "311   312             23       1        1                 0                0   \n",
              "312   313             36       0        1                 0                0   \n",
              "313   314             33       0        0                 0                0   \n",
              "314   315             25       1        1                 0                1   \n",
              "315   316             23       1        1                 0                1   \n",
              "\n",
              "     Religion_help  Med_or_not  Expenses  Monthly_expenses  ...  \\\n",
              "0                1           1         2                 1  ...   \n",
              "1                1           1         1                 0  ...   \n",
              "2                1           1         1                 0  ...   \n",
              "3                1           1         2                 1  ...   \n",
              "4                1           1         2                 1  ...   \n",
              "..             ...         ...       ...               ...  ...   \n",
              "311              1           1         2                 1  ...   \n",
              "312              0           0         2                 1  ...   \n",
              "313              0           1         2                 1  ...   \n",
              "314              0           1         0                 0  ...   \n",
              "315              1           1         0                 0  ...   \n",
              "\n",
              "     DASS_stress_numerical  MSPSS_family  MSPSS_friends  \\\n",
              "0                        0          27.2           24.0   \n",
              "1                        2          28.0           28.0   \n",
              "2                        0          28.0           28.0   \n",
              "3                       18          25.2           21.2   \n",
              "4                        2          26.0           20.0   \n",
              "..                     ...           ...            ...   \n",
              "311                      8          25.2           25.2   \n",
              "312                      0          23.2           20.0   \n",
              "313                      0          25.2           19.2   \n",
              "314                     26          14.0           13.2   \n",
              "315                      6          16.0           16.0   \n",
              "\n",
              "     MSPSS_significant_others  DASS_depression_binary  \\\n",
              "0                        26.0                       0   \n",
              "1                        28.0                       0   \n",
              "2                        28.0                       0   \n",
              "3                        24.0                       1   \n",
              "4                        28.0                       0   \n",
              "..                        ...                     ...   \n",
              "311                      27.2                       0   \n",
              "312                      24.0                       0   \n",
              "313                      27.2                       0   \n",
              "314                      13.2                       1   \n",
              "315                      17.2                       0   \n",
              "\n",
              "     DASS_depression_severity  DASS_anxiety_binary  DASS_anxiety_severity  \\\n",
              "0                           0                    0                      0   \n",
              "1                           0                    0                      0   \n",
              "2                           0                    0                      0   \n",
              "3                           2                    1                      4   \n",
              "4                           0                    0                      0   \n",
              "..                        ...                  ...                    ...   \n",
              "311                         0                    0                      0   \n",
              "312                         0                    0                      0   \n",
              "313                         0                    0                      0   \n",
              "314                         4                    1                      2   \n",
              "315                         0                    0                      0   \n",
              "\n",
              "     DASS_stress_binary  DASS_stress_severity  \n",
              "0                     0                     0  \n",
              "1                     0                     0  \n",
              "2                     0                     0  \n",
              "3                     1                     1  \n",
              "4                     0                     0  \n",
              "..                  ...                   ...  \n",
              "311                   0                     0  \n",
              "312                   0                     0  \n",
              "313                   0                     0  \n",
              "314                   1                     2  \n",
              "315                   0                     0  \n",
              "\n",
              "[316 rows x 34 columns]"
            ],
            "text/html": [
              "\n",
              "  <div id=\"df-9efc02eb-bbcd-4e22-8877-ecb170586ffe\">\n",
              "    <div class=\"colab-df-container\">\n",
              "      <div>\n",
              "<style scoped>\n",
              "    .dataframe tbody tr th:only-of-type {\n",
              "        vertical-align: middle;\n",
              "    }\n",
              "\n",
              "    .dataframe tbody tr th {\n",
              "        vertical-align: top;\n",
              "    }\n",
              "\n",
              "    .dataframe thead th {\n",
              "        text-align: right;\n",
              "    }\n",
              "</style>\n",
              "<table border=\"1\" class=\"dataframe\">\n",
              "  <thead>\n",
              "    <tr style=\"text-align: right;\">\n",
              "      <th></th>\n",
              "      <th>Code</th>\n",
              "      <th>Age_Numerical</th>\n",
              "      <th>Gender</th>\n",
              "      <th>Marital</th>\n",
              "      <th>Marital_problems</th>\n",
              "      <th>Religion_binary</th>\n",
              "      <th>Religion_help</th>\n",
              "      <th>Med_or_not</th>\n",
              "      <th>Expenses</th>\n",
              "      <th>Monthly_expenses</th>\n",
              "      <th>...</th>\n",
              "      <th>DASS_stress_numerical</th>\n",
              "      <th>MSPSS_family</th>\n",
              "      <th>MSPSS_friends</th>\n",
              "      <th>MSPSS_significant_others</th>\n",
              "      <th>DASS_depression_binary</th>\n",
              "      <th>DASS_depression_severity</th>\n",
              "      <th>DASS_anxiety_binary</th>\n",
              "      <th>DASS_anxiety_severity</th>\n",
              "      <th>DASS_stress_binary</th>\n",
              "      <th>DASS_stress_severity</th>\n",
              "    </tr>\n",
              "  </thead>\n",
              "  <tbody>\n",
              "    <tr>\n",
              "      <th>0</th>\n",
              "      <td>1</td>\n",
              "      <td>34</td>\n",
              "      <td>0</td>\n",
              "      <td>0</td>\n",
              "      <td>0</td>\n",
              "      <td>1</td>\n",
              "      <td>1</td>\n",
              "      <td>1</td>\n",
              "      <td>2</td>\n",
              "      <td>1</td>\n",
              "      <td>...</td>\n",
              "      <td>0</td>\n",
              "      <td>27.2</td>\n",
              "      <td>24.0</td>\n",
              "      <td>26.0</td>\n",
              "      <td>0</td>\n",
              "      <td>0</td>\n",
              "      <td>0</td>\n",
              "      <td>0</td>\n",
              "      <td>0</td>\n",
              "      <td>0</td>\n",
              "    </tr>\n",
              "    <tr>\n",
              "      <th>1</th>\n",
              "      <td>2</td>\n",
              "      <td>32</td>\n",
              "      <td>1</td>\n",
              "      <td>0</td>\n",
              "      <td>0</td>\n",
              "      <td>1</td>\n",
              "      <td>1</td>\n",
              "      <td>1</td>\n",
              "      <td>1</td>\n",
              "      <td>0</td>\n",
              "      <td>...</td>\n",
              "      <td>2</td>\n",
              "      <td>28.0</td>\n",
              "      <td>28.0</td>\n",
              "      <td>28.0</td>\n",
              "      <td>0</td>\n",
              "      <td>0</td>\n",
              "      <td>0</td>\n",
              "      <td>0</td>\n",
              "      <td>0</td>\n",
              "      <td>0</td>\n",
              "    </tr>\n",
              "    <tr>\n",
              "      <th>2</th>\n",
              "      <td>3</td>\n",
              "      <td>33</td>\n",
              "      <td>0</td>\n",
              "      <td>0</td>\n",
              "      <td>0</td>\n",
              "      <td>1</td>\n",
              "      <td>1</td>\n",
              "      <td>1</td>\n",
              "      <td>1</td>\n",
              "      <td>0</td>\n",
              "      <td>...</td>\n",
              "      <td>0</td>\n",
              "      <td>28.0</td>\n",
              "      <td>28.0</td>\n",
              "      <td>28.0</td>\n",
              "      <td>0</td>\n",
              "      <td>0</td>\n",
              "      <td>0</td>\n",
              "      <td>0</td>\n",
              "      <td>0</td>\n",
              "      <td>0</td>\n",
              "    </tr>\n",
              "    <tr>\n",
              "      <th>3</th>\n",
              "      <td>4</td>\n",
              "      <td>33</td>\n",
              "      <td>1</td>\n",
              "      <td>0</td>\n",
              "      <td>1</td>\n",
              "      <td>1</td>\n",
              "      <td>1</td>\n",
              "      <td>1</td>\n",
              "      <td>2</td>\n",
              "      <td>1</td>\n",
              "      <td>...</td>\n",
              "      <td>18</td>\n",
              "      <td>25.2</td>\n",
              "      <td>21.2</td>\n",
              "      <td>24.0</td>\n",
              "      <td>1</td>\n",
              "      <td>2</td>\n",
              "      <td>1</td>\n",
              "      <td>4</td>\n",
              "      <td>1</td>\n",
              "      <td>1</td>\n",
              "    </tr>\n",
              "    <tr>\n",
              "      <th>4</th>\n",
              "      <td>5</td>\n",
              "      <td>39</td>\n",
              "      <td>1</td>\n",
              "      <td>0</td>\n",
              "      <td>0</td>\n",
              "      <td>1</td>\n",
              "      <td>1</td>\n",
              "      <td>1</td>\n",
              "      <td>2</td>\n",
              "      <td>1</td>\n",
              "      <td>...</td>\n",
              "      <td>2</td>\n",
              "      <td>26.0</td>\n",
              "      <td>20.0</td>\n",
              "      <td>28.0</td>\n",
              "      <td>0</td>\n",
              "      <td>0</td>\n",
              "      <td>0</td>\n",
              "      <td>0</td>\n",
              "      <td>0</td>\n",
              "      <td>0</td>\n",
              "    </tr>\n",
              "    <tr>\n",
              "      <th>...</th>\n",
              "      <td>...</td>\n",
              "      <td>...</td>\n",
              "      <td>...</td>\n",
              "      <td>...</td>\n",
              "      <td>...</td>\n",
              "      <td>...</td>\n",
              "      <td>...</td>\n",
              "      <td>...</td>\n",
              "      <td>...</td>\n",
              "      <td>...</td>\n",
              "      <td>...</td>\n",
              "      <td>...</td>\n",
              "      <td>...</td>\n",
              "      <td>...</td>\n",
              "      <td>...</td>\n",
              "      <td>...</td>\n",
              "      <td>...</td>\n",
              "      <td>...</td>\n",
              "      <td>...</td>\n",
              "      <td>...</td>\n",
              "      <td>...</td>\n",
              "    </tr>\n",
              "    <tr>\n",
              "      <th>311</th>\n",
              "      <td>312</td>\n",
              "      <td>23</td>\n",
              "      <td>1</td>\n",
              "      <td>1</td>\n",
              "      <td>0</td>\n",
              "      <td>0</td>\n",
              "      <td>1</td>\n",
              "      <td>1</td>\n",
              "      <td>2</td>\n",
              "      <td>1</td>\n",
              "      <td>...</td>\n",
              "      <td>8</td>\n",
              "      <td>25.2</td>\n",
              "      <td>25.2</td>\n",
              "      <td>27.2</td>\n",
              "      <td>0</td>\n",
              "      <td>0</td>\n",
              "      <td>0</td>\n",
              "      <td>0</td>\n",
              "      <td>0</td>\n",
              "      <td>0</td>\n",
              "    </tr>\n",
              "    <tr>\n",
              "      <th>312</th>\n",
              "      <td>313</td>\n",
              "      <td>36</td>\n",
              "      <td>0</td>\n",
              "      <td>1</td>\n",
              "      <td>0</td>\n",
              "      <td>0</td>\n",
              "      <td>0</td>\n",
              "      <td>0</td>\n",
              "      <td>2</td>\n",
              "      <td>1</td>\n",
              "      <td>...</td>\n",
              "      <td>0</td>\n",
              "      <td>23.2</td>\n",
              "      <td>20.0</td>\n",
              "      <td>24.0</td>\n",
              "      <td>0</td>\n",
              "      <td>0</td>\n",
              "      <td>0</td>\n",
              "      <td>0</td>\n",
              "      <td>0</td>\n",
              "      <td>0</td>\n",
              "    </tr>\n",
              "    <tr>\n",
              "      <th>313</th>\n",
              "      <td>314</td>\n",
              "      <td>33</td>\n",
              "      <td>0</td>\n",
              "      <td>0</td>\n",
              "      <td>0</td>\n",
              "      <td>0</td>\n",
              "      <td>0</td>\n",
              "      <td>1</td>\n",
              "      <td>2</td>\n",
              "      <td>1</td>\n",
              "      <td>...</td>\n",
              "      <td>0</td>\n",
              "      <td>25.2</td>\n",
              "      <td>19.2</td>\n",
              "      <td>27.2</td>\n",
              "      <td>0</td>\n",
              "      <td>0</td>\n",
              "      <td>0</td>\n",
              "      <td>0</td>\n",
              "      <td>0</td>\n",
              "      <td>0</td>\n",
              "    </tr>\n",
              "    <tr>\n",
              "      <th>314</th>\n",
              "      <td>315</td>\n",
              "      <td>25</td>\n",
              "      <td>1</td>\n",
              "      <td>1</td>\n",
              "      <td>0</td>\n",
              "      <td>1</td>\n",
              "      <td>0</td>\n",
              "      <td>1</td>\n",
              "      <td>0</td>\n",
              "      <td>0</td>\n",
              "      <td>...</td>\n",
              "      <td>26</td>\n",
              "      <td>14.0</td>\n",
              "      <td>13.2</td>\n",
              "      <td>13.2</td>\n",
              "      <td>1</td>\n",
              "      <td>4</td>\n",
              "      <td>1</td>\n",
              "      <td>2</td>\n",
              "      <td>1</td>\n",
              "      <td>2</td>\n",
              "    </tr>\n",
              "    <tr>\n",
              "      <th>315</th>\n",
              "      <td>316</td>\n",
              "      <td>23</td>\n",
              "      <td>1</td>\n",
              "      <td>1</td>\n",
              "      <td>0</td>\n",
              "      <td>1</td>\n",
              "      <td>1</td>\n",
              "      <td>1</td>\n",
              "      <td>0</td>\n",
              "      <td>0</td>\n",
              "      <td>...</td>\n",
              "      <td>6</td>\n",
              "      <td>16.0</td>\n",
              "      <td>16.0</td>\n",
              "      <td>17.2</td>\n",
              "      <td>0</td>\n",
              "      <td>0</td>\n",
              "      <td>0</td>\n",
              "      <td>0</td>\n",
              "      <td>0</td>\n",
              "      <td>0</td>\n",
              "    </tr>\n",
              "  </tbody>\n",
              "</table>\n",
              "<p>316 rows × 34 columns</p>\n",
              "</div>\n",
              "      <button class=\"colab-df-convert\" onclick=\"convertToInteractive('df-9efc02eb-bbcd-4e22-8877-ecb170586ffe')\"\n",
              "              title=\"Convert this dataframe to an interactive table.\"\n",
              "              style=\"display:none;\">\n",
              "        \n",
              "  <svg xmlns=\"http://www.w3.org/2000/svg\" height=\"24px\"viewBox=\"0 0 24 24\"\n",
              "       width=\"24px\">\n",
              "    <path d=\"M0 0h24v24H0V0z\" fill=\"none\"/>\n",
              "    <path d=\"M18.56 5.44l.94 2.06.94-2.06 2.06-.94-2.06-.94-.94-2.06-.94 2.06-2.06.94zm-11 1L8.5 8.5l.94-2.06 2.06-.94-2.06-.94L8.5 2.5l-.94 2.06-2.06.94zm10 10l.94 2.06.94-2.06 2.06-.94-2.06-.94-.94-2.06-.94 2.06-2.06.94z\"/><path d=\"M17.41 7.96l-1.37-1.37c-.4-.4-.92-.59-1.43-.59-.52 0-1.04.2-1.43.59L10.3 9.45l-7.72 7.72c-.78.78-.78 2.05 0 2.83L4 21.41c.39.39.9.59 1.41.59.51 0 1.02-.2 1.41-.59l7.78-7.78 2.81-2.81c.8-.78.8-2.07 0-2.86zM5.41 20L4 18.59l7.72-7.72 1.47 1.35L5.41 20z\"/>\n",
              "  </svg>\n",
              "      </button>\n",
              "      \n",
              "  <style>\n",
              "    .colab-df-container {\n",
              "      display:flex;\n",
              "      flex-wrap:wrap;\n",
              "      gap: 12px;\n",
              "    }\n",
              "\n",
              "    .colab-df-convert {\n",
              "      background-color: #E8F0FE;\n",
              "      border: none;\n",
              "      border-radius: 50%;\n",
              "      cursor: pointer;\n",
              "      display: none;\n",
              "      fill: #1967D2;\n",
              "      height: 32px;\n",
              "      padding: 0 0 0 0;\n",
              "      width: 32px;\n",
              "    }\n",
              "\n",
              "    .colab-df-convert:hover {\n",
              "      background-color: #E2EBFA;\n",
              "      box-shadow: 0px 1px 2px rgba(60, 64, 67, 0.3), 0px 1px 3px 1px rgba(60, 64, 67, 0.15);\n",
              "      fill: #174EA6;\n",
              "    }\n",
              "\n",
              "    [theme=dark] .colab-df-convert {\n",
              "      background-color: #3B4455;\n",
              "      fill: #D2E3FC;\n",
              "    }\n",
              "\n",
              "    [theme=dark] .colab-df-convert:hover {\n",
              "      background-color: #434B5C;\n",
              "      box-shadow: 0px 1px 3px 1px rgba(0, 0, 0, 0.15);\n",
              "      filter: drop-shadow(0px 1px 2px rgba(0, 0, 0, 0.3));\n",
              "      fill: #FFFFFF;\n",
              "    }\n",
              "  </style>\n",
              "\n",
              "      <script>\n",
              "        const buttonEl =\n",
              "          document.querySelector('#df-9efc02eb-bbcd-4e22-8877-ecb170586ffe button.colab-df-convert');\n",
              "        buttonEl.style.display =\n",
              "          google.colab.kernel.accessAllowed ? 'block' : 'none';\n",
              "\n",
              "        async function convertToInteractive(key) {\n",
              "          const element = document.querySelector('#df-9efc02eb-bbcd-4e22-8877-ecb170586ffe');\n",
              "          const dataTable =\n",
              "            await google.colab.kernel.invokeFunction('convertToInteractive',\n",
              "                                                     [key], {});\n",
              "          if (!dataTable) return;\n",
              "\n",
              "          const docLinkHtml = 'Like what you see? Visit the ' +\n",
              "            '<a target=\"_blank\" href=https://colab.research.google.com/notebooks/data_table.ipynb>data table notebook</a>'\n",
              "            + ' to learn more about interactive tables.';\n",
              "          element.innerHTML = '';\n",
              "          dataTable['output_type'] = 'display_data';\n",
              "          await google.colab.output.renderOutput(dataTable, element);\n",
              "          const docLink = document.createElement('div');\n",
              "          docLink.innerHTML = docLinkHtml;\n",
              "          element.appendChild(docLink);\n",
              "        }\n",
              "      </script>\n",
              "    </div>\n",
              "  </div>\n",
              "  "
            ]
          },
          "metadata": {},
          "execution_count": 264
        }
      ]
    },
    {
      "cell_type": "code",
      "source": [
        "from collections import Counter\n",
        "X = df\n",
        "y = df['DASS_depression_severity']\n",
        "\n",
        "X = X.drop(columns='DASS_depression_severity')\n",
        "print(Counter(y))"
      ],
      "metadata": {
        "colab": {
          "base_uri": "https://localhost:8080/"
        },
        "id": "TNXFbHsVh0ti",
        "outputId": "e87b5746-e072-4e30-9309-faa78bcba53e"
      },
      "execution_count": 265,
      "outputs": [
        {
          "output_type": "stream",
          "name": "stdout",
          "text": [
            "Counter({0: 201, 1: 49, 2: 37, 3: 16, 4: 13})\n"
          ]
        }
      ]
    },
    {
      "cell_type": "code",
      "source": [
        "from imblearn.over_sampling import RandomOverSampler\n",
        "over = RandomOverSampler(sampling_strategy={0: 201, 1: 50, 2: 50, 3: 30, 4: 30})\n",
        "X, y = over.fit_resample(X, y)\n",
        "print(f\"Oversampled: {Counter(y)}\")"
      ],
      "metadata": {
        "colab": {
          "base_uri": "https://localhost:8080/"
        },
        "id": "sY-KFRIjq0tH",
        "outputId": "03b7be98-6494-4271-d62f-875a862a9024"
      },
      "execution_count": 266,
      "outputs": [
        {
          "output_type": "stream",
          "name": "stdout",
          "text": [
            "Oversampled: Counter({0: 201, 2: 50, 1: 50, 3: 30, 4: 30})\n"
          ]
        }
      ]
    },
    {
      "cell_type": "code",
      "source": [
        "from imblearn.under_sampling import RandomUnderSampler\n",
        "under = RandomUnderSampler(sampling_strategy={0: 100, 1: 50, 2: 50, 3: 30, 4: 30})\n",
        "X, y = under.fit_resample(X, y)\n",
        "print(f\"Combined Random Sampling: {Counter(y)}\")"
      ],
      "metadata": {
        "colab": {
          "base_uri": "https://localhost:8080/"
        },
        "id": "Ntu7Uxx6q0q3",
        "outputId": "a38282be-3aef-405d-a2bf-c3c14fb2e987"
      },
      "execution_count": 267,
      "outputs": [
        {
          "output_type": "stream",
          "name": "stdout",
          "text": [
            "Combined Random Sampling: Counter({0: 100, 1: 50, 2: 50, 3: 30, 4: 30})\n"
          ]
        }
      ]
    },
    {
      "cell_type": "markdown",
      "source": [
        "One hot encoding for categorical data"
      ],
      "metadata": {
        "id": "5GuktUMVpDav"
      }
    },
    {
      "cell_type": "code",
      "source": [
        "from sklearn.preprocessing import OneHotEncoder\n",
        "\n",
        "ohe = OneHotEncoder(sparse=False)\n",
        "X[['Alone','Friends/Coursemates','Family']] = ohe.fit_transform(X['Living_with1'].values.reshape(-1,1))\n",
        "X[['< RM1000','RM1000 - 3000','> RM3000']] = ohe.fit_transform(X['Expenses'].values.reshape(-1,1))\n",
        "y = ohe.fit_transform(y.values.reshape(-1,1))\n",
        "\n",
        "X = X.drop(columns=['Living_with1','Expenses'])\n",
        "y"
      ],
      "metadata": {
        "id": "VyBPO23hnrw9",
        "colab": {
          "base_uri": "https://localhost:8080/"
        },
        "outputId": "50855454-bda7-41bb-f874-be888b0682e0"
      },
      "execution_count": 268,
      "outputs": [
        {
          "output_type": "execute_result",
          "data": {
            "text/plain": [
              "array([[1., 0., 0., 0., 0.],\n",
              "       [1., 0., 0., 0., 0.],\n",
              "       [1., 0., 0., 0., 0.],\n",
              "       ...,\n",
              "       [0., 0., 0., 0., 1.],\n",
              "       [0., 0., 0., 0., 1.],\n",
              "       [0., 0., 0., 0., 1.]])"
            ]
          },
          "metadata": {},
          "execution_count": 268
        }
      ]
    },
    {
      "cell_type": "markdown",
      "source": [
        "Remove unnecessary columns (features):"
      ],
      "metadata": {
        "id": "H-cuLUfshz2j"
      }
    },
    {
      "cell_type": "code",
      "source": [
        "print(df.columns)\n",
        "df.drop(columns=['Code','Residence_high_COVID1','Living_with','Monthly_expenses',\n",
        "                 'DASS_depression_numerical','DASS_anxiety_numerical','DASS_stress_numerical',\n",
        "                 'DASS_depression_binary','DASS_anxiety_binary','DASS_anxiety_severity','DASS_stress_binary','DASS_stress_severity',\n",
        "                #  'Religion_binary','Med_or_not',\n",
        "                 ],\n",
        "        inplace=True, axis=1)\n",
        "print(df.columns)"
      ],
      "metadata": {
        "colab": {
          "base_uri": "https://localhost:8080/"
        },
        "id": "3hN1ifvxhzU0",
        "outputId": "0965e5fb-f50d-41d9-8323-c50dbd867643"
      },
      "execution_count": 269,
      "outputs": [
        {
          "output_type": "stream",
          "name": "stdout",
          "text": [
            "Index(['Code', 'Age_Numerical', 'Gender', 'Marital', 'Marital_problems',\n",
            "       'Religion_binary', 'Religion_help', 'Med_or_not', 'Expenses',\n",
            "       'Monthly_expenses', 'Living_with1', 'Living_with', 'Worry_family',\n",
            "       'Routine_loss', 'Class_hours', 'Stress_class_disrupted',\n",
            "       'Medical_illness', 'Mental_illness', 'COVID_symptoms',\n",
            "       'Residence_high_COVID1', 'Residence_high_COVID', 'Quarantine',\n",
            "       'DASS_depression_numerical', 'DASS_anxiety_numerical',\n",
            "       'DASS_stress_numerical', 'MSPSS_family', 'MSPSS_friends',\n",
            "       'MSPSS_significant_others', 'DASS_depression_binary',\n",
            "       'DASS_depression_severity', 'DASS_anxiety_binary',\n",
            "       'DASS_anxiety_severity', 'DASS_stress_binary', 'DASS_stress_severity'],\n",
            "      dtype='object')\n",
            "Index(['Age_Numerical', 'Gender', 'Marital', 'Marital_problems',\n",
            "       'Religion_binary', 'Religion_help', 'Med_or_not', 'Expenses',\n",
            "       'Living_with1', 'Worry_family', 'Routine_loss', 'Class_hours',\n",
            "       'Stress_class_disrupted', 'Medical_illness', 'Mental_illness',\n",
            "       'COVID_symptoms', 'Residence_high_COVID', 'Quarantine', 'MSPSS_family',\n",
            "       'MSPSS_friends', 'MSPSS_significant_others',\n",
            "       'DASS_depression_severity'],\n",
            "      dtype='object')\n"
          ]
        }
      ]
    },
    {
      "cell_type": "markdown",
      "source": [
        "Split the dataset into the training set and test set"
      ],
      "metadata": {
        "id": "fxeFideitBCm"
      }
    },
    {
      "cell_type": "code",
      "source": [
        "from sklearn.model_selection import train_test_split\n",
        "\n",
        "X_train, X_test, y_train, y_test = train_test_split(X, y, test_size=0.3)\n",
        "print(X_train.shape, y_train.shape)\n",
        "print(X_test.shape, y_test.shape)"
      ],
      "metadata": {
        "id": "w2TwMny0Dio1",
        "colab": {
          "base_uri": "https://localhost:8080/"
        },
        "outputId": "76b48a86-1446-42b0-b5e3-6d5572a4d037"
      },
      "execution_count": 270,
      "outputs": [
        {
          "output_type": "stream",
          "name": "stdout",
          "text": [
            "(182, 37) (182, 5)\n",
            "(78, 37) (78, 5)\n"
          ]
        }
      ]
    },
    {
      "cell_type": "markdown",
      "source": [
        "Call the method below for feature normalisation (for numerical values):"
      ],
      "metadata": {
        "id": "pn0aVR1DVljM"
      }
    },
    {
      "cell_type": "code",
      "source": [
        "from sklearn.preprocessing import StandardScaler\n",
        "from sklearn.compose import ColumnTransformer\n",
        "\n",
        "def featureNormalisation():\n",
        "  numeric_data = ['Age_Numerical', 'Class_hours', 'MSPSS_family', 'MSPSS_friends', 'MSPSS_significant_others']\n",
        "\n",
        "  ct = ColumnTransformer([('scaler', StandardScaler(), numeric_data)], remainder='passthrough')\n",
        "\n",
        "  X_train_scaled = ct.fit_transform(X_train)\n",
        "  # print(pd.DataFrame(X_train_scaled, columns = ct.get_feature_names_out()))\n",
        "  # the test set uses the fitted scaler in train dataset to transform in the test set\n",
        "  X_test_scaled = ct.transform(X_test)\n",
        "  return X_train_scaled, X_test_scaled, ct.get_feature_names_out()"
      ],
      "metadata": {
        "id": "gSrRWbUfCzTe"
      },
      "execution_count": 271,
      "outputs": []
    },
    {
      "cell_type": "markdown",
      "source": [
        "Use feature normalisation:"
      ],
      "metadata": {
        "id": "LoCFdvM2bz21"
      }
    },
    {
      "cell_type": "code",
      "source": [
        "X_train_scaled, X_test_scaled, features = featureNormalisation()"
      ],
      "metadata": {
        "id": "ULvUOq-OXcUP"
      },
      "execution_count": 272,
      "outputs": []
    },
    {
      "cell_type": "markdown",
      "source": [
        "Neural network (Deep learning):"
      ],
      "metadata": {
        "id": "bf5z7sksnU8-"
      }
    },
    {
      "cell_type": "code",
      "source": [
        "!pip install -q -U keras-tuner\n",
        "\n",
        "from tensorflow import keras\n",
        "from keras.models import Sequential\n",
        "from keras.layers import Dense\n",
        "import kerastuner as kt\n",
        "tf.keras.backend.clear_session()\n",
        "\n",
        "def model_builder(hp):\n",
        "  model = Sequential()\n",
        "  activation = hp.Choice('activation', values=['relu','elu','tanh'])\n",
        "  # activation = 'relu'\n",
        "  hp_learning_rate = hp.Choice('learning_rate', values=[1e-2, 1e-3, 1e-4])  \n",
        "  hp_units1 = hp.Int('units1', min_value=1, max_value=100, step=2)\n",
        "  hp_units2 = hp.Int('units2', min_value=1, max_value=100, step=2)\n",
        "  model.add(Dense(units=X.shape[1], activation=activation))\n",
        "  model.add(Dense(units=hp_units1, activation=activation))\n",
        "  model.add(keras.layers.Dropout(0.2)) \n",
        "  model.add(Dense(units=hp_units2, activation=activation, kernel_regularizer=keras.regularizers.l1()))\n",
        "  model.add(Dense(5, activation='softmax'))\n",
        "\n",
        "  model.compile(optimizer=keras.optimizers.Adam(learning_rate=hp_learning_rate),\n",
        "  # model.compile(optimizer=keras.optimizers.Adam(learning_rate=0.001),\n",
        "                loss=keras.losses.CategoricalCrossentropy(),\n",
        "                metrics=['accuracy'])\n",
        "  return model\n",
        "\n",
        "# def model_builder(hp):\n",
        "#   model = Sequential()\n",
        "#   activation = 'relu'\n",
        "#   hp_learning_rate = hp.Choice('learning_rate', values=[1e-2, 1e-3, 1e-4])\n",
        "  \n",
        "#   hp_units1 = hp.Int('units1', min_value=1, max_value=50, step=1)\n",
        "#   # hp_units2 = hp.Int('units2', min_value=1, max_value=50, step=1)\n",
        "#   # hp_units3 = hp.Int('units3', min_value=1, max_value=50, step=1)\n",
        "#   hp_dropout1 = hp.Float('dropout1', min_value=0, max_value=0.4)\n",
        "#   model.add(Dense(units=25, activation=activation))\n",
        "#   model.add(Dense(units=hp_units1, activation=activation))\n",
        "#   # model.add(Dense(units=hp_units2, activation=activation))\n",
        "#   model.add(keras.layers.Dropout(hp_dropout1))\n",
        "#   # model.add(Dense(units=hp_units3, activation=activation))    \n",
        "#   model.add(Dense(5, activation='softmax'))\n",
        "\n",
        "#   model.compile(optimizer=keras.optimizers.Adam(learning_rate=hp_learning_rate),\n",
        "#                 loss=keras.losses.CategoricalCrossentropy(),\n",
        "#                 metrics=['accuracy'])\n",
        "#   return model"
      ],
      "metadata": {
        "id": "VCnFqpo9HqpT"
      },
      "execution_count": 309,
      "outputs": []
    },
    {
      "cell_type": "code",
      "source": [
        "tuner = kt.Hyperband(model_builder,\n",
        "                     objective='val_accuracy',\n",
        "                     max_epochs=20,\n",
        "                     factor=3,\n",
        "                     directory='my_dir',\n",
        "                     project_name='keras-tuning',\n",
        "                     overwrite=True)\n",
        "tuner.search_space_summary()"
      ],
      "metadata": {
        "colab": {
          "base_uri": "https://localhost:8080/"
        },
        "id": "hbNQJfcNGkyT",
        "outputId": "41b8cb22-77ad-440d-95fa-80ca629e5723"
      },
      "execution_count": 438,
      "outputs": [
        {
          "output_type": "stream",
          "name": "stdout",
          "text": [
            "Search space summary\n",
            "Default search space size: 4\n",
            "activation (Choice)\n",
            "{'default': 'relu', 'conditions': [], 'values': ['relu', 'elu', 'tanh'], 'ordered': False}\n",
            "learning_rate (Choice)\n",
            "{'default': 0.01, 'conditions': [], 'values': [0.01, 0.001, 0.0001], 'ordered': True}\n",
            "units1 (Int)\n",
            "{'default': None, 'conditions': [], 'min_value': 1, 'max_value': 100, 'step': 2, 'sampling': None}\n",
            "units2 (Int)\n",
            "{'default': None, 'conditions': [], 'min_value': 1, 'max_value': 100, 'step': 2, 'sampling': None}\n"
          ]
        }
      ]
    },
    {
      "cell_type": "code",
      "source": [
        "stop_early = tf.keras.callbacks.EarlyStopping(monitor='val_loss', patience=5)\n",
        "# Perform hypertuning\n",
        "tuner.search(X_train_scaled, y_train, epochs=10, validation_split=0.2, callbacks=[stop_early])"
      ],
      "metadata": {
        "colab": {
          "base_uri": "https://localhost:8080/"
        },
        "id": "ZqAyJpqsIBvG",
        "outputId": "31240818-d4f2-4789-e220-112c3730793f"
      },
      "execution_count": 439,
      "outputs": [
        {
          "output_type": "stream",
          "name": "stdout",
          "text": [
            "Trial 30 Complete [00h 00m 02s]\n",
            "val_accuracy: 0.5675675868988037\n",
            "\n",
            "Best val_accuracy So Far: 0.9189189076423645\n",
            "Total elapsed time: 00h 00m 51s\n",
            "INFO:tensorflow:Oracle triggered exit\n"
          ]
        }
      ]
    },
    {
      "cell_type": "code",
      "source": [
        "best_hps=tuner.get_best_hyperparameters()[0]\n",
        "h_model = tuner.hypermodel.build(best_hps)\n",
        "history = h_model.fit(X_train_scaled, y_train, epochs=200, validation_split=0.2)"
      ],
      "metadata": {
        "id": "CHmXUO9-IHjl",
        "colab": {
          "base_uri": "https://localhost:8080/"
        },
        "outputId": "54d63123-1f23-4e12-f191-95f95c7af336"
      },
      "execution_count": 459,
      "outputs": [
        {
          "output_type": "stream",
          "name": "stdout",
          "text": [
            "Epoch 1/200\n",
            "5/5 [==============================] - 1s 45ms/step - loss: 14.9028 - accuracy: 0.1862 - val_loss: 11.8491 - val_accuracy: 0.4054\n",
            "Epoch 2/200\n",
            "5/5 [==============================] - 0s 11ms/step - loss: 9.5816 - accuracy: 0.3724 - val_loss: 6.9125 - val_accuracy: 0.2162\n",
            "Epoch 3/200\n",
            "5/5 [==============================] - 0s 9ms/step - loss: 6.8982 - accuracy: 0.2759 - val_loss: 5.7712 - val_accuracy: 0.4865\n",
            "Epoch 4/200\n",
            "5/5 [==============================] - 0s 11ms/step - loss: 5.8079 - accuracy: 0.5103 - val_loss: 5.2257 - val_accuracy: 0.5405\n",
            "Epoch 5/200\n",
            "5/5 [==============================] - 0s 8ms/step - loss: 5.1920 - accuracy: 0.4897 - val_loss: 4.7471 - val_accuracy: 0.5405\n",
            "Epoch 6/200\n",
            "5/5 [==============================] - 0s 8ms/step - loss: 4.7092 - accuracy: 0.6138 - val_loss: 4.2044 - val_accuracy: 0.7568\n",
            "Epoch 7/200\n",
            "5/5 [==============================] - 0s 9ms/step - loss: 4.3012 - accuracy: 0.5793 - val_loss: 3.7297 - val_accuracy: 0.9189\n",
            "Epoch 8/200\n",
            "5/5 [==============================] - 0s 10ms/step - loss: 3.9591 - accuracy: 0.6069 - val_loss: 3.4176 - val_accuracy: 0.8378\n",
            "Epoch 9/200\n",
            "5/5 [==============================] - 0s 10ms/step - loss: 3.5553 - accuracy: 0.7034 - val_loss: 3.1518 - val_accuracy: 0.7838\n",
            "Epoch 10/200\n",
            "5/5 [==============================] - 0s 11ms/step - loss: 3.2430 - accuracy: 0.7586 - val_loss: 2.9102 - val_accuracy: 0.7568\n",
            "Epoch 11/200\n",
            "5/5 [==============================] - 0s 11ms/step - loss: 2.9289 - accuracy: 0.7931 - val_loss: 2.5665 - val_accuracy: 0.8919\n",
            "Epoch 12/200\n",
            "5/5 [==============================] - 0s 9ms/step - loss: 2.6260 - accuracy: 0.8483 - val_loss: 2.3518 - val_accuracy: 0.9459\n",
            "Epoch 13/200\n",
            "5/5 [==============================] - 0s 10ms/step - loss: 2.4432 - accuracy: 0.8414 - val_loss: 2.1485 - val_accuracy: 0.9730\n",
            "Epoch 14/200\n",
            "5/5 [==============================] - 0s 9ms/step - loss: 2.2702 - accuracy: 0.8000 - val_loss: 2.0329 - val_accuracy: 0.9189\n",
            "Epoch 15/200\n",
            "5/5 [==============================] - 0s 9ms/step - loss: 2.1292 - accuracy: 0.8414 - val_loss: 1.8868 - val_accuracy: 0.9459\n",
            "Epoch 16/200\n",
            "5/5 [==============================] - 0s 9ms/step - loss: 1.9911 - accuracy: 0.8414 - val_loss: 1.7793 - val_accuracy: 0.9189\n",
            "Epoch 17/200\n",
            "5/5 [==============================] - 0s 9ms/step - loss: 1.8885 - accuracy: 0.8414 - val_loss: 1.6347 - val_accuracy: 0.9730\n",
            "Epoch 18/200\n",
            "5/5 [==============================] - 0s 12ms/step - loss: 1.7359 - accuracy: 0.8828 - val_loss: 1.6082 - val_accuracy: 0.9189\n",
            "Epoch 19/200\n",
            "5/5 [==============================] - 0s 8ms/step - loss: 1.6406 - accuracy: 0.8759 - val_loss: 1.4309 - val_accuracy: 0.9730\n",
            "Epoch 20/200\n",
            "5/5 [==============================] - 0s 9ms/step - loss: 1.5517 - accuracy: 0.8897 - val_loss: 1.4300 - val_accuracy: 0.8919\n",
            "Epoch 21/200\n",
            "5/5 [==============================] - 0s 9ms/step - loss: 1.4447 - accuracy: 0.9172 - val_loss: 1.3073 - val_accuracy: 0.9730\n",
            "Epoch 22/200\n",
            "5/5 [==============================] - 0s 10ms/step - loss: 1.3752 - accuracy: 0.9034 - val_loss: 1.2338 - val_accuracy: 1.0000\n",
            "Epoch 23/200\n",
            "5/5 [==============================] - 0s 9ms/step - loss: 1.3194 - accuracy: 0.8759 - val_loss: 1.2234 - val_accuracy: 0.9459\n",
            "Epoch 24/200\n",
            "5/5 [==============================] - 0s 9ms/step - loss: 1.2635 - accuracy: 0.9103 - val_loss: 1.1548 - val_accuracy: 0.9189\n",
            "Epoch 25/200\n",
            "5/5 [==============================] - 0s 10ms/step - loss: 1.2529 - accuracy: 0.8966 - val_loss: 1.0925 - val_accuracy: 1.0000\n",
            "Epoch 26/200\n",
            "5/5 [==============================] - 0s 10ms/step - loss: 1.1864 - accuracy: 0.9241 - val_loss: 1.1818 - val_accuracy: 0.8649\n",
            "Epoch 27/200\n",
            "5/5 [==============================] - 0s 10ms/step - loss: 1.1432 - accuracy: 0.8966 - val_loss: 1.0605 - val_accuracy: 0.9459\n",
            "Epoch 28/200\n",
            "5/5 [==============================] - 0s 9ms/step - loss: 1.0793 - accuracy: 0.9034 - val_loss: 0.9536 - val_accuracy: 0.9730\n",
            "Epoch 29/200\n",
            "5/5 [==============================] - 0s 10ms/step - loss: 1.0650 - accuracy: 0.8966 - val_loss: 0.9021 - val_accuracy: 0.9730\n",
            "Epoch 30/200\n",
            "5/5 [==============================] - 0s 10ms/step - loss: 1.0277 - accuracy: 0.9034 - val_loss: 1.1057 - val_accuracy: 0.7838\n",
            "Epoch 31/200\n",
            "5/5 [==============================] - 0s 10ms/step - loss: 1.0051 - accuracy: 0.9172 - val_loss: 0.9801 - val_accuracy: 0.8378\n",
            "Epoch 32/200\n",
            "5/5 [==============================] - 0s 10ms/step - loss: 0.9764 - accuracy: 0.9034 - val_loss: 0.8777 - val_accuracy: 0.9189\n",
            "Epoch 33/200\n",
            "5/5 [==============================] - 0s 10ms/step - loss: 0.9785 - accuracy: 0.8759 - val_loss: 0.8313 - val_accuracy: 0.9730\n",
            "Epoch 34/200\n",
            "5/5 [==============================] - 0s 9ms/step - loss: 0.9074 - accuracy: 0.9241 - val_loss: 0.8882 - val_accuracy: 0.9189\n",
            "Epoch 35/200\n",
            "5/5 [==============================] - 0s 9ms/step - loss: 0.8547 - accuracy: 0.9379 - val_loss: 0.8838 - val_accuracy: 0.8919\n",
            "Epoch 36/200\n",
            "5/5 [==============================] - 0s 9ms/step - loss: 0.8494 - accuracy: 0.9241 - val_loss: 0.7157 - val_accuracy: 0.9730\n",
            "Epoch 37/200\n",
            "5/5 [==============================] - 0s 10ms/step - loss: 0.8094 - accuracy: 0.9172 - val_loss: 0.7789 - val_accuracy: 0.8919\n",
            "Epoch 38/200\n",
            "5/5 [==============================] - 0s 9ms/step - loss: 0.7597 - accuracy: 0.9379 - val_loss: 0.7526 - val_accuracy: 0.9459\n",
            "Epoch 39/200\n",
            "5/5 [==============================] - 0s 9ms/step - loss: 0.7236 - accuracy: 0.9517 - val_loss: 0.9600 - val_accuracy: 0.8378\n",
            "Epoch 40/200\n",
            "5/5 [==============================] - 0s 9ms/step - loss: 0.8347 - accuracy: 0.8828 - val_loss: 0.8428 - val_accuracy: 0.7838\n",
            "Epoch 41/200\n",
            "5/5 [==============================] - 0s 9ms/step - loss: 0.8773 - accuracy: 0.8483 - val_loss: 0.6421 - val_accuracy: 0.9730\n",
            "Epoch 42/200\n",
            "5/5 [==============================] - 0s 11ms/step - loss: 0.7775 - accuracy: 0.8897 - val_loss: 0.6780 - val_accuracy: 0.9459\n",
            "Epoch 43/200\n",
            "5/5 [==============================] - 0s 10ms/step - loss: 0.7456 - accuracy: 0.9517 - val_loss: 0.7524 - val_accuracy: 0.8378\n",
            "Epoch 44/200\n",
            "5/5 [==============================] - 0s 9ms/step - loss: 0.6777 - accuracy: 0.9517 - val_loss: 0.5947 - val_accuracy: 1.0000\n",
            "Epoch 45/200\n",
            "5/5 [==============================] - 0s 10ms/step - loss: 0.6513 - accuracy: 0.9586 - val_loss: 0.6091 - val_accuracy: 0.9459\n",
            "Epoch 46/200\n",
            "5/5 [==============================] - 0s 11ms/step - loss: 0.6257 - accuracy: 0.9517 - val_loss: 0.7641 - val_accuracy: 0.8378\n",
            "Epoch 47/200\n",
            "5/5 [==============================] - 0s 9ms/step - loss: 0.6075 - accuracy: 0.9517 - val_loss: 0.6154 - val_accuracy: 0.9189\n",
            "Epoch 48/200\n",
            "5/5 [==============================] - 0s 10ms/step - loss: 0.5431 - accuracy: 0.9724 - val_loss: 0.5945 - val_accuracy: 0.9189\n",
            "Epoch 49/200\n",
            "5/5 [==============================] - 0s 9ms/step - loss: 0.5219 - accuracy: 0.9724 - val_loss: 0.4923 - val_accuracy: 0.9730\n",
            "Epoch 50/200\n",
            "5/5 [==============================] - 0s 10ms/step - loss: 0.5134 - accuracy: 0.9655 - val_loss: 0.5789 - val_accuracy: 0.9189\n",
            "Epoch 51/200\n",
            "5/5 [==============================] - 0s 10ms/step - loss: 0.4742 - accuracy: 0.9862 - val_loss: 0.4672 - val_accuracy: 0.9459\n",
            "Epoch 52/200\n",
            "5/5 [==============================] - 0s 10ms/step - loss: 0.4639 - accuracy: 0.9793 - val_loss: 0.4478 - val_accuracy: 0.9459\n",
            "Epoch 53/200\n",
            "5/5 [==============================] - 0s 10ms/step - loss: 0.4412 - accuracy: 0.9931 - val_loss: 0.4518 - val_accuracy: 0.9459\n",
            "Epoch 54/200\n",
            "5/5 [==============================] - 0s 10ms/step - loss: 0.4358 - accuracy: 0.9655 - val_loss: 0.4497 - val_accuracy: 0.9459\n",
            "Epoch 55/200\n",
            "5/5 [==============================] - 0s 11ms/step - loss: 0.4047 - accuracy: 0.9862 - val_loss: 0.3957 - val_accuracy: 1.0000\n",
            "Epoch 56/200\n",
            "5/5 [==============================] - 0s 9ms/step - loss: 0.3815 - accuracy: 0.9862 - val_loss: 0.5204 - val_accuracy: 0.9189\n",
            "Epoch 57/200\n",
            "5/5 [==============================] - 0s 9ms/step - loss: 0.3796 - accuracy: 0.9862 - val_loss: 0.4216 - val_accuracy: 0.9459\n",
            "Epoch 58/200\n",
            "5/5 [==============================] - 0s 9ms/step - loss: 0.4018 - accuracy: 0.9793 - val_loss: 0.6550 - val_accuracy: 0.8108\n",
            "Epoch 59/200\n",
            "5/5 [==============================] - 0s 10ms/step - loss: 0.4379 - accuracy: 0.9379 - val_loss: 0.3649 - val_accuracy: 1.0000\n",
            "Epoch 60/200\n",
            "5/5 [==============================] - 0s 9ms/step - loss: 0.4319 - accuracy: 0.9586 - val_loss: 0.4092 - val_accuracy: 0.9459\n",
            "Epoch 61/200\n",
            "5/5 [==============================] - 0s 8ms/step - loss: 0.4096 - accuracy: 0.9655 - val_loss: 0.7844 - val_accuracy: 0.7297\n",
            "Epoch 62/200\n",
            "5/5 [==============================] - 0s 13ms/step - loss: 0.4929 - accuracy: 0.9103 - val_loss: 0.3456 - val_accuracy: 1.0000\n",
            "Epoch 63/200\n",
            "5/5 [==============================] - 0s 8ms/step - loss: 0.4041 - accuracy: 0.9724 - val_loss: 0.4336 - val_accuracy: 0.9459\n",
            "Epoch 64/200\n",
            "5/5 [==============================] - 0s 9ms/step - loss: 0.3998 - accuracy: 0.9793 - val_loss: 0.5238 - val_accuracy: 0.8919\n",
            "Epoch 65/200\n",
            "5/5 [==============================] - 0s 8ms/step - loss: 0.5139 - accuracy: 0.9448 - val_loss: 0.3645 - val_accuracy: 1.0000\n",
            "Epoch 66/200\n",
            "5/5 [==============================] - 0s 11ms/step - loss: 0.4584 - accuracy: 0.9517 - val_loss: 0.5101 - val_accuracy: 0.9189\n",
            "Epoch 67/200\n",
            "5/5 [==============================] - 0s 9ms/step - loss: 0.4086 - accuracy: 0.9448 - val_loss: 0.3905 - val_accuracy: 0.9459\n",
            "Epoch 68/200\n",
            "5/5 [==============================] - 0s 9ms/step - loss: 0.3763 - accuracy: 0.9586 - val_loss: 0.4184 - val_accuracy: 0.9189\n",
            "Epoch 69/200\n",
            "5/5 [==============================] - 0s 10ms/step - loss: 0.3994 - accuracy: 0.9448 - val_loss: 0.3153 - val_accuracy: 0.9730\n",
            "Epoch 70/200\n",
            "5/5 [==============================] - 0s 10ms/step - loss: 0.3684 - accuracy: 0.9655 - val_loss: 0.5408 - val_accuracy: 0.8919\n",
            "Epoch 71/200\n",
            "5/5 [==============================] - 0s 9ms/step - loss: 0.3634 - accuracy: 0.9724 - val_loss: 0.4955 - val_accuracy: 0.9189\n",
            "Epoch 72/200\n",
            "5/5 [==============================] - 0s 10ms/step - loss: 0.3252 - accuracy: 0.9931 - val_loss: 0.3564 - val_accuracy: 0.9730\n",
            "Epoch 73/200\n",
            "5/5 [==============================] - 0s 9ms/step - loss: 0.3262 - accuracy: 0.9793 - val_loss: 0.2807 - val_accuracy: 1.0000\n",
            "Epoch 74/200\n",
            "5/5 [==============================] - 0s 9ms/step - loss: 0.3338 - accuracy: 0.9793 - val_loss: 0.3598 - val_accuracy: 0.9730\n",
            "Epoch 75/200\n",
            "5/5 [==============================] - 0s 9ms/step - loss: 0.3014 - accuracy: 0.9862 - val_loss: 0.3290 - val_accuracy: 0.9459\n",
            "Epoch 76/200\n",
            "5/5 [==============================] - 0s 9ms/step - loss: 0.2675 - accuracy: 1.0000 - val_loss: 0.2783 - val_accuracy: 0.9730\n",
            "Epoch 77/200\n",
            "5/5 [==============================] - 0s 8ms/step - loss: 0.2592 - accuracy: 0.9862 - val_loss: 0.2837 - val_accuracy: 0.9459\n",
            "Epoch 78/200\n",
            "5/5 [==============================] - 0s 9ms/step - loss: 0.2490 - accuracy: 0.9931 - val_loss: 0.3938 - val_accuracy: 0.8919\n",
            "Epoch 79/200\n",
            "5/5 [==============================] - 0s 9ms/step - loss: 0.2561 - accuracy: 0.9862 - val_loss: 0.2770 - val_accuracy: 0.9730\n",
            "Epoch 80/200\n",
            "5/5 [==============================] - 0s 10ms/step - loss: 0.2305 - accuracy: 1.0000 - val_loss: 0.3015 - val_accuracy: 0.9459\n",
            "Epoch 81/200\n",
            "5/5 [==============================] - 0s 9ms/step - loss: 0.2272 - accuracy: 0.9862 - val_loss: 0.2526 - val_accuracy: 0.9730\n",
            "Epoch 82/200\n",
            "5/5 [==============================] - 0s 11ms/step - loss: 0.2638 - accuracy: 0.9724 - val_loss: 0.3642 - val_accuracy: 0.9189\n",
            "Epoch 83/200\n",
            "5/5 [==============================] - 0s 9ms/step - loss: 0.2286 - accuracy: 0.9931 - val_loss: 0.2743 - val_accuracy: 0.9730\n",
            "Epoch 84/200\n",
            "5/5 [==============================] - 0s 11ms/step - loss: 0.2168 - accuracy: 1.0000 - val_loss: 0.2996 - val_accuracy: 0.9459\n",
            "Epoch 85/200\n",
            "5/5 [==============================] - 0s 9ms/step - loss: 0.2225 - accuracy: 0.9862 - val_loss: 0.2509 - val_accuracy: 0.9730\n",
            "Epoch 86/200\n",
            "5/5 [==============================] - 0s 10ms/step - loss: 0.2638 - accuracy: 0.9724 - val_loss: 0.2284 - val_accuracy: 1.0000\n",
            "Epoch 87/200\n",
            "5/5 [==============================] - 0s 9ms/step - loss: 0.2630 - accuracy: 0.9793 - val_loss: 0.5464 - val_accuracy: 0.7838\n",
            "Epoch 88/200\n",
            "5/5 [==============================] - 0s 9ms/step - loss: 0.2992 - accuracy: 0.9517 - val_loss: 0.3319 - val_accuracy: 0.9189\n",
            "Epoch 89/200\n",
            "5/5 [==============================] - 0s 10ms/step - loss: 0.2529 - accuracy: 0.9724 - val_loss: 0.2783 - val_accuracy: 0.9459\n",
            "Epoch 90/200\n",
            "5/5 [==============================] - 0s 9ms/step - loss: 0.2584 - accuracy: 0.9862 - val_loss: 0.6287 - val_accuracy: 0.8919\n",
            "Epoch 91/200\n",
            "5/5 [==============================] - 0s 9ms/step - loss: 0.3177 - accuracy: 0.9793 - val_loss: 0.4289 - val_accuracy: 0.8919\n",
            "Epoch 92/200\n",
            "5/5 [==============================] - 0s 9ms/step - loss: 0.3073 - accuracy: 0.9724 - val_loss: 0.3318 - val_accuracy: 0.9189\n",
            "Epoch 93/200\n",
            "5/5 [==============================] - 0s 9ms/step - loss: 0.3207 - accuracy: 0.9517 - val_loss: 0.4349 - val_accuracy: 0.9189\n",
            "Epoch 94/200\n",
            "5/5 [==============================] - 0s 9ms/step - loss: 0.2966 - accuracy: 0.9931 - val_loss: 0.2759 - val_accuracy: 1.0000\n",
            "Epoch 95/200\n",
            "5/5 [==============================] - 0s 10ms/step - loss: 0.2931 - accuracy: 0.9862 - val_loss: 0.3176 - val_accuracy: 0.9459\n",
            "Epoch 96/200\n",
            "5/5 [==============================] - 0s 10ms/step - loss: 0.2635 - accuracy: 0.9862 - val_loss: 0.2821 - val_accuracy: 0.9730\n",
            "Epoch 97/200\n",
            "5/5 [==============================] - 0s 16ms/step - loss: 0.2380 - accuracy: 0.9931 - val_loss: 0.2640 - val_accuracy: 0.9730\n",
            "Epoch 98/200\n",
            "5/5 [==============================] - 0s 10ms/step - loss: 0.2162 - accuracy: 1.0000 - val_loss: 0.2615 - val_accuracy: 0.9730\n",
            "Epoch 99/200\n",
            "5/5 [==============================] - 0s 10ms/step - loss: 0.2196 - accuracy: 0.9931 - val_loss: 0.3234 - val_accuracy: 0.8919\n",
            "Epoch 100/200\n",
            "5/5 [==============================] - 0s 9ms/step - loss: 0.2185 - accuracy: 0.9931 - val_loss: 0.2264 - val_accuracy: 0.9730\n",
            "Epoch 101/200\n",
            "5/5 [==============================] - 0s 11ms/step - loss: 0.2267 - accuracy: 0.9862 - val_loss: 0.4285 - val_accuracy: 0.8919\n",
            "Epoch 102/200\n",
            "5/5 [==============================] - 0s 10ms/step - loss: 0.2617 - accuracy: 0.9724 - val_loss: 0.3604 - val_accuracy: 0.9189\n",
            "Epoch 103/200\n",
            "5/5 [==============================] - 0s 9ms/step - loss: 0.2380 - accuracy: 0.9862 - val_loss: 0.3248 - val_accuracy: 0.9459\n",
            "Epoch 104/200\n",
            "5/5 [==============================] - 0s 9ms/step - loss: 0.2329 - accuracy: 0.9862 - val_loss: 0.3696 - val_accuracy: 0.8919\n",
            "Epoch 105/200\n",
            "5/5 [==============================] - 0s 10ms/step - loss: 0.2052 - accuracy: 1.0000 - val_loss: 0.2614 - val_accuracy: 0.9459\n",
            "Epoch 106/200\n",
            "5/5 [==============================] - 0s 10ms/step - loss: 0.2094 - accuracy: 0.9931 - val_loss: 0.3165 - val_accuracy: 0.8919\n",
            "Epoch 107/200\n",
            "5/5 [==============================] - 0s 8ms/step - loss: 0.1999 - accuracy: 1.0000 - val_loss: 0.2438 - val_accuracy: 0.9730\n",
            "Epoch 108/200\n",
            "5/5 [==============================] - 0s 9ms/step - loss: 0.1847 - accuracy: 1.0000 - val_loss: 0.4459 - val_accuracy: 0.8919\n",
            "Epoch 109/200\n",
            "5/5 [==============================] - 0s 9ms/step - loss: 0.2036 - accuracy: 0.9724 - val_loss: 0.2557 - val_accuracy: 0.9459\n",
            "Epoch 110/200\n",
            "5/5 [==============================] - 0s 9ms/step - loss: 0.1991 - accuracy: 1.0000 - val_loss: 0.3383 - val_accuracy: 0.8919\n",
            "Epoch 111/200\n",
            "5/5 [==============================] - 0s 9ms/step - loss: 0.1837 - accuracy: 1.0000 - val_loss: 0.2825 - val_accuracy: 0.9189\n",
            "Epoch 112/200\n",
            "5/5 [==============================] - 0s 9ms/step - loss: 0.1879 - accuracy: 0.9931 - val_loss: 0.2642 - val_accuracy: 0.9459\n",
            "Epoch 113/200\n",
            "5/5 [==============================] - 0s 10ms/step - loss: 0.1968 - accuracy: 0.9862 - val_loss: 0.3174 - val_accuracy: 0.9189\n",
            "Epoch 114/200\n",
            "5/5 [==============================] - 0s 8ms/step - loss: 0.1769 - accuracy: 0.9931 - val_loss: 0.2150 - val_accuracy: 0.9730\n",
            "Epoch 115/200\n",
            "5/5 [==============================] - 0s 8ms/step - loss: 0.1697 - accuracy: 1.0000 - val_loss: 0.2083 - val_accuracy: 0.9730\n",
            "Epoch 116/200\n",
            "5/5 [==============================] - 0s 9ms/step - loss: 0.1650 - accuracy: 1.0000 - val_loss: 0.2461 - val_accuracy: 0.9459\n",
            "Epoch 117/200\n",
            "5/5 [==============================] - 0s 8ms/step - loss: 0.1624 - accuracy: 0.9931 - val_loss: 0.2279 - val_accuracy: 0.9730\n",
            "Epoch 118/200\n",
            "5/5 [==============================] - 0s 9ms/step - loss: 0.1704 - accuracy: 0.9931 - val_loss: 0.1867 - val_accuracy: 0.9730\n",
            "Epoch 119/200\n",
            "5/5 [==============================] - 0s 9ms/step - loss: 0.1806 - accuracy: 0.9793 - val_loss: 0.4086 - val_accuracy: 0.8919\n",
            "Epoch 120/200\n",
            "5/5 [==============================] - 0s 10ms/step - loss: 0.1887 - accuracy: 0.9931 - val_loss: 0.2127 - val_accuracy: 0.9459\n",
            "Epoch 121/200\n",
            "5/5 [==============================] - 0s 9ms/step - loss: 0.1785 - accuracy: 0.9931 - val_loss: 0.4650 - val_accuracy: 0.8649\n",
            "Epoch 122/200\n",
            "5/5 [==============================] - 0s 11ms/step - loss: 0.2184 - accuracy: 0.9793 - val_loss: 0.3016 - val_accuracy: 0.9189\n",
            "Epoch 123/200\n",
            "5/5 [==============================] - 0s 8ms/step - loss: 0.2496 - accuracy: 0.9724 - val_loss: 0.4686 - val_accuracy: 0.8649\n",
            "Epoch 124/200\n",
            "5/5 [==============================] - 0s 9ms/step - loss: 0.2250 - accuracy: 0.9793 - val_loss: 0.2926 - val_accuracy: 0.9189\n",
            "Epoch 125/200\n",
            "5/5 [==============================] - 0s 9ms/step - loss: 0.2111 - accuracy: 1.0000 - val_loss: 0.2727 - val_accuracy: 0.9730\n",
            "Epoch 126/200\n",
            "5/5 [==============================] - 0s 9ms/step - loss: 0.1925 - accuracy: 0.9931 - val_loss: 0.1976 - val_accuracy: 0.9730\n",
            "Epoch 127/200\n",
            "5/5 [==============================] - 0s 14ms/step - loss: 0.1949 - accuracy: 0.9931 - val_loss: 0.2178 - val_accuracy: 0.9730\n",
            "Epoch 128/200\n",
            "5/5 [==============================] - 0s 9ms/step - loss: 0.2062 - accuracy: 0.9793 - val_loss: 0.2639 - val_accuracy: 0.9189\n",
            "Epoch 129/200\n",
            "5/5 [==============================] - 0s 9ms/step - loss: 0.1894 - accuracy: 0.9931 - val_loss: 0.1838 - val_accuracy: 0.9730\n",
            "Epoch 130/200\n",
            "5/5 [==============================] - 0s 9ms/step - loss: 0.2012 - accuracy: 0.9793 - val_loss: 0.3918 - val_accuracy: 0.8649\n",
            "Epoch 131/200\n",
            "5/5 [==============================] - 0s 8ms/step - loss: 0.1953 - accuracy: 0.9931 - val_loss: 0.2659 - val_accuracy: 0.9459\n",
            "Epoch 132/200\n",
            "5/5 [==============================] - 0s 9ms/step - loss: 0.1786 - accuracy: 1.0000 - val_loss: 0.3757 - val_accuracy: 0.8919\n",
            "Epoch 133/200\n",
            "5/5 [==============================] - 0s 9ms/step - loss: 0.1916 - accuracy: 0.9931 - val_loss: 0.1972 - val_accuracy: 0.9730\n",
            "Epoch 134/200\n",
            "5/5 [==============================] - 0s 8ms/step - loss: 0.1741 - accuracy: 1.0000 - val_loss: 0.4653 - val_accuracy: 0.8919\n",
            "Epoch 135/200\n",
            "5/5 [==============================] - 0s 10ms/step - loss: 0.1864 - accuracy: 1.0000 - val_loss: 0.2018 - val_accuracy: 1.0000\n",
            "Epoch 136/200\n",
            "5/5 [==============================] - 0s 9ms/step - loss: 0.3404 - accuracy: 0.9379 - val_loss: 0.3128 - val_accuracy: 0.9459\n",
            "Epoch 137/200\n",
            "5/5 [==============================] - 0s 9ms/step - loss: 0.3850 - accuracy: 0.9310 - val_loss: 1.4689 - val_accuracy: 0.7297\n",
            "Epoch 138/200\n",
            "5/5 [==============================] - 0s 9ms/step - loss: 0.4977 - accuracy: 0.8897 - val_loss: 0.5893 - val_accuracy: 0.9189\n",
            "Epoch 139/200\n",
            "5/5 [==============================] - 0s 9ms/step - loss: 0.6707 - accuracy: 0.8897 - val_loss: 0.3832 - val_accuracy: 1.0000\n",
            "Epoch 140/200\n",
            "5/5 [==============================] - 0s 9ms/step - loss: 0.4829 - accuracy: 0.9517 - val_loss: 0.9500 - val_accuracy: 0.8649\n",
            "Epoch 141/200\n",
            "5/5 [==============================] - 0s 8ms/step - loss: 0.4823 - accuracy: 0.9655 - val_loss: 0.4203 - val_accuracy: 0.9459\n",
            "Epoch 142/200\n",
            "5/5 [==============================] - 0s 10ms/step - loss: 0.3998 - accuracy: 0.9724 - val_loss: 0.4402 - val_accuracy: 0.9459\n",
            "Epoch 143/200\n",
            "5/5 [==============================] - 0s 12ms/step - loss: 0.3657 - accuracy: 0.9862 - val_loss: 0.3119 - val_accuracy: 0.9730\n",
            "Epoch 144/200\n",
            "5/5 [==============================] - 0s 9ms/step - loss: 0.3775 - accuracy: 0.9586 - val_loss: 0.4911 - val_accuracy: 0.9459\n",
            "Epoch 145/200\n",
            "5/5 [==============================] - 0s 9ms/step - loss: 0.3755 - accuracy: 0.9655 - val_loss: 0.3060 - val_accuracy: 0.9730\n",
            "Epoch 146/200\n",
            "5/5 [==============================] - 0s 9ms/step - loss: 0.3540 - accuracy: 0.9379 - val_loss: 0.3225 - val_accuracy: 0.9730\n",
            "Epoch 147/200\n",
            "5/5 [==============================] - 0s 9ms/step - loss: 0.3298 - accuracy: 0.9793 - val_loss: 0.8095 - val_accuracy: 0.8378\n",
            "Epoch 148/200\n",
            "5/5 [==============================] - 0s 9ms/step - loss: 0.3963 - accuracy: 0.9517 - val_loss: 0.4530 - val_accuracy: 0.8919\n",
            "Epoch 149/200\n",
            "5/5 [==============================] - 0s 11ms/step - loss: 0.5605 - accuracy: 0.9103 - val_loss: 0.6536 - val_accuracy: 0.8919\n",
            "Epoch 150/200\n",
            "5/5 [==============================] - 0s 9ms/step - loss: 0.4796 - accuracy: 0.9241 - val_loss: 0.7762 - val_accuracy: 0.8649\n",
            "Epoch 151/200\n",
            "5/5 [==============================] - 0s 10ms/step - loss: 0.4622 - accuracy: 0.9448 - val_loss: 0.3272 - val_accuracy: 1.0000\n",
            "Epoch 152/200\n",
            "5/5 [==============================] - 0s 9ms/step - loss: 0.3793 - accuracy: 0.9724 - val_loss: 0.8776 - val_accuracy: 0.7568\n",
            "Epoch 153/200\n",
            "5/5 [==============================] - 0s 9ms/step - loss: 0.5141 - accuracy: 0.9103 - val_loss: 0.3270 - val_accuracy: 0.9730\n",
            "Epoch 154/200\n",
            "5/5 [==============================] - 0s 10ms/step - loss: 0.3314 - accuracy: 0.9724 - val_loss: 0.4759 - val_accuracy: 0.8919\n",
            "Epoch 155/200\n",
            "5/5 [==============================] - 0s 9ms/step - loss: 0.2802 - accuracy: 0.9862 - val_loss: 0.2541 - val_accuracy: 1.0000\n",
            "Epoch 156/200\n",
            "5/5 [==============================] - 0s 9ms/step - loss: 0.2271 - accuracy: 1.0000 - val_loss: 0.3038 - val_accuracy: 0.9189\n",
            "Epoch 157/200\n",
            "5/5 [==============================] - 0s 11ms/step - loss: 0.2043 - accuracy: 0.9931 - val_loss: 0.3993 - val_accuracy: 0.9189\n",
            "Epoch 158/200\n",
            "5/5 [==============================] - 0s 9ms/step - loss: 0.1859 - accuracy: 1.0000 - val_loss: 0.3044 - val_accuracy: 0.9459\n",
            "Epoch 159/200\n",
            "5/5 [==============================] - 0s 9ms/step - loss: 0.1756 - accuracy: 0.9931 - val_loss: 0.2802 - val_accuracy: 0.9189\n",
            "Epoch 160/200\n",
            "5/5 [==============================] - 0s 9ms/step - loss: 0.1838 - accuracy: 0.9931 - val_loss: 0.2958 - val_accuracy: 0.9189\n",
            "Epoch 161/200\n",
            "5/5 [==============================] - 0s 9ms/step - loss: 0.1549 - accuracy: 1.0000 - val_loss: 0.2847 - val_accuracy: 0.9459\n",
            "Epoch 162/200\n",
            "5/5 [==============================] - 0s 9ms/step - loss: 0.1518 - accuracy: 1.0000 - val_loss: 0.3765 - val_accuracy: 0.9189\n",
            "Epoch 163/200\n",
            "5/5 [==============================] - 0s 12ms/step - loss: 0.1448 - accuracy: 1.0000 - val_loss: 0.3806 - val_accuracy: 0.8919\n",
            "Epoch 164/200\n",
            "5/5 [==============================] - 0s 10ms/step - loss: 0.1346 - accuracy: 1.0000 - val_loss: 0.2899 - val_accuracy: 0.9189\n",
            "Epoch 165/200\n",
            "5/5 [==============================] - 0s 9ms/step - loss: 0.1474 - accuracy: 0.9931 - val_loss: 0.4313 - val_accuracy: 0.9189\n",
            "Epoch 166/200\n",
            "5/5 [==============================] - 0s 10ms/step - loss: 0.1320 - accuracy: 1.0000 - val_loss: 0.2023 - val_accuracy: 0.9459\n",
            "Epoch 167/200\n",
            "5/5 [==============================] - 0s 10ms/step - loss: 0.1409 - accuracy: 0.9931 - val_loss: 0.3168 - val_accuracy: 0.9189\n",
            "Epoch 168/200\n",
            "5/5 [==============================] - 0s 9ms/step - loss: 0.1355 - accuracy: 1.0000 - val_loss: 0.2557 - val_accuracy: 0.9189\n",
            "Epoch 169/200\n",
            "5/5 [==============================] - 0s 9ms/step - loss: 0.1492 - accuracy: 0.9931 - val_loss: 0.2708 - val_accuracy: 0.9189\n",
            "Epoch 170/200\n",
            "5/5 [==============================] - 0s 10ms/step - loss: 0.1717 - accuracy: 0.9931 - val_loss: 0.4079 - val_accuracy: 0.8919\n",
            "Epoch 171/200\n",
            "5/5 [==============================] - 0s 10ms/step - loss: 0.1474 - accuracy: 1.0000 - val_loss: 0.1676 - val_accuracy: 0.9730\n",
            "Epoch 172/200\n",
            "5/5 [==============================] - 0s 10ms/step - loss: 0.1459 - accuracy: 1.0000 - val_loss: 0.2129 - val_accuracy: 0.9730\n",
            "Epoch 173/200\n",
            "5/5 [==============================] - 0s 9ms/step - loss: 0.1322 - accuracy: 1.0000 - val_loss: 0.1998 - val_accuracy: 0.9730\n",
            "Epoch 174/200\n",
            "5/5 [==============================] - 0s 10ms/step - loss: 0.1360 - accuracy: 1.0000 - val_loss: 0.1646 - val_accuracy: 0.9730\n",
            "Epoch 175/200\n",
            "5/5 [==============================] - 0s 10ms/step - loss: 0.1275 - accuracy: 1.0000 - val_loss: 0.1792 - val_accuracy: 0.9730\n",
            "Epoch 176/200\n",
            "5/5 [==============================] - 0s 9ms/step - loss: 0.1311 - accuracy: 0.9931 - val_loss: 0.2842 - val_accuracy: 0.9189\n",
            "Epoch 177/200\n",
            "5/5 [==============================] - 0s 9ms/step - loss: 0.1298 - accuracy: 1.0000 - val_loss: 0.1971 - val_accuracy: 0.9730\n",
            "Epoch 178/200\n",
            "5/5 [==============================] - 0s 10ms/step - loss: 0.1258 - accuracy: 1.0000 - val_loss: 0.1869 - val_accuracy: 0.9730\n",
            "Epoch 179/200\n",
            "5/5 [==============================] - 0s 10ms/step - loss: 0.1619 - accuracy: 0.9793 - val_loss: 0.3047 - val_accuracy: 0.9189\n",
            "Epoch 180/200\n",
            "5/5 [==============================] - 0s 10ms/step - loss: 0.1569 - accuracy: 1.0000 - val_loss: 0.2226 - val_accuracy: 0.9459\n",
            "Epoch 181/200\n",
            "5/5 [==============================] - 0s 10ms/step - loss: 0.1334 - accuracy: 1.0000 - val_loss: 0.1843 - val_accuracy: 0.9730\n",
            "Epoch 182/200\n",
            "5/5 [==============================] - 0s 12ms/step - loss: 0.1352 - accuracy: 0.9931 - val_loss: 0.2164 - val_accuracy: 0.9459\n",
            "Epoch 183/200\n",
            "5/5 [==============================] - 0s 9ms/step - loss: 0.1297 - accuracy: 1.0000 - val_loss: 0.2030 - val_accuracy: 0.9459\n",
            "Epoch 184/200\n",
            "5/5 [==============================] - 0s 9ms/step - loss: 0.1395 - accuracy: 0.9862 - val_loss: 0.2106 - val_accuracy: 0.9459\n",
            "Epoch 185/200\n",
            "5/5 [==============================] - 0s 10ms/step - loss: 0.1301 - accuracy: 1.0000 - val_loss: 0.2873 - val_accuracy: 0.8919\n",
            "Epoch 186/200\n",
            "5/5 [==============================] - 0s 10ms/step - loss: 0.1250 - accuracy: 0.9931 - val_loss: 0.2401 - val_accuracy: 0.8919\n",
            "Epoch 187/200\n",
            "5/5 [==============================] - 0s 10ms/step - loss: 0.1301 - accuracy: 0.9931 - val_loss: 0.3982 - val_accuracy: 0.8919\n",
            "Epoch 188/200\n",
            "5/5 [==============================] - 0s 10ms/step - loss: 0.1205 - accuracy: 1.0000 - val_loss: 0.1926 - val_accuracy: 0.9730\n",
            "Epoch 189/200\n",
            "5/5 [==============================] - 0s 9ms/step - loss: 0.1174 - accuracy: 1.0000 - val_loss: 0.1942 - val_accuracy: 0.9459\n",
            "Epoch 190/200\n",
            "5/5 [==============================] - 0s 10ms/step - loss: 0.1219 - accuracy: 1.0000 - val_loss: 0.1732 - val_accuracy: 0.9459\n",
            "Epoch 191/200\n",
            "5/5 [==============================] - 0s 10ms/step - loss: 0.1254 - accuracy: 0.9931 - val_loss: 0.4151 - val_accuracy: 0.8919\n",
            "Epoch 192/200\n",
            "5/5 [==============================] - 0s 9ms/step - loss: 0.1275 - accuracy: 1.0000 - val_loss: 0.2399 - val_accuracy: 0.8919\n",
            "Epoch 193/200\n",
            "5/5 [==============================] - 0s 9ms/step - loss: 0.1362 - accuracy: 0.9931 - val_loss: 0.4725 - val_accuracy: 0.8919\n",
            "Epoch 194/200\n",
            "5/5 [==============================] - 0s 10ms/step - loss: 0.1265 - accuracy: 1.0000 - val_loss: 0.2188 - val_accuracy: 0.9459\n",
            "Epoch 195/200\n",
            "5/5 [==============================] - 0s 9ms/step - loss: 0.1126 - accuracy: 1.0000 - val_loss: 0.1621 - val_accuracy: 0.9730\n",
            "Epoch 196/200\n",
            "5/5 [==============================] - 0s 9ms/step - loss: 0.1287 - accuracy: 0.9931 - val_loss: 0.1750 - val_accuracy: 0.9730\n",
            "Epoch 197/200\n",
            "5/5 [==============================] - 0s 10ms/step - loss: 0.1265 - accuracy: 0.9931 - val_loss: 0.3024 - val_accuracy: 0.8919\n",
            "Epoch 198/200\n",
            "5/5 [==============================] - 0s 9ms/step - loss: 0.1412 - accuracy: 1.0000 - val_loss: 0.1912 - val_accuracy: 0.9459\n",
            "Epoch 199/200\n",
            "5/5 [==============================] - 0s 10ms/step - loss: 0.1391 - accuracy: 1.0000 - val_loss: 0.2258 - val_accuracy: 0.9459\n",
            "Epoch 200/200\n",
            "5/5 [==============================] - 0s 8ms/step - loss: 0.1285 - accuracy: 1.0000 - val_loss: 0.1966 - val_accuracy: 0.9730\n"
          ]
        }
      ]
    },
    {
      "cell_type": "code",
      "source": [
        "plt.subplot(1, 2, 1)\n",
        "plt.title(\"Loss\")\n",
        "plt.plot(history.history[\"loss\"])\n",
        "plt.plot(history.history[\"val_loss\"])\n",
        "plt.yscale('log')\n",
        "plt.legend(['loss', 'val_loss'])\n",
        "\n",
        "plt.subplot(1, 2, 2)\n",
        "plt.title(\"Accuracy\")\n",
        "plt.plot(history.history[\"accuracy\"])\n",
        "plt.plot(history.history[\"val_accuracy\"])\n",
        "plt.legend(['accuracy', 'val_accuracy'])\n",
        "\n",
        "plt.show()"
      ],
      "metadata": {
        "colab": {
          "base_uri": "https://localhost:8080/",
          "height": 281
        },
        "id": "eq0RjzX8A_3h",
        "outputId": "a697a0c3-e3ac-48c7-851f-227b5b995370"
      },
      "execution_count": 462,
      "outputs": [
        {
          "output_type": "display_data",
          "data": {
            "text/plain": [
              "<Figure size 432x288 with 2 Axes>"
            ],
            "image/png": "[encoded data removed]"
          },
          "metadata": {
            "needs_background": "light"
          }
        }
      ]
    },
    {
      "cell_type": "code",
      "source": [
        "h_model.evaluate(X_test_scaled, y_test, return_dict=True)"
      ],
      "metadata": {
        "id": "R_zOL1o-IpyH",
        "colab": {
          "base_uri": "https://localhost:8080/"
        },
        "outputId": "5b87090f-fc8a-472e-f912-dbcc8a09e4e8"
      },
      "execution_count": 463,
      "outputs": [
        {
          "output_type": "stream",
          "name": "stdout",
          "text": [
            "3/3 [==============================] - 0s 4ms/step - loss: 0.4170 - accuracy: 0.8846\n"
          ]
        },
        {
          "output_type": "execute_result",
          "data": {
            "text/plain": [
              "{'accuracy': 0.8846153616905212, 'loss': 0.41696617007255554}"
            ]
          },
          "metadata": {},
          "execution_count": 463
        }
      ]
    }
  ]
}