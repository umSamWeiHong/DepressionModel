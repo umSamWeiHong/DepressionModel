{
  "nbformat": 4,
  "nbformat_minor": 0,
  "metadata": {
    "colab": {
      "name": "DepressionIndicator - Wei Hong.ipynb",
      "provenance": [],
      "collapsed_sections": [],
      "include_colab_link": true
    },
    "kernelspec": {
      "name": "python3",
      "display_name": "Python 3"
    },
    "language_info": {
      "name": "python"
    }
  },
  "cells": [
    {
      "cell_type": "markdown",
      "metadata": {
        "id": "view-in-github",
        "colab_type": "text"
      },
      "source": [
        "<a href=\"https://colab.research.google.com/github/umSamWeiHong/DepressionModel/blob/master/DepressionIndicator_Wei_Hong.ipynb\" target=\"_parent\"><img src=\"https://colab.research.google.com/assets/colab-badge.svg\" alt=\"Open In Colab\"/></a>"
      ]
    },
    {
      "cell_type": "markdown",
      "source": [
        "# Artificial Neural Network (Deep Learning)"
      ],
      "metadata": {
        "id": "57Ni87HAOLMy"
      }
    },
    {
      "cell_type": "markdown",
      "source": [
        "## Import data and libraries"
      ],
      "metadata": {
        "id": "HQhqWNQQ_Yee"
      }
    },
    {
      "cell_type": "code",
      "source": [
        "from google.colab import drive\n",
        "drive.mount('/content/drive')"
      ],
      "metadata": {
        "id": "kC0AeXiRzVZ8",
        "colab": {
          "base_uri": "https://localhost:8080/"
        },
        "outputId": "4d6a8136-866b-4b78-ed57-616654690f47"
      },
      "execution_count": 1,
      "outputs": [
        {
          "output_type": "stream",
          "name": "stdout",
          "text": [
            "Mounted at /content/drive\n"
          ]
        }
      ]
    },
    {
      "cell_type": "code",
      "source": [
        "import tensorflow as tf\n",
        "import numpy as np\n",
        "import pandas as pd\n",
        "import matplotlib.pyplot as plt"
      ],
      "metadata": {
        "id": "Mw7mWXC23I-P"
      },
      "execution_count": 2,
      "outputs": []
    },
    {
      "cell_type": "code",
      "source": [
        "df = pd.read_csv('/content/drive/MyDrive/Machine Learning Group Project/depression.csv')\n",
        "df"
      ],
      "metadata": {
        "colab": {
          "base_uri": "https://localhost:8080/",
          "height": 0
        },
        "id": "e7QBwdb8wqhm",
        "outputId": "d6f4ac61-d66d-4ca6-8b26-c543698a9de3"
      },
      "execution_count": 3,
      "outputs": [
        {
          "output_type": "execute_result",
          "data": {
            "text/plain": [
              "     Code  Age_Numerical  Gender  Marital  Marital_problems  Religion_binary  \\\n",
              "0       1             34       0        0                 0                1   \n",
              "1       2             32       1        0                 0                1   \n",
              "2       3             33       0        0                 0                1   \n",
              "3       4             33       1        0                 1                1   \n",
              "4       5             39       1        0                 0                1   \n",
              "..    ...            ...     ...      ...               ...              ...   \n",
              "311   312             23       1        1                 0                0   \n",
              "312   313             36       0        1                 0                0   \n",
              "313   314             33       0        0                 0                0   \n",
              "314   315             25       1        1                 0                1   \n",
              "315   316             23       1        1                 0                1   \n",
              "\n",
              "     Religion_help  Med_or_not  Expenses  Monthly_expenses  ...  \\\n",
              "0                1           1         2                 1  ...   \n",
              "1                1           1         1                 0  ...   \n",
              "2                1           1         1                 0  ...   \n",
              "3                1           1         2                 1  ...   \n",
              "4                1           1         2                 1  ...   \n",
              "..             ...         ...       ...               ...  ...   \n",
              "311              1           1         2                 1  ...   \n",
              "312              0           0         2                 1  ...   \n",
              "313              0           1         2                 1  ...   \n",
              "314              0           1         0                 0  ...   \n",
              "315              1           1         0                 0  ...   \n",
              "\n",
              "     DASS_stress_numerical  MSPSS_family  MSPSS_friends  \\\n",
              "0                        0          27.2           24.0   \n",
              "1                        2          28.0           28.0   \n",
              "2                        0          28.0           28.0   \n",
              "3                       18          25.2           21.2   \n",
              "4                        2          26.0           20.0   \n",
              "..                     ...           ...            ...   \n",
              "311                      8          25.2           25.2   \n",
              "312                      0          23.2           20.0   \n",
              "313                      0          25.2           19.2   \n",
              "314                     26          14.0           13.2   \n",
              "315                      6          16.0           16.0   \n",
              "\n",
              "     MSPSS_significant_others  DASS_depression_binary  \\\n",
              "0                        26.0                       0   \n",
              "1                        28.0                       0   \n",
              "2                        28.0                       0   \n",
              "3                        24.0                       1   \n",
              "4                        28.0                       0   \n",
              "..                        ...                     ...   \n",
              "311                      27.2                       0   \n",
              "312                      24.0                       0   \n",
              "313                      27.2                       0   \n",
              "314                      13.2                       1   \n",
              "315                      17.2                       0   \n",
              "\n",
              "     DASS_depression_severity  DASS_anxiety_binary  DASS_anxiety_severity  \\\n",
              "0                           0                    0                      0   \n",
              "1                           0                    0                      0   \n",
              "2                           0                    0                      0   \n",
              "3                           2                    1                      4   \n",
              "4                           0                    0                      0   \n",
              "..                        ...                  ...                    ...   \n",
              "311                         0                    0                      0   \n",
              "312                         0                    0                      0   \n",
              "313                         0                    0                      0   \n",
              "314                         4                    1                      2   \n",
              "315                         0                    0                      0   \n",
              "\n",
              "     DASS_stress_binary  DASS_stress_severity  \n",
              "0                     0                     0  \n",
              "1                     0                     0  \n",
              "2                     0                     0  \n",
              "3                     1                     1  \n",
              "4                     0                     0  \n",
              "..                  ...                   ...  \n",
              "311                   0                     0  \n",
              "312                   0                     0  \n",
              "313                   0                     0  \n",
              "314                   1                     2  \n",
              "315                   0                     0  \n",
              "\n",
              "[316 rows x 34 columns]"
            ],
            "text/html": [
              "\n",
              "  <div id=\"df-68893b26-3342-4d09-b307-166966d870e7\">\n",
              "    <div class=\"colab-df-container\">\n",
              "      <div>\n",
              "<style scoped>\n",
              "    .dataframe tbody tr th:only-of-type {\n",
              "        vertical-align: middle;\n",
              "    }\n",
              "\n",
              "    .dataframe tbody tr th {\n",
              "        vertical-align: top;\n",
              "    }\n",
              "\n",
              "    .dataframe thead th {\n",
              "        text-align: right;\n",
              "    }\n",
              "</style>\n",
              "<table border=\"1\" class=\"dataframe\">\n",
              "  <thead>\n",
              "    <tr style=\"text-align: right;\">\n",
              "      <th></th>\n",
              "      <th>Code</th>\n",
              "      <th>Age_Numerical</th>\n",
              "      <th>Gender</th>\n",
              "      <th>Marital</th>\n",
              "      <th>Marital_problems</th>\n",
              "      <th>Religion_binary</th>\n",
              "      <th>Religion_help</th>\n",
              "      <th>Med_or_not</th>\n",
              "      <th>Expenses</th>\n",
              "      <th>Monthly_expenses</th>\n",
              "      <th>...</th>\n",
              "      <th>DASS_stress_numerical</th>\n",
              "      <th>MSPSS_family</th>\n",
              "      <th>MSPSS_friends</th>\n",
              "      <th>MSPSS_significant_others</th>\n",
              "      <th>DASS_depression_binary</th>\n",
              "      <th>DASS_depression_severity</th>\n",
              "      <th>DASS_anxiety_binary</th>\n",
              "      <th>DASS_anxiety_severity</th>\n",
              "      <th>DASS_stress_binary</th>\n",
              "      <th>DASS_stress_severity</th>\n",
              "    </tr>\n",
              "  </thead>\n",
              "  <tbody>\n",
              "    <tr>\n",
              "      <th>0</th>\n",
              "      <td>1</td>\n",
              "      <td>34</td>\n",
              "      <td>0</td>\n",
              "      <td>0</td>\n",
              "      <td>0</td>\n",
              "      <td>1</td>\n",
              "      <td>1</td>\n",
              "      <td>1</td>\n",
              "      <td>2</td>\n",
              "      <td>1</td>\n",
              "      <td>...</td>\n",
              "      <td>0</td>\n",
              "      <td>27.2</td>\n",
              "      <td>24.0</td>\n",
              "      <td>26.0</td>\n",
              "      <td>0</td>\n",
              "      <td>0</td>\n",
              "      <td>0</td>\n",
              "      <td>0</td>\n",
              "      <td>0</td>\n",
              "      <td>0</td>\n",
              "    </tr>\n",
              "    <tr>\n",
              "      <th>1</th>\n",
              "      <td>2</td>\n",
              "      <td>32</td>\n",
              "      <td>1</td>\n",
              "      <td>0</td>\n",
              "      <td>0</td>\n",
              "      <td>1</td>\n",
              "      <td>1</td>\n",
              "      <td>1</td>\n",
              "      <td>1</td>\n",
              "      <td>0</td>\n",
              "      <td>...</td>\n",
              "      <td>2</td>\n",
              "      <td>28.0</td>\n",
              "      <td>28.0</td>\n",
              "      <td>28.0</td>\n",
              "      <td>0</td>\n",
              "      <td>0</td>\n",
              "      <td>0</td>\n",
              "      <td>0</td>\n",
              "      <td>0</td>\n",
              "      <td>0</td>\n",
              "    </tr>\n",
              "    <tr>\n",
              "      <th>2</th>\n",
              "      <td>3</td>\n",
              "      <td>33</td>\n",
              "      <td>0</td>\n",
              "      <td>0</td>\n",
              "      <td>0</td>\n",
              "      <td>1</td>\n",
              "      <td>1</td>\n",
              "      <td>1</td>\n",
              "      <td>1</td>\n",
              "      <td>0</td>\n",
              "      <td>...</td>\n",
              "      <td>0</td>\n",
              "      <td>28.0</td>\n",
              "      <td>28.0</td>\n",
              "      <td>28.0</td>\n",
              "      <td>0</td>\n",
              "      <td>0</td>\n",
              "      <td>0</td>\n",
              "      <td>0</td>\n",
              "      <td>0</td>\n",
              "      <td>0</td>\n",
              "    </tr>\n",
              "    <tr>\n",
              "      <th>3</th>\n",
              "      <td>4</td>\n",
              "      <td>33</td>\n",
              "      <td>1</td>\n",
              "      <td>0</td>\n",
              "      <td>1</td>\n",
              "      <td>1</td>\n",
              "      <td>1</td>\n",
              "      <td>1</td>\n",
              "      <td>2</td>\n",
              "      <td>1</td>\n",
              "      <td>...</td>\n",
              "      <td>18</td>\n",
              "      <td>25.2</td>\n",
              "      <td>21.2</td>\n",
              "      <td>24.0</td>\n",
              "      <td>1</td>\n",
              "      <td>2</td>\n",
              "      <td>1</td>\n",
              "      <td>4</td>\n",
              "      <td>1</td>\n",
              "      <td>1</td>\n",
              "    </tr>\n",
              "    <tr>\n",
              "      <th>4</th>\n",
              "      <td>5</td>\n",
              "      <td>39</td>\n",
              "      <td>1</td>\n",
              "      <td>0</td>\n",
              "      <td>0</td>\n",
              "      <td>1</td>\n",
              "      <td>1</td>\n",
              "      <td>1</td>\n",
              "      <td>2</td>\n",
              "      <td>1</td>\n",
              "      <td>...</td>\n",
              "      <td>2</td>\n",
              "      <td>26.0</td>\n",
              "      <td>20.0</td>\n",
              "      <td>28.0</td>\n",
              "      <td>0</td>\n",
              "      <td>0</td>\n",
              "      <td>0</td>\n",
              "      <td>0</td>\n",
              "      <td>0</td>\n",
              "      <td>0</td>\n",
              "    </tr>\n",
              "    <tr>\n",
              "      <th>...</th>\n",
              "      <td>...</td>\n",
              "      <td>...</td>\n",
              "      <td>...</td>\n",
              "      <td>...</td>\n",
              "      <td>...</td>\n",
              "      <td>...</td>\n",
              "      <td>...</td>\n",
              "      <td>...</td>\n",
              "      <td>...</td>\n",
              "      <td>...</td>\n",
              "      <td>...</td>\n",
              "      <td>...</td>\n",
              "      <td>...</td>\n",
              "      <td>...</td>\n",
              "      <td>...</td>\n",
              "      <td>...</td>\n",
              "      <td>...</td>\n",
              "      <td>...</td>\n",
              "      <td>...</td>\n",
              "      <td>...</td>\n",
              "      <td>...</td>\n",
              "    </tr>\n",
              "    <tr>\n",
              "      <th>311</th>\n",
              "      <td>312</td>\n",
              "      <td>23</td>\n",
              "      <td>1</td>\n",
              "      <td>1</td>\n",
              "      <td>0</td>\n",
              "      <td>0</td>\n",
              "      <td>1</td>\n",
              "      <td>1</td>\n",
              "      <td>2</td>\n",
              "      <td>1</td>\n",
              "      <td>...</td>\n",
              "      <td>8</td>\n",
              "      <td>25.2</td>\n",
              "      <td>25.2</td>\n",
              "      <td>27.2</td>\n",
              "      <td>0</td>\n",
              "      <td>0</td>\n",
              "      <td>0</td>\n",
              "      <td>0</td>\n",
              "      <td>0</td>\n",
              "      <td>0</td>\n",
              "    </tr>\n",
              "    <tr>\n",
              "      <th>312</th>\n",
              "      <td>313</td>\n",
              "      <td>36</td>\n",
              "      <td>0</td>\n",
              "      <td>1</td>\n",
              "      <td>0</td>\n",
              "      <td>0</td>\n",
              "      <td>0</td>\n",
              "      <td>0</td>\n",
              "      <td>2</td>\n",
              "      <td>1</td>\n",
              "      <td>...</td>\n",
              "      <td>0</td>\n",
              "      <td>23.2</td>\n",
              "      <td>20.0</td>\n",
              "      <td>24.0</td>\n",
              "      <td>0</td>\n",
              "      <td>0</td>\n",
              "      <td>0</td>\n",
              "      <td>0</td>\n",
              "      <td>0</td>\n",
              "      <td>0</td>\n",
              "    </tr>\n",
              "    <tr>\n",
              "      <th>313</th>\n",
              "      <td>314</td>\n",
              "      <td>33</td>\n",
              "      <td>0</td>\n",
              "      <td>0</td>\n",
              "      <td>0</td>\n",
              "      <td>0</td>\n",
              "      <td>0</td>\n",
              "      <td>1</td>\n",
              "      <td>2</td>\n",
              "      <td>1</td>\n",
              "      <td>...</td>\n",
              "      <td>0</td>\n",
              "      <td>25.2</td>\n",
              "      <td>19.2</td>\n",
              "      <td>27.2</td>\n",
              "      <td>0</td>\n",
              "      <td>0</td>\n",
              "      <td>0</td>\n",
              "      <td>0</td>\n",
              "      <td>0</td>\n",
              "      <td>0</td>\n",
              "    </tr>\n",
              "    <tr>\n",
              "      <th>314</th>\n",
              "      <td>315</td>\n",
              "      <td>25</td>\n",
              "      <td>1</td>\n",
              "      <td>1</td>\n",
              "      <td>0</td>\n",
              "      <td>1</td>\n",
              "      <td>0</td>\n",
              "      <td>1</td>\n",
              "      <td>0</td>\n",
              "      <td>0</td>\n",
              "      <td>...</td>\n",
              "      <td>26</td>\n",
              "      <td>14.0</td>\n",
              "      <td>13.2</td>\n",
              "      <td>13.2</td>\n",
              "      <td>1</td>\n",
              "      <td>4</td>\n",
              "      <td>1</td>\n",
              "      <td>2</td>\n",
              "      <td>1</td>\n",
              "      <td>2</td>\n",
              "    </tr>\n",
              "    <tr>\n",
              "      <th>315</th>\n",
              "      <td>316</td>\n",
              "      <td>23</td>\n",
              "      <td>1</td>\n",
              "      <td>1</td>\n",
              "      <td>0</td>\n",
              "      <td>1</td>\n",
              "      <td>1</td>\n",
              "      <td>1</td>\n",
              "      <td>0</td>\n",
              "      <td>0</td>\n",
              "      <td>...</td>\n",
              "      <td>6</td>\n",
              "      <td>16.0</td>\n",
              "      <td>16.0</td>\n",
              "      <td>17.2</td>\n",
              "      <td>0</td>\n",
              "      <td>0</td>\n",
              "      <td>0</td>\n",
              "      <td>0</td>\n",
              "      <td>0</td>\n",
              "      <td>0</td>\n",
              "    </tr>\n",
              "  </tbody>\n",
              "</table>\n",
              "<p>316 rows × 34 columns</p>\n",
              "</div>\n",
              "      <button class=\"colab-df-convert\" onclick=\"convertToInteractive('df-68893b26-3342-4d09-b307-166966d870e7')\"\n",
              "              title=\"Convert this dataframe to an interactive table.\"\n",
              "              style=\"display:none;\">\n",
              "        \n",
              "  <svg xmlns=\"http://www.w3.org/2000/svg\" height=\"24px\"viewBox=\"0 0 24 24\"\n",
              "       width=\"24px\">\n",
              "    <path d=\"M0 0h24v24H0V0z\" fill=\"none\"/>\n",
              "    <path d=\"M18.56 5.44l.94 2.06.94-2.06 2.06-.94-2.06-.94-.94-2.06-.94 2.06-2.06.94zm-11 1L8.5 8.5l.94-2.06 2.06-.94-2.06-.94L8.5 2.5l-.94 2.06-2.06.94zm10 10l.94 2.06.94-2.06 2.06-.94-2.06-.94-.94-2.06-.94 2.06-2.06.94z\"/><path d=\"M17.41 7.96l-1.37-1.37c-.4-.4-.92-.59-1.43-.59-.52 0-1.04.2-1.43.59L10.3 9.45l-7.72 7.72c-.78.78-.78 2.05 0 2.83L4 21.41c.39.39.9.59 1.41.59.51 0 1.02-.2 1.41-.59l7.78-7.78 2.81-2.81c.8-.78.8-2.07 0-2.86zM5.41 20L4 18.59l7.72-7.72 1.47 1.35L5.41 20z\"/>\n",
              "  </svg>\n",
              "      </button>\n",
              "      \n",
              "  <style>\n",
              "    .colab-df-container {\n",
              "      display:flex;\n",
              "      flex-wrap:wrap;\n",
              "      gap: 12px;\n",
              "    }\n",
              "\n",
              "    .colab-df-convert {\n",
              "      background-color: #E8F0FE;\n",
              "      border: none;\n",
              "      border-radius: 50%;\n",
              "      cursor: pointer;\n",
              "      display: none;\n",
              "      fill: #1967D2;\n",
              "      height: 32px;\n",
              "      padding: 0 0 0 0;\n",
              "      width: 32px;\n",
              "    }\n",
              "\n",
              "    .colab-df-convert:hover {\n",
              "      background-color: #E2EBFA;\n",
              "      box-shadow: 0px 1px 2px rgba(60, 64, 67, 0.3), 0px 1px 3px 1px rgba(60, 64, 67, 0.15);\n",
              "      fill: #174EA6;\n",
              "    }\n",
              "\n",
              "    [theme=dark] .colab-df-convert {\n",
              "      background-color: #3B4455;\n",
              "      fill: #D2E3FC;\n",
              "    }\n",
              "\n",
              "    [theme=dark] .colab-df-convert:hover {\n",
              "      background-color: #434B5C;\n",
              "      box-shadow: 0px 1px 3px 1px rgba(0, 0, 0, 0.15);\n",
              "      filter: drop-shadow(0px 1px 2px rgba(0, 0, 0, 0.3));\n",
              "      fill: #FFFFFF;\n",
              "    }\n",
              "  </style>\n",
              "\n",
              "      <script>\n",
              "        const buttonEl =\n",
              "          document.querySelector('#df-68893b26-3342-4d09-b307-166966d870e7 button.colab-df-convert');\n",
              "        buttonEl.style.display =\n",
              "          google.colab.kernel.accessAllowed ? 'block' : 'none';\n",
              "\n",
              "        async function convertToInteractive(key) {\n",
              "          const element = document.querySelector('#df-68893b26-3342-4d09-b307-166966d870e7');\n",
              "          const dataTable =\n",
              "            await google.colab.kernel.invokeFunction('convertToInteractive',\n",
              "                                                     [key], {});\n",
              "          if (!dataTable) return;\n",
              "\n",
              "          const docLinkHtml = 'Like what you see? Visit the ' +\n",
              "            '<a target=\"_blank\" href=https://colab.research.google.com/notebooks/data_table.ipynb>data table notebook</a>'\n",
              "            + ' to learn more about interactive tables.';\n",
              "          element.innerHTML = '';\n",
              "          dataTable['output_type'] = 'display_data';\n",
              "          await google.colab.output.renderOutput(dataTable, element);\n",
              "          const docLink = document.createElement('div');\n",
              "          docLink.innerHTML = docLinkHtml;\n",
              "          element.appendChild(docLink);\n",
              "        }\n",
              "      </script>\n",
              "    </div>\n",
              "  </div>\n",
              "  "
            ]
          },
          "metadata": {},
          "execution_count": 3
        }
      ]
    },
    {
      "cell_type": "markdown",
      "source": [
        "## Data preprocessing"
      ],
      "metadata": {
        "id": "uV_hCM1xBtPK"
      }
    },
    {
      "cell_type": "markdown",
      "source": [
        "### Extract input and output features"
      ],
      "metadata": {
        "id": "CQqZTd-d_u4u"
      }
    },
    {
      "cell_type": "code",
      "source": [
        "from collections import Counter\n",
        "X = df\n",
        "y = df['DASS_depression_severity']\n",
        "\n",
        "X = X.drop(columns='DASS_depression_severity')"
      ],
      "metadata": {
        "id": "TNXFbHsVh0ti"
      },
      "execution_count": 4,
      "outputs": []
    },
    {
      "cell_type": "markdown",
      "source": [
        "### Oversampling and undersampling due to uneven distribution"
      ],
      "metadata": {
        "id": "C2yULzd0AG3H"
      }
    },
    {
      "cell_type": "code",
      "source": [
        "print(f\"Initial: {Counter(y)}\")"
      ],
      "metadata": {
        "colab": {
          "base_uri": "https://localhost:8080/"
        },
        "id": "WpkTWsSpAQKA",
        "outputId": "89f962ec-d331-4bad-fc71-c4d09e1c6f4b"
      },
      "execution_count": 5,
      "outputs": [
        {
          "output_type": "stream",
          "name": "stdout",
          "text": [
            "Initial: Counter({0: 201, 1: 49, 2: 37, 3: 16, 4: 13})\n"
          ]
        }
      ]
    },
    {
      "cell_type": "code",
      "source": [
        "from imblearn.over_sampling import RandomOverSampler\n",
        "over = RandomOverSampler(sampling_strategy={0: 201, 1: 150, 2: 120, 3: 50, 4: 50})\n",
        "X, y = over.fit_resample(X, y)\n",
        "print(f\"Oversampled: {Counter(y)}\")"
      ],
      "metadata": {
        "colab": {
          "base_uri": "https://localhost:8080/"
        },
        "id": "sY-KFRIjq0tH",
        "outputId": "1dd199c8-55ac-45fb-d930-0cdf77c35b4a"
      },
      "execution_count": 6,
      "outputs": [
        {
          "output_type": "stream",
          "name": "stdout",
          "text": [
            "Oversampled: Counter({0: 201, 1: 150, 2: 120, 3: 50, 4: 50})\n"
          ]
        }
      ]
    },
    {
      "cell_type": "markdown",
      "source": [
        "### One hot encoding for categorical data"
      ],
      "metadata": {
        "id": "5GuktUMVpDav"
      }
    },
    {
      "cell_type": "code",
      "source": [
        "from sklearn.preprocessing import OneHotEncoder\n",
        "\n",
        "ohe = OneHotEncoder(sparse=False)\n",
        "X[['Alone','Friends/Coursemates','Family']] = ohe.fit_transform(X['Living_with1'].values.reshape(-1,1))\n",
        "X[['< RM1000','RM1000 - 3000','> RM3000']] = ohe.fit_transform(X['Expenses'].values.reshape(-1,1))\n",
        "y = ohe.fit_transform(y.values.reshape(-1,1))\n",
        "\n",
        "X = X.drop(columns=['Living_with1','Expenses'])\n",
        "y"
      ],
      "metadata": {
        "id": "VyBPO23hnrw9",
        "colab": {
          "base_uri": "https://localhost:8080/"
        },
        "outputId": "053c14e3-9c06-4a34-e1bb-6bc4644b1cf0"
      },
      "execution_count": 7,
      "outputs": [
        {
          "output_type": "execute_result",
          "data": {
            "text/plain": [
              "array([[1., 0., 0., 0., 0.],\n",
              "       [1., 0., 0., 0., 0.],\n",
              "       [1., 0., 0., 0., 0.],\n",
              "       ...,\n",
              "       [0., 0., 0., 0., 1.],\n",
              "       [0., 0., 0., 0., 1.],\n",
              "       [0., 0., 0., 0., 1.]])"
            ]
          },
          "metadata": {},
          "execution_count": 7
        }
      ]
    },
    {
      "cell_type": "markdown",
      "source": [
        "### Remove unnecessary features"
      ],
      "metadata": {
        "id": "H-cuLUfshz2j"
      }
    },
    {
      "cell_type": "code",
      "source": [
        "print(X.columns)\n",
        "X.drop(columns=['Code','Residence_high_COVID1','Living_with','Monthly_expenses',\n",
        "                 'DASS_depression_numerical','DASS_anxiety_numerical','DASS_stress_numerical',\n",
        "                 'DASS_depression_binary','DASS_anxiety_binary','DASS_anxiety_severity','DASS_stress_binary','DASS_stress_severity',\n",
        "                 'Religion_binary','Med_or_not',\n",
        "                 ],\n",
        "        inplace=True, axis=1)\n",
        "print(X.columns)"
      ],
      "metadata": {
        "colab": {
          "base_uri": "https://localhost:8080/"
        },
        "id": "3hN1ifvxhzU0",
        "outputId": "7ef470b3-675b-4633-88ed-00ea0c203309"
      },
      "execution_count": 8,
      "outputs": [
        {
          "output_type": "stream",
          "name": "stdout",
          "text": [
            "Index(['Code', 'Age_Numerical', 'Gender', 'Marital', 'Marital_problems',\n",
            "       'Religion_binary', 'Religion_help', 'Med_or_not', 'Monthly_expenses',\n",
            "       'Living_with', 'Worry_family', 'Routine_loss', 'Class_hours',\n",
            "       'Stress_class_disrupted', 'Medical_illness', 'Mental_illness',\n",
            "       'COVID_symptoms', 'Residence_high_COVID1', 'Residence_high_COVID',\n",
            "       'Quarantine', 'DASS_depression_numerical', 'DASS_anxiety_numerical',\n",
            "       'DASS_stress_numerical', 'MSPSS_family', 'MSPSS_friends',\n",
            "       'MSPSS_significant_others', 'DASS_depression_binary',\n",
            "       'DASS_anxiety_binary', 'DASS_anxiety_severity', 'DASS_stress_binary',\n",
            "       'DASS_stress_severity', 'Alone', 'Friends/Coursemates', 'Family',\n",
            "       '< RM1000', 'RM1000 - 3000', '> RM3000'],\n",
            "      dtype='object')\n",
            "Index(['Age_Numerical', 'Gender', 'Marital', 'Marital_problems',\n",
            "       'Religion_help', 'Worry_family', 'Routine_loss', 'Class_hours',\n",
            "       'Stress_class_disrupted', 'Medical_illness', 'Mental_illness',\n",
            "       'COVID_symptoms', 'Residence_high_COVID', 'Quarantine', 'MSPSS_family',\n",
            "       'MSPSS_friends', 'MSPSS_significant_others', 'Alone',\n",
            "       'Friends/Coursemates', 'Family', '< RM1000', 'RM1000 - 3000',\n",
            "       '> RM3000'],\n",
            "      dtype='object')\n"
          ]
        }
      ]
    },
    {
      "cell_type": "markdown",
      "source": [
        "### Split into the training and test set"
      ],
      "metadata": {
        "id": "fxeFideitBCm"
      }
    },
    {
      "cell_type": "code",
      "source": [
        "from sklearn.model_selection import train_test_split\n",
        "\n",
        "X_train, X_test, y_train, y_test = train_test_split(X, y, test_size=0.3)\n",
        "print(X_train.shape, y_train.shape)\n",
        "print(X_test.shape, y_test.shape)"
      ],
      "metadata": {
        "id": "w2TwMny0Dio1",
        "colab": {
          "base_uri": "https://localhost:8080/"
        },
        "outputId": "1a38a6e2-caad-433f-f708-e8073b5275e5"
      },
      "execution_count": 9,
      "outputs": [
        {
          "output_type": "stream",
          "name": "stdout",
          "text": [
            "(399, 23) (399, 5)\n",
            "(172, 23) (172, 5)\n"
          ]
        }
      ]
    },
    {
      "cell_type": "markdown",
      "source": [
        "### Feature normalisation"
      ],
      "metadata": {
        "id": "pn0aVR1DVljM"
      }
    },
    {
      "cell_type": "code",
      "source": [
        "from sklearn.preprocessing import StandardScaler\n",
        "from sklearn.compose import ColumnTransformer\n",
        "\n",
        "def featureNormalisation():\n",
        "  numeric_data = ['Age_Numerical', 'Class_hours', 'MSPSS_family', 'MSPSS_friends', 'MSPSS_significant_others']\n",
        "\n",
        "  ct = ColumnTransformer([('scaler', StandardScaler(), numeric_data)], remainder='passthrough')\n",
        "\n",
        "  X_train_scaled = ct.fit_transform(X_train)\n",
        "  # print(pd.DataFrame(X_train_scaled, columns = ct.get_feature_names_out()))\n",
        "  # the test set uses the fitted scaler in train dataset to transform in the test set\n",
        "  X_test_scaled = ct.transform(X_test)\n",
        "  return X_train_scaled, X_test_scaled, ct\n",
        "\n",
        "X_train_scaled, X_test_scaled, ct = featureNormalisation()\n",
        "features = ct.get_feature_names_out()"
      ],
      "metadata": {
        "id": "gSrRWbUfCzTe"
      },
      "execution_count": 10,
      "outputs": []
    },
    {
      "cell_type": "markdown",
      "source": [
        "## Training model"
      ],
      "metadata": {
        "id": "JrLg97ONB4La"
      }
    },
    {
      "cell_type": "markdown",
      "source": [
        "### Define model"
      ],
      "metadata": {
        "id": "QUn33ep9g6vQ"
      }
    },
    {
      "cell_type": "code",
      "source": [
        "!pip install -q -U keras-tuner\n",
        "\n",
        "from tensorflow import keras\n",
        "from keras.models import Sequential\n",
        "from keras.layers import Dense\n",
        "import keras_tuner as kt\n",
        "tf.keras.backend.clear_session()\n",
        "\n",
        "def model_builder(hp):\n",
        "  model = Sequential()\n",
        "  hp_activation = hp.Choice('activation', values=['relu','elu','tanh'])\n",
        "  hp_learning_rate = hp.Choice('learning_rate', values=[1e-2, 1e-3, 1e-4])  \n",
        "  hp_units1 = hp.Int('units1', min_value=1, max_value=100, step=2)\n",
        "  hp_units2 = hp.Int('units2', min_value=1, max_value=100, step=2)\n",
        "  hp_units3 = hp.Int('units3', min_value=1, max_value=100, step=2)\n",
        "  model.add(Dense(units=X.shape[1], activation=hp_activation))\n",
        "  model.add(Dense(units=hp_units1, activation=hp_activation))\n",
        "  model.add(Dense(units=hp_units2, activation=hp_activation))\n",
        "  model.add(Dense(units=hp_units3, activation=hp_activation))\n",
        "  model.add(Dense(5, activation='softmax'))\n",
        "\n",
        "  model.compile(optimizer=keras.optimizers.Adam(learning_rate=hp_learning_rate),\n",
        "                loss=keras.losses.CategoricalCrossentropy(),\n",
        "                metrics=['accuracy'])\n",
        "  return model"
      ],
      "metadata": {
        "id": "VCnFqpo9HqpT",
        "colab": {
          "base_uri": "https://localhost:8080/"
        },
        "outputId": "1429cb01-8e43-42fd-f16b-6bc8effde408"
      },
      "execution_count": 11,
      "outputs": [
        {
          "output_type": "stream",
          "name": "stdout",
          "text": [
            "\u001b[?25l\r\u001b[K     |██▌                             | 10 kB 22.1 MB/s eta 0:00:01\r\u001b[K     |█████                           | 20 kB 15.1 MB/s eta 0:00:01\r\u001b[K     |███████▍                        | 30 kB 8.0 MB/s eta 0:00:01\r\u001b[K     |█████████▉                      | 40 kB 3.7 MB/s eta 0:00:01\r\u001b[K     |████████████▎                   | 51 kB 3.6 MB/s eta 0:00:01\r\u001b[K     |██████████████▊                 | 61 kB 4.3 MB/s eta 0:00:01\r\u001b[K     |█████████████████▏              | 71 kB 4.5 MB/s eta 0:00:01\r\u001b[K     |███████████████████▋            | 81 kB 5.0 MB/s eta 0:00:01\r\u001b[K     |██████████████████████          | 92 kB 5.4 MB/s eta 0:00:01\r\u001b[K     |████████████████████████▌       | 102 kB 4.3 MB/s eta 0:00:01\r\u001b[K     |███████████████████████████     | 112 kB 4.3 MB/s eta 0:00:01\r\u001b[K     |█████████████████████████████▍  | 122 kB 4.3 MB/s eta 0:00:01\r\u001b[K     |███████████████████████████████▉| 133 kB 4.3 MB/s eta 0:00:01\r\u001b[K     |████████████████████████████████| 133 kB 4.3 MB/s \n",
            "\u001b[?25h"
          ]
        }
      ]
    },
    {
      "cell_type": "markdown",
      "source": [
        "### Hyperparameter tuning"
      ],
      "metadata": {
        "id": "AH9WIO-hg9eh"
      }
    },
    {
      "cell_type": "code",
      "source": [
        "tuner = kt.Hyperband(model_builder,\n",
        "                     objective='val_accuracy',\n",
        "                     max_epochs=50,\n",
        "                     factor=3,\n",
        "                     directory='my_dir',\n",
        "                     project_name='keras-tuning',\n",
        "                     overwrite=True)\n",
        "tuner.search_space_summary()"
      ],
      "metadata": {
        "colab": {
          "base_uri": "https://localhost:8080/"
        },
        "id": "hbNQJfcNGkyT",
        "outputId": "8e74525a-ae64-4a16-ccb8-c6c37e83cfe8"
      },
      "execution_count": 134,
      "outputs": [
        {
          "output_type": "stream",
          "name": "stdout",
          "text": [
            "Search space summary\n",
            "Default search space size: 5\n",
            "activation (Choice)\n",
            "{'default': 'relu', 'conditions': [], 'values': ['relu', 'elu', 'tanh'], 'ordered': False}\n",
            "learning_rate (Choice)\n",
            "{'default': 0.01, 'conditions': [], 'values': [0.01, 0.001, 0.0001], 'ordered': True}\n",
            "units1 (Int)\n",
            "{'default': None, 'conditions': [], 'min_value': 1, 'max_value': 100, 'step': 2, 'sampling': None}\n",
            "units2 (Int)\n",
            "{'default': None, 'conditions': [], 'min_value': 1, 'max_value': 100, 'step': 2, 'sampling': None}\n",
            "units3 (Int)\n",
            "{'default': None, 'conditions': [], 'min_value': 1, 'max_value': 100, 'step': 2, 'sampling': None}\n"
          ]
        }
      ]
    },
    {
      "cell_type": "code",
      "source": [
        "stop_early = tf.keras.callbacks.EarlyStopping(monitor='val_loss', patience=5)\n",
        "# Perform hypertuning\n",
        "tuner.search(X_train_scaled, y_train, epochs=50, validation_split=0.2, callbacks=[stop_early])"
      ],
      "metadata": {
        "colab": {
          "base_uri": "https://localhost:8080/"
        },
        "id": "ZqAyJpqsIBvG",
        "outputId": "e8218e77-5f29-469d-ecd6-026bd27460e4"
      },
      "execution_count": 229,
      "outputs": [
        {
          "output_type": "stream",
          "name": "stdout",
          "text": [
            "INFO:tensorflow:Oracle triggered exit\n"
          ]
        }
      ]
    },
    {
      "cell_type": "code",
      "source": [
        "tuner.results_summary()"
      ],
      "metadata": {
        "colab": {
          "base_uri": "https://localhost:8080/"
        },
        "id": "PsVu4Dt3M0px",
        "outputId": "6ff47f81-0227-49a8-da17-8149616d9098"
      },
      "execution_count": 230,
      "outputs": [
        {
          "output_type": "stream",
          "name": "stdout",
          "text": [
            "Results summary\n",
            "Results in my_dir/keras-tuning\n",
            "Showing 10 best trials\n",
            "<keras_tuner.engine.objective.Objective object at 0x7f5314bb1cd0>\n",
            "Trial summary\n",
            "Hyperparameters:\n",
            "activation: tanh\n",
            "learning_rate: 0.01\n",
            "units1: 63\n",
            "units2: 83\n",
            "units3: 53\n",
            "tuner/epochs: 50\n",
            "tuner/initial_epoch: 17\n",
            "tuner/bracket: 3\n",
            "tuner/round: 3\n",
            "tuner/trial_id: 0048\n",
            "Score: 0.8374999761581421\n",
            "Trial summary\n",
            "Hyperparameters:\n",
            "activation: relu\n",
            "learning_rate: 0.01\n",
            "units1: 27\n",
            "units2: 31\n",
            "units3: 91\n",
            "tuner/epochs: 17\n",
            "tuner/initial_epoch: 0\n",
            "tuner/bracket: 1\n",
            "tuner/round: 0\n",
            "Score: 0.824999988079071\n",
            "Trial summary\n",
            "Hyperparameters:\n",
            "activation: tanh\n",
            "learning_rate: 0.01\n",
            "units1: 45\n",
            "units2: 59\n",
            "units3: 73\n",
            "tuner/epochs: 50\n",
            "tuner/initial_epoch: 17\n",
            "tuner/bracket: 3\n",
            "tuner/round: 3\n",
            "tuner/trial_id: 0047\n",
            "Score: 0.800000011920929\n",
            "Trial summary\n",
            "Hyperparameters:\n",
            "activation: relu\n",
            "learning_rate: 0.01\n",
            "units1: 73\n",
            "units2: 51\n",
            "units3: 51\n",
            "tuner/epochs: 50\n",
            "tuner/initial_epoch: 17\n",
            "tuner/bracket: 2\n",
            "tuner/round: 2\n",
            "tuner/trial_id: 0069\n",
            "Score: 0.800000011920929\n",
            "Trial summary\n",
            "Hyperparameters:\n",
            "activation: elu\n",
            "learning_rate: 0.01\n",
            "units1: 99\n",
            "units2: 89\n",
            "units3: 39\n",
            "tuner/epochs: 50\n",
            "tuner/initial_epoch: 17\n",
            "tuner/bracket: 2\n",
            "tuner/round: 2\n",
            "tuner/trial_id: 0109\n",
            "Score: 0.800000011920929\n",
            "Trial summary\n",
            "Hyperparameters:\n",
            "activation: relu\n",
            "learning_rate: 0.01\n",
            "units1: 43\n",
            "units2: 21\n",
            "units3: 49\n",
            "tuner/epochs: 17\n",
            "tuner/initial_epoch: 0\n",
            "tuner/bracket: 1\n",
            "tuner/round: 0\n",
            "Score: 0.800000011920929\n",
            "Trial summary\n",
            "Hyperparameters:\n",
            "activation: tanh\n",
            "learning_rate: 0.01\n",
            "units1: 37\n",
            "units2: 17\n",
            "units3: 73\n",
            "tuner/epochs: 50\n",
            "tuner/initial_epoch: 17\n",
            "tuner/bracket: 2\n",
            "tuner/round: 2\n",
            "tuner/trial_id: 0067\n",
            "Score: 0.7875000238418579\n",
            "Trial summary\n",
            "Hyperparameters:\n",
            "activation: relu\n",
            "learning_rate: 0.001\n",
            "units1: 65\n",
            "units2: 39\n",
            "units3: 67\n",
            "tuner/epochs: 50\n",
            "tuner/initial_epoch: 0\n",
            "tuner/bracket: 0\n",
            "tuner/round: 0\n",
            "Score: 0.7875000238418579\n",
            "Trial summary\n",
            "Hyperparameters:\n",
            "activation: relu\n",
            "learning_rate: 0.001\n",
            "units1: 77\n",
            "units2: 33\n",
            "units3: 17\n",
            "tuner/epochs: 50\n",
            "tuner/initial_epoch: 0\n",
            "tuner/bracket: 0\n",
            "tuner/round: 0\n",
            "Score: 0.7749999761581421\n",
            "Trial summary\n",
            "Hyperparameters:\n",
            "activation: elu\n",
            "learning_rate: 0.01\n",
            "units1: 85\n",
            "units2: 83\n",
            "units3: 51\n",
            "tuner/epochs: 50\n",
            "tuner/initial_epoch: 0\n",
            "tuner/bracket: 0\n",
            "tuner/round: 0\n",
            "Score: 0.762499988079071\n"
          ]
        }
      ]
    },
    {
      "cell_type": "code",
      "source": [
        "best_hps=tuner.get_best_hyperparameters()[0]\n",
        "model = tuner.hypermodel.build(best_hps)\n",
        "history = model.fit(X_train_scaled, y_train, epochs=30, validation_split=0.2)"
      ],
      "metadata": {
        "id": "CHmXUO9-IHjl",
        "colab": {
          "base_uri": "https://localhost:8080/"
        },
        "outputId": "cb56f4e1-92dd-49c4-8633-b1a27a12151d"
      },
      "execution_count": 718,
      "outputs": [
        {
          "output_type": "stream",
          "name": "stdout",
          "text": [
            "Epoch 1/30\n",
            "10/10 [==============================] - 1s 22ms/step - loss: 1.4722 - accuracy: 0.3762 - val_loss: 1.3765 - val_accuracy: 0.3125\n",
            "Epoch 2/30\n",
            "10/10 [==============================] - 0s 5ms/step - loss: 1.1998 - accuracy: 0.4765 - val_loss: 1.2731 - val_accuracy: 0.4625\n",
            "Epoch 3/30\n",
            "10/10 [==============================] - 0s 5ms/step - loss: 1.1371 - accuracy: 0.4734 - val_loss: 1.1814 - val_accuracy: 0.5250\n",
            "Epoch 4/30\n",
            "10/10 [==============================] - 0s 6ms/step - loss: 0.9770 - accuracy: 0.5580 - val_loss: 1.3545 - val_accuracy: 0.4375\n",
            "Epoch 5/30\n",
            "10/10 [==============================] - 0s 5ms/step - loss: 0.9754 - accuracy: 0.5611 - val_loss: 1.2204 - val_accuracy: 0.5250\n",
            "Epoch 6/30\n",
            "10/10 [==============================] - 0s 6ms/step - loss: 0.8181 - accuracy: 0.6520 - val_loss: 1.1603 - val_accuracy: 0.5125\n",
            "Epoch 7/30\n",
            "10/10 [==============================] - 0s 5ms/step - loss: 0.7716 - accuracy: 0.6834 - val_loss: 1.1165 - val_accuracy: 0.5875\n",
            "Epoch 8/30\n",
            "10/10 [==============================] - 0s 5ms/step - loss: 0.6906 - accuracy: 0.7022 - val_loss: 1.1387 - val_accuracy: 0.6000\n",
            "Epoch 9/30\n",
            "10/10 [==============================] - 0s 5ms/step - loss: 0.6113 - accuracy: 0.7335 - val_loss: 1.0167 - val_accuracy: 0.6250\n",
            "Epoch 10/30\n",
            "10/10 [==============================] - 0s 6ms/step - loss: 0.5568 - accuracy: 0.7712 - val_loss: 0.9771 - val_accuracy: 0.6250\n",
            "Epoch 11/30\n",
            "10/10 [==============================] - 0s 5ms/step - loss: 0.5106 - accuracy: 0.7774 - val_loss: 1.0150 - val_accuracy: 0.6625\n",
            "Epoch 12/30\n",
            "10/10 [==============================] - 0s 5ms/step - loss: 0.4484 - accuracy: 0.8213 - val_loss: 0.9293 - val_accuracy: 0.7375\n",
            "Epoch 13/30\n",
            "10/10 [==============================] - 0s 5ms/step - loss: 0.4258 - accuracy: 0.8245 - val_loss: 1.0282 - val_accuracy: 0.6875\n",
            "Epoch 14/30\n",
            "10/10 [==============================] - 0s 5ms/step - loss: 0.3902 - accuracy: 0.8527 - val_loss: 0.8863 - val_accuracy: 0.7750\n",
            "Epoch 15/30\n",
            "10/10 [==============================] - 0s 5ms/step - loss: 0.3654 - accuracy: 0.8683 - val_loss: 0.9157 - val_accuracy: 0.7625\n",
            "Epoch 16/30\n",
            "10/10 [==============================] - 0s 4ms/step - loss: 0.3796 - accuracy: 0.8652 - val_loss: 0.8575 - val_accuracy: 0.7375\n",
            "Epoch 17/30\n",
            "10/10 [==============================] - 0s 4ms/step - loss: 0.3237 - accuracy: 0.8934 - val_loss: 0.8578 - val_accuracy: 0.7875\n",
            "Epoch 18/30\n",
            "10/10 [==============================] - 0s 5ms/step - loss: 0.2692 - accuracy: 0.9060 - val_loss: 0.8905 - val_accuracy: 0.7500\n",
            "Epoch 19/30\n",
            "10/10 [==============================] - 0s 4ms/step - loss: 0.2221 - accuracy: 0.9310 - val_loss: 0.8878 - val_accuracy: 0.7625\n",
            "Epoch 20/30\n",
            "10/10 [==============================] - 0s 5ms/step - loss: 0.2248 - accuracy: 0.9342 - val_loss: 0.9453 - val_accuracy: 0.7625\n",
            "Epoch 21/30\n",
            "10/10 [==============================] - 0s 5ms/step - loss: 0.2425 - accuracy: 0.9122 - val_loss: 1.0025 - val_accuracy: 0.7500\n",
            "Epoch 22/30\n",
            "10/10 [==============================] - 0s 5ms/step - loss: 0.2016 - accuracy: 0.9436 - val_loss: 0.7989 - val_accuracy: 0.8000\n",
            "Epoch 23/30\n",
            "10/10 [==============================] - 0s 5ms/step - loss: 0.1611 - accuracy: 0.9467 - val_loss: 0.7724 - val_accuracy: 0.7625\n",
            "Epoch 24/30\n",
            "10/10 [==============================] - 0s 5ms/step - loss: 0.1212 - accuracy: 0.9624 - val_loss: 0.8322 - val_accuracy: 0.8000\n",
            "Epoch 25/30\n",
            "10/10 [==============================] - 0s 5ms/step - loss: 0.0968 - accuracy: 0.9749 - val_loss: 0.8401 - val_accuracy: 0.7875\n",
            "Epoch 26/30\n",
            "10/10 [==============================] - 0s 5ms/step - loss: 0.0792 - accuracy: 0.9875 - val_loss: 0.7928 - val_accuracy: 0.8000\n",
            "Epoch 27/30\n",
            "10/10 [==============================] - 0s 7ms/step - loss: 0.0594 - accuracy: 0.9906 - val_loss: 0.8230 - val_accuracy: 0.8125\n",
            "Epoch 28/30\n",
            "10/10 [==============================] - 0s 5ms/step - loss: 0.0443 - accuracy: 1.0000 - val_loss: 0.7690 - val_accuracy: 0.8125\n",
            "Epoch 29/30\n",
            "10/10 [==============================] - 0s 5ms/step - loss: 0.0366 - accuracy: 0.9937 - val_loss: 0.7879 - val_accuracy: 0.8125\n",
            "Epoch 30/30\n",
            "10/10 [==============================] - 0s 5ms/step - loss: 0.0289 - accuracy: 0.9969 - val_loss: 0.8336 - val_accuracy: 0.8000\n"
          ]
        }
      ]
    },
    {
      "cell_type": "markdown",
      "source": [
        "### Plot graph"
      ],
      "metadata": {
        "id": "WCm1M24DhCqI"
      }
    },
    {
      "cell_type": "code",
      "source": [
        "plt.subplot(1, 2, 1)\n",
        "plt.title(\"Loss\")\n",
        "plt.plot(history.history[\"loss\"])\n",
        "plt.plot(history.history[\"val_loss\"])\n",
        "plt.yscale('log')\n",
        "plt.legend(['loss', 'val_loss'])\n",
        "\n",
        "plt.subplot(1, 2, 2)\n",
        "plt.title(\"Accuracy\")\n",
        "plt.plot(history.history[\"accuracy\"])\n",
        "plt.plot(history.history[\"val_accuracy\"])\n",
        "plt.legend(['accuracy', 'val_accuracy'])\n",
        "\n",
        "plt.show()"
      ],
      "metadata": {
        "colab": {
          "base_uri": "https://localhost:8080/",
          "height": 281
        },
        "id": "eq0RjzX8A_3h",
        "outputId": "45726a5b-d9da-4b8d-f449-07ac128ef621"
      },
      "execution_count": 719,
      "outputs": [
        {
          "output_type": "display_data",
          "data": {
            "text/plain": [
              "<Figure size 432x288 with 2 Axes>"
            ],
            "image/png": "[encoded data removed]"
          },
          "metadata": {
            "needs_background": "light"
          }
        }
      ]
    },
    {
      "cell_type": "markdown",
      "source": [
        "## Performance metrics"
      ],
      "metadata": {
        "id": "McaTE25HCYNM"
      }
    },
    {
      "cell_type": "markdown",
      "source": [
        "### Accuracy"
      ],
      "metadata": {
        "id": "teDSrYmnCbCD"
      }
    },
    {
      "cell_type": "code",
      "source": [
        "model.evaluate(X_test_scaled, y_test, return_dict=True)"
      ],
      "metadata": {
        "id": "R_zOL1o-IpyH",
        "colab": {
          "base_uri": "https://localhost:8080/"
        },
        "outputId": "e0571db8-da2c-4f0d-86b0-b90b343c6105"
      },
      "execution_count": 720,
      "outputs": [
        {
          "output_type": "stream",
          "name": "stdout",
          "text": [
            "6/6 [==============================] - 0s 2ms/step - loss: 0.9493 - accuracy: 0.8256\n"
          ]
        },
        {
          "output_type": "execute_result",
          "data": {
            "text/plain": [
              "{'accuracy': 0.8255813717842102, 'loss': 0.949254035949707}"
            ]
          },
          "metadata": {},
          "execution_count": 720
        }
      ]
    },
    {
      "cell_type": "markdown",
      "source": [
        "### Classification report"
      ],
      "metadata": {
        "id": "NugXYwkS5Enr"
      }
    },
    {
      "cell_type": "code",
      "source": [
        "from sklearn.metrics import classification_report, confusion_matrix, roc_auc_score\n",
        "\n",
        "y_pred = model.predict(X_test_scaled)\n",
        "y_pred_class = np.argmax(y_pred, axis=1)\n",
        "y_test_class = np.argmax(y_test, axis=1)\n",
        "\n",
        "print(classification_report(y_test_class, y_pred_class))"
      ],
      "metadata": {
        "colab": {
          "base_uri": "https://localhost:8080/"
        },
        "id": "xGT1gxI5kIHA",
        "outputId": "db28b191-e6f3-49d7-d10b-6ad3dfd90e74"
      },
      "execution_count": 721,
      "outputs": [
        {
          "output_type": "stream",
          "name": "stdout",
          "text": [
            "              precision    recall  f1-score   support\n",
            "\n",
            "           0       0.78      0.75      0.76        60\n",
            "           1       0.90      0.85      0.87        52\n",
            "           2       0.80      0.80      0.80        30\n",
            "           3       0.79      1.00      0.88        11\n",
            "           4       0.86      0.95      0.90        19\n",
            "\n",
            "    accuracy                           0.83       172\n",
            "   macro avg       0.82      0.87      0.84       172\n",
            "weighted avg       0.83      0.83      0.82       172\n",
            "\n"
          ]
        }
      ]
    },
    {
      "cell_type": "markdown",
      "source": [
        "### Confusion matrix"
      ],
      "metadata": {
        "id": "iz7EmKHQ5NqD"
      }
    },
    {
      "cell_type": "code",
      "source": [
        "confusion_matrix(y_test_class, y_pred_class)"
      ],
      "metadata": {
        "colab": {
          "base_uri": "https://localhost:8080/"
        },
        "id": "oD_zw7gX5L4E",
        "outputId": "2466f78b-7b2c-4edb-9696-aa85c526d8b2"
      },
      "execution_count": 722,
      "outputs": [
        {
          "output_type": "execute_result",
          "data": {
            "text/plain": [
              "array([[45,  5,  5,  3,  2],\n",
              "       [ 7, 44,  0,  0,  1],\n",
              "       [ 6,  0, 24,  0,  0],\n",
              "       [ 0,  0,  0, 11,  0],\n",
              "       [ 0,  0,  1,  0, 18]])"
            ]
          },
          "metadata": {},
          "execution_count": 722
        }
      ]
    },
    {
      "cell_type": "markdown",
      "source": [
        "### ROC curve"
      ],
      "metadata": {
        "id": "Op60lfPs5SMK"
      }
    },
    {
      "cell_type": "markdown",
      "source": [
        "#### Area under the ROC curve"
      ],
      "metadata": {
        "id": "IvKlTCna5mdd"
      }
    },
    {
      "cell_type": "code",
      "source": [
        "roc_auc_score(y_test, y_pred, multi_class = 'ovo')"
      ],
      "metadata": {
        "colab": {
          "base_uri": "https://localhost:8080/"
        },
        "id": "VygOCViO5QrT",
        "outputId": "9795b74d-3c2d-45dd-bd2c-cbffc69f99d5"
      },
      "execution_count": 723,
      "outputs": [
        {
          "output_type": "execute_result",
          "data": {
            "text/plain": [
              "0.924139246274238"
            ]
          },
          "metadata": {},
          "execution_count": 723
        }
      ]
    },
    {
      "cell_type": "markdown",
      "source": [
        "#### Plot of ROC curve"
      ],
      "metadata": {
        "id": "p2myX9Wm5tEG"
      }
    },
    {
      "cell_type": "code",
      "source": [
        "from sklearn.metrics import roc_curve\n",
        "from sklearn.metrics import roc_auc_score\n",
        "from sklearn.metrics import auc\n",
        "from sklearn.metrics import RocCurveDisplay\n",
        "from numpy import interp\n",
        "from itertools import cycle\n",
        "\n",
        "n_classes = 5\n",
        "\n",
        "# Plot linewidth.\n",
        "lw = 3\n",
        "\n",
        "# Compute ROC curve and ROC area for each class\n",
        "fpr = dict()\n",
        "tpr = dict()\n",
        "roc_auc = dict()\n",
        "for i in range(n_classes):\n",
        "    fpr[i], tpr[i], _ = roc_curve(y_test[:, i], y_pred[:, i])\n",
        "    roc_auc[i] = auc(fpr[i], tpr[i])\n",
        "\n",
        "# Compute micro-average ROC curve and ROC area\n",
        "fpr[\"micro\"], tpr[\"micro\"], _ = roc_curve(y_test.ravel(), y_pred.ravel())\n",
        "roc_auc[\"micro\"] = auc(fpr[\"micro\"], tpr[\"micro\"])\n",
        "\n",
        "# Compute macro-average ROC curve and ROC area\n",
        "\n",
        "# First aggregate all false positive rates\n",
        "all_fpr = np.unique(np.concatenate([fpr[i] for i in range(n_classes)]))\n",
        "\n",
        "# Then interpolate all ROC curves at this points\n",
        "mean_tpr = np.zeros_like(all_fpr)\n",
        "for i in range(n_classes):\n",
        "    mean_tpr += interp(all_fpr, fpr[i], tpr[i])\n",
        "\n",
        "# Finally average it and compute AUC\n",
        "mean_tpr /= n_classes\n",
        "\n",
        "fpr[\"macro\"] = all_fpr\n",
        "tpr[\"macro\"] = mean_tpr\n",
        "roc_auc[\"macro\"] = auc(fpr[\"macro\"], tpr[\"macro\"])\n",
        "\n",
        "# Plot all ROC curves\n",
        "plt.figure(1)\n",
        "plt.plot(fpr[\"micro\"], tpr[\"micro\"],\n",
        "         label='micro-average ROC curve (area = {0:0.2f})'\n",
        "               ''.format(roc_auc[\"micro\"]),\n",
        "         color='deeppink', linestyle=':', linewidth=4)\n",
        "\n",
        "plt.plot(fpr[\"macro\"], tpr[\"macro\"],\n",
        "         label='macro-average ROC curve (area = {0:0.2f})'\n",
        "               ''.format(roc_auc[\"macro\"]),\n",
        "         color='navy', linestyle=':', linewidth=4)\n",
        "\n",
        "colors = cycle(['aqua', 'darkorange', 'cornflowerblue', 'green', 'magenta'])\n",
        "for i, color in zip(range(n_classes), colors):\n",
        "    plt.plot(fpr[i], tpr[i], color=color, lw=lw,\n",
        "             label='ROC curve of class {0} (area = {1:0.2f})'\n",
        "             ''.format(i, roc_auc[i]))\n",
        "\n",
        "plt.plot([0, 1], [0, 1], 'k--', lw=lw)\n",
        "plt.xlim([0.0, 1.0])\n",
        "plt.ylim([0.0, 1.05])\n",
        "plt.xlabel('False Positive Rate')\n",
        "plt.ylabel('True Positive Rate')\n",
        "plt.title('ROC Curve')\n",
        "plt.legend(loc=\"upper right\")\n",
        "plt.show()\n",
        "\n",
        "\n",
        "# Zoom in view of the upper left corner.\n",
        "plt.figure(2)\n",
        "plt.xlim(0, 0.2)\n",
        "plt.ylim(0.8, 1)\n",
        "plt.plot(fpr[\"micro\"], tpr[\"micro\"],\n",
        "         label='micro-average ROC curve (area = {0:0.2f})'\n",
        "               ''.format(roc_auc[\"micro\"]),\n",
        "         color='deeppink', linestyle=':', linewidth=4)\n",
        "\n",
        "plt.plot(fpr[\"macro\"], tpr[\"macro\"],\n",
        "         label='macro-average ROC curve (area = {0:0.2f})'\n",
        "               ''.format(roc_auc[\"macro\"]),\n",
        "         color='navy', linestyle=':', linewidth=4)\n",
        "\n",
        "for i, color in zip(range(n_classes), colors):\n",
        "    plt.plot(fpr[i], tpr[i], color=color, lw=lw,\n",
        "             label='ROC curve of class {0} (area = {1:0.2f})'\n",
        "             ''.format(i, roc_auc[i]))\n",
        "\n",
        "plt.plot([0, 1], [0, 1], 'k--', lw=lw)\n",
        "plt.xlabel('False Positive Rate')\n",
        "plt.ylabel('True Positive Rate')\n",
        "plt.title('ROC Curve (Zoomed In)')\n",
        "plt.legend(loc=\"upper right\")\n",
        "plt.show()"
      ],
      "metadata": {
        "colab": {
          "base_uri": "https://localhost:8080/",
          "height": 573
        },
        "id": "R6TqynEHnaME",
        "outputId": "b3fc2359-8125-4a0c-dc99-266efbfad98f"
      },
      "execution_count": 724,
      "outputs": [
        {
          "output_type": "display_data",
          "data": {
            "text/plain": [
              "<Figure size 432x288 with 1 Axes>"
            ],
            "image/png": "[encoded data removed]"
          },
          "metadata": {
            "needs_background": "light"
          }
        },
        {
          "output_type": "display_data",
          "data": {
            "text/plain": [
              "<Figure size 432x288 with 1 Axes>"
            ],
            "image/png": "[encoded data removed]"
          },
          "metadata": {
            "needs_background": "light"
          }
        }
      ]
    },
    {
      "cell_type": "markdown",
      "source": [
        "## Save model and scaler"
      ],
      "metadata": {
        "id": "bhxa1IMqgknD"
      }
    },
    {
      "cell_type": "code",
      "source": [
        "model.save(\"model.h5\")"
      ],
      "metadata": {
        "id": "ML1tdxEMYv0R"
      },
      "execution_count": 725,
      "outputs": []
    },
    {
      "cell_type": "code",
      "source": [
        "import joblib\n",
        "joblib.dump(ct, 'scaler.pkl')"
      ],
      "metadata": {
        "colab": {
          "base_uri": "https://localhost:8080/"
        },
        "id": "aQ7LXIDmfmzf",
        "outputId": "a2583b1d-5979-4bb9-b740-5bcd1ee7cfab"
      },
      "execution_count": 726,
      "outputs": [
        {
          "output_type": "execute_result",
          "data": {
            "text/plain": [
              "['scaler.pkl']"
            ]
          },
          "metadata": {},
          "execution_count": 726
        }
      ]
    }
  ]
}