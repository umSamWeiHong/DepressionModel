{
  "nbformat": 4,
  "nbformat_minor": 0,
  "metadata": {
    "colab": {
      "name": "UI.ipynb",
      "provenance": [],
      "collapsed_sections": [],
      "include_colab_link": true
    },
    "kernelspec": {
      "name": "python3",
      "display_name": "Python 3"
    },
    "language_info": {
      "name": "python"
    }
  },
  "cells": [
    {
      "cell_type": "markdown",
      "metadata": {
        "id": "view-in-github",
        "colab_type": "text"
      },
      "source": [
        "<a href=\"https://colab.research.google.com/github/umSamWeiHong/DepressionModel/blob/master/UI.ipynb\" target=\"_parent\"><img src=\"https://colab.research.google.com/assets/colab-badge.svg\" alt=\"Open In Colab\"/></a>"
      ]
    },
    {
      "cell_type": "code",
      "execution_count": 1,
      "metadata": {
        "id": "fNyUmmnkuiZX"
      },
      "outputs": [],
      "source": [
        "# pip install gradio"
      ]
    },
    {
      "cell_type": "code",
      "source": [
        "import numpy as np\n",
        "import pandas as pd\n",
        "import tensorflow as tf\n",
        "from scipy.special import softmax\n",
        "from tensorflow.keras.models import load_model\n",
        "\n",
        "import joblib"
      ],
      "metadata": {
        "id": "GDCirV5Q9RzO"
      },
      "execution_count": 2,
      "outputs": []
    },
    {
      "cell_type": "code",
      "source": [
        "from google.colab import drive\n",
        "drive.mount('/content/drive')\n",
        "\n",
        "model = load_model('/content/drive/MyDrive/Machine Learning Group Project/neural_network_model.h5')\n",
        "scaler = joblib.load('/content/drive/MyDrive/Machine Learning Group Project/neural_network_scaler.pkl')"
      ],
      "metadata": {
        "colab": {
          "base_uri": "https://localhost:8080/"
        },
        "id": "uK45BSm59FvN",
        "outputId": "4ec2aad7-7f76-41d6-be45-109b8d1547f7"
      },
      "execution_count": 3,
      "outputs": [
        {
          "output_type": "stream",
          "name": "stdout",
          "text": [
            "Drive already mounted at /content/drive; to attempt to forcibly remount, call drive.mount(\"/content/drive\", force_remount=True).\n"
          ]
        }
      ]
    },
    {
      "cell_type": "code",
      "source": [
        "import gradio as gr"
      ],
      "metadata": {
        "id": "jOGHT7FpujlK"
      },
      "execution_count": 4,
      "outputs": []
    },
    {
      "cell_type": "code",
      "source": [
        "def fn(marital, marital_problems, religion_help, routine_loss, stress_class_disrupted,\n",
        "       medical_illness, mental_illness, covid_symptoms, residence_high_covid, quarantine,\n",
        "       expenses, living_with, _,\n",
        "       q1, q2, q3, q4, q5, q6, q7, q8, q9, q10, q11, q12):\n",
        "    \n",
        "    family = (q3 + q4 + q8 + q11)\n",
        "    friends = (q6 + q7 + q9 + q12)\n",
        "    significant_others = (q1 + q2 + q5 + q10)\n",
        "    \n",
        "    X = [marital, marital_problems, religion_help, routine_loss, stress_class_disrupted,\n",
        "         medical_illness, mental_illness, covid_symptoms, residence_high_covid, quarantine,\n",
        "         family, friends, significant_others]\n",
        "\n",
        "    if (living_with == 0): \n",
        "      X += [1, 0, 0]\n",
        "    elif (living_with == 1):\n",
        "       X += [0, 1, 0]\n",
        "    elif (living_with == 2):\n",
        "       X += [0, 0, 1]\n",
        "\n",
        "    if (expenses == 0): \n",
        "      X += [1, 0, 0]\n",
        "    elif (expenses == 1):\n",
        "       X += [0, 1, 0]\n",
        "    elif (expenses == 2):\n",
        "       X += [0, 0, 1]\n",
        "\n",
        "    X = pd.DataFrame(X).T\n",
        "    X.columns = ['Marital', 'Marital_problems', 'Religion_help', 'Routine_loss',\n",
        "       'Stress_class_disrupted', 'Medical_illness', 'Mental_illness',\n",
        "       'COVID_symptoms', 'Residence_high_COVID', 'Quarantine', 'MSPSS_family',\n",
        "       'MSPSS_friends', 'MSPSS_significant_others', 'Alone',\n",
        "       'Friends/Coursemates', 'Family', '< RM1000', 'RM1000 - 3000',\n",
        "       '> RM3000']\n",
        "    X = scaler.transform(X)\n",
        "\n",
        "    y = model.predict(X)\n",
        "    \n",
        "    y_classes = [\"No depression\", \"Mild depression\", \"Moderate depression\", \"Severe depression\", \"Very severe depression\"]\n",
        "    y_prob = softmax(y).tolist()[0]\n",
        "    print(y_prob)\n",
        "    dictionary = {k: v for k, v in zip(y_classes, y_prob)}\n",
        "    print(dictionary)\n",
        "\n",
        "    y = np.argmax(y, axis=1)\n",
        "    y = y[0]\n",
        "    output = \"\"\n",
        "    if (y == 0):\n",
        "      output = \"No depression\"\n",
        "    if (y == 1):\n",
        "      output = \"Mild depression\"\n",
        "    if (y == 2):\n",
        "      output = \"Moderate depression\"\n",
        "    if (y == 3):\n",
        "      output = \"Severe depression\"\n",
        "    if (y == 4):\n",
        "      output = \"Very severe depression\"\n",
        "\n",
        "    return output, dictionary\n",
        "\n",
        "app = gr.Interface(fn=fn,\n",
        "                   inputs=[gr.Radio(label = \"Marital status\", choices=['Married', 'Single'], type = 'index'),\n",
        "                           gr.Radio(label = \"Do you have marital problem during the lockdown?\", choices=['No', 'Yes'], type = 'index'),\n",
        "                           gr.Radio(label = \"Does religion help you cope during the lockdown?\", choices=['No', 'Yes'], type = 'index'),\n",
        "                           gr.Radio(label = \"Are you frustrated due to loss of daily routine?\", choices=['No', 'Yes'], type = 'index'),\n",
        "                           gr.Radio(label = \"Do you feel stress due to study being disrupted?\", choices=['No', 'Yes'], type = 'index'),\n",
        "                           \n",
        "                           gr.Radio(label = \"History of pre-existing medical illnesses\", choices=['No', 'Yes'], type = 'index'),\n",
        "                           gr.Radio(label = \"History of pre-existing psychiatric illnesses\", choices=['No', 'Yes'], type = 'index'),\n",
        "                           gr.Radio(label = \"Are you afraid that you might be infected if you develop symptoms?\", choices=['No', 'Yes'], type = 'index'),\n",
        "                           gr.Radio(label = \"Are cases prevalent in your residence area?\", choices=['No', 'Yes'], type = 'index'),\n",
        "                           gr.Radio(label = \"Were you quarantined due to exposure to positive cases?\", choices=['No', 'Yes'], type = 'index'),\n",
        "\n",
        "                           gr.Radio(label = \"Average monthly expenses\", choices=['< RM 1000', 'RM 1000 - RM 3000', '> RM 3000'], type = 'index'),\n",
        "                           gr.Radio(label = \"Who do you live with during the lockdown?\", choices=['Alone', 'Friends or coursemates', 'Family'], type = 'index'),\n",
        "\n",
        "                           gr.Markdown(value = \"\"\"#### Indicate how you feel about each statement.\n",
        "                                                  1. Very Strongly Disagree\n",
        "                                                  2. Strongly Disagree\n",
        "                                                  3. Mildly Disagree\n",
        "                                                  4. Neutral\n",
        "                                                  5. Mildly Agree\n",
        "                                                  6. Strongly Agree\n",
        "                                                  7. Very Strongly Agree\"\"\"),\n",
        "\n",
        "                           gr.Slider(label = \"There is a special person who is around when I am in need.\", minimum = 1, maximum = 7, step = 1),\n",
        "                           gr.Slider(label = \"There is a special person with whom I can share joys and sorrows.\", minimum = 1, maximum = 7, step = 1),\n",
        "                           gr.Slider(label = \"My family really tries to help me.\", minimum = 1, maximum = 7, step = 1),\n",
        "                           gr.Slider(label = \"I get the emotional help & support I need from my family.\", minimum = 1, maximum = 7, step = 1),\n",
        "                           gr.Slider(label = \"I have a special person who is a real source of comfort to me.\", minimum = 1, maximum = 7, step = 1),\n",
        "\n",
        "                           gr.Slider(label = \"My friends really try to help me.\", minimum = 1, maximum = 7, step = 1),\n",
        "                           gr.Slider(label = \"I can count on my friends when things go wrong.\", minimum = 1, maximum = 7, step = 1),\n",
        "                           gr.Slider(label = \"I can talk about my problems with my family.\", minimum = 1, maximum = 7, step = 1),\n",
        "                           gr.Slider(label = \"I have friends with whom I can share my joys and sorrows.\", minimum = 1, maximum = 7, step = 1),\n",
        "                           gr.Slider(label = \"There is a special person in my life who cares about my feelings.\", minimum = 1, maximum = 7, step = 1),\n",
        "\n",
        "                           gr.Slider(label = \"My family is willing to help me make decisions.\", minimum = 1, maximum = 7, step = 1),\n",
        "                           gr.Slider(label = \"I can talk about my problems with my friends.\", minimum = 1, maximum = 7, step = 1),\n",
        "                   ],\n",
        "                   outputs=[gr.Textbox(label = \"Depression Severity\"),\n",
        "                            gr.Label(label = \"Classification Probabilities\")])"
      ],
      "metadata": {
        "id": "1vtufZ7mup8P"
      },
      "execution_count": 5,
      "outputs": []
    },
    {
      "cell_type": "code",
      "source": [
        "app.launch(debug=True)"
      ],
      "metadata": {
        "colab": {
          "base_uri": "https://localhost:8080/",
          "height": 680
        },
        "id": "rETpVUJL-F5P",
        "outputId": "cb86b5ac-bb47-41c5-d2a7-67fd4c86b7c9"
      },
      "execution_count": null,
      "outputs": [
        {
          "output_type": "stream",
          "name": "stdout",
          "text": [
            "Colab notebook detected. This cell will run indefinitely so that you can see errors and logs. To turn off, set debug=False in launch().\n",
            "Running on public URL: https://52678.gradio.app\n",
            "\n",
            "This share link expires in 72 hours. For free permanent hosting, check out Spaces (https://huggingface.co/spaces)\n"
          ]
        },
        {
          "output_type": "display_data",
          "data": {
            "text/plain": [
              "<IPython.core.display.HTML object>"
            ],
            "text/html": [
              "<div><iframe src=\"https://52678.gradio.app\" width=\"900\" height=\"500\" allow=\"autoplay; camera; microphone;\" frameborder=\"0\" allowfullscreen></iframe></div>"
            ]
          },
          "metadata": {}
        },
        {
          "output_type": "stream",
          "name": "stdout",
          "text": [
            "[0.14971107244491577, 0.14916963875293732, 0.40302276611328125, 0.14904755353927612, 0.14904898405075073]\n",
            "{'No depression': 0.14971107244491577, 'Mild depression': 0.14916963875293732, 'Moderate depression': 0.40302276611328125, 'Severe depression': 0.14904755353927612, 'Very severe depression': 0.14904898405075073}\n",
            "[0.17956258356571198, 0.2568172812461853, 0.2429119199514389, 0.1603381186723709, 0.1603701114654541]\n",
            "{'No depression': 0.17956258356571198, 'Mild depression': 0.2568172812461853, 'Moderate depression': 0.2429119199514389, 'Severe depression': 0.1603381186723709, 'Very severe depression': 0.1603701114654541}\n"
          ]
        }
      ]
    },
    {
      "cell_type": "code",
      "source": [
        "app.close()"
      ],
      "metadata": {
        "id": "GYTOdbGhJYt6"
      },
      "execution_count": null,
      "outputs": []
    }
  ]
}