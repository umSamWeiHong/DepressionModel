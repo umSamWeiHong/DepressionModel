{
  "cells": [
    {
      "cell_type": "markdown",
      "metadata": {
        "id": "view-in-github",
        "colab_type": "text"
      },
      "source": [
        "<a href=\"https://colab.research.google.com/github/umSamWeiHong/DepressionModel/blob/master/UI.ipynb\" target=\"_parent\"><img src=\"https://colab.research.google.com/assets/colab-badge.svg\" alt=\"Open In Colab\"/></a>"
      ]
    },
    {
      "cell_type": "code",
      "execution_count": 1,
      "metadata": {
        "colab": {
          "base_uri": "https://localhost:8080/"
        },
        "id": "fNyUmmnkuiZX",
        "outputId": "498c3dd4-062a-4aef-ab2a-1d1772dcdfbc"
      },
      "outputs": [
        {
          "output_type": "stream",
          "name": "stdout",
          "text": [
            "Looking in indexes: https://pypi.org/simple, https://us-python.pkg.dev/colab-wheels/public/simple/\n",
            "Requirement already satisfied: gradio in /usr/local/lib/python3.7/dist-packages (3.0.18)\n",
            "Requirement already satisfied: fastapi in /usr/local/lib/python3.7/dist-packages (from gradio) (0.78.0)\n",
            "Requirement already satisfied: analytics-python in /usr/local/lib/python3.7/dist-packages (from gradio) (1.4.0)\n",
            "Requirement already satisfied: orjson in /usr/local/lib/python3.7/dist-packages (from gradio) (3.7.2)\n",
            "Requirement already satisfied: pycryptodome in /usr/local/lib/python3.7/dist-packages (from gradio) (3.14.1)\n",
            "Requirement already satisfied: Jinja2 in /usr/local/lib/python3.7/dist-packages (from gradio) (2.11.3)\n",
            "Requirement already satisfied: markdown-it-py[linkify,plugins] in /usr/local/lib/python3.7/dist-packages (from gradio) (2.1.0)\n",
            "Requirement already satisfied: python-multipart in /usr/local/lib/python3.7/dist-packages (from gradio) (0.0.5)\n",
            "Requirement already satisfied: matplotlib in /usr/local/lib/python3.7/dist-packages (from gradio) (3.2.2)\n",
            "Requirement already satisfied: fsspec in /usr/local/lib/python3.7/dist-packages (from gradio) (2022.5.0)\n",
            "Requirement already satisfied: paramiko in /usr/local/lib/python3.7/dist-packages (from gradio) (2.11.0)\n",
            "Requirement already satisfied: pydub in /usr/local/lib/python3.7/dist-packages (from gradio) (0.25.1)\n",
            "Requirement already satisfied: uvicorn in /usr/local/lib/python3.7/dist-packages (from gradio) (0.17.6)\n",
            "Requirement already satisfied: requests in /usr/local/lib/python3.7/dist-packages (from gradio) (2.23.0)\n",
            "Requirement already satisfied: ffmpy in /usr/local/lib/python3.7/dist-packages (from gradio) (0.3.0)\n",
            "Requirement already satisfied: aiohttp in /usr/local/lib/python3.7/dist-packages (from gradio) (3.8.1)\n",
            "Requirement already satisfied: pillow in /usr/local/lib/python3.7/dist-packages (from gradio) (7.1.2)\n",
            "Requirement already satisfied: pandas in /usr/local/lib/python3.7/dist-packages (from gradio) (1.3.5)\n",
            "Requirement already satisfied: numpy in /usr/local/lib/python3.7/dist-packages (from gradio) (1.21.6)\n",
            "Requirement already satisfied: yarl<2.0,>=1.0 in /usr/local/lib/python3.7/dist-packages (from aiohttp->gradio) (1.7.2)\n",
            "Requirement already satisfied: asynctest==0.13.0 in /usr/local/lib/python3.7/dist-packages (from aiohttp->gradio) (0.13.0)\n",
            "Requirement already satisfied: attrs>=17.3.0 in /usr/local/lib/python3.7/dist-packages (from aiohttp->gradio) (21.4.0)\n",
            "Requirement already satisfied: aiosignal>=1.1.2 in /usr/local/lib/python3.7/dist-packages (from aiohttp->gradio) (1.2.0)\n",
            "Requirement already satisfied: typing-extensions>=3.7.4 in /usr/local/lib/python3.7/dist-packages (from aiohttp->gradio) (4.2.0)\n",
            "Requirement already satisfied: async-timeout<5.0,>=4.0.0a3 in /usr/local/lib/python3.7/dist-packages (from aiohttp->gradio) (4.0.2)\n",
            "Requirement already satisfied: charset-normalizer<3.0,>=2.0 in /usr/local/lib/python3.7/dist-packages (from aiohttp->gradio) (2.0.12)\n",
            "Requirement already satisfied: multidict<7.0,>=4.5 in /usr/local/lib/python3.7/dist-packages (from aiohttp->gradio) (6.0.2)\n",
            "Requirement already satisfied: frozenlist>=1.1.1 in /usr/local/lib/python3.7/dist-packages (from aiohttp->gradio) (1.3.0)\n",
            "Requirement already satisfied: idna>=2.0 in /usr/local/lib/python3.7/dist-packages (from yarl<2.0,>=1.0->aiohttp->gradio) (2.10)\n",
            "Requirement already satisfied: six>=1.5 in /usr/local/lib/python3.7/dist-packages (from analytics-python->gradio) (1.15.0)\n",
            "Requirement already satisfied: python-dateutil>2.1 in /usr/local/lib/python3.7/dist-packages (from analytics-python->gradio) (2.8.2)\n",
            "Requirement already satisfied: backoff==1.10.0 in /usr/local/lib/python3.7/dist-packages (from analytics-python->gradio) (1.10.0)\n",
            "Requirement already satisfied: monotonic>=1.5 in /usr/local/lib/python3.7/dist-packages (from analytics-python->gradio) (1.6)\n",
            "Requirement already satisfied: urllib3!=1.25.0,!=1.25.1,<1.26,>=1.21.1 in /usr/local/lib/python3.7/dist-packages (from requests->gradio) (1.24.3)\n",
            "Requirement already satisfied: certifi>=2017.4.17 in /usr/local/lib/python3.7/dist-packages (from requests->gradio) (2022.5.18.1)\n",
            "Requirement already satisfied: chardet<4,>=3.0.2 in /usr/local/lib/python3.7/dist-packages (from requests->gradio) (3.0.4)\n",
            "Requirement already satisfied: pydantic!=1.7,!=1.7.1,!=1.7.2,!=1.7.3,!=1.8,!=1.8.1,<2.0.0,>=1.6.2 in /usr/local/lib/python3.7/dist-packages (from fastapi->gradio) (1.9.1)\n",
            "Requirement already satisfied: starlette==0.19.1 in /usr/local/lib/python3.7/dist-packages (from fastapi->gradio) (0.19.1)\n",
            "Requirement already satisfied: anyio<5,>=3.4.0 in /usr/local/lib/python3.7/dist-packages (from starlette==0.19.1->fastapi->gradio) (3.6.1)\n",
            "Requirement already satisfied: sniffio>=1.1 in /usr/local/lib/python3.7/dist-packages (from anyio<5,>=3.4.0->starlette==0.19.1->fastapi->gradio) (1.2.0)\n",
            "Requirement already satisfied: MarkupSafe>=0.23 in /usr/local/lib/python3.7/dist-packages (from Jinja2->gradio) (2.0.1)\n",
            "Requirement already satisfied: mdurl~=0.1 in /usr/local/lib/python3.7/dist-packages (from markdown-it-py[linkify,plugins]->gradio) (0.1.1)\n",
            "Requirement already satisfied: linkify-it-py~=1.0 in /usr/local/lib/python3.7/dist-packages (from markdown-it-py[linkify,plugins]->gradio) (1.0.3)\n",
            "Requirement already satisfied: mdit-py-plugins in /usr/local/lib/python3.7/dist-packages (from markdown-it-py[linkify,plugins]->gradio) (0.3.0)\n",
            "Requirement already satisfied: uc-micro-py in /usr/local/lib/python3.7/dist-packages (from linkify-it-py~=1.0->markdown-it-py[linkify,plugins]->gradio) (1.0.1)\n",
            "Requirement already satisfied: kiwisolver>=1.0.1 in /usr/local/lib/python3.7/dist-packages (from matplotlib->gradio) (1.4.2)\n",
            "Requirement already satisfied: pyparsing!=2.0.4,!=2.1.2,!=2.1.6,>=2.0.1 in /usr/local/lib/python3.7/dist-packages (from matplotlib->gradio) (3.0.9)\n",
            "Requirement already satisfied: cycler>=0.10 in /usr/local/lib/python3.7/dist-packages (from matplotlib->gradio) (0.11.0)\n",
            "Requirement already satisfied: pytz>=2017.3 in /usr/local/lib/python3.7/dist-packages (from pandas->gradio) (2022.1)\n",
            "Requirement already satisfied: cryptography>=2.5 in /usr/local/lib/python3.7/dist-packages (from paramiko->gradio) (37.0.2)\n",
            "Requirement already satisfied: bcrypt>=3.1.3 in /usr/local/lib/python3.7/dist-packages (from paramiko->gradio) (3.2.2)\n",
            "Requirement already satisfied: pynacl>=1.0.1 in /usr/local/lib/python3.7/dist-packages (from paramiko->gradio) (1.5.0)\n",
            "Requirement already satisfied: cffi>=1.1 in /usr/local/lib/python3.7/dist-packages (from bcrypt>=3.1.3->paramiko->gradio) (1.15.0)\n",
            "Requirement already satisfied: pycparser in /usr/local/lib/python3.7/dist-packages (from cffi>=1.1->bcrypt>=3.1.3->paramiko->gradio) (2.21)\n",
            "Requirement already satisfied: click>=7.0 in /usr/local/lib/python3.7/dist-packages (from uvicorn->gradio) (7.1.2)\n",
            "Requirement already satisfied: asgiref>=3.4.0 in /usr/local/lib/python3.7/dist-packages (from uvicorn->gradio) (3.5.2)\n",
            "Requirement already satisfied: h11>=0.8 in /usr/local/lib/python3.7/dist-packages (from uvicorn->gradio) (0.13.0)\n"
          ]
        }
      ],
      "source": [
        "!pip install gradio"
      ]
    },
    {
      "cell_type": "code",
      "execution_count": 2,
      "metadata": {
        "id": "GDCirV5Q9RzO"
      },
      "outputs": [],
      "source": [
        "import numpy as np\n",
        "import pandas as pd\n",
        "import tensorflow as tf\n",
        "from scipy.special import softmax\n",
        "from keras.models import load_model\n",
        "\n",
        "import joblib"
      ]
    },
    {
      "cell_type": "code",
      "execution_count": 3,
      "metadata": {
        "id": "uK45BSm59FvN",
        "colab": {
          "base_uri": "https://localhost:8080/"
        },
        "outputId": "6871ae6f-5b35-449a-db92-146b152fa8c9"
      },
      "outputs": [
        {
          "output_type": "stream",
          "name": "stdout",
          "text": [
            "Drive already mounted at /content/drive; to attempt to forcibly remount, call drive.mount(\"/content/drive\", force_remount=True).\n"
          ]
        }
      ],
      "source": [
        "from google.colab import drive\n",
        "drive.mount('/content/drive')"
      ]
    },
    {
      "cell_type": "code",
      "execution_count": 4,
      "metadata": {
        "id": "jOGHT7FpujlK"
      },
      "outputs": [],
      "source": [
        "import gradio as gr"
      ]
    },
    {
      "cell_type": "code",
      "source": [
        "model = joblib.load('/content/drive/MyDrive/Machine Learning Group Project/models/' + 'XGB_model.pkl')"
      ],
      "metadata": {
        "id": "jDHwfTH1xeXP"
      },
      "execution_count": 5,
      "outputs": []
    },
    {
      "cell_type": "code",
      "execution_count": 6,
      "metadata": {
        "id": "YtBmjLRXkqEI"
      },
      "outputs": [],
      "source": [
        "def computeXy(model, scaler, ohe,\n",
        "                    marital, marital_problems, religion_help, routine_loss, stress_class_disrupted,\n",
        "                    medical_illness, mental_illness, covid_symptoms, residence_high_covid, quarantine,\n",
        "                    expenses, living_with, family, friends, significant_others):\n",
        "  if (ohe):\n",
        "    X = [marital, marital_problems, religion_help, routine_loss, stress_class_disrupted,\n",
        "         medical_illness, mental_illness, covid_symptoms, residence_high_covid, quarantine,\n",
        "         family, friends, significant_others]\n",
        "    if (living_with == 0): \n",
        "      X += [1, 0, 0]\n",
        "    elif (living_with == 1):\n",
        "       X += [0, 1, 0]\n",
        "    elif (living_with == 2):\n",
        "       X += [0, 0, 1]\n",
        "\n",
        "    if (expenses == 0): \n",
        "      X += [1, 0, 0]\n",
        "    elif (expenses == 1):\n",
        "       X += [0, 1, 0]\n",
        "    elif (expenses == 2):\n",
        "       X += [0, 0, 1]\n",
        "\n",
        "    X = pd.DataFrame(X).T\n",
        "    X.columns = ['Marital', 'Marital_problems', 'Religion_help', 'Routine_loss', 'Stress_class_disrupted',\n",
        "                 'Medical_illness', 'Mental_illness', 'COVID_symptoms', 'Residence_high_COVID', 'Quarantine',\n",
        "                 'MSPSS_family', 'MSPSS_friends', 'MSPSS_significant_others',\n",
        "                 'Alone', 'Friends/Coursemates', 'Family', '< RM1000', 'RM1000 - 3000', '> RM3000']\n",
        "    X = scaler.transform(X)\n",
        "    y = model.predict(X)[0]\n",
        "  else:\n",
        "    X = [marital, marital_problems, religion_help, expenses, living_with, \n",
        "         routine_loss, stress_class_disrupted, medical_illness, mental_illness, covid_symptoms,\n",
        "         residence_high_covid, quarantine, family, friends, significant_others]\n",
        "    X = pd.DataFrame(X).T\n",
        "    X.columns = ['Marital', 'Marital_problems', 'Religion_help', 'Expenses', 'Living_with1',\n",
        "                 'Routine_loss', 'Stress_class_disrupted', 'Medical_illness', 'Mental_illness', 'COVID_symptoms',\n",
        "                 'Residence_high_COVID', 'Quarantine', 'MSPSS_family', 'MSPSS_friends', 'MSPSS_significant_others']\n",
        "    X = scaler.transform(X)\n",
        "    y = model.predict_proba(X)[0]\n",
        "  print(X, y)\n",
        "  return X, y"
      ]
    },
    {
      "cell_type": "code",
      "execution_count": 7,
      "metadata": {
        "id": "2Gyq-X4cXdn1"
      },
      "outputs": [],
      "source": [
        "def choose_model(model_choice,\n",
        "                 marital, marital_problems, religion_help, routine_loss, stress_class_disrupted,\n",
        "                 medical_illness, mental_illness, covid_symptoms, residence_high_covid, quarantine,\n",
        "                 expenses, living_with, family, friends, significant_others):\n",
        "  path = '/content/drive/MyDrive/Machine Learning Group Project/models/'\n",
        "  if (model_choice == 'Random Forest'):\n",
        "    model = joblib.load(path + 'rf_model.pkl')\n",
        "    scaler = joblib.load(path + 'rf_scaler.pkl')\n",
        "    X, y = computeXy(model, scaler, False,\n",
        "                     marital, marital_problems, religion_help, routine_loss, stress_class_disrupted,\n",
        "                     medical_illness, mental_illness, covid_symptoms, residence_high_covid, quarantine,\n",
        "                     expenses, living_with, family, friends, significant_others)\n",
        "    accuracy = 0.88\n",
        "\n",
        "  # if (model_choice == 'XGBoost'):\n",
        "  #   model = joblib.load(path + 'XGB_model.pkl')\n",
        "  #   scaler = joblib.load(path + 'XGB_scaler.pkl')\n",
        "  #   X, y = computeXy(model, scaler, True,\n",
        "  #                    marital, marital_problems, religion_help, routine_loss, stress_class_disrupted,\n",
        "  #                    medical_illness, mental_illness, covid_symptoms, residence_high_covid, quarantine,\n",
        "  #                    expenses, living_with, family, friends, significant_others)\n",
        "  #   accuracy = 0.86\n",
        "\n",
        "  elif (model_choice == 'Artificial Neural Network'):\n",
        "    model = load_model(path + 'ann_model.h5')\n",
        "    scaler = joblib.load(path + 'ann_scaler.pkl')\n",
        "    X, y = computeXy(model, scaler, True,\n",
        "                     marital, marital_problems, religion_help, routine_loss, stress_class_disrupted,\n",
        "                     medical_illness, mental_illness, covid_symptoms, residence_high_covid, quarantine,\n",
        "                     expenses, living_with, family, friends, significant_others)\n",
        "    accuracy = 0.85\n",
        "    \n",
        "  elif (model_choice == 'K-nearest neighbors'):\n",
        "    model = joblib.load(path + 'knn_model.pkl')\n",
        "    scaler = joblib.load(path + 'knn_scaler.pkl')\n",
        "    X, y = computeXy(model, scaler, True,\n",
        "                     marital, marital_problems, religion_help, routine_loss, stress_class_disrupted,\n",
        "                     medical_illness, mental_illness, covid_symptoms, residence_high_covid, quarantine,\n",
        "                     expenses, living_with, family, friends, significant_others)\n",
        "    accuracy = 0.81\n",
        "    \n",
        "  elif (model_choice == 'Logistic Regression'):\n",
        "    model = joblib.load(path + 'lr_model.pkl')\n",
        "    scaler = joblib.load(path + 'lr_scaler.pkl')\n",
        "    X, y = computeXy(model, scaler, False,\n",
        "                     marital, marital_problems, religion_help, routine_loss, stress_class_disrupted,\n",
        "                     medical_illness, mental_illness, covid_symptoms, residence_high_covid, quarantine,\n",
        "                     expenses, living_with, family, friends, significant_others)\n",
        "    accuracy = 0.53\n",
        "    \n",
        "  print(X, y)\n",
        "  return X, y.tolist(), accuracy"
      ]
    },
    {
      "cell_type": "code",
      "execution_count": 8,
      "metadata": {
        "id": "1vtufZ7mup8P"
      },
      "outputs": [],
      "source": [
        "def fn(model,\n",
        "       marital, marital_problems, religion_help, routine_loss, stress_class_disrupted,\n",
        "       medical_illness, mental_illness, covid_symptoms, residence_high_covid, quarantine,\n",
        "       expenses, living_with, _,\n",
        "       q1, q2, q3, q4, q5, q6, q7, q8, q9, q10, q11, q12):\n",
        "    \n",
        "    family = (q3 + q4 + q8 + q11)\n",
        "    friends = (q6 + q7 + q9 + q12)\n",
        "    significant_others = (q1 + q2 + q5 + q10)\n",
        "\n",
        "    X, y, accuracy = choose_model(model,\n",
        "                                  marital, marital_problems, religion_help, routine_loss, stress_class_disrupted,\n",
        "                                  medical_illness, mental_illness, covid_symptoms, residence_high_covid, quarantine,\n",
        "                                  expenses, living_with, family, friends, significant_others)\n",
        "    print(X, y)\n",
        "    \n",
        "    y_classes = [\"No depression\", \"Mild depression\", \"Moderate depression\", \"Severe depression\", \"Very severe depression\"]\n",
        "    dictionary = dict(zip(y_classes, y))\n",
        "    \n",
        "    y = np.argmax(y)\n",
        "    if (y == 0):\n",
        "      output = \"No depression\"\n",
        "    if (y == 1):\n",
        "      output = \"Mild depression\"\n",
        "    if (y == 2):\n",
        "      output = \"Moderate depression\"\n",
        "    if (y == 3):\n",
        "      output = \"Severe depression\"\n",
        "    if (y == 4):\n",
        "      output = \"Very severe depression\"\n",
        "    return accuracy, output, dictionary\n",
        "\n",
        "app = gr.Interface(fn=fn,\n",
        "                   inputs=[gr.Dropdown(label = \"Model\", choices=['Random Forest', 'XGBoost', 'Artificial Neural Network',\n",
        "                                                                 'K-nearest neighbors', 'Logistic Regression'], type = 'value'),\n",
        "                           \n",
        "                           gr.Radio(label = \"Marital status\", choices=['Married', 'Single'], type = 'index'),\n",
        "                           gr.Radio(label = \"Do you have marital problem during the lockdown?\", choices=['No', 'Yes'], type = 'index'),\n",
        "                           gr.Radio(label = \"Does religion help you cope during the lockdown?\", choices=['No', 'Yes'], type = 'index'),\n",
        "                           gr.Radio(label = \"Are you frustrated due to loss of daily routine?\", choices=['No', 'Yes'], type = 'index'),\n",
        "                           gr.Radio(label = \"Do you feel stress due to study being disrupted?\", choices=['No', 'Yes'], type = 'index'),\n",
        "                           \n",
        "                           gr.Radio(label = \"History of pre-existing medical illnesses\", choices=['No', 'Yes'], type = 'index'),\n",
        "                           gr.Radio(label = \"History of pre-existing psychiatric illnesses\", choices=['No', 'Yes'], type = 'index'),\n",
        "                           gr.Radio(label = \"Are you afraid that you might be infected if you develop symptoms?\", choices=['No', 'Yes'], type = 'index'),\n",
        "                           gr.Radio(label = \"Are cases prevalent in your residence area?\", choices=['No', 'Yes'], type = 'index'),\n",
        "                           gr.Radio(label = \"Were you quarantined due to exposure to positive cases?\", choices=['No', 'Yes'], type = 'index'),\n",
        "\n",
        "                           gr.Radio(label = \"Average monthly expenses\", choices=['< RM 1000', 'RM 1000 - RM 3000', '> RM 3000'], type = 'index'),\n",
        "                           gr.Radio(label = \"Who do you live with during the lockdown?\", choices=['Alone', 'Friends or coursemates', 'Family'], type = 'index'),\n",
        "\n",
        "                           gr.Markdown(value = \"\"\"#### Indicate how you feel about each statement.\n",
        "                                                  1. Very Strongly Disagree\n",
        "                                                  2. Strongly Disagree\n",
        "                                                  3. Mildly Disagree\n",
        "                                                  4. Neutral\n",
        "                                                  5. Mildly Agree\n",
        "                                                  6. Strongly Agree\n",
        "                                                  7. Very Strongly Agree\"\"\"),\n",
        "\n",
        "                           gr.Slider(label = \"There is a special person who is around when I am in need.\", minimum = 1, maximum = 7, step = 1),\n",
        "                           gr.Slider(label = \"There is a special person with whom I can share joys and sorrows.\", minimum = 1, maximum = 7, step = 1),\n",
        "                           gr.Slider(label = \"My family really tries to help me.\", minimum = 1, maximum = 7, step = 1),\n",
        "                           gr.Slider(label = \"I get the emotional help & support I need from my family.\", minimum = 1, maximum = 7, step = 1),\n",
        "                           gr.Slider(label = \"I have a special person who is a real source of comfort to me.\", minimum = 1, maximum = 7, step = 1),\n",
        "\n",
        "                           gr.Slider(label = \"My friends really try to help me.\", minimum = 1, maximum = 7, step = 1),\n",
        "                           gr.Slider(label = \"I can count on my friends when things go wrong.\", minimum = 1, maximum = 7, step = 1),\n",
        "                           gr.Slider(label = \"I can talk about my problems with my family.\", minimum = 1, maximum = 7, step = 1),\n",
        "                           gr.Slider(label = \"I have friends with whom I can share my joys and sorrows.\", minimum = 1, maximum = 7, step = 1),\n",
        "                           gr.Slider(label = \"There is a special person in my life who cares about my feelings.\", minimum = 1, maximum = 7, step = 1),\n",
        "\n",
        "                           gr.Slider(label = \"My family is willing to help me make decisions.\", minimum = 1, maximum = 7, step = 1),\n",
        "                           gr.Slider(label = \"I can talk about my problems with my friends.\", minimum = 1, maximum = 7, step = 1),\n",
        "                   ],\n",
        "                   outputs=[gr.Textbox(label = \"Average Classification Accuracy\"),\n",
        "                            gr.Textbox(label = \"Depression Severity\"),\n",
        "                            gr.Label(label = \"Classification Probabilities\")])"
      ]
    },
    {
      "cell_type": "code",
      "execution_count": 9,
      "metadata": {
        "id": "rETpVUJL-F5P",
        "colab": {
          "base_uri": "https://localhost:8080/",
          "height": 680
        },
        "outputId": "b430eff8-5f3b-461f-ce5b-baa7caa17484"
      },
      "outputs": [
        {
          "output_type": "stream",
          "name": "stdout",
          "text": [
            "Colab notebook detected. This cell will run indefinitely so that you can see errors and logs. To turn off, set debug=False in launch().\n",
            "Running on public URL: https://53072.gradio.app\n",
            "\n",
            "This share link expires in 72 hours. For free permanent hosting, check out Spaces (https://huggingface.co/spaces)\n"
          ]
        },
        {
          "output_type": "display_data",
          "data": {
            "text/plain": [
              "<IPython.core.display.HTML object>"
            ],
            "text/html": [
              "<div><iframe src=\"https://53072.gradio.app\" width=\"900\" height=\"500\" allow=\"autoplay; camera; microphone;\" frameborder=\"0\" allowfullscreen></iframe></div>"
            ]
          },
          "metadata": {}
        },
        {
          "output_type": "stream",
          "name": "stdout",
          "text": [
            "Keyboard interruption in main thread... closing server.\n"
          ]
        },
        {
          "output_type": "execute_result",
          "data": {
            "text/plain": [
              "(<gradio.routes.App at 0x7f6231c965d0>,\n",
              " 'http://127.0.0.1:7860/',\n",
              " 'https://53072.gradio.app')"
            ]
          },
          "metadata": {},
          "execution_count": 9
        }
      ],
      "source": [
        "app.launch(debug=True)"
      ]
    }
  ],
  "metadata": {
    "colab": {
      "collapsed_sections": [],
      "name": "UI.ipynb",
      "provenance": [],
      "include_colab_link": true
    },
    "kernelspec": {
      "display_name": "Python 3",
      "name": "python3"
    },
    "language_info": {
      "name": "python"
    }
  },
  "nbformat": 4,
  "nbformat_minor": 0
}