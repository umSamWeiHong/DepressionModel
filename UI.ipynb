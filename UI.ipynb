{
  "nbformat": 4,
  "nbformat_minor": 0,
  "metadata": {
    "colab": {
      "name": "UI.ipynb",
      "provenance": [],
      "collapsed_sections": [],
      "authorship_tag": "ABX9TyNoqdjMwpXX+UY7m3hIZNyq",
      "include_colab_link": true
    },
    "kernelspec": {
      "name": "python3",
      "display_name": "Python 3"
    },
    "language_info": {
      "name": "python"
    }
  },
  "cells": [
    {
      "cell_type": "markdown",
      "metadata": {
        "id": "view-in-github",
        "colab_type": "text"
      },
      "source": [
        "<a href=\"https://colab.research.google.com/github/umSamWeiHong/DepressionModel/blob/master/UI.ipynb\" target=\"_parent\"><img src=\"https://colab.research.google.com/assets/colab-badge.svg\" alt=\"Open In Colab\"/></a>"
      ]
    },
    {
      "cell_type": "code",
      "execution_count": 1,
      "metadata": {
        "id": "fNyUmmnkuiZX"
      },
      "outputs": [],
      "source": [
        "# pip install gradio"
      ]
    },
    {
      "cell_type": "code",
      "source": [
        "import numpy as np\n",
        "import pandas as pd\n",
        "import tensorflow as tf\n",
        "from tensorflow.keras.models import load_model\n",
        "\n",
        "import joblib"
      ],
      "metadata": {
        "id": "GDCirV5Q9RzO"
      },
      "execution_count": 2,
      "outputs": []
    },
    {
      "cell_type": "code",
      "source": [
        "from google.colab import drive\n",
        "drive.mount('/content/drive')\n",
        "\n",
        "model = load_model('/content/drive/MyDrive/Machine Learning Group Project/model.h5')\n",
        "scaler = joblib.load('/content/drive/MyDrive/Machine Learning Group Project/scaler.pkl')"
      ],
      "metadata": {
        "colab": {
          "base_uri": "https://localhost:8080/"
        },
        "id": "uK45BSm59FvN",
        "outputId": "f48fbb16-639f-4fb6-fca0-615f4bb0dfa2"
      },
      "execution_count": 3,
      "outputs": [
        {
          "output_type": "stream",
          "name": "stdout",
          "text": [
            "Drive already mounted at /content/drive; to attempt to forcibly remount, call drive.mount(\"/content/drive\", force_remount=True).\n"
          ]
        }
      ]
    },
    {
      "cell_type": "code",
      "source": [
        "import gradio as gr"
      ],
      "metadata": {
        "id": "jOGHT7FpujlK"
      },
      "execution_count": 4,
      "outputs": []
    },
    {
      "cell_type": "code",
      "source": [
        "def fn(marital, marital_problems, religion_help, routine_loss, stress_class_disrupted,\n",
        "       medical_illness, mental_illness, covid_symptoms, residence_high_covid, quarantine,\n",
        "       expenses, living_with, \n",
        "       q1, q2, q3, q4, q5, q6, q7, q8, q9, q10, q11, q12):\n",
        "    \n",
        "    family = (q3 + q4 + q8 + q11)\n",
        "    friends = (q6 + q7 + q9 + q12)\n",
        "    significant_others = (q1 + q2 + q5 + q10)\n",
        "    \n",
        "    X = [marital, marital_problems, religion_help, routine_loss, stress_class_disrupted,\n",
        "         medical_illness, mental_illness, covid_symptoms, residence_high_covid, quarantine,\n",
        "         family, friends, significant_others]\n",
        "\n",
        "    if (living_with == 0): \n",
        "      X += [1, 0, 0]\n",
        "    elif (living_with == 1):\n",
        "       X += [0, 1, 0]\n",
        "    elif (living_with == 2):\n",
        "       X += [0, 0, 1]\n",
        "\n",
        "    if (expenses == 0): \n",
        "      X += [1, 0, 0]\n",
        "    elif (expenses == 1):\n",
        "       X += [0, 1, 0]\n",
        "    elif (expenses == 2):\n",
        "       X += [0, 0, 1]\n",
        "\n",
        "    X = pd.DataFrame(X).T\n",
        "    X.columns = ['Marital', 'Marital_problems', 'Religion_help', 'Routine_loss',\n",
        "       'Stress_class_disrupted', 'Medical_illness', 'Mental_illness',\n",
        "       'COVID_symptoms', 'Residence_high_COVID', 'Quarantine', 'MSPSS_family',\n",
        "       'MSPSS_friends', 'MSPSS_significant_others', 'Alone',\n",
        "       'Friends/Coursemates', 'Family', '< RM1000', 'RM1000 - 3000',\n",
        "       '> RM3000']\n",
        "    X = scaler.transform(X)\n",
        "\n",
        "    y = model.predict(X)\n",
        "    y = np.argmax(y, axis=1)\n",
        "    y = y[0]\n",
        "\n",
        "    if (y == 0):\n",
        "      return \"No depression\"\n",
        "    if (y == 1):\n",
        "      return \"Mild depression\"\n",
        "    if (y == 2):\n",
        "      return \"Moderate depression\"\n",
        "    if (y == 3):\n",
        "      return \"Severe depression\"\n",
        "    if (y == 4):\n",
        "      return \"Very severe depression\"\n",
        "    return \"\"\n",
        "\n",
        "\n",
        "app = gr.Interface(fn=fn,\n",
        "                   inputs=[gr.Radio(label = \"Marital status\", choices=['Married', 'Single'], type = 'index'),\n",
        "                           gr.Radio(label = \"Do you have marital problem during the lockdown?\", choices=['No', 'Yes'], type = 'index'),\n",
        "                           gr.Radio(label = \"Does religion help you cope during the lockdown?\", choices=['No', 'Yes'], type = 'index'),\n",
        "                           gr.Radio(label = \"Are you frustrated due to loss of daily routine?\", choices=['No', 'Yes'], type = 'index'),\n",
        "                           gr.Radio(label = \"Do you feel stress due to study being disrupted?\", choices=['No', 'Yes'], type = 'index'),\n",
        "                           \n",
        "                           gr.Radio(label = \"History of pre-existing medical illnesses\", choices=['No', 'Yes'], type = 'index'),\n",
        "                           gr.Radio(label = \"History of pre-existing psychiatric illnesses\", choices=['No', 'Yes'], type = 'index'),\n",
        "                           gr.Radio(label = \"Are you afraid that you might be infected if you develop symptoms?\", choices=['No', 'Yes'], type = 'index'),\n",
        "                           gr.Radio(label = \"Are cases prevalent in your residence area?\", choices=['No', 'Yes'], type = 'index'),\n",
        "                           gr.Radio(label = \"Were you quarantined due to exposure to positive cases?\", choices=['No', 'Yes'], type = 'index'),\n",
        "\n",
        "                           gr.Radio(label = \"Average monthly expenses\", choices=['< RM 1000', 'RM 1000 - RM 3000', '> RM 3000'], type = 'index'),\n",
        "                           gr.Radio(label = \"Who do you live with during the lockdown?\", choices=['Alone', 'Friends or coursemates', 'Family'], type = 'index'),\n",
        "\n",
        "                           gr.Slider(label = \"There is a special person who is around when I am in need.\", minimum = 1, maximum = 7, step = 1),\n",
        "                           gr.Slider(label = \"There is a special person with whom I can share joys and sorrows.\", minimum = 1, maximum = 7, step = 1),\n",
        "                           gr.Slider(label = \"My family really tries to help me.\", minimum = 1, maximum = 7, step = 1),\n",
        "                           gr.Slider(label = \"I get the emotional help & support I need from my family.\", minimum = 1, maximum = 7, step = 1),\n",
        "                           gr.Slider(label = \"I have a special person who is a real source of comfort to me.\", minimum = 1, maximum = 7, step = 1),\n",
        "\n",
        "                           gr.Slider(label = \"My friends really try to help me.\", minimum = 1, maximum = 7, step = 1),\n",
        "                           gr.Slider(label = \"I can count on my friends when things go wrong.\", minimum = 1, maximum = 7, step = 1),\n",
        "                           gr.Slider(label = \"I can talk about my problems with my family.\", minimum = 1, maximum = 7, step = 1),\n",
        "                           gr.Slider(label = \"I have friends with whom I can share my joys and sorrows.\", minimum = 1, maximum = 7, step = 1),\n",
        "                           gr.Slider(label = \"There is a special person in my life who cares about my feelings.\", minimum = 1, maximum = 7, step = 1),\n",
        "\n",
        "                           gr.Slider(label = \"My family is willing to help me make decisions.\", minimum = 1, maximum = 7, step = 1),\n",
        "                           gr.Slider(label = \"I can talk about my problems with my friends.\", minimum = 1, maximum = 7, step = 1),\n",
        "                   ],\n",
        "                   outputs=gr.Textbox(label = \"Depression Severity\"))"
      ],
      "metadata": {
        "id": "1vtufZ7mup8P"
      },
      "execution_count": 5,
      "outputs": []
    },
    {
      "cell_type": "code",
      "source": [
        "app.launch(debug=True)"
      ],
      "metadata": {
        "colab": {
          "base_uri": "https://localhost:8080/",
          "height": 591
        },
        "id": "rETpVUJL-F5P",
        "outputId": "63b2142c-307f-49f0-c2ce-0068c9cc57df"
      },
      "execution_count": null,
      "outputs": [
        {
          "output_type": "stream",
          "name": "stdout",
          "text": [
            "Colab notebook detected. This cell will run indefinitely so that you can see errors and logs. To turn off, set debug=False in launch().\n",
            "Running on public URL: https://25299.gradio.app\n",
            "\n",
            "This share link expires in 72 hours. For free permanent hosting, check out Spaces (https://huggingface.co/spaces)\n"
          ]
        },
        {
          "output_type": "display_data",
          "data": {
            "text/plain": [
              "<IPython.core.display.HTML object>"
            ],
            "text/html": [
              "<div><iframe src=\"https://25299.gradio.app\" width=\"900\" height=\"500\" allow=\"autoplay; camera; microphone;\" frameborder=\"0\" allowfullscreen></iframe></div>"
            ]
          },
          "metadata": {}
        }
      ]
    },
    {
      "cell_type": "code",
      "source": [
        "app.close()"
      ],
      "metadata": {
        "id": "GYTOdbGhJYt6"
      },
      "execution_count": null,
      "outputs": []
    }
  ]
}