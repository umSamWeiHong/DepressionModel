{
  "cells": [
    {
      "cell_type": "markdown",
      "metadata": {
        "id": "57Ni87HAOLMy"
      },
      "source": [
        "# XGBoost"
      ]
    },
    {
      "cell_type": "markdown",
      "metadata": {
        "id": "HQhqWNQQ_Yee"
      },
      "source": [
        "## Import data and libraries"
      ]
    },
    {
      "cell_type": "code",
      "execution_count": null,
      "metadata": {
        "id": "kC0AeXiRzVZ8",
        "colab": {
          "base_uri": "https://localhost:8080/"
        },
        "outputId": "f7a5ece0-b493-4b72-de6d-24fe152e95b5"
      },
      "outputs": [
        {
          "output_type": "stream",
          "name": "stdout",
          "text": [
            "Mounted at /content/drive\n"
          ]
        }
      ],
      "source": [
        "from google.colab import drive\n",
        "drive.mount('/content/drive')"
      ]
    },
    {
      "cell_type": "code",
      "execution_count": null,
      "metadata": {
        "id": "Mw7mWXC23I-P"
      },
      "outputs": [],
      "source": [
        "import tensorflow as tf\n",
        "import numpy as np\n",
        "import pandas as pd\n",
        "import matplotlib.pyplot as plt"
      ]
    },
    {
      "cell_type": "code",
      "execution_count": null,
      "metadata": {
        "id": "e7QBwdb8wqhm",
        "colab": {
          "base_uri": "https://localhost:8080/",
          "height": 488
        },
        "outputId": "22c8e345-5fad-4ac4-d99a-a3f749b1bb0b"
      },
      "outputs": [
        {
          "output_type": "execute_result",
          "data": {
            "text/plain": [
              "     Code  Age_Numerical  Gender  Marital  Marital_problems  Religion_binary  \\\n",
              "0       1             34       0        0                 0                1   \n",
              "1       2             32       1        0                 0                1   \n",
              "2       3             33       0        0                 0                1   \n",
              "3       4             33       1        0                 1                1   \n",
              "4       5             39       1        0                 0                1   \n",
              "..    ...            ...     ...      ...               ...              ...   \n",
              "311   312             23       1        1                 0                0   \n",
              "312   313             36       0        1                 0                0   \n",
              "313   314             33       0        0                 0                0   \n",
              "314   315             25       1        1                 0                1   \n",
              "315   316             23       1        1                 0                1   \n",
              "\n",
              "     Religion_help  Med_or_not  Expenses  Monthly_expenses  ...  \\\n",
              "0                1           1         2                 1  ...   \n",
              "1                1           1         1                 0  ...   \n",
              "2                1           1         1                 0  ...   \n",
              "3                1           1         2                 1  ...   \n",
              "4                1           1         2                 1  ...   \n",
              "..             ...         ...       ...               ...  ...   \n",
              "311              1           1         2                 1  ...   \n",
              "312              0           0         2                 1  ...   \n",
              "313              0           1         2                 1  ...   \n",
              "314              0           1         0                 0  ...   \n",
              "315              1           1         0                 0  ...   \n",
              "\n",
              "     DASS_stress_numerical  MSPSS_family  MSPSS_friends  \\\n",
              "0                        0          27.2           24.0   \n",
              "1                        2          28.0           28.0   \n",
              "2                        0          28.0           28.0   \n",
              "3                       18          25.2           21.2   \n",
              "4                        2          26.0           20.0   \n",
              "..                     ...           ...            ...   \n",
              "311                      8          25.2           25.2   \n",
              "312                      0          23.2           20.0   \n",
              "313                      0          25.2           19.2   \n",
              "314                     26          14.0           13.2   \n",
              "315                      6          16.0           16.0   \n",
              "\n",
              "     MSPSS_significant_others  DASS_depression_binary  \\\n",
              "0                        26.0                       0   \n",
              "1                        28.0                       0   \n",
              "2                        28.0                       0   \n",
              "3                        24.0                       1   \n",
              "4                        28.0                       0   \n",
              "..                        ...                     ...   \n",
              "311                      27.2                       0   \n",
              "312                      24.0                       0   \n",
              "313                      27.2                       0   \n",
              "314                      13.2                       1   \n",
              "315                      17.2                       0   \n",
              "\n",
              "     DASS_depression_severity  DASS_anxiety_binary  DASS_anxiety_severity  \\\n",
              "0                           0                    0                      0   \n",
              "1                           0                    0                      0   \n",
              "2                           0                    0                      0   \n",
              "3                           2                    1                      4   \n",
              "4                           0                    0                      0   \n",
              "..                        ...                  ...                    ...   \n",
              "311                         0                    0                      0   \n",
              "312                         0                    0                      0   \n",
              "313                         0                    0                      0   \n",
              "314                         4                    1                      2   \n",
              "315                         0                    0                      0   \n",
              "\n",
              "     DASS_stress_binary  DASS_stress_severity  \n",
              "0                     0                     0  \n",
              "1                     0                     0  \n",
              "2                     0                     0  \n",
              "3                     1                     1  \n",
              "4                     0                     0  \n",
              "..                  ...                   ...  \n",
              "311                   0                     0  \n",
              "312                   0                     0  \n",
              "313                   0                     0  \n",
              "314                   1                     2  \n",
              "315                   0                     0  \n",
              "\n",
              "[316 rows x 34 columns]"
            ],
            "text/html": [
              "\n",
              "  <div id=\"df-1731cb81-9037-42bc-8d9b-7a4bf2959c8b\">\n",
              "    <div class=\"colab-df-container\">\n",
              "      <div>\n",
              "<style scoped>\n",
              "    .dataframe tbody tr th:only-of-type {\n",
              "        vertical-align: middle;\n",
              "    }\n",
              "\n",
              "    .dataframe tbody tr th {\n",
              "        vertical-align: top;\n",
              "    }\n",
              "\n",
              "    .dataframe thead th {\n",
              "        text-align: right;\n",
              "    }\n",
              "</style>\n",
              "<table border=\"1\" class=\"dataframe\">\n",
              "  <thead>\n",
              "    <tr style=\"text-align: right;\">\n",
              "      <th></th>\n",
              "      <th>Code</th>\n",
              "      <th>Age_Numerical</th>\n",
              "      <th>Gender</th>\n",
              "      <th>Marital</th>\n",
              "      <th>Marital_problems</th>\n",
              "      <th>Religion_binary</th>\n",
              "      <th>Religion_help</th>\n",
              "      <th>Med_or_not</th>\n",
              "      <th>Expenses</th>\n",
              "      <th>Monthly_expenses</th>\n",
              "      <th>...</th>\n",
              "      <th>DASS_stress_numerical</th>\n",
              "      <th>MSPSS_family</th>\n",
              "      <th>MSPSS_friends</th>\n",
              "      <th>MSPSS_significant_others</th>\n",
              "      <th>DASS_depression_binary</th>\n",
              "      <th>DASS_depression_severity</th>\n",
              "      <th>DASS_anxiety_binary</th>\n",
              "      <th>DASS_anxiety_severity</th>\n",
              "      <th>DASS_stress_binary</th>\n",
              "      <th>DASS_stress_severity</th>\n",
              "    </tr>\n",
              "  </thead>\n",
              "  <tbody>\n",
              "    <tr>\n",
              "      <th>0</th>\n",
              "      <td>1</td>\n",
              "      <td>34</td>\n",
              "      <td>0</td>\n",
              "      <td>0</td>\n",
              "      <td>0</td>\n",
              "      <td>1</td>\n",
              "      <td>1</td>\n",
              "      <td>1</td>\n",
              "      <td>2</td>\n",
              "      <td>1</td>\n",
              "      <td>...</td>\n",
              "      <td>0</td>\n",
              "      <td>27.2</td>\n",
              "      <td>24.0</td>\n",
              "      <td>26.0</td>\n",
              "      <td>0</td>\n",
              "      <td>0</td>\n",
              "      <td>0</td>\n",
              "      <td>0</td>\n",
              "      <td>0</td>\n",
              "      <td>0</td>\n",
              "    </tr>\n",
              "    <tr>\n",
              "      <th>1</th>\n",
              "      <td>2</td>\n",
              "      <td>32</td>\n",
              "      <td>1</td>\n",
              "      <td>0</td>\n",
              "      <td>0</td>\n",
              "      <td>1</td>\n",
              "      <td>1</td>\n",
              "      <td>1</td>\n",
              "      <td>1</td>\n",
              "      <td>0</td>\n",
              "      <td>...</td>\n",
              "      <td>2</td>\n",
              "      <td>28.0</td>\n",
              "      <td>28.0</td>\n",
              "      <td>28.0</td>\n",
              "      <td>0</td>\n",
              "      <td>0</td>\n",
              "      <td>0</td>\n",
              "      <td>0</td>\n",
              "      <td>0</td>\n",
              "      <td>0</td>\n",
              "    </tr>\n",
              "    <tr>\n",
              "      <th>2</th>\n",
              "      <td>3</td>\n",
              "      <td>33</td>\n",
              "      <td>0</td>\n",
              "      <td>0</td>\n",
              "      <td>0</td>\n",
              "      <td>1</td>\n",
              "      <td>1</td>\n",
              "      <td>1</td>\n",
              "      <td>1</td>\n",
              "      <td>0</td>\n",
              "      <td>...</td>\n",
              "      <td>0</td>\n",
              "      <td>28.0</td>\n",
              "      <td>28.0</td>\n",
              "      <td>28.0</td>\n",
              "      <td>0</td>\n",
              "      <td>0</td>\n",
              "      <td>0</td>\n",
              "      <td>0</td>\n",
              "      <td>0</td>\n",
              "      <td>0</td>\n",
              "    </tr>\n",
              "    <tr>\n",
              "      <th>3</th>\n",
              "      <td>4</td>\n",
              "      <td>33</td>\n",
              "      <td>1</td>\n",
              "      <td>0</td>\n",
              "      <td>1</td>\n",
              "      <td>1</td>\n",
              "      <td>1</td>\n",
              "      <td>1</td>\n",
              "      <td>2</td>\n",
              "      <td>1</td>\n",
              "      <td>...</td>\n",
              "      <td>18</td>\n",
              "      <td>25.2</td>\n",
              "      <td>21.2</td>\n",
              "      <td>24.0</td>\n",
              "      <td>1</td>\n",
              "      <td>2</td>\n",
              "      <td>1</td>\n",
              "      <td>4</td>\n",
              "      <td>1</td>\n",
              "      <td>1</td>\n",
              "    </tr>\n",
              "    <tr>\n",
              "      <th>4</th>\n",
              "      <td>5</td>\n",
              "      <td>39</td>\n",
              "      <td>1</td>\n",
              "      <td>0</td>\n",
              "      <td>0</td>\n",
              "      <td>1</td>\n",
              "      <td>1</td>\n",
              "      <td>1</td>\n",
              "      <td>2</td>\n",
              "      <td>1</td>\n",
              "      <td>...</td>\n",
              "      <td>2</td>\n",
              "      <td>26.0</td>\n",
              "      <td>20.0</td>\n",
              "      <td>28.0</td>\n",
              "      <td>0</td>\n",
              "      <td>0</td>\n",
              "      <td>0</td>\n",
              "      <td>0</td>\n",
              "      <td>0</td>\n",
              "      <td>0</td>\n",
              "    </tr>\n",
              "    <tr>\n",
              "      <th>...</th>\n",
              "      <td>...</td>\n",
              "      <td>...</td>\n",
              "      <td>...</td>\n",
              "      <td>...</td>\n",
              "      <td>...</td>\n",
              "      <td>...</td>\n",
              "      <td>...</td>\n",
              "      <td>...</td>\n",
              "      <td>...</td>\n",
              "      <td>...</td>\n",
              "      <td>...</td>\n",
              "      <td>...</td>\n",
              "      <td>...</td>\n",
              "      <td>...</td>\n",
              "      <td>...</td>\n",
              "      <td>...</td>\n",
              "      <td>...</td>\n",
              "      <td>...</td>\n",
              "      <td>...</td>\n",
              "      <td>...</td>\n",
              "      <td>...</td>\n",
              "    </tr>\n",
              "    <tr>\n",
              "      <th>311</th>\n",
              "      <td>312</td>\n",
              "      <td>23</td>\n",
              "      <td>1</td>\n",
              "      <td>1</td>\n",
              "      <td>0</td>\n",
              "      <td>0</td>\n",
              "      <td>1</td>\n",
              "      <td>1</td>\n",
              "      <td>2</td>\n",
              "      <td>1</td>\n",
              "      <td>...</td>\n",
              "      <td>8</td>\n",
              "      <td>25.2</td>\n",
              "      <td>25.2</td>\n",
              "      <td>27.2</td>\n",
              "      <td>0</td>\n",
              "      <td>0</td>\n",
              "      <td>0</td>\n",
              "      <td>0</td>\n",
              "      <td>0</td>\n",
              "      <td>0</td>\n",
              "    </tr>\n",
              "    <tr>\n",
              "      <th>312</th>\n",
              "      <td>313</td>\n",
              "      <td>36</td>\n",
              "      <td>0</td>\n",
              "      <td>1</td>\n",
              "      <td>0</td>\n",
              "      <td>0</td>\n",
              "      <td>0</td>\n",
              "      <td>0</td>\n",
              "      <td>2</td>\n",
              "      <td>1</td>\n",
              "      <td>...</td>\n",
              "      <td>0</td>\n",
              "      <td>23.2</td>\n",
              "      <td>20.0</td>\n",
              "      <td>24.0</td>\n",
              "      <td>0</td>\n",
              "      <td>0</td>\n",
              "      <td>0</td>\n",
              "      <td>0</td>\n",
              "      <td>0</td>\n",
              "      <td>0</td>\n",
              "    </tr>\n",
              "    <tr>\n",
              "      <th>313</th>\n",
              "      <td>314</td>\n",
              "      <td>33</td>\n",
              "      <td>0</td>\n",
              "      <td>0</td>\n",
              "      <td>0</td>\n",
              "      <td>0</td>\n",
              "      <td>0</td>\n",
              "      <td>1</td>\n",
              "      <td>2</td>\n",
              "      <td>1</td>\n",
              "      <td>...</td>\n",
              "      <td>0</td>\n",
              "      <td>25.2</td>\n",
              "      <td>19.2</td>\n",
              "      <td>27.2</td>\n",
              "      <td>0</td>\n",
              "      <td>0</td>\n",
              "      <td>0</td>\n",
              "      <td>0</td>\n",
              "      <td>0</td>\n",
              "      <td>0</td>\n",
              "    </tr>\n",
              "    <tr>\n",
              "      <th>314</th>\n",
              "      <td>315</td>\n",
              "      <td>25</td>\n",
              "      <td>1</td>\n",
              "      <td>1</td>\n",
              "      <td>0</td>\n",
              "      <td>1</td>\n",
              "      <td>0</td>\n",
              "      <td>1</td>\n",
              "      <td>0</td>\n",
              "      <td>0</td>\n",
              "      <td>...</td>\n",
              "      <td>26</td>\n",
              "      <td>14.0</td>\n",
              "      <td>13.2</td>\n",
              "      <td>13.2</td>\n",
              "      <td>1</td>\n",
              "      <td>4</td>\n",
              "      <td>1</td>\n",
              "      <td>2</td>\n",
              "      <td>1</td>\n",
              "      <td>2</td>\n",
              "    </tr>\n",
              "    <tr>\n",
              "      <th>315</th>\n",
              "      <td>316</td>\n",
              "      <td>23</td>\n",
              "      <td>1</td>\n",
              "      <td>1</td>\n",
              "      <td>0</td>\n",
              "      <td>1</td>\n",
              "      <td>1</td>\n",
              "      <td>1</td>\n",
              "      <td>0</td>\n",
              "      <td>0</td>\n",
              "      <td>...</td>\n",
              "      <td>6</td>\n",
              "      <td>16.0</td>\n",
              "      <td>16.0</td>\n",
              "      <td>17.2</td>\n",
              "      <td>0</td>\n",
              "      <td>0</td>\n",
              "      <td>0</td>\n",
              "      <td>0</td>\n",
              "      <td>0</td>\n",
              "      <td>0</td>\n",
              "    </tr>\n",
              "  </tbody>\n",
              "</table>\n",
              "<p>316 rows × 34 columns</p>\n",
              "</div>\n",
              "      <button class=\"colab-df-convert\" onclick=\"convertToInteractive('df-1731cb81-9037-42bc-8d9b-7a4bf2959c8b')\"\n",
              "              title=\"Convert this dataframe to an interactive table.\"\n",
              "              style=\"display:none;\">\n",
              "        \n",
              "  <svg xmlns=\"http://www.w3.org/2000/svg\" height=\"24px\"viewBox=\"0 0 24 24\"\n",
              "       width=\"24px\">\n",
              "    <path d=\"M0 0h24v24H0V0z\" fill=\"none\"/>\n",
              "    <path d=\"M18.56 5.44l.94 2.06.94-2.06 2.06-.94-2.06-.94-.94-2.06-.94 2.06-2.06.94zm-11 1L8.5 8.5l.94-2.06 2.06-.94-2.06-.94L8.5 2.5l-.94 2.06-2.06.94zm10 10l.94 2.06.94-2.06 2.06-.94-2.06-.94-.94-2.06-.94 2.06-2.06.94z\"/><path d=\"M17.41 7.96l-1.37-1.37c-.4-.4-.92-.59-1.43-.59-.52 0-1.04.2-1.43.59L10.3 9.45l-7.72 7.72c-.78.78-.78 2.05 0 2.83L4 21.41c.39.39.9.59 1.41.59.51 0 1.02-.2 1.41-.59l7.78-7.78 2.81-2.81c.8-.78.8-2.07 0-2.86zM5.41 20L4 18.59l7.72-7.72 1.47 1.35L5.41 20z\"/>\n",
              "  </svg>\n",
              "      </button>\n",
              "      \n",
              "  <style>\n",
              "    .colab-df-container {\n",
              "      display:flex;\n",
              "      flex-wrap:wrap;\n",
              "      gap: 12px;\n",
              "    }\n",
              "\n",
              "    .colab-df-convert {\n",
              "      background-color: #E8F0FE;\n",
              "      border: none;\n",
              "      border-radius: 50%;\n",
              "      cursor: pointer;\n",
              "      display: none;\n",
              "      fill: #1967D2;\n",
              "      height: 32px;\n",
              "      padding: 0 0 0 0;\n",
              "      width: 32px;\n",
              "    }\n",
              "\n",
              "    .colab-df-convert:hover {\n",
              "      background-color: #E2EBFA;\n",
              "      box-shadow: 0px 1px 2px rgba(60, 64, 67, 0.3), 0px 1px 3px 1px rgba(60, 64, 67, 0.15);\n",
              "      fill: #174EA6;\n",
              "    }\n",
              "\n",
              "    [theme=dark] .colab-df-convert {\n",
              "      background-color: #3B4455;\n",
              "      fill: #D2E3FC;\n",
              "    }\n",
              "\n",
              "    [theme=dark] .colab-df-convert:hover {\n",
              "      background-color: #434B5C;\n",
              "      box-shadow: 0px 1px 3px 1px rgba(0, 0, 0, 0.15);\n",
              "      filter: drop-shadow(0px 1px 2px rgba(0, 0, 0, 0.3));\n",
              "      fill: #FFFFFF;\n",
              "    }\n",
              "  </style>\n",
              "\n",
              "      <script>\n",
              "        const buttonEl =\n",
              "          document.querySelector('#df-1731cb81-9037-42bc-8d9b-7a4bf2959c8b button.colab-df-convert');\n",
              "        buttonEl.style.display =\n",
              "          google.colab.kernel.accessAllowed ? 'block' : 'none';\n",
              "\n",
              "        async function convertToInteractive(key) {\n",
              "          const element = document.querySelector('#df-1731cb81-9037-42bc-8d9b-7a4bf2959c8b');\n",
              "          const dataTable =\n",
              "            await google.colab.kernel.invokeFunction('convertToInteractive',\n",
              "                                                     [key], {});\n",
              "          if (!dataTable) return;\n",
              "\n",
              "          const docLinkHtml = 'Like what you see? Visit the ' +\n",
              "            '<a target=\"_blank\" href=https://colab.research.google.com/notebooks/data_table.ipynb>data table notebook</a>'\n",
              "            + ' to learn more about interactive tables.';\n",
              "          element.innerHTML = '';\n",
              "          dataTable['output_type'] = 'display_data';\n",
              "          await google.colab.output.renderOutput(dataTable, element);\n",
              "          const docLink = document.createElement('div');\n",
              "          docLink.innerHTML = docLinkHtml;\n",
              "          element.appendChild(docLink);\n",
              "        }\n",
              "      </script>\n",
              "    </div>\n",
              "  </div>\n",
              "  "
            ]
          },
          "metadata": {},
          "execution_count": 3
        }
      ],
      "source": [
        "df = pd.read_csv('/content/drive/MyDrive/Machine Learning Group Project/depression.csv')\n",
        "df"
      ]
    },
    {
      "cell_type": "markdown",
      "metadata": {
        "id": "uV_hCM1xBtPK"
      },
      "source": [
        "## Data preprocessing"
      ]
    },
    {
      "cell_type": "markdown",
      "source": [
        "### Remove unrelated and inferred features"
      ],
      "metadata": {
        "id": "kP_HgTvhtxL0"
      }
    },
    {
      "cell_type": "code",
      "source": [
        "print(df.columns)\n",
        "df.drop(columns=['Code','Residence_high_COVID1','Living_with','Monthly_expenses',\n",
        "                 'DASS_depression_numerical','DASS_anxiety_numerical','DASS_stress_numerical',\n",
        "                 'DASS_depression_binary','DASS_anxiety_binary','DASS_anxiety_severity','DASS_stress_binary','DASS_stress_severity'\n",
        "                 ],\n",
        "        inplace=True, axis=1)\n",
        "print(df.columns)"
      ],
      "metadata": {
        "colab": {
          "base_uri": "https://localhost:8080/"
        },
        "id": "SaLFL3dOtyLi",
        "outputId": "3750164d-fe05-4c6c-ec8e-25c9ec707a26"
      },
      "execution_count": null,
      "outputs": [
        {
          "output_type": "stream",
          "name": "stdout",
          "text": [
            "Index(['Code', 'Age_Numerical', 'Gender', 'Marital', 'Marital_problems',\n",
            "       'Religion_binary', 'Religion_help', 'Med_or_not', 'Expenses',\n",
            "       'Monthly_expenses', 'Living_with1', 'Living_with', 'Worry_family',\n",
            "       'Routine_loss', 'Class_hours', 'Stress_class_disrupted',\n",
            "       'Medical_illness', 'Mental_illness', 'COVID_symptoms',\n",
            "       'Residence_high_COVID1', 'Residence_high_COVID', 'Quarantine',\n",
            "       'DASS_depression_numerical', 'DASS_anxiety_numerical',\n",
            "       'DASS_stress_numerical', 'MSPSS_family', 'MSPSS_friends',\n",
            "       'MSPSS_significant_others', 'DASS_depression_binary',\n",
            "       'DASS_depression_severity', 'DASS_anxiety_binary',\n",
            "       'DASS_anxiety_severity', 'DASS_stress_binary', 'DASS_stress_severity'],\n",
            "      dtype='object')\n",
            "Index(['Age_Numerical', 'Gender', 'Marital', 'Marital_problems',\n",
            "       'Religion_binary', 'Religion_help', 'Med_or_not', 'Expenses',\n",
            "       'Living_with1', 'Worry_family', 'Routine_loss', 'Class_hours',\n",
            "       'Stress_class_disrupted', 'Medical_illness', 'Mental_illness',\n",
            "       'COVID_symptoms', 'Residence_high_COVID', 'Quarantine', 'MSPSS_family',\n",
            "       'MSPSS_friends', 'MSPSS_significant_others',\n",
            "       'DASS_depression_severity'],\n",
            "      dtype='object')\n"
          ]
        }
      ]
    },
    {
      "cell_type": "markdown",
      "source": [
        "### Remove invalid data"
      ],
      "metadata": {
        "id": "CQv9La0utDTe"
      }
    },
    {
      "cell_type": "code",
      "source": [
        "df = df.drop(index = 168)"
      ],
      "metadata": {
        "id": "tQerCORatCAP"
      },
      "execution_count": null,
      "outputs": []
    },
    {
      "cell_type": "markdown",
      "source": [
        "### Feature selection"
      ],
      "metadata": {
        "id": "vXvkr8JVt5Ij"
      }
    },
    {
      "cell_type": "code",
      "source": [
        "df.drop(columns=['Age_Numerical','Class_hours',\n",
        "                'Gender','Med_or_not','Religion_binary',\n",
        "                'Worry_family'],\n",
        "        inplace=True, axis=1)\n",
        "print(df.columns)"
      ],
      "metadata": {
        "colab": {
          "base_uri": "https://localhost:8080/"
        },
        "id": "s7NyhRxwt_xS",
        "outputId": "0b3670c0-9e66-4111-ff14-0411b983f36d"
      },
      "execution_count": null,
      "outputs": [
        {
          "output_type": "stream",
          "name": "stdout",
          "text": [
            "Index(['Marital', 'Marital_problems', 'Religion_help', 'Expenses',\n",
            "       'Living_with1', 'Routine_loss', 'Stress_class_disrupted',\n",
            "       'Medical_illness', 'Mental_illness', 'COVID_symptoms',\n",
            "       'Residence_high_COVID', 'Quarantine', 'MSPSS_family', 'MSPSS_friends',\n",
            "       'MSPSS_significant_others', 'DASS_depression_severity'],\n",
            "      dtype='object')\n"
          ]
        }
      ]
    },
    {
      "cell_type": "markdown",
      "metadata": {
        "id": "CQqZTd-d_u4u"
      },
      "source": [
        "### Extract input and output features"
      ]
    },
    {
      "cell_type": "code",
      "execution_count": null,
      "metadata": {
        "id": "TNXFbHsVh0ti"
      },
      "outputs": [],
      "source": [
        "from collections import Counter\n",
        "X = df\n",
        "y = df['DASS_depression_severity']\n",
        "\n",
        "X = X.drop(columns='DASS_depression_severity')"
      ]
    },
    {
      "cell_type": "markdown",
      "metadata": {
        "id": "C2yULzd0AG3H"
      },
      "source": [
        "### Oversampling"
      ]
    },
    {
      "cell_type": "code",
      "execution_count": null,
      "metadata": {
        "id": "WpkTWsSpAQKA",
        "colab": {
          "base_uri": "https://localhost:8080/"
        },
        "outputId": "87c90334-d3ab-46d6-e475-46177a56f9b3"
      },
      "outputs": [
        {
          "output_type": "stream",
          "name": "stdout",
          "text": [
            "Initial: Counter({0: 200, 1: 49, 2: 37, 3: 16, 4: 13})\n"
          ]
        }
      ],
      "source": [
        "print(f\"Initial: {Counter(y)}\")"
      ]
    },
    {
      "cell_type": "code",
      "execution_count": null,
      "metadata": {
        "id": "sY-KFRIjq0tH",
        "colab": {
          "base_uri": "https://localhost:8080/"
        },
        "outputId": "dbdd578f-37c8-4a31-e677-804f516cb4d1"
      },
      "outputs": [
        {
          "output_type": "stream",
          "name": "stdout",
          "text": [
            "Oversampled: Counter({0: 201, 1: 150, 2: 120, 3: 50, 4: 50})\n"
          ]
        },
        {
          "output_type": "stream",
          "name": "stderr",
          "text": [
            "/usr/local/lib/python3.7/dist-packages/imblearn/utils/_validation.py:300: UserWarning: After over-sampling, the number of samples (201) in class 0 will be larger than the number of samples in the majority class (class #0 -> 200)\n",
            "  f\"After over-sampling, the number of samples ({n_samples})\"\n"
          ]
        }
      ],
      "source": [
        "from imblearn.over_sampling import RandomOverSampler\n",
        "over = RandomOverSampler(sampling_strategy={0: 201, 1: 150, 2: 120, 3: 50, 4: 50})\n",
        "X, y = over.fit_resample(X, y)\n",
        "print(f\"Oversampled: {Counter(y)}\")"
      ]
    },
    {
      "cell_type": "markdown",
      "metadata": {
        "id": "5GuktUMVpDav"
      },
      "source": [
        "### One hot encoding for categorical data"
      ]
    },
    {
      "cell_type": "code",
      "execution_count": null,
      "metadata": {
        "id": "VyBPO23hnrw9",
        "colab": {
          "base_uri": "https://localhost:8080/"
        },
        "outputId": "1cc95e97-8a1b-4fb4-fd45-4db3fc8973fa"
      },
      "outputs": [
        {
          "output_type": "execute_result",
          "data": {
            "text/plain": [
              "0      0\n",
              "1      0\n",
              "2      0\n",
              "3      2\n",
              "4      0\n",
              "      ..\n",
              "566    4\n",
              "567    4\n",
              "568    4\n",
              "569    4\n",
              "570    4\n",
              "Name: DASS_depression_severity, Length: 571, dtype: int64"
            ]
          },
          "metadata": {},
          "execution_count": 10
        }
      ],
      "source": [
        "from sklearn.preprocessing import OneHotEncoder\n",
        "\n",
        "ohe = OneHotEncoder(sparse=False)\n",
        "X[['Alone','Friends/Coursemates','Family']] = ohe.fit_transform(X['Living_with1'].values.reshape(-1,1))\n",
        "X[['< RM1000','RM1000 - 3000','> RM3000']] = ohe.fit_transform(X['Expenses'].values.reshape(-1,1))\n",
        "# y = ohe.fit_transform(y.values.reshape(-1,1))\n",
        "\n",
        "X = X.drop(columns=['Living_with1','Expenses'])\n",
        "y"
      ]
    },
    {
      "cell_type": "markdown",
      "metadata": {
        "id": "fxeFideitBCm"
      },
      "source": [
        "### Split into the training and test set"
      ]
    },
    {
      "cell_type": "code",
      "execution_count": null,
      "metadata": {
        "id": "w2TwMny0Dio1",
        "colab": {
          "base_uri": "https://localhost:8080/"
        },
        "outputId": "bf04a17f-c628-4bab-a124-62d89c4501c9"
      },
      "outputs": [
        {
          "output_type": "stream",
          "name": "stdout",
          "text": [
            "(399, 19) (399,)\n",
            "(172, 19) (172,)\n"
          ]
        }
      ],
      "source": [
        "from sklearn.model_selection import train_test_split\n",
        "\n",
        "X_train, X_test, y_train, y_test = train_test_split(X, y, test_size=0.3)\n",
        "print(X_train.shape, y_train.shape)\n",
        "print(X_test.shape, y_test.shape)"
      ]
    },
    {
      "cell_type": "markdown",
      "metadata": {
        "id": "pn0aVR1DVljM"
      },
      "source": [
        "### Feature normalisation"
      ]
    },
    {
      "cell_type": "code",
      "execution_count": null,
      "metadata": {
        "id": "gSrRWbUfCzTe"
      },
      "outputs": [],
      "source": [
        "from sklearn.preprocessing import StandardScaler\n",
        "from sklearn.compose import ColumnTransformer\n",
        "\n",
        "def featureNormalisation():\n",
        "  numeric_data = ['MSPSS_family', 'MSPSS_friends', 'MSPSS_significant_others']\n",
        "\n",
        "  ct = ColumnTransformer([('scaler', StandardScaler(), numeric_data)], remainder='passthrough')\n",
        "\n",
        "  X_train_scaled = ct.fit_transform(X_train)\n",
        "  # print(pd.DataFrame(X_train_scaled, columns = ct.get_feature_names_out()))\n",
        "  # the test set uses the fitted scaler in train dataset to transform in the test set\n",
        "  X_test_scaled = ct.transform(X_test)\n",
        "  return X_train_scaled, X_test_scaled, ct\n",
        "\n",
        "X_train_scaled, X_test_scaled, ct = featureNormalisation()\n",
        "features = ct.get_feature_names_out()"
      ]
    },
    {
      "cell_type": "markdown",
      "metadata": {
        "id": "JrLg97ONB4La"
      },
      "source": [
        "## Training model"
      ]
    },
    {
      "cell_type": "markdown",
      "metadata": {
        "id": "QUn33ep9g6vQ"
      },
      "source": [
        "### Define model"
      ]
    },
    {
      "cell_type": "code",
      "execution_count": null,
      "metadata": {
        "id": "VCnFqpo9HqpT",
        "colab": {
          "base_uri": "https://localhost:8080/"
        },
        "outputId": "fe702f80-cef3-4ac5-e2f5-ebc864eb3024"
      },
      "outputs": [
        {
          "output_type": "execute_result",
          "data": {
            "text/plain": [
              "XGBClassifier(objective='multi:softprob')"
            ]
          },
          "metadata": {},
          "execution_count": 13
        }
      ],
      "source": [
        "import xgboost as xgb\n",
        "model = xgb.XGBClassifier()\n",
        "model.fit(X_train_scaled, y_train)"
      ]
    },
    {
      "cell_type": "markdown",
      "metadata": {
        "id": "AH9WIO-hg9eh"
      },
      "source": [
        "### Hyperparameter tuning"
      ]
    },
    {
      "cell_type": "code",
      "source": [
        "model.get_params()"
      ],
      "metadata": {
        "id": "cHtnTPoZ9HBV",
        "colab": {
          "base_uri": "https://localhost:8080/"
        },
        "outputId": "540b9cdd-3335-4caa-c0a5-530d0be86b99"
      },
      "execution_count": null,
      "outputs": [
        {
          "output_type": "execute_result",
          "data": {
            "text/plain": [
              "{'base_score': 0.5,\n",
              " 'booster': 'gbtree',\n",
              " 'colsample_bylevel': 1,\n",
              " 'colsample_bynode': 1,\n",
              " 'colsample_bytree': 1,\n",
              " 'gamma': 0,\n",
              " 'learning_rate': 0.1,\n",
              " 'max_delta_step': 0,\n",
              " 'max_depth': 3,\n",
              " 'min_child_weight': 1,\n",
              " 'missing': None,\n",
              " 'n_estimators': 100,\n",
              " 'n_jobs': 1,\n",
              " 'nthread': None,\n",
              " 'objective': 'multi:softprob',\n",
              " 'random_state': 0,\n",
              " 'reg_alpha': 0,\n",
              " 'reg_lambda': 1,\n",
              " 'scale_pos_weight': 1,\n",
              " 'seed': None,\n",
              " 'silent': None,\n",
              " 'subsample': 1,\n",
              " 'verbosity': 1}"
            ]
          },
          "metadata": {},
          "execution_count": 14
        }
      ]
    },
    {
      "cell_type": "code",
      "source": [
        "from sklearn.model_selection import RandomizedSearchCV\n",
        "# Create the parameter grid based on the results of random search \n",
        "\n",
        "random_grid = {'n_estimators': [int(x) for x in np.linspace(start = 2000, stop = 3000, num = 10)],\n",
        "               'max_features': ['auto', 'sqrt'],\n",
        "               'max_depth': [int(x) for x in np.linspace(10, 110, num = 10)] + [None],\n",
        "               'min_samples_split': [1, 3, 5, 7],\n",
        "               'min_samples_leaf': [1, 2, 4, 6],\n",
        "               'bootstrap': [True, False]}\n",
        "# Create a based model\n",
        "model = xgb.XGBClassifier()\n",
        "# Instantiate the grid search model\n",
        "grid_search = RandomizedSearchCV(estimator = model, param_distributions = random_grid, n_iter = 100, cv = 3, verbose = 2, n_jobs = -1)\n",
        "\n",
        "grid_search.fit(X_train_scaled, y_train)\n",
        "grid_search.best_params_"
      ],
      "metadata": {
        "colab": {
          "base_uri": "https://localhost:8080/"
        },
        "id": "GXuFfzXhS2Ar",
        "outputId": "7f0bb66c-0cef-41f4-d8d6-ffa2c5250ab7"
      },
      "execution_count": null,
      "outputs": [
        {
          "output_type": "stream",
          "name": "stdout",
          "text": [
            "Fitting 3 folds for each of 100 candidates, totalling 300 fits\n"
          ]
        },
        {
          "output_type": "stream",
          "name": "stderr",
          "text": [
            "/usr/local/lib/python3.7/dist-packages/sklearn/model_selection/_validation.py:372: FitFailedWarning: \n",
            "39 fits failed out of a total of 300.\n",
            "The score on these train-test partitions for these parameters will be set to nan.\n",
            "If these failures are not expected, you can try to debug them by setting error_score='raise'.\n",
            "\n",
            "Below are more details about the failures:\n",
            "--------------------------------------------------------------------------------\n",
            "39 fits failed with the following error:\n",
            "Traceback (most recent call last):\n",
            "  File \"/usr/local/lib/python3.7/dist-packages/sklearn/model_selection/_validation.py\", line 680, in _fit_and_score\n",
            "    estimator.fit(X_train, y_train, **fit_params)\n",
            "  File \"/usr/local/lib/python3.7/dist-packages/xgboost/sklearn.py\", line 732, in fit\n",
            "    callbacks=callbacks)\n",
            "  File \"/usr/local/lib/python3.7/dist-packages/xgboost/training.py\", line 216, in train\n",
            "    xgb_model=xgb_model, callbacks=callbacks)\n",
            "  File \"/usr/local/lib/python3.7/dist-packages/xgboost/training.py\", line 74, in _train_internal\n",
            "    bst.update(dtrain, i, obj)\n",
            "  File \"/usr/local/lib/python3.7/dist-packages/xgboost/core.py\", line 1109, in update\n",
            "    dtrain.handle))\n",
            "  File \"/usr/local/lib/python3.7/dist-packages/xgboost/core.py\", line 176, in _check_call\n",
            "    raise XGBoostError(py_str(_LIB.XGBGetLastError()))\n",
            "xgboost.core.XGBoostError: Invalid Parameter format for max_depth expect int but value='None'\n",
            "\n",
            "  warnings.warn(some_fits_failed_message, FitFailedWarning)\n",
            "/usr/local/lib/python3.7/dist-packages/sklearn/model_selection/_search.py:972: UserWarning: One or more of the test scores are non-finite: [0.71177945 0.71177945 0.70426065 0.70927318 0.70927318 0.70927318\n",
            " 0.71177945        nan 0.70676692 0.70927318 0.70927318 0.70426065\n",
            " 0.70927318 0.70426065 0.70927318 0.71177945 0.71177945 0.70927318\n",
            " 0.70927318 0.71177945 0.70927318 0.70927318 0.70927318 0.70426065\n",
            " 0.70927318 0.70426065 0.70426065 0.70927318 0.70927318 0.70927318\n",
            " 0.71177945 0.70927318 0.71177945        nan 0.70426065 0.70927318\n",
            " 0.70426065 0.70676692 0.70426065 0.70927318 0.71177945 0.71177945\n",
            " 0.70927318 0.70927318 0.70927318 0.71177945 0.70927318 0.70927318\n",
            " 0.70927318 0.70927318 0.70927318 0.70927318 0.70927318 0.71177945\n",
            " 0.71177945        nan 0.70426065 0.71177945        nan 0.71177945\n",
            " 0.71177945 0.71177945        nan 0.71177945 0.70927318        nan\n",
            " 0.71177945        nan 0.70927318 0.71177945        nan 0.70927318\n",
            "        nan        nan 0.70927318        nan 0.70927318 0.70927318\n",
            " 0.70426065 0.70927318 0.70927318 0.71177945        nan 0.70426065\n",
            " 0.70426065        nan 0.70927318 0.70927318 0.71177945 0.70927318\n",
            " 0.70927318 0.71177945 0.70426065 0.70927318 0.70676692 0.70927318\n",
            " 0.70426065 0.71177945 0.70426065 0.70676692]\n",
            "  category=UserWarning,\n"
          ]
        },
        {
          "output_type": "execute_result",
          "data": {
            "text/plain": [
              "{'bootstrap': True,\n",
              " 'max_depth': 76,\n",
              " 'max_features': 'auto',\n",
              " 'min_samples_leaf': 4,\n",
              " 'min_samples_split': 3,\n",
              " 'n_estimators': 2000}"
            ]
          },
          "metadata": {},
          "execution_count": 15
        }
      ]
    },
    {
      "cell_type": "code",
      "source": [
        "model = grid_search.best_estimator_"
      ],
      "metadata": {
        "id": "cmZMRNZLUIAN"
      },
      "execution_count": null,
      "outputs": []
    },
    {
      "cell_type": "code",
      "source": [
        ""
      ],
      "metadata": {
        "id": "bTJG4fxNTkjO"
      },
      "execution_count": null,
      "outputs": []
    },
    {
      "cell_type": "markdown",
      "metadata": {
        "id": "McaTE25HCYNM"
      },
      "source": [
        "### Performance metrics"
      ]
    },
    {
      "cell_type": "markdown",
      "metadata": {
        "id": "teDSrYmnCbCD"
      },
      "source": [
        "### Accuracy"
      ]
    },
    {
      "cell_type": "code",
      "execution_count": null,
      "metadata": {
        "id": "R_zOL1o-IpyH",
        "colab": {
          "base_uri": "https://localhost:8080/"
        },
        "outputId": "bc45d777-20a8-4ab1-987b-6d186a86d818"
      },
      "outputs": [
        {
          "output_type": "execute_result",
          "data": {
            "text/plain": [
              "0.9011627906976745"
            ]
          },
          "metadata": {},
          "execution_count": 17
        }
      ],
      "source": [
        "model.score(X_test_scaled, y_test)"
      ]
    },
    {
      "cell_type": "markdown",
      "metadata": {
        "id": "NugXYwkS5Enr"
      },
      "source": [
        "### Classification report"
      ]
    },
    {
      "cell_type": "code",
      "execution_count": null,
      "metadata": {
        "id": "xGT1gxI5kIHA",
        "colab": {
          "base_uri": "https://localhost:8080/"
        },
        "outputId": "8250e45f-882d-4295-aef0-5a1919b0f511"
      },
      "outputs": [
        {
          "output_type": "stream",
          "name": "stdout",
          "text": [
            "              precision    recall  f1-score   support\n",
            "\n",
            "           0       0.98      0.76      0.85        62\n",
            "           1       0.89      0.98      0.93        51\n",
            "           2       0.88      0.97      0.93        38\n",
            "           3       0.69      1.00      0.82         9\n",
            "           4       0.92      1.00      0.96        12\n",
            "\n",
            "    accuracy                           0.90       172\n",
            "   macro avg       0.87      0.94      0.90       172\n",
            "weighted avg       0.91      0.90      0.90       172\n",
            "\n"
          ]
        }
      ],
      "source": [
        "from sklearn.metrics import classification_report, confusion_matrix, ConfusionMatrixDisplay\n",
        "\n",
        "y_pred = model.predict(X_test_scaled)\n",
        "\n",
        "\n",
        "print(classification_report(y_test, y_pred))"
      ]
    },
    {
      "cell_type": "markdown",
      "metadata": {
        "id": "iz7EmKHQ5NqD"
      },
      "source": [
        "### Confusion matrix"
      ]
    },
    {
      "cell_type": "code",
      "execution_count": null,
      "metadata": {
        "id": "oD_zw7gX5L4E",
        "colab": {
          "base_uri": "https://localhost:8080/"
        },
        "outputId": "2bf25948-25e4-4654-8e29-683bc8128921"
      },
      "outputs": [
        {
          "output_type": "execute_result",
          "data": {
            "text/plain": [
              "array([[47,  6,  5,  3,  1],\n",
              "       [ 0, 50,  0,  1,  0],\n",
              "       [ 1,  0, 37,  0,  0],\n",
              "       [ 0,  0,  0,  9,  0],\n",
              "       [ 0,  0,  0,  0, 12]])"
            ]
          },
          "metadata": {},
          "execution_count": 19
        }
      ],
      "source": [
        "cm = confusion_matrix(y_test, y_pred)\n",
        "cm"
      ]
    },
    {
      "cell_type": "code",
      "source": [
        "disp = ConfusionMatrixDisplay(confusion_matrix=cm, display_labels=[0, 1, 2, 3, 4])\n",
        "disp.plot()\n",
        "plt.show()"
      ],
      "metadata": {
        "id": "AqxxvZxfWyB7",
        "colab": {
          "base_uri": "https://localhost:8080/",
          "height": 283
        },
        "outputId": "5c7ed9bf-21ca-45f7-cf7e-af9d10b2a3f4"
      },
      "execution_count": null,
      "outputs": [
        {
          "output_type": "display_data",
          "data": {
            "text/plain": [
              "<Figure size 432x288 with 2 Axes>"
            ],
            "image/png": "[encoded data removed]"
          },
          "metadata": {
            "needs_background": "light"
          }
        }
      ]
    },
    {
      "cell_type": "markdown",
      "metadata": {
        "id": "Op60lfPs5SMK"
      },
      "source": [
        "### ROC curve"
      ]
    },
    {
      "cell_type": "markdown",
      "metadata": {
        "id": "IvKlTCna5mdd"
      },
      "source": [
        "#### Area under the ROC curve"
      ]
    },
    {
      "cell_type": "code",
      "execution_count": null,
      "metadata": {
        "id": "VygOCViO5QrT",
        "colab": {
          "base_uri": "https://localhost:8080/"
        },
        "outputId": "1f3cafc4-b2d4-4e04-e1b5-a160355f42f9"
      },
      "outputs": [
        {
          "output_type": "execute_result",
          "data": {
            "text/plain": [
              "0.9585359887431245"
            ]
          },
          "metadata": {},
          "execution_count": 21
        }
      ],
      "source": [
        "from sklearn.metrics import roc_auc_score\n",
        "from sklearn.preprocessing import label_binarize\n",
        "y_test = label_binarize(y_test, classes=[0, 1, 2, 3, 4])\n",
        "y_pred = label_binarize(y_pred, classes=[0, 1, 2, 3, 4])\n",
        "roc_auc_score(y_test, y_pred, multi_class = 'ovo')"
      ]
    },
    {
      "cell_type": "markdown",
      "metadata": {
        "id": "p2myX9Wm5tEG"
      },
      "source": [
        "#### Plot of ROC curve"
      ]
    },
    {
      "cell_type": "code",
      "execution_count": null,
      "metadata": {
        "id": "R6TqynEHnaME",
        "colab": {
          "base_uri": "https://localhost:8080/",
          "height": 573
        },
        "outputId": "fd6bffe8-b67d-4367-9ecc-ab3b6c078b6e"
      },
      "outputs": [
        {
          "output_type": "display_data",
          "data": {
            "text/plain": [
              "<Figure size 432x288 with 1 Axes>"
            ],
            "image/png": "[encoded data removed]"
          },
          "metadata": {
            "needs_background": "light"
          }
        },
        {
          "output_type": "display_data",
          "data": {
            "text/plain": [
              "<Figure size 432x288 with 1 Axes>"
            ],
            "image/png": "[encoded data removed]"
          },
          "metadata": {
            "needs_background": "light"
          }
        }
      ],
      "source": [
        "from sklearn.metrics import roc_curve\n",
        "from sklearn.metrics import auc\n",
        "from sklearn.metrics import RocCurveDisplay\n",
        "from numpy import interp\n",
        "from itertools import cycle\n",
        "\n",
        "n_classes = 5\n",
        "\n",
        "# Plot linewidth.\n",
        "lw = 3\n",
        "\n",
        "# Compute ROC curve and ROC area for each class\n",
        "fpr = dict()\n",
        "tpr = dict()\n",
        "roc_auc = dict()\n",
        "for i in range(n_classes):\n",
        "    fpr[i], tpr[i], _ = roc_curve(y_test[:, i], y_pred[:, i])\n",
        "    roc_auc[i] = auc(fpr[i], tpr[i])\n",
        "\n",
        "# Compute micro-average ROC curve and ROC area\n",
        "fpr[\"micro\"], tpr[\"micro\"], _ = roc_curve(y_test.ravel(), y_pred.ravel())\n",
        "roc_auc[\"micro\"] = auc(fpr[\"micro\"], tpr[\"micro\"])\n",
        "\n",
        "# Compute macro-average ROC curve and ROC area\n",
        "\n",
        "# First aggregate all false positive rates\n",
        "all_fpr = np.unique(np.concatenate([fpr[i] for i in range(n_classes)]))\n",
        "\n",
        "# Then interpolate all ROC curves at this points\n",
        "mean_tpr = np.zeros_like(all_fpr)\n",
        "for i in range(n_classes):\n",
        "    mean_tpr += interp(all_fpr, fpr[i], tpr[i])\n",
        "\n",
        "# Finally average it and compute AUC\n",
        "mean_tpr /= n_classes\n",
        "\n",
        "fpr[\"macro\"] = all_fpr\n",
        "tpr[\"macro\"] = mean_tpr\n",
        "roc_auc[\"macro\"] = auc(fpr[\"macro\"], tpr[\"macro\"])\n",
        "\n",
        "# Plot all ROC curves\n",
        "plt.figure(1)\n",
        "plt.plot(fpr[\"micro\"], tpr[\"micro\"],\n",
        "         label='micro-average ROC curve (area = {0:0.2f})'\n",
        "               ''.format(roc_auc[\"micro\"]),\n",
        "         color='deeppink', linestyle=':', linewidth=4)\n",
        "\n",
        "plt.plot(fpr[\"macro\"], tpr[\"macro\"],\n",
        "         label='macro-average ROC curve (area = {0:0.2f})'\n",
        "               ''.format(roc_auc[\"macro\"]),\n",
        "         color='navy', linestyle=':', linewidth=4)\n",
        "\n",
        "colors = cycle(['aqua', 'darkorange', 'cornflowerblue', 'green', 'magenta'])\n",
        "for i, color in zip(range(n_classes), colors):\n",
        "    plt.plot(fpr[i], tpr[i], color=color, lw=lw,\n",
        "             label='ROC curve of class {0} (area = {1:0.2f})'\n",
        "             ''.format(i, roc_auc[i]))\n",
        "\n",
        "plt.plot([0, 1], [0, 1], 'k--', lw=lw)\n",
        "plt.xlim([0.0, 1.0])\n",
        "plt.ylim([0.0, 1.05])\n",
        "plt.xlabel('False Positive Rate')\n",
        "plt.ylabel('True Positive Rate')\n",
        "plt.title('ROC Curve')\n",
        "plt.legend(loc=\"upper right\")\n",
        "plt.show()\n",
        "\n",
        "\n",
        "# Zoom in view of the upper left corner.\n",
        "plt.figure(2)\n",
        "plt.xlim(0, 0.2)\n",
        "plt.ylim(0.8, 1)\n",
        "plt.plot(fpr[\"micro\"], tpr[\"micro\"],\n",
        "         label='micro-average ROC curve (area = {0:0.2f})'\n",
        "               ''.format(roc_auc[\"micro\"]),\n",
        "         color='deeppink', linestyle=':', linewidth=4)\n",
        "\n",
        "plt.plot(fpr[\"macro\"], tpr[\"macro\"],\n",
        "         label='macro-average ROC curve (area = {0:0.2f})'\n",
        "               ''.format(roc_auc[\"macro\"]),\n",
        "         color='navy', linestyle=':', linewidth=4)\n",
        "\n",
        "for i, color in zip(range(n_classes), colors):\n",
        "    plt.plot(fpr[i], tpr[i], color=color, lw=lw,\n",
        "             label='ROC curve of class {0} (area = {1:0.2f})'\n",
        "             ''.format(i, roc_auc[i]))\n",
        "\n",
        "plt.plot([0, 1], [0, 1], 'k--', lw=lw)\n",
        "plt.xlabel('False Positive Rate')\n",
        "plt.ylabel('True Positive Rate')\n",
        "plt.title('ROC Curve (Zoomed In)')\n",
        "plt.legend(loc=\"upper right\")\n",
        "plt.show()"
      ]
    },
    {
      "cell_type": "markdown",
      "metadata": {
        "id": "bhxa1IMqgknD"
      },
      "source": [
        "## Save model and scaler"
      ]
    },
    {
      "cell_type": "code",
      "execution_count": null,
      "metadata": {
        "id": "aQ7LXIDmfmzf",
        "colab": {
          "base_uri": "https://localhost:8080/"
        },
        "outputId": "0227abbf-6639-4289-b267-052f54476b45"
      },
      "outputs": [
        {
          "output_type": "execute_result",
          "data": {
            "text/plain": [
              "['XGB_scaler.pkl']"
            ]
          },
          "metadata": {},
          "execution_count": 25
        }
      ],
      "source": [
        "import joblib\n",
        "joblib.dump(model, 'XGB_model.pkl')\n",
        "joblib.dump(ct, 'XGB_scaler.pkl')"
      ]
    }
  ],
  "metadata": {
    "colab": {
      "collapsed_sections": [],
      "name": "DepressionIndicator - XGboost.ipynb",
      "provenance": []
    },
    "kernelspec": {
      "display_name": "Python 3",
      "name": "python3"
    },
    "language_info": {
      "name": "python"
    }
  },
  "nbformat": 4,
  "nbformat_minor": 0
}